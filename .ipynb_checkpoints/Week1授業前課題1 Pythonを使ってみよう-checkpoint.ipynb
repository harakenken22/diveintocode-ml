{
 "cells": [
  {
   "cell_type": "markdown",
   "metadata": {
    "id": "uRjbg1YL4B8m"
   },
   "source": [
    "【問題1】べき乗の算術演算子を使用して作成"
   ]
  },
  {
   "cell_type": "code",
   "execution_count": 21,
   "metadata": {
    "colab": {
     "base_uri": "https://localhost:8080/"
    },
    "executionInfo": {
     "elapsed": 1050,
     "status": "ok",
     "timestamp": 1609924389037,
     "user": {
      "displayName": "原健太",
      "photoUrl": "",
      "userId": "05489200463699788424"
     },
     "user_tz": -540
    },
    "id": "aYfxYMew4Fdz",
    "outputId": "c1b0e1be-48e1-4162-cc2c-823cd20651bb"
   },
   "outputs": [
    {
     "name": "stdout",
     "output_type": "stream",
     "text": [
      "厚さ： 703687441.77664メートル\n"
     ]
    }
   ],
   "source": [
    "THICKNESS = 0.00008\n",
    "folded_thickness = THICKNESS*2**43\n",
    "print(\"厚さ： {}メートル\".format(folded_thickness))"
   ]
  },
  {
   "cell_type": "code",
   "execution_count": 22,
   "metadata": {
    "colab": {
     "base_uri": "https://localhost:8080/"
    },
    "executionInfo": {
     "elapsed": 619,
     "status": "ok",
     "timestamp": 1609924533968,
     "user": {
      "displayName": "原健太",
      "photoUrl": "",
      "userId": "05489200463699788424"
     },
     "user_tz": -540
    },
    "id": "I_CYZqvT5CGV",
    "outputId": "4fa5dbdd-4d48-4b20-ac42-0c76d97624bf"
   },
   "outputs": [
    {
     "name": "stdout",
     "output_type": "stream",
     "text": [
      "厚さ： 70.37万メートル\n"
     ]
    }
   ],
   "source": [
    "# メートルをキロメートルに変換して小数点以下2桁で表示する\n",
    "THICKNESS = 0.00008\n",
    "folded_thickness = THICKNESS*2**43\n",
    "print(\"厚さ： {:.2f}万メートル\".format(folded_thickness/10000000))"
   ]
  },
  {
   "cell_type": "code",
   "execution_count": 23,
   "metadata": {
    "colab": {
     "base_uri": "https://localhost:8080/"
    },
    "executionInfo": {
     "elapsed": 555,
     "status": "ok",
     "timestamp": 1609984997243,
     "user": {
      "displayName": "原健太",
      "photoUrl": "",
      "userId": "05489200463699788424"
     },
     "user_tz": -540
    },
    "id": "0ijUXFVt5jWe",
    "outputId": "88af324f-1c95-462e-8776-74369d1283c3"
   },
   "outputs": [
    {
     "name": "stdout",
     "output_type": "stream",
     "text": [
      "厚さ： 703687441.77664メートル\n"
     ]
    }
   ],
   "source": [
    "# 【問題3】for文を使用して作成\n",
    "THICKNESS = 0.00008\n",
    "times = 43\n",
    "\n",
    "folded_thickness = THICKNESS\n",
    "for i in range(times):\n",
    "    folded_thickness = folded_thickness*2\n",
    "print(\"厚さ： {}メートル\".format(folded_thickness))"
   ]
  },
  {
   "cell_type": "code",
   "execution_count": 24,
   "metadata": {
    "id": "-W6IWNpqBB2o"
   },
   "outputs": [
    {
     "name": "stdout",
     "output_type": "stream",
     "text": [
      "厚さ： 703687441.77664メートル\n",
      "time : 0.0003612041473388672[s]\n"
     ]
    }
   ],
   "source": [
    "# 問題4】計算時間の比較\n",
    "\n",
    "import time\n",
    "start = time.time()\n",
    "#####\n",
    "THICKNESS = 0.00008\n",
    "times = 43\n",
    "\n",
    "folded_thickness = THICKNESS\n",
    "for i in range(times):\n",
    "    folded_thickness = folded_thickness*2\n",
    "print(\"厚さ： {}メートル\".format(folded_thickness))\n",
    "#####\n",
    "elapsed_time = time.time() - start\n",
    "print(\"time : {}[s]\".format(elapsed_time))\n",
    "\n"
   ]
  },
  {
   "cell_type": "code",
   "execution_count": 25,
   "metadata": {
    "id": "-W6IWNpqBB2o"
   },
   "outputs": [
    {
     "name": "stdout",
     "output_type": "stream",
     "text": [
      "厚さ： 70.37万メートル\n",
      "time : 0.00022602081298828125[s]\n"
     ]
    }
   ],
   "source": [
    "# 問題4】計算時間の比較\n",
    "\n",
    "import time\n",
    "start = time.time()\n",
    "#####\n",
    "THICKNESS = 0.00008\n",
    "folded_thickness = THICKNESS*2**43\n",
    "print(\"厚さ： {:.2f}万メートル\".format(folded_thickness/10000000))\n",
    "#####\n",
    "elapsed_time = time.time() - start\n",
    "print(\"time : {}[s]\".format(elapsed_time))\n",
    "\n"
   ]
  },
  {
   "cell_type": "code",
   "execution_count": 35,
   "metadata": {
    "id": "7BHQovMmBwQV"
   },
   "outputs": [
    {
     "name": "stdout",
     "output_type": "stream",
     "text": [
      "44\n",
      "[8e-05, 0.00016, 0.00032, 0.00064, 0.00128, 0.00256, 0.00512, 0.01024, 0.02048, 0.04096, 0.08192, 0.16384, 0.32768, 0.65536, 1.31072, 2.62144, 5.24288, 10.48576, 20.97152, 41.94304, 83.88608, 167.77216, 335.54432, 671.08864, 1342.17728, 2684.35456, 5368.70912, 10737.41824, 21474.83648, 42949.67296, 85899.34592, 171798.69184, 343597.38368, 687194.76736, 1374389.53472, 2748779.06944, 5497558.13888, 10995116.27776, 21990232.55552, 43980465.11104, 87960930.22208, 175921860.44416, 351843720.88832, 703687441.77664]\n"
     ]
    }
   ],
   "source": [
    "# 【問題5】リストへの保存\n",
    "# \"\"\"\n",
    "# ここまでは43回折った後の最後の値だけを使用していましたが、グラフで可視化するためには過程の値も必要です。for文を使用したコードに、過程の値合計44個を記録するコードを加えてください。\n",
    "\n",
    "\n",
    "# 《ヒント》\n",
    "\n",
    "\n",
    "# 空のリストを作成する。\n",
    "# 折る前の値をリストに追加する。\n",
    "# for文の中でn回折った時の値をリストに追加していく。\n",
    "\n",
    "# 最終的にリストに44個の値が格納されていることをlen関数を用いて確認しておきましょう。\n",
    "\n",
    "# appendの使い方：\n",
    "# https://www.tech-teacher.jp/blog/python-append/\n",
    "# \"\"\"\n",
    "THICKNESS = 0.00008\n",
    "times = 43\n",
    "\n",
    "folded_thickness_list = [THICKNESS]\n",
    "\n",
    "for i in range(times):\n",
    "    folded_thickness_list.append(folded_thickness_list[-1]*2)\n",
    "    \n",
    "# print(\"厚さ： {}メートル\".format(folded_thickness))\n",
    "print(len(folded_thickness_list))\n",
    "print(folded_thickness_list)"
   ]
  },
  {
   "cell_type": "code",
   "execution_count": 36,
   "metadata": {
    "id": "7RKLPPxwB9aO"
   },
   "outputs": [
    {
     "data": {
      "image/png": "[encoded data removed]",
      "text/plain": [
       "<Figure size 432x288 with 1 Axes>"
      ]
     },
     "metadata": {
      "needs_background": "light"
     },
     "output_type": "display_data"
    }
   ],
   "source": [
    "# 【問題6】折れ線グラフの表示\n",
    "\n",
    "# \"\"\"\n",
    "# グラフを表示する。タイトルと軸ラベル名付き。\n",
    "# \"\"\"\n",
    "import matplotlib.pyplot as plt\n",
    "%matplotlib inline\n",
    "plt.title(\"thickness of folded paper\")\n",
    "plt.xlabel(\"number of folds\")\n",
    "plt.ylabel(\"thickness[m]\")\n",
    "plt.plot(folded_thickness_list) # 「リスト名」のところにリストの変数名を入れる\n",
    "plt.show()"
   ]
  },
  {
   "cell_type": "code",
   "execution_count": 37,
   "metadata": {
    "id": "lMI0CBjaCDg3"
   },
   "outputs": [
    {
     "data": {
      "image/png": "[encoded data removed]",
      "text/plain": [
       "<Figure size 432x288 with 1 Axes>"
      ]
     },
     "metadata": {
      "needs_background": "light"
     },
     "output_type": "display_data"
    }
   ],
   "source": [
    "# 【問題7】グラフのカスタマイズ\n",
    "\n",
    "\"\"\"\n",
    "赤い折れ線グラフを表示する。\n",
    "\"\"\"\n",
    "plt.title(\"thickness of folded paper\")\n",
    "plt.xlabel(\"number of folds\")\n",
    "plt.ylabel(\"thickness[m]\")\n",
    "plt.plot(folded_thickness_list, color='red', marker='o')\n",
    "plt.show()"
   ]
  },
  {
   "cell_type": "code",
   "execution_count": null,
   "metadata": {},
   "outputs": [],
   "source": []
  }
 ],
 "metadata": {
  "colab": {
   "authorship_tag": "ABX9TyMF5MqylgRjEzXstCIQ7q0q",
   "name": "Week1授業前課題1 Pythonを使ってみよう.ipynb",
   "provenance": []
  },
  "kernelspec": {
   "display_name": "Python 3",
   "language": "python",
   "name": "python3"
  },
  "language_info": {
   "codemirror_mode": {
    "name": "ipython",
    "version": 3
   },
   "file_extension": ".py",
   "mimetype": "text/x-python",
   "name": "python",
   "nbconvert_exporter": "python",
   "pygments_lexer": "ipython3",
   "version": "3.8.3"
  }
 },
 "nbformat": 4,
 "nbformat_minor": 4
}
