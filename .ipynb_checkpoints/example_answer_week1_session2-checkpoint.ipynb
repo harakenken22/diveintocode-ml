{
 "cells": [
  {
   "cell_type": "markdown",
   "metadata": {
    "colab_type": "text",
    "id": "KzbuBqWog2_3"
   },
   "source": [
    "# 解答例：Week1 授業課題2 何回折ったら富士山を超えるか問題"
   ]
  },
  {
   "cell_type": "markdown",
   "metadata": {
    "colab_type": "text",
    "id": "Z4VQ_0Sjg2_4"
   },
   "source": [
    "### 【問題1】富士山を超える最小の折る回数\n",
    "厚さが「富士山(3776m)」を超えるのは何回紙を折った時か計算するプログラムを作成してください。\n",
    "\n",
    "（解説）\n",
    "\n",
    "while文を使い、条件を満たしたら繰り返しを抜けるというコードを作ります。繰り返しの数をカウントしていけば、それが折る回数です。"
   ]
  },
  {
   "cell_type": "code",
   "execution_count": 0,
   "metadata": {
    "colab": {},
    "colab_type": "code",
    "id": "xG65gZClg2_5",
    "outputId": "6e96d4b6-28de-46f7-d223-9024b2d1a20b"
   },
   "outputs": [
    {
     "name": "stdout",
     "output_type": "stream",
     "text": [
      "26回折ると3776mを超える\n"
     ]
    }
   ],
   "source": [
    "THICKNESS = 0.00008\n",
    "elevation = 3776\n",
    "\n",
    "folded_thickness_list = [THICKNESS]\n",
    "n_folded = 0\n",
    "while True:\n",
    "    n_folded += 1\n",
    "    folded_thickness_list.append(folded_thickness_list[-1]*2)\n",
    "    if folded_thickness_list[-1]>elevation:\n",
    "        break\n",
    "print(\"{}回折ると{}mを超える\".format(n_folded, elevation))"
   ]
  },
  {
   "cell_type": "markdown",
   "metadata": {
    "colab_type": "text",
    "id": "Ia_Ht0mSg2_9"
   },
   "source": [
    "【補足】\n",
    "\n",
    "手計算しやすい数で確認しておきましょう。"
   ]
  },
  {
   "cell_type": "code",
   "execution_count": 0,
   "metadata": {
    "colab": {},
    "colab_type": "code",
    "id": "yKX2Sx8lg2_9",
    "outputId": "6a2afcde-25d4-49d2-dbce-9cb820f500fe"
   },
   "outputs": [
    {
     "name": "stdout",
     "output_type": "stream",
     "text": [
      "4回折ると10mを超える\n",
      "----------\n",
      "リスト\n",
      "[1, 2, 4, 8, 16]\n"
     ]
    }
   ],
   "source": [
    "THICKNESS = 1\n",
    "elevation = 10\n",
    "\n",
    "folded_thickness_list = [THICKNESS]\n",
    "n_folded = 0\n",
    "while True:\n",
    "    n_folded += 1\n",
    "    folded_thickness_list.append(folded_thickness_list[-1]*2)\n",
    "    if folded_thickness_list[-1]>elevation:\n",
    "        break\n",
    "print(\"{}回折ると{}mを超える\".format(n_folded, elevation))\n",
    "print(\"----------\")\n",
    "print(\"リスト\")\n",
    "print(folded_thickness_list)"
   ]
  },
  {
   "cell_type": "markdown",
   "metadata": {
    "colab_type": "text",
    "id": "KsdlDHtFg3AA"
   },
   "source": [
    "（別解）\n",
    "\n",
    "while文に対して条件を指定する場合は以下のようになります。"
   ]
  },
  {
   "cell_type": "code",
   "execution_count": 0,
   "metadata": {
    "colab": {},
    "colab_type": "code",
    "id": "oJsLPM7qg3AA",
    "outputId": "fc81055e-a857-49ab-b7a8-35cda5e0f575"
   },
   "outputs": [
    {
     "name": "stdout",
     "output_type": "stream",
     "text": [
      "26回折ると3776mを超える\n"
     ]
    }
   ],
   "source": [
    "THICKNESS = 0.00008\n",
    "elevation = 3776\n",
    "\n",
    "folded_thickness_list = [THICKNESS]\n",
    "n_folded = 0\n",
    "while folded_thickness_list[-1]<=elevation:\n",
    "    n_folded += 1\n",
    "    folded_thickness_list.append(folded_thickness_list[-1]*2)\n",
    "print(\"{}回折ると{}mを超える\".format(n_folded, elevation))"
   ]
  },
  {
   "cell_type": "markdown",
   "metadata": {
    "colab_type": "text",
    "id": "akWZicJpg3AD"
   },
   "source": [
    "### 【問題2】任意の厚さに対応した関数を作成\n",
    "距離を入力すると、何回折った時に超えるかを出力する関数を作成してください。引数として、折る前の厚さ $t_0$ も設定できるようにしましょう。\n",
    "\n",
    "この関数を利用して、「最も近い太陽以外の恒星」に到達するには紙を何回折る必要があるか計算してください。「最も近い太陽以外の恒星」の距離は調査してください。\n",
    "\n",
    "（解説）\n",
    "\n",
    "課題1の問題2と考え方は同じです。"
   ]
  },
  {
   "cell_type": "code",
   "execution_count": 0,
   "metadata": {
    "colab": {},
    "colab_type": "code",
    "id": "f5a1C3R7g3AD",
    "outputId": "41fb8335-9331-4b41-dd65-9c10f9089546"
   },
   "outputs": [
    {
     "name": "stdout",
     "output_type": "stream",
     "text": [
      "26回折ると3776mを超える\n"
     ]
    }
   ],
   "source": [
    "THICKNESS = 0.00008\n",
    "\n",
    "def compute_number_of_folds(elevation, thickness=0.00008):\n",
    "    \"\"\"\n",
    "    何回紙を折ったら指定した距離を超えるか計算する関数\n",
    "    \n",
    "    Parameteres\n",
    "    --------------\n",
    "    elevation: int or float\n",
    "        判定したい距離。単位はメートル。\n",
    "    thickness: int or float\n",
    "        紙の厚さ。単位はメートル。(default : 0.00008)\n",
    "\n",
    "    Returns\n",
    "    --------------\n",
    "    n_folded: int\n",
    "        折る回数\n",
    "    \"\"\"\n",
    "    folded_thickness_list = [thickness]\n",
    "    n_folded = 0\n",
    "    while True:\n",
    "        n_folded += 1\n",
    "        folded_thickness_list.append(folded_thickness_list[-1]*2)\n",
    "        if folded_thickness_list[-1]>elevation:\n",
    "            return n_folded\n",
    "\n",
    "# 富士山で確認\n",
    "mtfuji_elevation = 3776\n",
    "elevation = mtfuji_elevation\n",
    "n_folded = compute_number_of_folds(elevation, thickness=THICKNESS)\n",
    "print(\"{}回折ると{}mを超える\".format(n_folded, elevation))"
   ]
  },
  {
   "cell_type": "code",
   "execution_count": 0,
   "metadata": {
    "colab": {},
    "colab_type": "code",
    "id": "nO08ubyJg3AG",
    "outputId": "dae6d8b8-5bb9-4c6d-8b17-e036abde9ce8"
   },
   "outputs": [
    {
     "name": "stdout",
     "output_type": "stream",
     "text": [
      "最も近い太陽以外の恒星プロキシマ・ケンタウリまでは4.014187939516034e+16m\n"
     ]
    }
   ],
   "source": [
    "\"\"\"\n",
    "まずは最も近い太陽以外の恒星への距離を計算する。\n",
    "\n",
    "最も近い・遠い天体の一覧 - Wikipedia\n",
    "https://ja.wikipedia.org/wiki/%E6%9C%80%E3%82%82%E8%BF%91%E3%81%84%E3%83%BB%E9%81%A0%E3%81%84%E5%A4%A9%E4%BD%93%E3%81%AE%E4%B8%80%E8%A6%A7\n",
    "> 最も近い太陽以外の恒星 プロキシマ・ケンタウリ 4.243光年\n",
    "\n",
    "光年 - Wikipedia\n",
    "https://ja.wikipedia.org/wiki/%E5%85%89%E5%B9%B4\n",
    "> 正確に 9 460 730 472 580 800 m\n",
    "\n",
    "よって、最も近い太陽以外の恒星プロキシマ・ケンタウリまでは4.243*9460730472580800mである。\n",
    "\"\"\"\n",
    "distance_to_the_star = 4.243*9460730472580800\n",
    "print(\"最も近い太陽以外の恒星プロキシマ・ケンタウリまでは{}m\".format(distance_to_the_star))"
   ]
  },
  {
   "cell_type": "code",
   "execution_count": 0,
   "metadata": {
    "colab": {},
    "colab_type": "code",
    "id": "vCZeB05Sg3AI",
    "outputId": "587046c1-408f-4220-dca1-29a17af3d2cd"
   },
   "outputs": [
    {
     "name": "stdout",
     "output_type": "stream",
     "text": [
      "69回折ると4.014187939516034e+16mを超える\n"
     ]
    }
   ],
   "source": [
    "# 最も近い太陽以外の恒星\n",
    "distance_to_the_star = 4.243*9460730472580800\n",
    "elevation = distance_to_the_star\n",
    "n_folded = compute_number_of_folds(elevation, thickness=THICKNESS)\n",
    "print(\"{}回折ると{}mを超える\".format(n_folded, elevation))"
   ]
  },
  {
   "cell_type": "markdown",
   "metadata": {
    "colab_type": "text",
    "id": "6124OIAig3AL"
   },
   "source": [
    "### 【問題3】必要な紙の長さ\n",
    "実際のところ身近にある紙は43回はおろか10回も折れません。しかし、大きな紙ほどたくさん折ることができ、トイレットペーパーのような長い紙を一方向に折ることを考えた時の折れる回数を求める公式が存在します。\n",
    "\n",
    "厚さ $t_{0}$ の紙をn回折るために必要な紙の長さLは以下の公式で求まります。\n",
    "\n",
    "$$\n",
    "L = \\frac{\\pi t_{0}}{6}(2^n + 4)(2^n - 1)\n",
    "$$\n",
    "\n",
    "この公式を利用して、実際に紙を折り任意の厚さに到達するために必要な紙の長さを求める関数を作成してください。\n",
    "\n",
    "そしてこれを使って「月」「富士山」「最も近い太陽以外の恒星」に届くために必要な紙の長さを求めてください。\n",
    "\n",
    "**公式の出典**\n",
    "\n",
    "[Folding Paper in Half &#124; Teachers of India](http://teachersofindia.org/en/ebook/folding-paper-half)\n",
    "\n",
    "**解説記事**\n",
    "\n",
    "[Britney Gallivan - Wikipedia](https://en.wikipedia.org/wiki/Britney_Gallivan)\n",
    "\n",
    "**ヒント**\n",
    "\n",
    "この公式の中で折る回数nが登場しますが、このnは先ほど作成した関数で求まります。関数の中で関数を使うことが可能です。\n",
    "\n",
    "\n",
    "（解説）\n",
    "\n",
    "公式をそのままプログラムに落とし込みます。\n",
    "\n",
    "公式の中の折る回数として問題2の関数で求めた値を使います。\n",
    "\n",
    "ここでは関数の中に関数を入れる形を解答例としていますが、関数の結果を引数として渡す形でもOKです。\n",
    "\n",
    "【ポイント1】\n",
    "\n",
    "円周率πはmathモジュールの`math.pi`を使うのがベターです。"
   ]
  },
  {
   "cell_type": "code",
   "execution_count": 0,
   "metadata": {
    "colab": {},
    "colab_type": "code",
    "id": "DlPw6JSHg3AM",
    "outputId": "d021edc3-67d2-4bcf-f53e-43dcfc9ed607"
   },
   "outputs": [
    {
     "name": "stdout",
     "output_type": "stream",
     "text": [
      "43回折ると384400000mを超え、この時3.240919444170781e+21mの紙が必要\n",
      "26回折ると3776mを超え、この時188646348487.24014mの紙が必要\n",
      "69回折ると4.014187939516034e+16mを超え、この時1.4595803601100348e+37mの紙が必要\n"
     ]
    }
   ],
   "source": [
    "import math\n",
    "\n",
    "THICKNESS = 0.00008\n",
    "\n",
    "def compute_paper_length(elevation, thickness=0.00008):\n",
    "    \"\"\"\n",
    "    必要な紙の長さを計算する関数\n",
    "    \n",
    "    Parameteres\n",
    "    --------------\n",
    "    elevation: int or float\n",
    "        判定したい距離。単位はメートル。\n",
    "    thickness: int or float\n",
    "        紙の厚さ。単位はメートル。(default : 0.00008)\n",
    "\n",
    "    Returns\n",
    "    --------------\n",
    "    paper_length: float\n",
    "        必要な紙の長さ。単位はメートル。\n",
    "    n_folded: int\n",
    "        折る回数\n",
    "    \"\"\"\n",
    "    n_folded = compute_number_of_folds(elevation, thickness=thickness)\n",
    "    paper_length = math.pi*thickness*(2**n_folded + 4)*(2**n_folded -1)/6\n",
    "    \n",
    "    return paper_length, n_folded\n",
    "\n",
    "# 月\n",
    "distance_to_the_moon = 384400*1000\n",
    "elevation = distance_to_the_moon\n",
    "paper_length, n_folded = compute_paper_length(elevation, thickness=THICKNESS)\n",
    "print(\"{}回折ると{}mを超え、この時{}mの紙が必要\".format(n_folded, elevation, paper_length))\n",
    "\n",
    "# 富士山\n",
    "mtfuji_elevation = 3776\n",
    "elevation = mtfuji_elevation\n",
    "paper_length, n_folded = compute_paper_length(elevation, thickness=THICKNESS)\n",
    "print(\"{}回折ると{}mを超え、この時{}mの紙が必要\".format(n_folded, elevation, paper_length))\n",
    "\n",
    "# 最も近い太陽以外の恒星\n",
    "distance_to_the_star = 4.243*9460730472580800\n",
    "elevation = distance_to_the_star\n",
    "paper_length, n_folded = compute_paper_length(elevation, thickness=THICKNESS)\n",
    "print(\"{}回折ると{}mを超え、この時{}mの紙が必要\".format(n_folded, elevation, paper_length))"
   ]
  }
 ],
 "metadata": {
  "colab": {
   "name": "example_answer_week1_session2.ipynb",
   "provenance": []
  },
  "kernelspec": {
   "display_name": "Python 3",
   "language": "python",
   "name": "python3"
  },
  "language_info": {
   "codemirror_mode": {
    "name": "ipython",
    "version": 3
   },
   "file_extension": ".py",
   "mimetype": "text/x-python",
   "name": "python",
   "nbconvert_exporter": "python",
   "pygments_lexer": "ipython3",
   "version": "3.6.4"
  },
  "varInspector": {
   "cols": {
    "lenName": 16,
    "lenType": 16,
    "lenVar": 40
   },
   "kernels_config": {
    "python": {
     "delete_cmd_postfix": "",
     "delete_cmd_prefix": "del ",
     "library": "var_list.py",
     "varRefreshCmd": "print(var_dic_list())"
    },
    "r": {
     "delete_cmd_postfix": ") ",
     "delete_cmd_prefix": "rm(",
     "library": "var_list.r",
     "varRefreshCmd": "cat(var_dic_list()) "
    }
   },
   "types_to_exclude": [
    "module",
    "function",
    "builtin_function_or_method",
    "instance",
    "_Feature"
   ],
   "window_display": false
  }
 },
 "nbformat": 4,
 "nbformat_minor": 1
}
