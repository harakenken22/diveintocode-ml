{
 "cells": [
  {
   "cell_type": "code",
   "execution_count": 125,
   "metadata": {},
   "outputs": [],
   "source": [
    "import numpy as np\n",
    "from scipy.stats import multivariate_normal\n",
    "import matplotlib.pyplot as plt\n",
    "np.set_printoptions(suppress=True) # 指数表示の禁止を設定する\n",
    "fuji = np.loadtxt(\"mtfuji_data.csv\",delimiter=\",\", skiprows=1)"
   ]
  },
  {
   "cell_type": "code",
   "execution_count": 126,
   "metadata": {},
   "outputs": [
    {
     "name": "stdout",
     "output_type": "stream",
     "text": [
      "[[    0.          35.134141   139.132082     0.           0.      ]\n",
      " [    1.          35.135826   139.129202     0.         322.      ]\n",
      " [    2.          35.13751    139.126322     0.         644.      ]\n",
      " [    3.          35.139194   139.123441     0.         966.      ]\n",
      " [    4.          35.140878   139.12056      0.        1288.      ]\n",
      " [    5.          35.142562   139.117679     0.        1611.      ]\n",
      " [    6.          35.144246   139.114799     6.62      1933.      ]\n",
      " [    7.          35.145929   139.111917     7.21      2255.      ]\n",
      " [    8.          35.147613   139.109036    12.2       2577.      ]\n",
      " [    9.          35.149297   139.106155    54.41      2899.      ]\n",
      " [   10.          35.15098    139.103273   171.56      3222.      ]\n",
      " [   11.          35.152664   139.100392   177.84      3544.      ]\n",
      " [   12.          35.154347   139.09751    228.21      3866.      ]\n",
      " [   13.          35.15603    139.094628   275.38      4188.      ]\n",
      " [   14.          35.157714   139.091747   433.76      4511.      ]\n",
      " [   15.          35.159397   139.088865   371.74      4833.      ]\n",
      " [   16.          35.16108    139.085982   380.06      5155.      ]\n",
      " [   17.          35.162763   139.0831     503.4       5477.      ]\n",
      " [   18.          35.164446   139.080218   485.39      5799.      ]\n",
      " [   19.          35.166129   139.077335   477.82      6122.      ]\n",
      " [   20.          35.167812   139.074453   580.5       6444.      ]\n",
      " [   21.          35.169495   139.07157    610.92      6766.      ]\n",
      " [   22.          35.171178   139.068687   654.96      7088.      ]\n",
      " [   23.          35.17286    139.065804   628.22      7411.      ]\n",
      " [   24.          35.174543   139.062921   626.64      7733.      ]\n",
      " [   25.          35.176225   139.060038   572.55      8055.      ]\n",
      " [   26.          35.177908   139.057154   723.95      8377.      ]\n",
      " [   27.          35.17959    139.054271   701.94      8699.      ]\n",
      " [   28.          35.181273   139.051387   879.47      9022.      ]\n",
      " [   29.          35.182955   139.048504   976.17      9344.      ]\n",
      " [   30.          35.184637   139.04562    919.16      9666.      ]\n",
      " [   31.          35.186319   139.042736   817.        9988.      ]\n",
      " [   32.          35.188001   139.039852   743.06     10310.      ]\n",
      " [   33.          35.189683   139.036968   770.92     10633.      ]\n",
      " [   34.          35.191365   139.034084   864.06     10955.      ]\n",
      " [   35.          35.193047   139.031199   826.52     11277.      ]\n",
      " [   36.          35.194729   139.028315   748.39     11599.      ]\n",
      " [   37.          35.19641    139.02543    756.11     11922.      ]\n",
      " [   38.          35.198092   139.022545   724.5      12244.      ]\n",
      " [   39.          35.199773   139.01966    724.5      12566.      ]]\n"
     ]
    }
   ],
   "source": [
    "print(fuji[0:40])"
   ]
  },
  {
   "cell_type": "code",
   "execution_count": 127,
   "metadata": {},
   "outputs": [],
   "source": [
    "fuji = np.array(fuji)"
   ]
  },
  {
   "cell_type": "code",
   "execution_count": 128,
   "metadata": {},
   "outputs": [
    {
     "data": {
      "text/plain": [
       "array([  0.      ,  35.134141, 139.132082,   0.      ,   0.      ])"
      ]
     },
     "execution_count": 128,
     "metadata": {},
     "output_type": "execute_result"
    }
   ],
   "source": [
    "fuji[0]"
   ]
  },
  {
   "cell_type": "code",
   "execution_count": 129,
   "metadata": {},
   "outputs": [
    {
     "name": "stderr",
     "output_type": "stream",
     "text": [
      "No handles with labels found to put in legend.\n"
     ]
    },
    {
     "data": {
      "image/png": "[encoded data removed]",
      "text/plain": [
       "<Figure size 432x288 with 1 Axes>"
      ]
     },
     "metadata": {
      "needs_background": "light"
     },
     "output_type": "display_data"
    }
   ],
   "source": [
    "plt.title(\"koubai\")\n",
    "plt.xlabel(\"number\")\n",
    "plt.ylabel(\"numner_2\")\n",
    "plt.plot(fuji[:, 0], fuji[:, 3], color = \"orange\", marker='o')\n",
    "plt.legend()\n",
    "plt.show()"
   ]
  },
  {
   "cell_type": "markdown",
   "metadata": {},
   "source": [
    "【問題2】ある地点の勾配を計算する関数を作成\n",
    "---\n",
    "「二次元配列と勾配問題」では各地点での勾配を最初に求めました。しかし、暗闇の富士山を想像すると、知ることができるのは今いる地点の勾配だけです。"
   ]
  },
  {
   "cell_type": "code",
   "execution_count": 130,
   "metadata": {},
   "outputs": [],
   "source": [
    "# def slope(fuji):\n",
    "#     # xの変化量\n",
    "#     fuji_1 = fuji[1:, 0]\n",
    "#     fuji_2 = fuji[:-1, 0]\n",
    "#     # yの変化量\n",
    "#     fuji_1_y = fuji[1:, 3]\n",
    "#     fuji_2_y = fuji[:-1, 3]\n",
    "#     # 変化量の計算\n",
    "#     fuji_xchanges = fuji_2 - fuji_1\n",
    "#     fuji_ychanges = fuji_2_y - fuji_1_y\n",
    "#     # 勾配\n",
    "\n",
    "#     range_dgree = fuji_ychanges/fuji_xchanges\n",
    "#     return range_dgree\n",
    "\n",
    "# slope(fuji)"
   ]
  },
  {
   "cell_type": "markdown",
   "metadata": {},
   "source": [
    "【問題3】移動先の地点を計算する関数を作成\n",
    "---\n",
    ">今いる地点の勾配の情報を元に、次に移動先の地点を計算する関数を作成してください。\n",
    "数式で表すと 「移動先の地点 = 今いる地点 - $\\alpha$ ×今いる地点の勾配」 となります。\n",
    "「今いる地点の勾配」は問題2で作成した関数の返り値を使用してください。$\\alpha$ は0より大きい任意の値をとるハイパーパラメータです。機械学習の分野では学習率という名前で呼ばれます。この値によって下り方が変わります。ここでは例えば0.2に設定してください。"
   ]
  },
  {
   "cell_type": "code",
   "execution_count": 139,
   "metadata": {},
   "outputs": [
    {
     "data": {
      "text/plain": [
       "array([768.046])"
      ]
     },
     "execution_count": 139,
     "metadata": {},
     "output_type": "execute_result"
    }
   ],
   "source": [
    "def sloop(fuji):\n",
    "    # xの変化量\n",
    "    fuji_1 = fuji[1:, 0]\n",
    "    fuji_2 = fuji[:-1, 0]\n",
    "    # yの変化量\n",
    "    fuji_1_y = fuji[1:, 3]\n",
    "    fuji_2_y = fuji[:-1, 3]\n",
    "    # 変化量の計算\n",
    "    fuji_xchanges = fuji_2 - fuji_1\n",
    "    fuji_ychanges = fuji_2_y - fuji_1_y\n",
    "    # 勾配\n",
    "\n",
    "    kobai = fuji_ychanges/fuji_xchanges\n",
    "    return kobai\n",
    "\n",
    "def move_point(point):\n",
    "    array_2 = np.hstack((fuji[point], fuji[point+1])).reshape(2, 5)\n",
    "    kobai = sloop(array_2)\n",
    "    next_point = fuji[point, 3] - a * kobai\n",
    "    return next_point\n",
    "\n",
    "move_point(100)"
   ]
  },
  {
   "cell_type": "code",
   "execution_count": null,
   "metadata": {},
   "outputs": [],
   "source": [
    "def down(top):\n",
    "    \n",
    "    \n",
    "    while 0 < (move_point(top)):\n",
    "    n = move_point(top-1)\n",
    "    return n\n",
    "    \n",
    "down()"
   ]
  },
  {
   "cell_type": "code",
   "execution_count": null,
   "metadata": {},
   "outputs": [],
   "source": []
  }
 ],
 "metadata": {
  "kernelspec": {
   "display_name": "Python 3",
   "language": "python",
   "name": "python3"
  },
  "language_info": {
   "codemirror_mode": {
    "name": "ipython",
    "version": 3
   },
   "file_extension": ".py",
   "mimetype": "text/x-python",
   "name": "python",
   "nbconvert_exporter": "python",
   "pygments_lexer": "ipython3",
   "version": "3.8.3"
  }
 },
 "nbformat": 4,
 "nbformat_minor": 4
}
