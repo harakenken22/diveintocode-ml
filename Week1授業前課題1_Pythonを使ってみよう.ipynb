{
  "nbformat": 4,
  "nbformat_minor": 0,
  "metadata": {
    "colab": {
      "name": "Week1授業前課題1 Pythonを使ってみよう.ipynb",
      "provenance": [],
      "include_colab_link": true
    },
    "kernelspec": {
      "display_name": "Python 3",
      "language": "python",
      "name": "python3"
    },
    "language_info": {
      "codemirror_mode": {
        "name": "ipython",
        "version": 3
      },
      "file_extension": ".py",
      "mimetype": "text/x-python",
      "name": "python",
      "nbconvert_exporter": "python",
      "pygments_lexer": "ipython3",
      "version": "3.8.3"
    }
  },
  "cells": [
    {
      "cell_type": "markdown",
      "metadata": {
        "id": "view-in-github",
        "colab_type": "text"
      },
      "source": [
        "<a href=\"https://colab.research.google.com/github/harakenken22/diveintocode-ml/blob/master/Week1%E6%8E%88%E6%A5%AD%E5%89%8D%E8%AA%B2%E9%A1%8C1_Python%E3%82%92%E4%BD%BF%E3%81%A3%E3%81%A6%E3%81%BF%E3%82%88%E3%81%86.ipynb\" target=\"_parent\"><img src=\"https://colab.research.google.com/assets/colab-badge.svg\" alt=\"Open In Colab\"/></a>"
      ]
    },
    {
      "cell_type": "markdown",
      "metadata": {
        "id": "uRjbg1YL4B8m"
      },
      "source": [
        "【問題1】べき乗の算術演算子を使用して作成"
      ]
    },
    {
      "cell_type": "code",
      "metadata": {
        "colab": {
          "base_uri": "https://localhost:8080/"
        },
        "id": "aYfxYMew4Fdz",
        "outputId": "8129fb8c-99b3-45f3-90bb-e33c665bea8e"
      },
      "source": [
        "THICKNESS = 0.00008\n",
        "folded_thickness = THICKNESS*2**43\n",
        "print(\"厚さ： {}メートル\".format(folded_thickness))"
      ],
      "execution_count": 1,
      "outputs": [
        {
          "output_type": "stream",
          "text": [
            "厚さ： 703687441.77664メートル\n"
          ],
          "name": "stdout"
        }
      ]
    },
    {
      "cell_type": "code",
      "metadata": {
        "colab": {
          "base_uri": "https://localhost:8080/"
        },
        "id": "I_CYZqvT5CGV",
        "outputId": "6c507c7d-f24e-4aa0-fab8-b2636c72ee12"
      },
      "source": [
        "# メートルをキロメートルに変換して小数点以下2桁で表示する\n",
        "THICKNESS = 0.00008\n",
        "folded_thickness = THICKNESS*2**43\n",
        "print(\"厚さ： {:.2f}万メートル\".format(folded_thickness/10000000))"
      ],
      "execution_count": 2,
      "outputs": [
        {
          "output_type": "stream",
          "text": [
            "厚さ： 70.37万メートル\n"
          ],
          "name": "stdout"
        }
      ]
    },
    {
      "cell_type": "code",
      "metadata": {
        "colab": {
          "base_uri": "https://localhost:8080/"
        },
        "id": "0ijUXFVt5jWe",
        "outputId": "8ef1ce13-529d-4a49-8f57-fa87c01b9c60"
      },
      "source": [
        "# 【問題3】for文を使用して作成\n",
        "THICKNESS = 0.00008\n",
        "times = 43\n",
        "\n",
        "folded_thickness = THICKNESS\n",
        "\n",
        "for i in range(times+1):\n",
        "    folded_thickness = THICKNESS*2**i\n",
        "    print(\"厚さ： {}メートル\".format(folded_thickness))"
      ],
      "execution_count": 18,
      "outputs": [
        {
          "output_type": "stream",
          "text": [
            "厚さ： 8e-05メートル\n",
            "厚さ： 0.00016メートル\n",
            "厚さ： 0.00032メートル\n",
            "厚さ： 0.00064メートル\n",
            "厚さ： 0.00128メートル\n",
            "厚さ： 0.00256メートル\n",
            "厚さ： 0.00512メートル\n",
            "厚さ： 0.01024メートル\n",
            "厚さ： 0.02048メートル\n",
            "厚さ： 0.04096メートル\n",
            "厚さ： 0.08192メートル\n",
            "厚さ： 0.16384メートル\n",
            "厚さ： 0.32768メートル\n",
            "厚さ： 0.65536メートル\n",
            "厚さ： 1.31072メートル\n",
            "厚さ： 2.62144メートル\n",
            "厚さ： 5.24288メートル\n",
            "厚さ： 10.48576メートル\n",
            "厚さ： 20.97152メートル\n",
            "厚さ： 41.94304メートル\n",
            "厚さ： 83.88608メートル\n",
            "厚さ： 167.77216メートル\n",
            "厚さ： 335.54432メートル\n",
            "厚さ： 671.08864メートル\n",
            "厚さ： 1342.17728メートル\n",
            "厚さ： 2684.35456メートル\n",
            "厚さ： 5368.70912メートル\n",
            "厚さ： 10737.41824メートル\n",
            "厚さ： 21474.83648メートル\n",
            "厚さ： 42949.67296メートル\n",
            "厚さ： 85899.34592メートル\n",
            "厚さ： 171798.69184メートル\n",
            "厚さ： 343597.38368メートル\n",
            "厚さ： 687194.76736メートル\n",
            "厚さ： 1374389.53472メートル\n",
            "厚さ： 2748779.06944メートル\n",
            "厚さ： 5497558.13888メートル\n",
            "厚さ： 10995116.27776メートル\n",
            "厚さ： 21990232.55552メートル\n",
            "厚さ： 43980465.11104メートル\n",
            "厚さ： 87960930.22208メートル\n",
            "厚さ： 175921860.44416メートル\n",
            "厚さ： 351843720.88832メートル\n",
            "厚さ： 703687441.77664メートル\n"
          ],
          "name": "stdout"
        }
      ]
    },
    {
      "cell_type": "code",
      "metadata": {
        "id": "-W6IWNpqBB2o",
        "colab": {
          "base_uri": "https://localhost:8080/"
        },
        "outputId": "fc3e1312-cb19-4b1f-de45-f5cd7df9f3ef"
      },
      "source": [
        "# 問題4】計算時間の比較\n",
        "\n",
        "import time\n",
        "start = time.time()\n",
        "#####\n",
        "THICKNESS = 0.00008\n",
        "times = 43\n",
        "\n",
        "folded_thickness = THICKNESS\n",
        "for i in range(times+1):\n",
        "    folded_thickness = THICKNESS*2**i\n",
        "    print(\"厚さ： {}メートル\".format(folded_thickness/10000000))\n",
        "#####\n",
        "elapsed_time = time.time() - start\n",
        "print(\"time : {}[s]\".format(elapsed_time))\n",
        "\n"
      ],
      "execution_count": 17,
      "outputs": [
        {
          "output_type": "stream",
          "text": [
            "厚さ： 8.000000000000001e-12メートル\n",
            "厚さ： 1.6000000000000003e-11メートル\n",
            "厚さ： 3.2000000000000006e-11メートル\n",
            "厚さ： 6.400000000000001e-11メートル\n",
            "厚さ： 1.2800000000000002e-10メートル\n",
            "厚さ： 2.5600000000000005e-10メートル\n",
            "厚さ： 5.120000000000001e-10メートル\n",
            "厚さ： 1.0240000000000002e-09メートル\n",
            "厚さ： 2.0480000000000004e-09メートル\n",
            "厚さ： 4.096000000000001e-09メートル\n",
            "厚さ： 8.192000000000001e-09メートル\n",
            "厚さ： 1.6384000000000003e-08メートル\n",
            "厚さ： 3.2768000000000006e-08メートル\n",
            "厚さ： 6.553600000000001e-08メートル\n",
            "厚さ： 1.3107200000000002e-07メートル\n",
            "厚さ： 2.6214400000000005e-07メートル\n",
            "厚さ： 5.242880000000001e-07メートル\n",
            "厚さ： 1.0485760000000002e-06メートル\n",
            "厚さ： 2.0971520000000004e-06メートル\n",
            "厚さ： 4.194304000000001e-06メートル\n",
            "厚さ： 8.388608000000002e-06メートル\n",
            "厚さ： 1.6777216000000003e-05メートル\n",
            "厚さ： 3.3554432000000006e-05メートル\n",
            "厚さ： 6.710886400000001e-05メートル\n",
            "厚さ： 0.00013421772800000002メートル\n",
            "厚さ： 0.00026843545600000005メートル\n",
            "厚さ： 0.0005368709120000001メートル\n",
            "厚さ： 0.0010737418240000002メートル\n",
            "厚さ： 0.0021474836480000004メートル\n",
            "厚さ： 0.004294967296000001メートル\n",
            "厚さ： 0.008589934592000002メートル\n",
            "厚さ： 0.017179869184000003メートル\n",
            "厚さ： 0.034359738368000006メートル\n",
            "厚さ： 0.06871947673600001メートル\n",
            "厚さ： 0.13743895347200002メートル\n",
            "厚さ： 0.27487790694400005メートル\n",
            "厚さ： 0.5497558138880001メートル\n",
            "厚さ： 1.0995116277760002メートル\n",
            "厚さ： 2.1990232555520004メートル\n",
            "厚さ： 4.398046511104001メートル\n",
            "厚さ： 8.796093022208002メートル\n",
            "厚さ： 17.592186044416003メートル\n",
            "厚さ： 35.184372088832006メートル\n",
            "厚さ： 70.36874417766401メートル\n",
            "time : 0.006766796112060547[s]\n"
          ],
          "name": "stdout"
        }
      ]
    },
    {
      "cell_type": "code",
      "metadata": {
        "colab": {
          "base_uri": "https://localhost:8080/"
        },
        "id": "CJIfLHOlel1_",
        "outputId": "ddbcec25-e994-4a8d-a671-cbe48840ecc8"
      },
      "source": [
        "# 問題4】計算時間の比較\n",
        "\n",
        "import time\n",
        "start = time.time()\n",
        "#####\n",
        "THICKNESS = 0.00008\n",
        "folded_thickness = THICKNESS*2**43\n",
        "print(\"厚さ： {:.2f}万メートル\".format(folded_thickness/10000000))\n",
        "#####\n",
        "elapsed_time = time.time() - start\n",
        "print(\"time : {}[s]\".format(elapsed_time))\n",
        "\n"
      ],
      "execution_count": 15,
      "outputs": [
        {
          "output_type": "stream",
          "text": [
            "厚さ： 70.37万メートル\n",
            "time : 0.005631923675537109[s]\n"
          ],
          "name": "stdout"
        }
      ]
    },
    {
      "cell_type": "code",
      "metadata": {
        "id": "7BHQovMmBwQV",
        "colab": {
          "base_uri": "https://localhost:8080/"
        },
        "outputId": "87a78fb3-a7b7-412d-895f-03a6fa1fe8a8"
      },
      "source": [
        "# 【問題5】リストへの保存\n",
        "# \"\"\"\n",
        "# ここまでは43回折った後の最後の値だけを使用していましたが、グラフで可視化するためには過程の値も必要です。for文を使用したコードに、過程の値合計44個を記録するコードを加えてください。\n",
        "\n",
        "\n",
        "# 《ヒント》\n",
        "\n",
        "\n",
        "# 空のリストを作成する。\n",
        "# 折る前の値をリストに追加する。\n",
        "# for文の中でn回折った時の値をリストに追加していく。\n",
        "\n",
        "# 最終的にリストに44個の値が格納されていることをlen関数を用いて確認しておきましょう。\n",
        "\n",
        "# appendの使い方：\n",
        "# https://www.tech-teacher.jp/blog/python-append/\n",
        "# \"\"\"\n",
        "THICKNESS = 0.00008\n",
        "times = 43\n",
        "\n",
        "folded_thickness_list = [THICKNESS]\n",
        "\n",
        "for i in range(times):\n",
        "    folded_thickness_list.append(folded_thickness_list[-1]*2**i)\n",
        "    \n",
        "# print(\"厚さ： {}メートル\".format(folded_thickness))\n",
        "print(len(folded_thickness_list))\n",
        "print(folded_thickness_list)"
      ],
      "execution_count": 20,
      "outputs": [
        {
          "output_type": "stream",
          "text": [
            "44\n",
            "[8e-05, 8e-05, 0.00016, 0.00064, 0.00512, 0.08192, 2.62144, 167.77216, 21474.83648, 5497558.13888, 2814749767.10656, 2882303761517.1177, 5902958103587057.0, 2.4178516392292585e+19, 1.9807040628566086e+23, 3.2451855365842675e+27, 1.0633823966279328e+32, 6.96898287454082e+36, 9.134385233318144e+41, 2.3945242826029515e+47, 1.2554203470773363e+53, 1.316403645856965e+59, 2.7606985387162257e+65, 1.157920892373162e+72, 9.713344461128646e+78, 1.629628781067589e+86, 5.46812681195753e+93, 3.669597785584115e+101, 4.92525077454931e+109, 1.3221119375804973e+118, 7.098034416949287e+126, 7.621456421669904e+135, 1.636695303948071e+145, 7.029552803973745e+154, 6.038339879714467e+164, 1.0373788922202483e+175, 3.5644067325173403e+185, 2.4494416553286714e+196, 3.3664869769909593e+207, 9.253728939895088e+218, 5.0872912848509635e+230, 5.593535921577141e+242, 1.2300315572313622e+255, 5.409735998829213e+267]\n"
          ],
          "name": "stdout"
        }
      ]
    },
    {
      "cell_type": "code",
      "metadata": {
        "id": "7RKLPPxwB9aO",
        "colab": {
          "base_uri": "https://localhost:8080/",
          "height": 295
        },
        "outputId": "5d7c74a1-8ee3-4d86-bbdd-81c787a64d20"
      },
      "source": [
        "# 【問題6】折れ線グラフの表示\n",
        "\n",
        "# \"\"\"\n",
        "# グラフを表示する。タイトルと軸ラベル名付き。\n",
        "# \"\"\"\n",
        "import matplotlib.pyplot as plt\n",
        "%matplotlib inline\n",
        "plt.title(\"thickness of folded paper\")\n",
        "plt.xlabel(\"number of folds\")\n",
        "plt.ylabel(\"thickness[m]\")\n",
        "plt.plot(folded_thickness_list) # 「リスト名」のところにリストの変数名を入れる\n",
        "plt.show()"
      ],
      "execution_count": 21,
      "outputs": [
        {
          "output_type": "display_data",
          "data": {
            "image/png": "[encoded data removed]",
            "text/plain": [
              "<Figure size 432x288 with 1 Axes>"
            ]
          },
          "metadata": {
            "tags": [],
            "needs_background": "light"
          }
        }
      ]
    },
    {
      "cell_type": "code",
      "metadata": {
        "id": "lMI0CBjaCDg3",
        "colab": {
          "base_uri": "https://localhost:8080/",
          "height": 295
        },
        "outputId": "51bb6f8e-efca-49a0-aa65-0287f342c701"
      },
      "source": [
        "# 【問題7】グラフのカスタマイズ\n",
        "\n",
        "\"\"\"\n",
        "赤い折れ線グラフを表示する。\n",
        "\"\"\"\n",
        "plt.title(\"thickness of folded paper\")\n",
        "plt.xlabel(\"number of folds\")\n",
        "plt.ylabel(\"thickness[m]\")\n",
        "plt.plot(folded_thickness_list, color='red', marker='o')\n",
        "plt.show()"
      ],
      "execution_count": 22,
      "outputs": [
        {
          "output_type": "display_data",
          "data": {
            "image/png": "[encoded data removed]",
            "text/plain": [
              "<Figure size 432x288 with 1 Axes>"
            ]
          },
          "metadata": {
            "tags": [],
            "needs_background": "light"
          }
        }
      ]
    },
    {
      "cell_type": "code",
      "metadata": {
        "id": "mPSEE1dbel2D"
      },
      "source": [
        ""
      ],
      "execution_count": null,
      "outputs": []
    }
  ]
}