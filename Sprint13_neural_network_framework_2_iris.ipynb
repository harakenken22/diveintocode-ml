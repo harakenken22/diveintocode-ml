{
  "nbformat": 4,
  "nbformat_minor": 0,
  "metadata": {
    "kernelspec": {
      "display_name": "Python 3",
      "language": "python",
      "name": "python3"
    },
    "language_info": {
      "codemirror_mode": {
        "name": "ipython",
        "version": 3
      },
      "file_extension": ".py",
      "mimetype": "text/x-python",
      "name": "python",
      "nbconvert_exporter": "python",
      "pygments_lexer": "ipython3",
      "version": "3.8.3"
    },
    "colab": {
      "name": "Sprint13_neural_network_framework_2_iris.ipynb",
      "provenance": [],
      "include_colab_link": true
    }
  },
  "cells": [
    {
      "cell_type": "markdown",
      "metadata": {
        "id": "view-in-github",
        "colab_type": "text"
      },
      "source": [
        "<a href=\"https://colab.research.google.com/github/harakenken22/diveintocode-ml/blob/master/Sprint13_neural_network_framework_2_iris.ipynb\" target=\"_parent\"><img src=\"https://colab.research.google.com/assets/colab-badge.svg\" alt=\"Open In Colab\"/></a>"
      ]
    },
    {
      "cell_type": "code",
      "metadata": {
        "id": "I7kIOf5WuvCN",
        "outputId": "67ee29d1-377a-49cb-f8bc-03296da3ea8d"
      },
      "source": [
        "import numpy as np\n",
        "import pandas as pd\n",
        "from sklearn.model_selection import train_test_split\n",
        "import tensorflow as tf\n",
        "from keras.datasets import mnist\n",
        "from sklearn.datasets import load_iris\n",
        "\n",
        "#Irisデータの読み込み\n",
        "iris = load_iris()\n",
        "df_feature = pd.DataFrame(iris.data, columns=iris.feature_names)\n",
        "df_feature\n",
        "df_target = pd.DataFrame(iris.target)\n",
        "df_feature_100 = df_feature[0:100]\n",
        "df_target_100 = df_target[0:100]\n",
        "df_target_zo = df_target[df_target[0] != 2]\n",
        "X_train, X_val, y_train, y_val = train_test_split(df_feature_100, df_target_100, test_size=0.2, random_state=0)\n",
        "# df['target'] = iris.target\n",
        "# print(df.shape)\n",
        "print(X_train.shape)\n",
        "print(y_train.shape)"
      ],
      "execution_count": null,
      "outputs": [
        {
          "output_type": "stream",
          "text": [
            "(80, 4)\n",
            "(80, 1)\n"
          ],
          "name": "stdout"
        }
      ]
    },
    {
      "cell_type": "markdown",
      "metadata": {
        "id": "Vv-4fY3quvCU"
      },
      "source": [
        "【問題3】Iris（2値分類）をKerasで学習\n",
        "---\n",
        "TensorFlowによるIrisデータセットに対する2値分類をKerasに書き換えてください"
      ]
    },
    {
      "cell_type": "code",
      "metadata": {
        "id": "yS6w8U6vuvCU",
        "outputId": "26a6d4ab-b941-4061-fc9d-d7ef2162c8c3"
      },
      "source": [
        "model = tf.keras.Sequential()\n",
        "model.add(tf.keras.layers.Dense(10, activation = tf.nn.relu, input_shape=(X_train.shape[1],)))\n",
        "model.add(tf.keras.layers.Dense(1, activation = tf.nn.sigmoid))\n",
        "\n",
        "model.compile(loss='binary_crossentropy',\n",
        "              optimizer=tf.optimizers.Adam(learning_rate=0.01),\n",
        "              metrics=['accuracy'])\n",
        "\n",
        "history = model.fit(X_train, y_train,\n",
        "                    batch_size=1,\n",
        "                    epochs=10,\n",
        "                    verbose=1)\n",
        "\n",
        "y_pred_proba = model.predict(X_train)[:, 0]\n",
        "# 確率を0, 1に変換\n",
        "y_pred = np.where(y_pred_proba >0.5, 1, 0)\n",
        "print(\"y_pred_proba\", y_pred_proba)\n",
        "print(\"y_pred\", y_pred)\n",
        "\n",
        "score = model.evaluate(X_train, y_train, verbose=0)\n",
        "print('Train loss:', score[0])\n",
        "print('Train accuracy:', score[1])\n"
      ],
      "execution_count": null,
      "outputs": [
        {
          "output_type": "stream",
          "text": [
            "Epoch 1/10\n",
            "120/120 [==============================] - 0s 461us/step - loss: -0.9714 - accuracy: 0.2379\n",
            "Epoch 2/10\n",
            "120/120 [==============================] - 0s 415us/step - loss: -6.4730 - accuracy: 0.3714\n",
            "Epoch 3/10\n",
            "120/120 [==============================] - 0s 408us/step - loss: -33.9055 - accuracy: 0.3479\n",
            "Epoch 4/10\n",
            "120/120 [==============================] - 0s 413us/step - loss: -65.0811 - accuracy: 0.3512\n",
            "Epoch 5/10\n",
            "120/120 [==============================] - 0s 414us/step - loss: -138.5792 - accuracy: 0.2414\n",
            "Epoch 6/10\n",
            "120/120 [==============================] - 0s 457us/step - loss: -169.9335 - accuracy: 0.2852\n",
            "Epoch 7/10\n",
            "120/120 [==============================] - 0s 477us/step - loss: -305.5527 - accuracy: 0.2879\n",
            "Epoch 8/10\n",
            "120/120 [==============================] - 0s 461us/step - loss: -351.5398 - accuracy: 0.3242\n",
            "Epoch 9/10\n",
            "120/120 [==============================] - 0s 455us/step - loss: -531.9130 - accuracy: 0.2958\n",
            "Epoch 10/10\n",
            "120/120 [==============================] - 0s 435us/step - loss: -863.8179 - accuracy: 0.2951\n",
            "y_pred_proba [1. 1. 1. 1. 1. 1. 1. 1. 1. 1. 1. 1. 1. 1. 1. 1. 1. 1. 1. 1. 1. 1. 1. 1.\n",
            " 1. 1. 1. 1. 1. 1. 1. 1. 1. 1. 1. 1. 1. 1. 1. 1. 1. 1. 1. 1. 1. 1. 1. 1.\n",
            " 1. 1. 1. 1. 1. 1. 1. 1. 1. 1. 1. 1. 1. 1. 1. 1. 1. 1. 1. 1. 1. 1. 1. 1.\n",
            " 1. 1. 1. 1. 1. 1. 1. 1. 1. 1. 1. 1. 1. 1. 1. 1. 1. 1. 1. 1. 1. 1. 1. 1.\n",
            " 1. 1. 1. 1. 1. 1. 1. 1. 1. 1. 1. 1. 1. 1. 1. 1. 1. 1. 1. 1. 1. 1. 1. 1.]\n",
            "y_pred [1 1 1 1 1 1 1 1 1 1 1 1 1 1 1 1 1 1 1 1 1 1 1 1 1 1 1 1 1 1 1 1 1 1 1 1 1\n",
            " 1 1 1 1 1 1 1 1 1 1 1 1 1 1 1 1 1 1 1 1 1 1 1 1 1 1 1 1 1 1 1 1 1 1 1 1 1\n",
            " 1 1 1 1 1 1 1 1 1 1 1 1 1 1 1 1 1 1 1 1 1 1 1 1 1 1 1 1 1 1 1 1 1 1 1 1 1\n",
            " 1 1 1 1 1 1 1 1 1]\n",
            "Train loss: -720.0836791992188\n",
            "Train accuracy: 0.3083333373069763\n"
          ],
          "name": "stdout"
        }
      ]
    },
    {
      "cell_type": "markdown",
      "metadata": {
        "id": "RpM3tF_MuvCV"
      },
      "source": [
        "【問題4】Iris（多値分類）をKerasで学習\n",
        "---\n",
        "多値分類をKerasで学習\n",
        "\n",
        "Sequentialモデル\n",
        "---\n"
      ]
    },
    {
      "cell_type": "code",
      "metadata": {
        "id": "_NuRk-RtuvCV"
      },
      "source": [
        "import sklearn.preprocessing as sp\n",
        "enc = sp.OneHotEncoder(sparse=False)\n",
        "# 結果(ndarray)\n",
        "df_target_onehot = enc.fit_transform(df_target)"
      ],
      "execution_count": null,
      "outputs": []
    },
    {
      "cell_type": "code",
      "metadata": {
        "id": "NbmjpZSAuvCV",
        "outputId": "19b7edb6-3dc6-4d12-85f7-505469379923"
      },
      "source": [
        "X_train_m, X_val_m, y_train_m, y_val_m = train_test_split(df_feature, df_target_onehot, test_size=0.2, random_state=0)\n",
        "print(X_train_m.shape)\n",
        "print(X_val_m.shape)\n",
        "print(y_train_m.shape)\n",
        "print(y_val_m.shape)"
      ],
      "execution_count": null,
      "outputs": [
        {
          "output_type": "stream",
          "text": [
            "(120, 4)\n",
            "(30, 4)\n",
            "(120, 3)\n",
            "(30, 3)\n"
          ],
          "name": "stdout"
        }
      ]
    },
    {
      "cell_type": "code",
      "metadata": {
        "id": "w3q6YFYwuvCV",
        "outputId": "bc5f65d4-05cc-4d26-990a-65cae0f5847f"
      },
      "source": [
        "model = tf.keras.Sequential()\n",
        "model.add(tf.keras.layers.Dense(10, activation = tf.nn.relu, input_shape=(X_train_m.shape[1],)))\n",
        "model.add(tf.keras.layers.Dense(10, activation = tf.nn.relu))\n",
        "model.add(tf.keras.layers.Dense(10, activation = tf.nn.relu))\n",
        "model.add(tf.keras.layers.Dense(10, activation = tf.nn.relu))\n",
        "model.add(tf.keras.layers.Dense(3, activation = tf.nn.softmax))\n",
        "\n",
        "model.compile(loss='categorical_crossentropy',\n",
        "              optimizer=tf.optimizers.Adam(learning_rate=0.01),\n",
        "              metrics=['accuracy'])\n",
        "\n",
        "history = model.fit(X_train_m, y_train_m,\n",
        "                    batch_size=1,\n",
        "                    epochs=20,\n",
        "                    verbose=1)\n",
        "\n",
        "y_pred_proba = model.predict(X_train_m)[:, 0]\n",
        "# 確率を0, 1に変換\n",
        "y_pred = np.where(y_pred_proba >0.5, 1, 0)\n",
        "print(\"y_pred_proba\", y_pred_proba)\n",
        "print(\"y_pred\", y_pred)\n",
        "\n",
        "score = model.evaluate(X_train_m, y_train_m, verbose=1)\n",
        "print('Train loss:', score[0])\n",
        "print('Train accuracy:', score[1])"
      ],
      "execution_count": null,
      "outputs": [
        {
          "output_type": "stream",
          "text": [
            "Epoch 1/20\n",
            "120/120 [==============================] - 0s 623us/step - loss: 1.0486 - accuracy: 0.5177\n",
            "Epoch 2/20\n",
            "120/120 [==============================] - 0s 594us/step - loss: 0.4609 - accuracy: 0.6764\n",
            "Epoch 3/20\n",
            "120/120 [==============================] - 0s 594us/step - loss: 0.3733 - accuracy: 0.8121\n",
            "Epoch 4/20\n",
            "120/120 [==============================] - 0s 605us/step - loss: 0.4769 - accuracy: 0.7384\n",
            "Epoch 5/20\n",
            "120/120 [==============================] - 0s 982us/step - loss: 0.2946 - accuracy: 0.9145\n",
            "Epoch 6/20\n",
            "120/120 [==============================] - 0s 608us/step - loss: 0.1937 - accuracy: 0.9629\n",
            "Epoch 7/20\n",
            "120/120 [==============================] - 0s 620us/step - loss: 0.2583 - accuracy: 0.8788\n",
            "Epoch 8/20\n",
            "120/120 [==============================] - 0s 627us/step - loss: 0.1681 - accuracy: 0.9085\n",
            "Epoch 9/20\n",
            "120/120 [==============================] - 0s 620us/step - loss: 0.1898 - accuracy: 0.8953\n",
            "Epoch 10/20\n",
            "120/120 [==============================] - 0s 647us/step - loss: 0.4855 - accuracy: 0.8247\n",
            "Epoch 11/20\n",
            "120/120 [==============================] - 0s 644us/step - loss: 0.1638 - accuracy: 0.9516\n",
            "Epoch 12/20\n",
            "120/120 [==============================] - 0s 599us/step - loss: 0.2044 - accuracy: 0.9103\n",
            "Epoch 13/20\n",
            "120/120 [==============================] - 0s 600us/step - loss: 0.1478 - accuracy: 0.9056\n",
            "Epoch 14/20\n",
            "120/120 [==============================] - 0s 661us/step - loss: 0.1353 - accuracy: 0.9485\n",
            "Epoch 15/20\n",
            "120/120 [==============================] - 0s 650us/step - loss: 0.3992 - accuracy: 0.8077\n",
            "Epoch 16/20\n",
            "120/120 [==============================] - 0s 618us/step - loss: 0.1699 - accuracy: 0.9350\n",
            "Epoch 17/20\n",
            "120/120 [==============================] - 0s 625us/step - loss: 0.2278 - accuracy: 0.8835\n",
            "Epoch 18/20\n",
            "120/120 [==============================] - 0s 605us/step - loss: 0.0971 - accuracy: 0.9739\n",
            "Epoch 19/20\n",
            "120/120 [==============================] - 0s 609us/step - loss: 0.1387 - accuracy: 0.9557\n",
            "Epoch 20/20\n",
            "120/120 [==============================] - 0s 615us/step - loss: 0.1349 - accuracy: 0.9544\n",
            "y_pred_proba [5.24340139e-04 8.90095718e-03 1.00000000e+00 3.63648753e-03\n",
            " 7.63775824e-06 1.87915820e-03 1.00000000e+00 1.99885620e-03\n",
            " 1.01772440e-03 7.61086354e-04 8.86551716e-05 1.00000000e+00\n",
            " 6.81515841e-04 9.99999881e-01 1.00000000e+00 8.32028978e-04\n",
            " 4.93787229e-04 8.65986931e-06 1.14159193e-03 1.77040038e-05\n",
            " 7.81994080e-04 5.32210242e-06 3.38091655e-03 7.83976517e-04\n",
            " 2.80697667e-03 6.11039996e-03 8.11828475e-04 3.18857870e-04\n",
            " 7.11095869e-04 6.13348675e-04 1.81553641e-03 9.99999762e-01\n",
            " 1.01670732e-04 1.75105897e-03 5.64746791e-04 1.54039729e-03\n",
            " 2.70704762e-03 5.35595813e-04 1.00000000e+00 1.00000000e+00\n",
            " 1.36197297e-04 7.78112793e-04 1.00000000e+00 1.00000000e+00\n",
            " 2.04203371e-03 9.99999642e-01 8.06459633e-04 5.14085754e-04\n",
            " 9.99999881e-01 7.35337101e-03 5.93704954e-06 8.04655429e-04\n",
            " 1.00000000e+00 1.53264191e-05 1.58025523e-05 7.39318284e-06\n",
            " 1.14998347e-05 1.00000000e+00 9.99999881e-01 2.42499867e-03\n",
            " 5.50395998e-05 9.99998927e-01 7.48697785e-05 1.00000000e+00\n",
            " 4.98361405e-05 4.28123079e-04 9.99999881e-01 1.00000000e+00\n",
            " 3.58374370e-03 1.00000000e+00 9.99999762e-01 1.00000000e+00\n",
            " 2.95604276e-03 6.91141213e-06 1.41386465e-06 1.00000000e+00\n",
            " 9.99999881e-01 1.00000000e+00 5.67931728e-03 6.80399244e-04\n",
            " 1.00000000e+00 9.99999762e-01 7.12717418e-04 1.00000000e+00\n",
            " 2.49054057e-08 6.44958112e-04 1.04534801e-03 6.49389229e-04\n",
            " 1.00000000e+00 4.07505874e-03 1.00000000e+00 1.09575399e-06\n",
            " 1.00000000e+00 9.99999642e-01 3.42090461e-05 1.00000000e+00\n",
            " 2.50993999e-05 7.70685612e-04 7.00027915e-04 5.34225022e-04\n",
            " 6.08696864e-05 1.29846390e-04 5.97943133e-03 7.47805135e-03\n",
            " 9.99999881e-01 6.78725832e-04 9.50123649e-06 1.01670732e-04\n",
            " 1.00000000e+00 8.17654596e-04 7.59904913e-04 4.94178105e-03\n",
            " 2.96440395e-03 1.00000000e+00 1.00000000e+00 1.00000000e+00\n",
            " 1.09429027e-04 6.62098231e-04 1.10174415e-05 9.99999881e-01]\n",
            "y_pred [0 0 1 0 0 0 1 0 0 0 0 1 0 1 1 0 0 0 0 0 0 0 0 0 0 0 0 0 0 0 0 1 0 0 0 0 0\n",
            " 0 1 1 0 0 1 1 0 1 0 0 1 0 0 0 1 0 0 0 0 1 1 0 0 1 0 1 0 0 1 1 0 1 1 1 0 0\n",
            " 0 1 1 1 0 0 1 1 0 1 0 0 0 0 1 0 1 0 1 1 0 1 0 0 0 0 0 0 0 0 1 0 0 0 1 0 0\n",
            " 0 0 1 1 1 0 0 0 1]\n",
            "4/4 [==============================] - 0s 1ms/step - loss: 0.1349 - accuracy: 0.9500\n",
            "Train loss: 0.13490308821201324\n",
            "Train accuracy: 0.949999988079071\n"
          ],
          "name": "stdout"
        }
      ]
    },
    {
      "cell_type": "code",
      "metadata": {
        "id": "4Y_M6gQVuvCW"
      },
      "source": [
        ""
      ],
      "execution_count": null,
      "outputs": []
    },
    {
      "cell_type": "markdown",
      "metadata": {
        "id": "J34PutHJuvCW"
      },
      "source": [
        "Functional API\n",
        "---\n",
        "を使った多値分類"
      ]
    },
    {
      "cell_type": "code",
      "metadata": {
        "id": "6rl5RTq3uvCW",
        "outputId": "09bfd581-28d6-4dbf-feb1-207600e288fa"
      },
      "source": [
        "input_data = tf.keras.layers.Input(shape=(X_train_m.shape[1],)) # 入力層\n",
        "x_1 = tf.keras.layers.Dense(10, activation=tf.nn.relu)(input_data)#1層目\n",
        "x_2 = tf.keras.layers.Dense(10, activation=tf.nn.relu)(x_1)#2層目\n",
        "output = tf.keras.layers.Dense(3, activation=tf.nn.softmax)(x_2) # 出力層\n",
        "\n",
        "\n",
        "model = tf.keras.Model(inputs=input_data, outputs=output)\n",
        "\n",
        "model.summary()\n",
        "model.compile(loss='categorical_crossentropy',\n",
        "              optimizer=tf.optimizers.Adam(learning_rate=0.01),\n",
        "              metrics=['categorical_accuracy'])\n",
        "\n",
        "history = model.fit(X_train_m, y_train_m,                  # トレーニングデータ\n",
        "                    epochs=10,                        # トレーニングの回数\n",
        "                    batch_size=30,                     # 勾配更新ごとのサンプル数\n",
        "                    verbose=1,                         # 進行状況の表示（0：非表示、1,2：表示）\n",
        "                    validation_data=(X_val_m, y_val_m))"
      ],
      "execution_count": null,
      "outputs": [
        {
          "output_type": "stream",
          "text": [
            "Model: \"model_44\"\n",
            "_________________________________________________________________\n",
            "Layer (type)                 Output Shape              Param #   \n",
            "=================================================================\n",
            "input_45 (InputLayer)        [(None, 4)]               0         \n",
            "_________________________________________________________________\n",
            "dense_230 (Dense)            (None, 10)                50        \n",
            "_________________________________________________________________\n",
            "dense_231 (Dense)            (None, 10)                110       \n",
            "_________________________________________________________________\n",
            "dense_232 (Dense)            (None, 3)                 33        \n",
            "=================================================================\n",
            "Total params: 193\n",
            "Trainable params: 193\n",
            "Non-trainable params: 0\n",
            "_________________________________________________________________\n",
            "Epoch 1/10\n",
            "4/4 [==============================] - 0s 52ms/step - loss: 1.6259 - categorical_accuracy: 0.3378 - val_loss: 1.5953 - val_categorical_accuracy: 0.2000\n",
            "Epoch 2/10\n",
            "4/4 [==============================] - 0s 11ms/step - loss: 1.3609 - categorical_accuracy: 0.3200 - val_loss: 1.2840 - val_categorical_accuracy: 0.2000\n",
            "Epoch 3/10\n",
            "4/4 [==============================] - 0s 11ms/step - loss: 1.0875 - categorical_accuracy: 0.3833 - val_loss: 1.1683 - val_categorical_accuracy: 0.2000\n",
            "Epoch 4/10\n",
            "4/4 [==============================] - 0s 11ms/step - loss: 1.0905 - categorical_accuracy: 0.3689 - val_loss: 1.1019 - val_categorical_accuracy: 0.1667\n",
            "Epoch 5/10\n",
            "4/4 [==============================] - 0s 11ms/step - loss: 1.0791 - categorical_accuracy: 0.3222 - val_loss: 1.0578 - val_categorical_accuracy: 0.4333\n",
            "Epoch 6/10\n",
            "4/4 [==============================] - 0s 11ms/step - loss: 1.0640 - categorical_accuracy: 0.3200 - val_loss: 1.0221 - val_categorical_accuracy: 0.7000\n",
            "Epoch 7/10\n",
            "4/4 [==============================] - 0s 11ms/step - loss: 1.0381 - categorical_accuracy: 0.5211 - val_loss: 0.9903 - val_categorical_accuracy: 0.8000\n",
            "Epoch 8/10\n",
            "4/4 [==============================] - 0s 12ms/step - loss: 0.9991 - categorical_accuracy: 0.6500 - val_loss: 0.9518 - val_categorical_accuracy: 0.8333\n",
            "Epoch 9/10\n",
            "4/4 [==============================] - 0s 11ms/step - loss: 0.9517 - categorical_accuracy: 0.6967 - val_loss: 0.9078 - val_categorical_accuracy: 0.8000\n",
            "Epoch 10/10\n",
            "4/4 [==============================] - 0s 11ms/step - loss: 0.8868 - categorical_accuracy: 0.7578 - val_loss: 0.8578 - val_categorical_accuracy: 0.6000\n"
          ],
          "name": "stdout"
        }
      ]
    },
    {
      "cell_type": "code",
      "metadata": {
        "id": "nZ1_gW9nuvCX"
      },
      "source": [
        ""
      ],
      "execution_count": null,
      "outputs": []
    },
    {
      "cell_type": "code",
      "metadata": {
        "id": "w3wi42zwuvCX"
      },
      "source": [
        ""
      ],
      "execution_count": null,
      "outputs": []
    },
    {
      "cell_type": "code",
      "metadata": {
        "id": "JVdowU0AuvCX"
      },
      "source": [
        ""
      ],
      "execution_count": null,
      "outputs": []
    },
    {
      "cell_type": "code",
      "metadata": {
        "id": "1UkO4HUYuvCX"
      },
      "source": [
        ""
      ],
      "execution_count": null,
      "outputs": []
    }
  ]
}