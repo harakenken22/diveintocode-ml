{
 "cells": [
  {
   "cell_type": "code",
   "execution_count": 24,
   "metadata": {},
   "outputs": [
    {
     "name": "stdout",
     "output_type": "stream",
     "text": [
      "個数1267650600228229401496703205376\n"
     ]
    }
   ],
   "source": [
    "RICE = 1\n",
    "Days = 100\n",
    "Number_rice = RICE*2**100\n",
    "print(\"個数{}\".format(Number_rice))\n",
    "\n"
   ]
  },
  {
   "cell_type": "code",
   "execution_count": 30,
   "metadata": {},
   "outputs": [
    {
     "name": "stdout",
     "output_type": "stream",
     "text": [
      "厚さ： 1267650600228229401496703205376メートル\n",
      "------\n",
      "リスト\n",
      "[1, 2, 4, 8, 16, 32, 64, 128, 256, 512, 1024, 2048, 4096, 8192, 16384, 32768, 65536, 131072, 262144, 524288, 1048576, 2097152, 4194304, 8388608, 16777216, 33554432, 67108864, 134217728, 268435456, 536870912, 1073741824, 2147483648, 4294967296, 8589934592, 17179869184, 34359738368, 68719476736, 137438953472, 274877906944, 549755813888, 1099511627776, 2199023255552, 4398046511104, 8796093022208, 17592186044416, 35184372088832, 70368744177664, 140737488355328, 281474976710656, 562949953421312, 1125899906842624, 2251799813685248, 4503599627370496, 9007199254740992, 18014398509481984, 36028797018963968, 72057594037927936, 144115188075855872, 288230376151711744, 576460752303423488, 1152921504606846976, 2305843009213693952, 4611686018427387904, 9223372036854775808, 18446744073709551616, 36893488147419103232, 73786976294838206464, 147573952589676412928, 295147905179352825856, 590295810358705651712, 1180591620717411303424, 2361183241434822606848, 4722366482869645213696, 9444732965739290427392, 18889465931478580854784, 37778931862957161709568, 75557863725914323419136, 151115727451828646838272, 302231454903657293676544, 604462909807314587353088, 1208925819614629174706176, 2417851639229258349412352, 4835703278458516698824704, 9671406556917033397649408, 19342813113834066795298816, 38685626227668133590597632, 77371252455336267181195264, 154742504910672534362390528, 309485009821345068724781056, 618970019642690137449562112, 1237940039285380274899124224, 2475880078570760549798248448, 4951760157141521099596496896, 9903520314283042199192993792, 19807040628566084398385987584, 39614081257132168796771975168, 79228162514264337593543950336, 158456325028528675187087900672, 316912650057057350374175801344, 633825300114114700748351602688, 1267650600228229401496703205376]\n",
      "[]\n"
     ]
    }
   ],
   "source": [
    "\"\"\"\n",
    "もらった数のリスト\n",
    "\n",
    "\"\"\"\n",
    "RICE = 1\n",
    "Days = 100\n",
    "number_rice = RICE*2**100\n",
    "number_rice_list = [RICE]\n",
    "\n",
    "for i in range(Days):\n",
    "    number_rice_list.append(number_rice_list[-1]*2)\n",
    "    \n",
    "print(\"厚さ： {}メートル\".format(number_rice_list[-1])) # 問題1と同じ値になることを確認\n",
    "print(\"------\")\n",
    "print(\"リスト\")\n",
    "print(number_rice_list)\n",
    "print(cumulative_total_number_rice)"
   ]
  },
  {
   "cell_type": "code",
   "execution_count": 36,
   "metadata": {},
   "outputs": [],
   "source": [
    "\"\"\"\n",
    "累計のリスト\n",
    "\n",
    "\"\"\"\n",
    "import itertools\n",
    "import operator\n",
    "\n",
    "RICE = 1\n",
    "Days = 100\n",
    "number_rice = RICE*2**100\n",
    "\n",
    "number_rice_list = [RICE]\n",
    "for i in range(Days):\n",
    "    number_rice_list.append(number_rice_list[-1]*2)\n",
    "\n",
    "for i in itertools.accumulate(number_rice_list):\n",
    "    cumulative_total_number_rice = list(itertools.accumulate(number_rice_list))\n",
    "#     print(cumulative_total_number_rice)\n",
    "\n",
    "# print(\"厚さ： {}メートル\".format(number_rice_list[-1])) # 問題1と同じ値になることを確認\n",
    "# print(\"------\")\n",
    "# print(\"リスト\")\n",
    "# print(number_rice_list)\n",
    "# print(cumulative_total_number_rice)"
   ]
  },
  {
   "cell_type": "code",
   "execution_count": 38,
   "metadata": {},
   "outputs": [
    {
     "data": {
      "image/png": "[encoded data removed]",
      "text/plain": [
       "<Figure size 432x288 with 1 Axes>"
      ]
     },
     "metadata": {
      "needs_background": "light"
     },
     "output_type": "display_data"
    },
    {
     "data": {
      "image/png": "[encoded data removed]",
      "text/plain": [
       "<Figure size 432x288 with 1 Axes>"
      ]
     },
     "metadata": {
      "needs_background": "light"
     },
     "output_type": "display_data"
    }
   ],
   "source": [
    "import matplotlib.pyplot as plt\n",
    "%matplotlib inline\n",
    "\n",
    "plt.title(\"amount of rice\")\n",
    "plt.xlabel(\"amount of rice a day\")\n",
    "plt.ylabel(\"amount of rice[piece]\")\n",
    "plt.plot(number_rice_list, marker='o') # 「リスト名」のところにリストの変数名を入れる\n",
    "plt.show()\n",
    "\n",
    "plt.title(\"amount of rice\")\n",
    "plt.xlabel(\"amount of rice a day\")\n",
    "plt.ylabel(\"amount of rice[piece]\")\n",
    "plt.plot(cumulative_total_number_rice, marker='*') # 「リスト名」のところにリストの変数名を入れる\n",
    "plt.show()"
   ]
  },
  {
   "cell_type": "code",
   "execution_count": 51,
   "metadata": {},
   "outputs": [
    {
     "name": "stdout",
     "output_type": "stream",
     "text": [
      "[1, 3, 7, 15, 31, 63, 127, 255, 511, 1023, 2047]\n"
     ]
    }
   ],
   "source": [
    "import itertools\n",
    "import operator\n",
    "\n",
    "\n",
    "\n",
    "def compute_sorori_shinzaemon(day):\n",
    "    RICE = 1\n",
    "    number_rice_list = [RICE]\n",
    "    for i in range(day):\n",
    "        number_rice_list.append(number_rice_list[-1]*2)\n",
    "    for i in itertools.accumulate(number_rice_list):\n",
    "        cumulative_total_number_rice = list(itertools.accumulate(number_rice_list))\n",
    "    return cumulative_total_number_rice\n",
    "#         print(cumulative_total_number_rice)\n",
    "    \n",
    "    \n",
    "print(compute_sorori_shinzaemon(10))\n",
    "    \n",
    "# \"\"\"\n",
    "#     曽呂利新左衛門の米の逸話を検証する関数。日にちごとの米の粒の数を計算する。\n",
    "\n",
    "#     Parameteres\n",
    "#     --------------\n",
    "#     day: int\n",
    "#         米を貰う日数 (default : 100)\n",
    "\n",
    "#     Returns\n",
    "#     --------------\n",
    "#     list_n_grains : list\n",
    "#         ある日に貰う米の数のリスト（リストの長さはdayに等しくなる）\n",
    "#     list_total_grains : list\n",
    "#         ある日までに累計で貰う米の数のリスト（リストの長さはdayに等しくなる）\n",
    "# \"\"\"\n",
    "\n",
    "\n",
    "    \n",
    "    \n",
    "    \n",
    "    \n",
    "#     pass\n",
    "#     return list_n_grains, list_total_grains\n",
    "# list_n_grains, list_total_grains = compute_sorori_shinzaemon(day=10)"
   ]
  },
  {
   "cell_type": "code",
   "execution_count": null,
   "metadata": {},
   "outputs": [],
   "source": []
  },
  {
   "cell_type": "code",
   "execution_count": null,
   "metadata": {},
   "outputs": [],
   "source": []
  },
  {
   "cell_type": "code",
   "execution_count": null,
   "metadata": {},
   "outputs": [],
   "source": []
  }
 ],
 "metadata": {
  "kernelspec": {
   "display_name": "Python 3",
   "language": "python",
   "name": "python3"
  },
  "language_info": {
   "codemirror_mode": {
    "name": "ipython",
    "version": 3
   },
   "file_extension": ".py",
   "mimetype": "text/x-python",
   "name": "python",
   "nbconvert_exporter": "python",
   "pygments_lexer": "ipython3",
   "version": "3.8.3"
  }
 },
 "nbformat": 4,
 "nbformat_minor": 4
}
