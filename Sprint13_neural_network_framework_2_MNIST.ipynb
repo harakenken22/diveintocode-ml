{
  "nbformat": 4,
  "nbformat_minor": 0,
  "metadata": {
    "kernelspec": {
      "display_name": "Python 3",
      "language": "python",
      "name": "python3"
    },
    "language_info": {
      "codemirror_mode": {
        "name": "ipython",
        "version": 3
      },
      "file_extension": ".py",
      "mimetype": "text/x-python",
      "name": "python",
      "nbconvert_exporter": "python",
      "pygments_lexer": "ipython3",
      "version": "3.8.3"
    },
    "colab": {
      "name": "Sprint13_neural_network_framework_2_MNIST.ipynb",
      "provenance": [],
      "include_colab_link": true
    }
  },
  "cells": [
    {
      "cell_type": "markdown",
      "metadata": {
        "id": "view-in-github",
        "colab_type": "text"
      },
      "source": [
        "<a href=\"https://colab.research.google.com/github/harakenken22/diveintocode-ml/blob/master/Sprint13_neural_network_framework_2_MNIST.ipynb\" target=\"_parent\"><img src=\"https://colab.research.google.com/assets/colab-badge.svg\" alt=\"Open In Colab\"/></a>"
      ]
    },
    {
      "cell_type": "code",
      "metadata": {
        "id": "2QtAttXAu1HP"
      },
      "source": [
        "import numpy as np\n",
        "import pandas as pd\n",
        "from sklearn.model_selection import train_test_split\n",
        "import tensorflow as tf\n",
        "from keras.datasets import mnist\n",
        "(X_train, y_train), (X_test, y_test) = mnist.load_data()"
      ],
      "execution_count": null,
      "outputs": []
    },
    {
      "cell_type": "code",
      "metadata": {
        "id": "nnDavmIVu1HU",
        "outputId": "0eb53369-75ef-4ff7-b657-458193aea509"
      },
      "source": [
        "X_train.shape"
      ],
      "execution_count": null,
      "outputs": [
        {
          "output_type": "execute_result",
          "data": {
            "text/plain": [
              "(60000, 28, 28)"
            ]
          },
          "metadata": {
            "tags": []
          },
          "execution_count": 16
        }
      ]
    },
    {
      "cell_type": "code",
      "metadata": {
        "id": "5lG51w1Pu1HV"
      },
      "source": [
        "# X_train = X_train.reshape(-1, 784)\n",
        "# X_test = X_test.reshape(-1, 784)"
      ],
      "execution_count": null,
      "outputs": []
    },
    {
      "cell_type": "code",
      "metadata": {
        "id": "bfUcTnoBu1HW",
        "outputId": "ee2cd76c-aa0d-4809-d1c8-b744ff08c543"
      },
      "source": [
        "y_train.shape"
      ],
      "execution_count": null,
      "outputs": [
        {
          "output_type": "execute_result",
          "data": {
            "text/plain": [
              "(60000,)"
            ]
          },
          "metadata": {
            "tags": []
          },
          "execution_count": 18
        }
      ]
    },
    {
      "cell_type": "code",
      "metadata": {
        "id": "MF4DmQOyu1HW",
        "outputId": "ad95bba8-f9c5-4669-af73-d7047735125b"
      },
      "source": [
        "X_train.shape[1]"
      ],
      "execution_count": null,
      "outputs": [
        {
          "output_type": "execute_result",
          "data": {
            "text/plain": [
              "28"
            ]
          },
          "metadata": {
            "tags": []
          },
          "execution_count": 19
        }
      ]
    },
    {
      "cell_type": "code",
      "metadata": {
        "id": "cbbZ-FEQu1HW",
        "outputId": "9174517d-a522-4eff-93f6-8d9c5fa1c7aa"
      },
      "source": [
        "from sklearn.preprocessing import OneHotEncoder\n",
        "enc = OneHotEncoder(handle_unknown='ignore', sparse=False)\n",
        "y_train_one_hot = enc.fit_transform(y_train[:, np.newaxis])\n",
        "y_test_one_hot = enc.transform(y_test[:, np.newaxis])\n",
        "print(y_train.shape) # (60000,)\n",
        "print(y_train_one_hot.shape) # (60000, 10)\n",
        "print(y_train_one_hot.dtype) # float64"
      ],
      "execution_count": null,
      "outputs": [
        {
          "output_type": "stream",
          "text": [
            "(60000,)\n",
            "(60000, 10)\n",
            "float64\n"
          ],
          "name": "stdout"
        }
      ]
    },
    {
      "cell_type": "code",
      "metadata": {
        "id": "_qVmvmBfu1HX",
        "outputId": "a4f73c53-ce9a-43fa-a70d-9062d355c93f"
      },
      "source": [
        "X_train_shape = X_train.reshape(-1,28,28,1)\n",
        "X_train_shape.shape\n",
        "X_train_shape = X_train_shape.shape[1:]\n",
        "X_train_shape"
      ],
      "execution_count": null,
      "outputs": [
        {
          "output_type": "execute_result",
          "data": {
            "text/plain": [
              "(28, 28, 1)"
            ]
          },
          "metadata": {
            "tags": []
          },
          "execution_count": 46
        }
      ]
    },
    {
      "cell_type": "code",
      "metadata": {
        "id": "yPJwQI3au1HX",
        "outputId": "1bea85be-f7c5-4d93-b4e3-d8a4b3649a7c"
      },
      "source": [
        "input_data = tf.keras.layers.Input(shape=X_train_shape) # 入力層\n",
        "# hidden = tf.keras.layers.Reshape((28, 28, 1), input_shape=(28,28))(input_data)\n",
        "x_1 = tf.keras.layers.Conv2D(128, (3,3), activation='relu')(input_data)\n",
        "x_2 = tf.keras.layers.Flatten()(x_1)\n",
        "x_3 = tf.keras.layers.Dense(128, activation=tf.nn.relu)(x_2)#1層目\n",
        "x_4 = tf.keras.layers.Dense(64, activation=tf.nn.relu)(x_3)#2層目\n",
        "x_5 = tf.keras.layers.Dense(32, activation=tf.nn.relu)(x_4)\n",
        "\n",
        "output = tf.keras.layers.Dense(10, activation=tf.nn.softmax)(x_5) # 出力層\n",
        "\n",
        "model = tf.keras.Model(inputs=input_data, outputs=output)\n",
        "\n",
        "model.summary()\n",
        "model.compile(loss='categorical_crossentropy',\n",
        "              optimizer=tf.optimizers.Adam(learning_rate=0.01),\n",
        "              metrics=['categorical_accuracy'])\n",
        "\n",
        "history = model.fit(X_train.reshape(-1,28,28,1), y_train_one_hot,                  # トレーニングデータ\n",
        "                    epochs=10,                        # トレーニングの回数\n",
        "                    batch_size=300,                     # 勾配更新ごとのサンプル数\n",
        "                    verbose=1,                         # 進行状況の表示（0：非表示、1,2：表示）\n",
        "                    validation_data=(X_test, y_test_one_hot))"
      ],
      "execution_count": null,
      "outputs": [
        {
          "output_type": "stream",
          "text": [
            "Model: \"model_13\"\n",
            "_________________________________________________________________\n",
            "Layer (type)                 Output Shape              Param #   \n",
            "=================================================================\n",
            "input_23 (InputLayer)        [(None, 28, 28, 1)]       0         \n",
            "_________________________________________________________________\n",
            "conv2d_17 (Conv2D)           (None, 26, 26, 128)       1280      \n",
            "_________________________________________________________________\n",
            "flatten_3 (Flatten)          (None, 86528)             0         \n",
            "_________________________________________________________________\n",
            "dense_61 (Dense)             (None, 128)               11075712  \n",
            "_________________________________________________________________\n",
            "dense_62 (Dense)             (None, 64)                8256      \n",
            "_________________________________________________________________\n",
            "dense_63 (Dense)             (None, 32)                2080      \n",
            "_________________________________________________________________\n",
            "dense_64 (Dense)             (None, 10)                330       \n",
            "=================================================================\n",
            "Total params: 11,087,658\n",
            "Trainable params: 11,087,658\n",
            "Non-trainable params: 0\n",
            "_________________________________________________________________\n",
            "Epoch 1/10\n",
            "200/200 [==============================] - 34s 167ms/step - loss: 53.9902 - categorical_accuracy: 0.4876 - val_loss: 0.3053 - val_categorical_accuracy: 0.9164\n",
            "Epoch 2/10\n",
            "200/200 [==============================] - 34s 172ms/step - loss: 0.2408 - categorical_accuracy: 0.9290 - val_loss: 0.2391 - val_categorical_accuracy: 0.9285\n",
            "Epoch 3/10\n",
            "200/200 [==============================] - 34s 169ms/step - loss: 0.1782 - categorical_accuracy: 0.9459 - val_loss: 0.2646 - val_categorical_accuracy: 0.9328\n",
            "Epoch 4/10\n",
            "200/200 [==============================] - 34s 169ms/step - loss: 0.1345 - categorical_accuracy: 0.9575 - val_loss: 0.2553 - val_categorical_accuracy: 0.9287\n",
            "Epoch 5/10\n",
            "200/200 [==============================] - 34s 171ms/step - loss: 0.1338 - categorical_accuracy: 0.9591 - val_loss: 0.3141 - val_categorical_accuracy: 0.9312\n",
            "Epoch 6/10\n",
            "200/200 [==============================] - 35s 173ms/step - loss: 0.1250 - categorical_accuracy: 0.9617 - val_loss: 0.2398 - val_categorical_accuracy: 0.9403\n",
            "Epoch 7/10\n",
            "200/200 [==============================] - 35s 175ms/step - loss: 0.1014 - categorical_accuracy: 0.9685 - val_loss: 0.2631 - val_categorical_accuracy: 0.9349\n",
            "Epoch 8/10\n",
            "200/200 [==============================] - 35s 173ms/step - loss: 0.1044 - categorical_accuracy: 0.9692 - val_loss: 0.2675 - val_categorical_accuracy: 0.9424\n",
            "Epoch 9/10\n",
            "200/200 [==============================] - 34s 171ms/step - loss: 0.0835 - categorical_accuracy: 0.9741 - val_loss: 0.2512 - val_categorical_accuracy: 0.9437\n",
            "Epoch 10/10\n",
            "200/200 [==============================] - 35s 177ms/step - loss: 0.0906 - categorical_accuracy: 0.9725 - val_loss: 0.2612 - val_categorical_accuracy: 0.9387\n"
          ],
          "name": "stdout"
        }
      ]
    },
    {
      "cell_type": "code",
      "metadata": {
        "id": "sbI2DXcCu1HY"
      },
      "source": [
        ""
      ],
      "execution_count": null,
      "outputs": []
    }
  ]
}