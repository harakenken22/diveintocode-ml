{
 "cells": [
  {
   "cell_type": "code",
   "execution_count": 10,
   "metadata": {},
   "outputs": [
    {
     "name": "stdout",
     "output_type": "stream",
     "text": [
      "0.00016\n",
      "0.00032\n",
      "0.00064\n",
      "0.00128\n",
      "0.00256\n",
      "0.00512\n",
      "0.01024\n",
      "0.02048\n",
      "0.04096\n",
      "0.08192\n",
      "0.16384\n",
      "0.32768\n",
      "0.65536\n",
      "1.31072\n",
      "2.62144\n",
      "5.24288\n",
      "10.48576\n",
      "20.97152\n",
      "41.94304\n",
      "83.88608\n",
      "167.77216\n",
      "335.54432\n",
      "671.08864\n",
      "1342.17728\n",
      "2684.35456\n",
      "5368.70912\n",
      "26\n"
     ]
    }
   ],
   "source": [
    "THICKNESS = 0.00008\n",
    "times = 43\n",
    "FUJI = 3776\n",
    "\n",
    "folded_thickness = THICKNESS\n",
    "folded_thickness_times = 0\n",
    "while (folded_thickness < FUJI):\n",
    "    folded_thickness = (folded_thickness*2)\n",
    "    folded_thickness_times +=1\n",
    "    print(folded_thickness)\n",
    "print(folded_thickness_times)"
   ]
  },
  {
   "cell_type": "code",
   "execution_count": 16,
   "metadata": {},
   "outputs": [
    {
     "name": "stdout",
     "output_type": "stream",
     "text": [
      "0.012\n",
      "0.024\n",
      "0.048\n",
      "0.096\n",
      "0.192\n",
      "0.384\n",
      "0.768\n",
      "1.536\n",
      "3.072\n",
      "6.144\n",
      "12.288\n",
      "24.576\n",
      "49.152\n",
      "98.304\n"
     ]
    },
    {
     "data": {
      "text/plain": [
       "14"
      ]
     },
     "execution_count": 16,
     "metadata": {},
     "output_type": "execute_result"
    }
   ],
   "source": [
    "def mt_fuji(distance, thickness):\n",
    "    folded_thickness = thickness\n",
    "    folded_thickness_times = 0\n",
    "    while (folded_thickness < distance):\n",
    "        folded_thickness = (folded_thickness*2)\n",
    "        folded_thickness_times +=1\n",
    "        print(folded_thickness)\n",
    "    return folded_thickness_times\n",
    "mt_fuji(50, 0.006)\n",
    "# print(folded_thickness_times)\n",
    "# thickness = 0.00008\n",
    "# times = 43\n",
    "# FUJI = 3776\n",
    "\n"
   ]
  },
  {
   "cell_type": "code",
   "execution_count": 30,
   "metadata": {},
   "outputs": [
    {
     "name": "stdout",
     "output_type": "stream",
     "text": [
      "0.00012\n",
      "0.00024\n",
      "0.00048\n",
      "0.00096\n",
      "0.00192\n",
      "0.00384\n",
      "0.00768\n",
      "0.01536\n",
      "0.03072\n",
      "0.06144\n",
      "0.12288\n",
      "0.24576\n",
      "0.49152\n",
      "0.98304\n",
      "1.96608\n",
      "3.93216\n",
      "7.86432\n",
      "15.72864\n",
      "31.45728\n",
      "19\n"
     ]
    },
    {
     "data": {
      "text/plain": [
       "11514124.724997738"
      ]
     },
     "execution_count": 30,
     "metadata": {},
     "output_type": "execute_result"
    }
   ],
   "source": [
    "import math\n",
    "def peper_length(distance, thickness):\n",
    "    times= mt_fuji(distance, thickness) \n",
    "    print(times)\n",
    "    L = math.pi*TICKNESS*(2**times + 4)*(2**times - 1)/6\n",
    "    return L\n",
    "peper_length(27, 0.00006)\n"
   ]
  },
  {
   "cell_type": "code",
   "execution_count": null,
   "metadata": {},
   "outputs": [],
   "source": []
  },
  {
   "cell_type": "code",
   "execution_count": null,
   "metadata": {},
   "outputs": [],
   "source": []
  },
  {
   "cell_type": "code",
   "execution_count": null,
   "metadata": {},
   "outputs": [],
   "source": []
  }
 ],
 "metadata": {
  "kernelspec": {
   "display_name": "Python 3",
   "language": "python",
   "name": "python3"
  },
  "language_info": {
   "codemirror_mode": {
    "name": "ipython",
    "version": 3
   },
   "file_extension": ".py",
   "mimetype": "text/x-python",
   "name": "python",
   "nbconvert_exporter": "python",
   "pygments_lexer": "ipython3",
   "version": "3.8.3"
  }
 },
 "nbformat": 4,
 "nbformat_minor": 4
}
