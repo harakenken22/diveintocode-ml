{
 "cells": [
  {
   "cell_type": "code",
   "execution_count": 25,
   "metadata": {},
   "outputs": [
    {
     "name": "stdout",
     "output_type": "stream",
     "text": [
      "26\n"
     ]
    }
   ],
   "source": [
    "THICKNESS = 0.00008\n",
    "times = 43\n",
    "FUJI = 3776\n",
    "\n",
    "folded_thickness = THICKNESS\n",
    "folded_thickness_times = 0\n",
    "while (folded_thickness < FUJI):\n",
    "    folded_thickness = (folded_thickness*2)\n",
    "    folded_thickness_times +=1\n",
    "#     print(folded_thickness)\n",
    "print(folded_thickness_times)"
   ]
  },
  {
   "cell_type": "code",
   "execution_count": 26,
   "metadata": {},
   "outputs": [
    {
     "data": {
      "text/plain": [
       "14"
      ]
     },
     "execution_count": 26,
     "metadata": {},
     "output_type": "execute_result"
    }
   ],
   "source": [
    "def times_number(distance, thickness):\n",
    "    folded_thickness = thickness\n",
    "    folded_thickness_times = 0\n",
    "    while (folded_thickness < distance):\n",
    "        folded_thickness = (folded_thickness*2)\n",
    "        folded_thickness_times +=1\n",
    "#         print(folded_thickness)\n",
    "    return folded_thickness_times\n",
    "times_number(50, 0.006)\n",
    "# print(folded_thickness_times)\n",
    "# thickness = 0.00008\n",
    "# times = 43\n",
    "# FUJI = 3776\n",
    "\n"
   ]
  },
  {
   "cell_type": "code",
   "execution_count": 27,
   "metadata": {},
   "outputs": [
    {
     "data": {
      "text/plain": [
       "11514124.724997738"
      ]
     },
     "execution_count": 27,
     "metadata": {},
     "output_type": "execute_result"
    }
   ],
   "source": [
    "import math\n",
    "def peper_length(distance, thickness):\n",
    "    THICKNESS = 0.00008\n",
    "    times= times_number(distance, thickness) \n",
    "#     print(times)\n",
    "    L = math.pi*THICKNESS*(2**times + 4)*(2**times - 1)/6\n",
    "    return L\n",
    "peper_length(27, 0.00006)\n"
   ]
  },
  {
   "cell_type": "markdown",
   "metadata": {},
   "source": [
    "問題３\n",
    "---\n",
    "\n",
    ">プロキシマ・ケンタウリ　40兆㎞\n",
    "40000000000000000"
   ]
  },
  {
   "cell_type": "code",
   "execution_count": 29,
   "metadata": {},
   "outputs": [
    {
     "name": "stdout",
     "output_type": "stream",
     "text": [
      "紙の長さは3240919444170781229056.0mです。\n",
      "紙の長さは58383214404401391934359025273188384768.0mです。\n"
     ]
    }
   ],
   "source": [
    "moon = 384400000\n",
    "kentauri = 40000000000000000\n",
    "\n",
    "print('紙の長さは{:.1f}mです。'.format(peper_length(moon, 0.00006)))\n",
    "print('紙の長さは{:.1f}mです。'.format(peper_length(kentauri, 0.00006)))\n"
   ]
  },
  {
   "cell_type": "code",
   "execution_count": null,
   "metadata": {},
   "outputs": [],
   "source": []
  }
 ],
 "metadata": {
  "kernelspec": {
   "display_name": "Python 3",
   "language": "python",
   "name": "python3"
  },
  "language_info": {
   "codemirror_mode": {
    "name": "ipython",
    "version": 3
   },
   "file_extension": ".py",
   "mimetype": "text/x-python",
   "name": "python",
   "nbconvert_exporter": "python",
   "pygments_lexer": "ipython3",
   "version": "3.8.3"
  }
 },
 "nbformat": 4,
 "nbformat_minor": 4
}
