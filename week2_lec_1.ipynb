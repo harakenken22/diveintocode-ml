{
 "cells": [
  {
   "cell_type": "code",
   "execution_count": 10,
   "metadata": {},
   "outputs": [],
   "source": [
    "import numpy as np\n",
    "from scipy.stats import multivariate_normal\n",
    "import matplotlib.pyplot as plt"
   ]
  },
  {
   "cell_type": "markdown",
   "metadata": {},
   "source": [
    "問題1】1次関数\n",
    "---\n",
    "$x$ が-50から50の範囲で次の式を考えます。"
   ]
  },
  {
   "cell_type": "code",
   "execution_count": 20,
   "metadata": {},
   "outputs": [
    {
     "data": {
      "text/plain": [
       "array([-50. , -49.9, -49.8, ...,  49.8,  49.9,  50. ])"
      ]
     },
     "execution_count": 20,
     "metadata": {},
     "output_type": "execute_result"
    }
   ],
   "source": [
    "initial = -50\n",
    "\n",
    "number_list = [-50]\n",
    "for _ in range(1, 1001):\n",
    "    number_list.append(number_list[-1]+0.1)\n",
    "\n",
    "number_list = np.array(number_list)\n",
    "np.set_printoptions(precision=1)\n",
    "\n",
    "number_list\n",
    "\n",
    "    "
   ]
  },
  {
   "cell_type": "code",
   "execution_count": 29,
   "metadata": {},
   "outputs": [
    {
     "data": {
      "text/plain": [
       "array([-24. , -23.9, -23.9, ...,  25.9,  26. ,  26. ])"
      ]
     },
     "execution_count": 29,
     "metadata": {},
     "output_type": "execute_result"
    }
   ],
   "source": [
    "number_y_list = []\n",
    "for x in number_list:\n",
    "    y = x/2 + 1\n",
    "    number_y_list.append(y)\n",
    "# print(number_y_list)\n",
    "\n",
    "number_y_list = np.array(number_y_list)\n",
    "np.set_printoptions(precision=1)\n",
    "\n",
    "number_y_list"
   ]
  },
  {
   "cell_type": "code",
   "execution_count": 36,
   "metadata": {},
   "outputs": [],
   "source": [
    "number_list_reshape = number_list.reshape(-1, 1)\n",
    "number_y_list_reshape = number_y_list.reshape(-1, 1)\n",
    "concatemate_number = np.concatenate([number_list_reshape,number_y_list_reshape], axis=1)"
   ]
  },
  {
   "cell_type": "code",
   "execution_count": 37,
   "metadata": {},
   "outputs": [
    {
     "data": {
      "text/plain": [
       "(1001, 2)"
      ]
     },
     "execution_count": 37,
     "metadata": {},
     "output_type": "execute_result"
    }
   ],
   "source": [
    "concatemate_number.shape"
   ]
  },
  {
   "cell_type": "code",
   "execution_count": 44,
   "metadata": {},
   "outputs": [],
   "source": [
    "# xの変化量\n",
    "number_list_reshape_slice_1 = number_list_reshape[1:, 0]\n",
    "number_list_reshape_slice_2 = number_list_reshape[:-1, 0]\n",
    "# yの変化量\n",
    "number_y_list_reshape_slice_1 = number_y_list_reshape[1:, 3]\n",
    "number_y_list_reshape_slice_2 = number_y_list_reshape[:-1, 3]\n",
    "\n",
    "# 変化量の計算\n",
    "number_y_list_reshape_slice_xchanges = number_list_reshape_slice_2 - number_list_reshape_slice_1\n",
    "number_y_list_reshape_slice_7changes = number_y_list_reshape_slice_2 - number_y_list_reshape_slice_1\n",
    "\n",
    "# 勾配\n",
    "\n",
    "range_dgree = number_y_list_reshape_slice_7changes/number_y_list_reshape_slice_xchanges\n"
   ]
  },
  {
   "cell_type": "code",
   "execution_count": 45,
   "metadata": {},
   "outputs": [
    {
     "name": "stderr",
     "output_type": "stream",
     "text": [
      "No handles with labels found to put in legend.\n"
     ]
    },
    {
     "data": {
      "image/png": "[encoded data removed]",
      "text/plain": [
       "<Figure size 432x288 with 1 Axes>"
      ]
     },
     "metadata": {
      "needs_background": "light"
     },
     "output_type": "display_data"
    }
   ],
   "source": [
    "plt.title(\"koubai\")\n",
    "plt.xlabel(\"number\")\n",
    "plt.ylabel(\"numner_2\")\n",
    "plt.plot(concatemate_number[0], concatemate_number[1], color = \"orange\", marker='o')\n",
    "plt.legend()\n",
    "plt.show()"
   ]
  },
  {
   "cell_type": "code",
   "execution_count": null,
   "metadata": {},
   "outputs": [],
   "source": []
  }
 ],
 "metadata": {
  "kernelspec": {
   "display_name": "Python 3",
   "language": "python",
   "name": "python3"
  },
  "language_info": {
   "codemirror_mode": {
    "name": "ipython",
    "version": 3
   },
   "file_extension": ".py",
   "mimetype": "text/x-python",
   "name": "python",
   "nbconvert_exporter": "python",
   "pygments_lexer": "ipython3",
   "version": "3.8.3"
  }
 },
 "nbformat": 4,
 "nbformat_minor": 4
}
