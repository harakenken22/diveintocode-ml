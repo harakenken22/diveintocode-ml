{
 "cells": [
  {
   "cell_type": "code",
   "execution_count": 2,
   "metadata": {},
   "outputs": [],
   "source": [
    "import numpy as np\n",
    "from scipy.stats import multivariate_normal\n",
    "import matplotlib.pyplot as plt"
   ]
  },
  {
   "cell_type": "code",
   "execution_count": null,
   "metadata": {},
   "outputs": [],
   "source": []
  },
  {
   "cell_type": "markdown",
   "metadata": {},
   "source": [
    "問題1】1次関数\n",
    "---\n",
    "$x$ が-50から50の範囲で次の式を考えます。"
   ]
  },
  {
   "cell_type": "code",
   "execution_count": 3,
   "metadata": {},
   "outputs": [
    {
     "data": {
      "text/plain": [
       "array([-50. , -49.9, -49.8, ...,  49.8,  49.9,  50. ])"
      ]
     },
     "execution_count": 3,
     "metadata": {},
     "output_type": "execute_result"
    }
   ],
   "source": [
    "initial = -50\n",
    "\n",
    "number_list = [-50]\n",
    "for _ in range(1, 1001):\n",
    "    number_list.append(number_list[-1]+0.1)\n",
    "\n",
    "number_list = np.array(number_list)\n",
    "np.set_printoptions(precision=1)\n",
    "\n",
    "number_list\n",
    "\n",
    "    "
   ]
  },
  {
   "cell_type": "code",
   "execution_count": 4,
   "metadata": {},
   "outputs": [
    {
     "data": {
      "text/plain": [
       "array([-24. , -23.9, -23.9, ...,  25.9,  26. ,  26. ])"
      ]
     },
     "execution_count": 4,
     "metadata": {},
     "output_type": "execute_result"
    }
   ],
   "source": [
    "number_y_list = []\n",
    "for x in number_list:\n",
    "    y = x/2 + 1\n",
    "    number_y_list.append(y)\n",
    "# print(number_y_list)\n",
    "\n",
    "number_y_list = np.array(number_y_list)\n",
    "np.set_printoptions(precision=1)\n",
    "\n",
    "number_y_list"
   ]
  },
  {
   "cell_type": "markdown",
   "metadata": {},
   "source": [
    "【問題2】配列の結合\n",
    "---\n",
    ">問題1で作成したndarrayを結合し、(1001, 2)の形の配列にしてください。0列目にx、1列目にyが来るようにします。"
   ]
  },
  {
   "cell_type": "code",
   "execution_count": 5,
   "metadata": {},
   "outputs": [],
   "source": [
    "number_list_reshape = number_list.reshape(-1, 1)\n",
    "number_y_list_reshape = number_y_list.reshape(-1, 1)\n",
    "concatemate_number = np.concatenate([number_list_reshape,number_y_list_reshape], axis=1)"
   ]
  },
  {
   "cell_type": "code",
   "execution_count": 22,
   "metadata": {},
   "outputs": [
    {
     "data": {
      "text/plain": [
       "(1001, 2)"
      ]
     },
     "execution_count": 22,
     "metadata": {},
     "output_type": "execute_result"
    }
   ],
   "source": [
    "concatemate_number.shape"
   ]
  },
  {
   "cell_type": "markdown",
   "metadata": {},
   "source": [
    "【問題3】勾配を求める\n",
    "---\n",
    ">各x座標における勾配を求めます。ここで勾配はyの変化量をxの変化量で割ることで計算します。"
   ]
  },
  {
   "cell_type": "code",
   "execution_count": 27,
   "metadata": {},
   "outputs": [
    {
     "data": {
      "text/plain": [
       "array([-2.4e+01, -2.4e+01, -2.4e+01, -2.4e+01, -2.4e+01, -2.4e+01,\n",
       "       -2.4e+01, -2.4e+01, -2.4e+01, -2.3e+01, -2.3e+01, -2.3e+01,\n",
       "       -2.3e+01, -2.3e+01, -2.3e+01, -2.3e+01, -2.3e+01, -2.3e+01,\n",
       "       -2.3e+01, -2.3e+01, -2.3e+01, -2.3e+01, -2.3e+01, -2.3e+01,\n",
       "       -2.3e+01, -2.3e+01, -2.3e+01, -2.3e+01, -2.3e+01, -2.2e+01,\n",
       "       -2.2e+01, -2.2e+01, -2.2e+01, -2.2e+01, -2.2e+01, -2.2e+01,\n",
       "       -2.2e+01, -2.2e+01, -2.2e+01, -2.2e+01, -2.2e+01, -2.2e+01,\n",
       "       -2.2e+01, -2.2e+01, -2.2e+01, -2.2e+01, -2.2e+01, -2.2e+01,\n",
       "       -2.2e+01, -2.1e+01, -2.1e+01, -2.1e+01, -2.1e+01, -2.1e+01,\n",
       "       -2.1e+01, -2.1e+01, -2.1e+01, -2.1e+01, -2.1e+01, -2.1e+01,\n",
       "       -2.1e+01, -2.1e+01, -2.1e+01, -2.1e+01, -2.1e+01, -2.1e+01,\n",
       "       -2.1e+01, -2.1e+01, -2.1e+01, -2.0e+01, -2.0e+01, -2.0e+01,\n",
       "       -2.0e+01, -2.0e+01, -2.0e+01, -2.0e+01, -2.0e+01, -2.0e+01,\n",
       "       -2.0e+01, -2.0e+01, -2.0e+01, -2.0e+01, -2.0e+01, -2.0e+01,\n",
       "       -2.0e+01, -2.0e+01, -2.0e+01, -2.0e+01, -2.0e+01, -1.9e+01,\n",
       "       -1.9e+01, -1.9e+01, -1.9e+01, -1.9e+01, -1.9e+01, -1.9e+01,\n",
       "       -1.9e+01, -1.9e+01, -1.9e+01, -1.9e+01, -1.9e+01, -1.9e+01,\n",
       "       -1.9e+01, -1.9e+01, -1.9e+01, -1.9e+01, -1.9e+01, -1.9e+01,\n",
       "       -1.9e+01, -1.8e+01, -1.8e+01, -1.8e+01, -1.8e+01, -1.8e+01,\n",
       "       -1.8e+01, -1.8e+01, -1.8e+01, -1.8e+01, -1.8e+01, -1.8e+01,\n",
       "       -1.8e+01, -1.8e+01, -1.8e+01, -1.8e+01, -1.8e+01, -1.8e+01,\n",
       "       -1.8e+01, -1.8e+01, -1.8e+01, -1.7e+01, -1.7e+01, -1.7e+01,\n",
       "       -1.7e+01, -1.7e+01, -1.7e+01, -1.7e+01, -1.7e+01, -1.7e+01,\n",
       "       -1.7e+01, -1.7e+01, -1.7e+01, -1.7e+01, -1.7e+01, -1.7e+01,\n",
       "       -1.7e+01, -1.7e+01, -1.7e+01, -1.7e+01, -1.7e+01, -1.6e+01,\n",
       "       -1.6e+01, -1.6e+01, -1.6e+01, -1.6e+01, -1.6e+01, -1.6e+01,\n",
       "       -1.6e+01, -1.6e+01, -1.6e+01, -1.6e+01, -1.6e+01, -1.6e+01,\n",
       "       -1.6e+01, -1.6e+01, -1.6e+01, -1.6e+01, -1.6e+01, -1.6e+01,\n",
       "       -1.6e+01, -1.5e+01, -1.5e+01, -1.5e+01, -1.5e+01, -1.5e+01,\n",
       "       -1.5e+01, -1.5e+01, -1.5e+01, -1.5e+01, -1.5e+01, -1.5e+01,\n",
       "       -1.5e+01, -1.5e+01, -1.5e+01, -1.5e+01, -1.5e+01, -1.5e+01,\n",
       "       -1.5e+01, -1.5e+01, -1.5e+01, -1.4e+01, -1.4e+01, -1.4e+01,\n",
       "       -1.4e+01, -1.4e+01, -1.4e+01, -1.4e+01, -1.4e+01, -1.4e+01,\n",
       "       -1.4e+01, -1.4e+01, -1.4e+01, -1.4e+01, -1.4e+01, -1.4e+01,\n",
       "       -1.4e+01, -1.4e+01, -1.4e+01, -1.4e+01, -1.4e+01, -1.3e+01,\n",
       "       -1.3e+01, -1.3e+01, -1.3e+01, -1.3e+01, -1.3e+01, -1.3e+01,\n",
       "       -1.3e+01, -1.3e+01, -1.3e+01, -1.3e+01, -1.3e+01, -1.3e+01,\n",
       "       -1.3e+01, -1.3e+01, -1.3e+01, -1.3e+01, -1.3e+01, -1.3e+01,\n",
       "       -1.3e+01, -1.2e+01, -1.2e+01, -1.2e+01, -1.2e+01, -1.2e+01,\n",
       "       -1.2e+01, -1.2e+01, -1.2e+01, -1.2e+01, -1.2e+01, -1.2e+01,\n",
       "       -1.2e+01, -1.2e+01, -1.2e+01, -1.2e+01, -1.2e+01, -1.2e+01,\n",
       "       -1.2e+01, -1.2e+01, -1.2e+01, -1.1e+01, -1.1e+01, -1.1e+01,\n",
       "       -1.1e+01, -1.1e+01, -1.1e+01, -1.1e+01, -1.1e+01, -1.1e+01,\n",
       "       -1.1e+01, -1.1e+01, -1.1e+01, -1.1e+01, -1.1e+01, -1.1e+01,\n",
       "       -1.1e+01, -1.1e+01, -1.1e+01, -1.1e+01, -1.1e+01, -1.0e+01,\n",
       "       -1.0e+01, -1.0e+01, -1.0e+01, -1.0e+01, -1.0e+01, -1.0e+01,\n",
       "       -1.0e+01, -1.0e+01, -1.0e+01, -1.0e+01, -9.9e+00, -9.9e+00,\n",
       "       -9.8e+00, -9.8e+00, -9.7e+00, -9.7e+00, -9.6e+00, -9.6e+00,\n",
       "       -9.5e+00, -9.5e+00, -9.4e+00, -9.4e+00, -9.3e+00, -9.3e+00,\n",
       "       -9.2e+00, -9.2e+00, -9.1e+00, -9.1e+00, -9.0e+00, -9.0e+00,\n",
       "       -8.9e+00, -8.9e+00, -8.8e+00, -8.8e+00, -8.7e+00, -8.7e+00,\n",
       "       -8.6e+00, -8.6e+00, -8.5e+00, -8.5e+00, -8.4e+00, -8.4e+00,\n",
       "       -8.3e+00, -8.3e+00, -8.2e+00, -8.2e+00, -8.1e+00, -8.1e+00,\n",
       "       -8.0e+00, -8.0e+00, -7.9e+00, -7.9e+00, -7.8e+00, -7.8e+00,\n",
       "       -7.7e+00, -7.7e+00, -7.6e+00, -7.6e+00, -7.5e+00, -7.5e+00,\n",
       "       -7.4e+00, -7.4e+00, -7.3e+00, -7.3e+00, -7.2e+00, -7.2e+00,\n",
       "       -7.1e+00, -7.1e+00, -7.0e+00, -7.0e+00, -6.9e+00, -6.9e+00,\n",
       "       -6.8e+00, -6.8e+00, -6.7e+00, -6.7e+00, -6.6e+00, -6.6e+00,\n",
       "       -6.5e+00, -6.5e+00, -6.4e+00, -6.4e+00, -6.3e+00, -6.3e+00,\n",
       "       -6.2e+00, -6.2e+00, -6.1e+00, -6.1e+00, -6.0e+00, -6.0e+00,\n",
       "       -5.9e+00, -5.9e+00, -5.8e+00, -5.8e+00, -5.7e+00, -5.7e+00,\n",
       "       -5.6e+00, -5.6e+00, -5.5e+00, -5.5e+00, -5.4e+00, -5.4e+00,\n",
       "       -5.3e+00, -5.3e+00, -5.2e+00, -5.2e+00, -5.1e+00, -5.1e+00,\n",
       "       -5.0e+00, -5.0e+00, -4.9e+00, -4.9e+00, -4.8e+00, -4.8e+00,\n",
       "       -4.7e+00, -4.7e+00, -4.6e+00, -4.6e+00, -4.5e+00, -4.5e+00,\n",
       "       -4.4e+00, -4.4e+00, -4.3e+00, -4.3e+00, -4.2e+00, -4.2e+00,\n",
       "       -4.1e+00, -4.1e+00, -4.0e+00, -4.0e+00, -3.9e+00, -3.9e+00,\n",
       "       -3.8e+00, -3.8e+00, -3.7e+00, -3.7e+00, -3.6e+00, -3.6e+00,\n",
       "       -3.5e+00, -3.5e+00, -3.4e+00, -3.4e+00, -3.3e+00, -3.3e+00,\n",
       "       -3.2e+00, -3.2e+00, -3.1e+00, -3.1e+00, -3.0e+00, -3.0e+00,\n",
       "       -2.9e+00, -2.9e+00, -2.8e+00, -2.8e+00, -2.7e+00, -2.7e+00,\n",
       "       -2.6e+00, -2.6e+00, -2.5e+00, -2.5e+00, -2.4e+00, -2.4e+00,\n",
       "       -2.3e+00, -2.3e+00, -2.2e+00, -2.2e+00, -2.1e+00, -2.1e+00,\n",
       "       -2.0e+00, -2.0e+00, -1.9e+00, -1.9e+00, -1.8e+00, -1.8e+00,\n",
       "       -1.7e+00, -1.7e+00, -1.6e+00, -1.6e+00, -1.5e+00, -1.5e+00,\n",
       "       -1.4e+00, -1.4e+00, -1.3e+00, -1.3e+00, -1.2e+00, -1.2e+00,\n",
       "       -1.1e+00, -1.1e+00, -1.0e+00, -1.0e+00, -9.5e-01, -9.0e-01,\n",
       "       -8.5e-01, -8.0e-01, -7.5e-01, -7.0e-01, -6.5e-01, -6.0e-01,\n",
       "       -5.5e-01, -5.0e-01, -4.5e-01, -4.0e-01, -3.5e-01, -3.0e-01,\n",
       "       -2.5e-01, -2.0e-01, -1.5e-01, -1.0e-01, -5.0e-02,  2.2e-13,\n",
       "        5.0e-02,  1.0e-01,  1.5e-01,  2.0e-01,  2.5e-01,  3.0e-01,\n",
       "        3.5e-01,  4.0e-01,  4.5e-01,  5.0e-01,  5.5e-01,  6.0e-01,\n",
       "        6.5e-01,  7.0e-01,  7.5e-01,  8.0e-01,  8.5e-01,  9.0e-01,\n",
       "        9.5e-01,  1.0e+00,  1.1e+00,  1.1e+00,  1.2e+00,  1.2e+00,\n",
       "        1.3e+00,  1.3e+00,  1.4e+00,  1.4e+00,  1.5e+00,  1.5e+00,\n",
       "        1.6e+00,  1.6e+00,  1.7e+00,  1.7e+00,  1.8e+00,  1.8e+00,\n",
       "        1.9e+00,  1.9e+00,  2.0e+00,  2.0e+00,  2.1e+00,  2.1e+00,\n",
       "        2.2e+00,  2.2e+00,  2.3e+00,  2.3e+00,  2.4e+00,  2.4e+00,\n",
       "        2.5e+00,  2.5e+00,  2.6e+00,  2.6e+00,  2.7e+00,  2.7e+00,\n",
       "        2.8e+00,  2.8e+00,  2.9e+00,  2.9e+00,  3.0e+00,  3.0e+00,\n",
       "        3.1e+00,  3.1e+00,  3.2e+00,  3.2e+00,  3.3e+00,  3.3e+00,\n",
       "        3.4e+00,  3.4e+00,  3.5e+00,  3.5e+00,  3.6e+00,  3.6e+00,\n",
       "        3.7e+00,  3.7e+00,  3.8e+00,  3.8e+00,  3.9e+00,  3.9e+00,\n",
       "        4.0e+00,  4.0e+00,  4.1e+00,  4.1e+00,  4.2e+00,  4.2e+00,\n",
       "        4.3e+00,  4.3e+00,  4.4e+00,  4.4e+00,  4.5e+00,  4.5e+00,\n",
       "        4.6e+00,  4.6e+00,  4.7e+00,  4.7e+00,  4.8e+00,  4.8e+00,\n",
       "        4.9e+00,  4.9e+00,  5.0e+00,  5.0e+00,  5.1e+00,  5.1e+00,\n",
       "        5.2e+00,  5.2e+00,  5.3e+00,  5.3e+00,  5.4e+00,  5.4e+00,\n",
       "        5.5e+00,  5.5e+00,  5.6e+00,  5.6e+00,  5.7e+00,  5.7e+00,\n",
       "        5.8e+00,  5.8e+00,  5.9e+00,  5.9e+00,  6.0e+00,  6.0e+00,\n",
       "        6.1e+00,  6.1e+00,  6.2e+00,  6.2e+00,  6.3e+00,  6.3e+00,\n",
       "        6.4e+00,  6.4e+00,  6.5e+00,  6.5e+00,  6.6e+00,  6.6e+00,\n",
       "        6.7e+00,  6.7e+00,  6.8e+00,  6.8e+00,  6.9e+00,  6.9e+00,\n",
       "        7.0e+00,  7.0e+00,  7.1e+00,  7.1e+00,  7.2e+00,  7.2e+00,\n",
       "        7.3e+00,  7.3e+00,  7.4e+00,  7.4e+00,  7.5e+00,  7.5e+00,\n",
       "        7.6e+00,  7.6e+00,  7.7e+00,  7.7e+00,  7.8e+00,  7.8e+00,\n",
       "        7.9e+00,  7.9e+00,  8.0e+00,  8.0e+00,  8.1e+00,  8.1e+00,\n",
       "        8.2e+00,  8.2e+00,  8.3e+00,  8.3e+00,  8.4e+00,  8.4e+00,\n",
       "        8.5e+00,  8.5e+00,  8.6e+00,  8.6e+00,  8.7e+00,  8.7e+00,\n",
       "        8.8e+00,  8.8e+00,  8.9e+00,  8.9e+00,  9.0e+00,  9.0e+00,\n",
       "        9.1e+00,  9.1e+00,  9.2e+00,  9.2e+00,  9.3e+00,  9.3e+00,\n",
       "        9.4e+00,  9.4e+00,  9.5e+00,  9.5e+00,  9.6e+00,  9.6e+00,\n",
       "        9.7e+00,  9.7e+00,  9.8e+00,  9.8e+00,  9.9e+00,  9.9e+00,\n",
       "        1.0e+01,  1.0e+01,  1.0e+01,  1.0e+01,  1.0e+01,  1.0e+01,\n",
       "        1.0e+01,  1.0e+01,  1.0e+01,  1.0e+01,  1.0e+01,  1.1e+01,\n",
       "        1.1e+01,  1.1e+01,  1.1e+01,  1.1e+01,  1.1e+01,  1.1e+01,\n",
       "        1.1e+01,  1.1e+01,  1.1e+01,  1.1e+01,  1.1e+01,  1.1e+01,\n",
       "        1.1e+01,  1.1e+01,  1.1e+01,  1.1e+01,  1.1e+01,  1.1e+01,\n",
       "        1.1e+01,  1.2e+01,  1.2e+01,  1.2e+01,  1.2e+01,  1.2e+01,\n",
       "        1.2e+01,  1.2e+01,  1.2e+01,  1.2e+01,  1.2e+01,  1.2e+01,\n",
       "        1.2e+01,  1.2e+01,  1.2e+01,  1.2e+01,  1.2e+01,  1.2e+01,\n",
       "        1.2e+01,  1.2e+01,  1.2e+01,  1.3e+01,  1.3e+01,  1.3e+01,\n",
       "        1.3e+01,  1.3e+01,  1.3e+01,  1.3e+01,  1.3e+01,  1.3e+01,\n",
       "        1.3e+01,  1.3e+01,  1.3e+01,  1.3e+01,  1.3e+01,  1.3e+01,\n",
       "        1.3e+01,  1.3e+01,  1.3e+01,  1.3e+01,  1.3e+01,  1.4e+01,\n",
       "        1.4e+01,  1.4e+01,  1.4e+01,  1.4e+01,  1.4e+01,  1.4e+01,\n",
       "        1.4e+01,  1.4e+01,  1.4e+01,  1.4e+01,  1.4e+01,  1.4e+01,\n",
       "        1.4e+01,  1.4e+01,  1.4e+01,  1.4e+01,  1.4e+01,  1.4e+01,\n",
       "        1.4e+01,  1.5e+01,  1.5e+01,  1.5e+01,  1.5e+01,  1.5e+01,\n",
       "        1.5e+01,  1.5e+01,  1.5e+01,  1.5e+01,  1.5e+01,  1.5e+01,\n",
       "        1.5e+01,  1.5e+01,  1.5e+01,  1.5e+01,  1.5e+01,  1.5e+01,\n",
       "        1.5e+01,  1.5e+01,  1.5e+01,  1.6e+01,  1.6e+01,  1.6e+01,\n",
       "        1.6e+01,  1.6e+01,  1.6e+01,  1.6e+01,  1.6e+01,  1.6e+01,\n",
       "        1.6e+01,  1.6e+01,  1.6e+01,  1.6e+01,  1.6e+01,  1.6e+01,\n",
       "        1.6e+01,  1.6e+01,  1.6e+01,  1.6e+01,  1.6e+01,  1.7e+01,\n",
       "        1.7e+01,  1.7e+01,  1.7e+01,  1.7e+01,  1.7e+01,  1.7e+01,\n",
       "        1.7e+01,  1.7e+01,  1.7e+01,  1.7e+01,  1.7e+01,  1.7e+01,\n",
       "        1.7e+01,  1.7e+01,  1.7e+01,  1.7e+01,  1.7e+01,  1.7e+01,\n",
       "        1.7e+01,  1.8e+01,  1.8e+01,  1.8e+01,  1.8e+01,  1.8e+01,\n",
       "        1.8e+01,  1.8e+01,  1.8e+01,  1.8e+01,  1.8e+01,  1.8e+01,\n",
       "        1.8e+01,  1.8e+01,  1.8e+01,  1.8e+01,  1.8e+01,  1.8e+01,\n",
       "        1.8e+01,  1.8e+01,  1.8e+01,  1.9e+01,  1.9e+01,  1.9e+01,\n",
       "        1.9e+01,  1.9e+01,  1.9e+01,  1.9e+01,  1.9e+01,  1.9e+01,\n",
       "        1.9e+01,  1.9e+01,  1.9e+01,  1.9e+01,  1.9e+01,  1.9e+01,\n",
       "        1.9e+01,  1.9e+01,  1.9e+01,  1.9e+01,  1.9e+01,  2.0e+01,\n",
       "        2.0e+01,  2.0e+01,  2.0e+01,  2.0e+01,  2.0e+01,  2.0e+01,\n",
       "        2.0e+01,  2.0e+01,  2.0e+01,  2.0e+01,  2.0e+01,  2.0e+01,\n",
       "        2.0e+01,  2.0e+01,  2.0e+01,  2.0e+01,  2.0e+01,  2.0e+01,\n",
       "        2.0e+01,  2.1e+01,  2.1e+01,  2.1e+01,  2.1e+01,  2.1e+01,\n",
       "        2.1e+01,  2.1e+01,  2.1e+01,  2.1e+01,  2.1e+01,  2.1e+01,\n",
       "        2.1e+01,  2.1e+01,  2.1e+01,  2.1e+01,  2.1e+01,  2.1e+01,\n",
       "        2.1e+01,  2.1e+01,  2.1e+01,  2.2e+01,  2.2e+01,  2.2e+01,\n",
       "        2.2e+01,  2.2e+01,  2.2e+01,  2.2e+01,  2.2e+01,  2.2e+01,\n",
       "        2.2e+01,  2.2e+01,  2.2e+01,  2.2e+01,  2.2e+01,  2.2e+01,\n",
       "        2.2e+01,  2.2e+01,  2.2e+01,  2.2e+01,  2.2e+01,  2.3e+01,\n",
       "        2.3e+01,  2.3e+01,  2.3e+01,  2.3e+01,  2.3e+01,  2.3e+01,\n",
       "        2.3e+01,  2.3e+01,  2.3e+01,  2.3e+01,  2.3e+01,  2.3e+01,\n",
       "        2.3e+01,  2.3e+01,  2.3e+01,  2.3e+01,  2.3e+01,  2.3e+01,\n",
       "        2.3e+01,  2.4e+01,  2.4e+01,  2.4e+01,  2.4e+01,  2.4e+01,\n",
       "        2.4e+01,  2.4e+01,  2.4e+01,  2.4e+01,  2.4e+01,  2.4e+01,\n",
       "        2.4e+01,  2.4e+01,  2.4e+01,  2.4e+01,  2.4e+01,  2.4e+01,\n",
       "        2.4e+01,  2.4e+01,  2.4e+01,  2.5e+01,  2.5e+01,  2.5e+01,\n",
       "        2.5e+01,  2.5e+01,  2.5e+01,  2.5e+01,  2.5e+01,  2.5e+01,\n",
       "        2.5e+01,  2.5e+01,  2.5e+01,  2.5e+01,  2.5e+01,  2.5e+01,\n",
       "        2.5e+01,  2.5e+01,  2.5e+01,  2.5e+01,  2.5e+01,  2.6e+01,\n",
       "        2.6e+01,  2.6e+01,  2.6e+01,  2.6e+01,  2.6e+01,  2.6e+01,\n",
       "        2.6e+01,  2.6e+01,  2.6e+01,  2.6e+01])"
      ]
     },
     "execution_count": 27,
     "metadata": {},
     "output_type": "execute_result"
    }
   ],
   "source": [
    "# xの変化量\n",
    "number_list_reshape_slice_1 = number_list_reshape[1:, 0]\n",
    "number_list_reshape_slice_2 = number_list_reshape[:-1, 0]\n",
    "# yの変化量\n",
    "number_y_list_reshape_slice_1 = number_y_list_reshape[1:, 0]\n",
    "number_y_list_reshape_slice_2 = number_y_list_reshape[:-1, 0]\n",
    "\n",
    "# 変化量の計算\n",
    "number_y_list_reshape_slice_xchanges = number_list_reshape_slice_2 - number_list_reshape_slice_1\n",
    "number_y_list_reshape_slice_7changes = number_y_list_reshape_slice_2 - number_y_list_reshape_slice_1\n",
    "\n",
    "# 勾配\n",
    "\n",
    "range_dgree = number_y_list_reshape_slice_7changes/number_y_list_reshape_slice_xchanges\n",
    "\n",
    "number_y_list_reshape[1:, 0]\n"
   ]
  },
  {
   "cell_type": "code",
   "execution_count": null,
   "metadata": {},
   "outputs": [],
   "source": []
  },
  {
   "cell_type": "markdown",
   "metadata": {},
   "source": [
    "【問題4】グラフを描く\n",
    "---\n",
    ">1次関数のグラフをMatplotlibを用いて描いてください。また、それとは別に横軸をx、縦軸を勾配としたグラフも描いてください。"
   ]
  },
  {
   "cell_type": "code",
   "execution_count": 29,
   "metadata": {},
   "outputs": [
    {
     "name": "stderr",
     "output_type": "stream",
     "text": [
      "No handles with labels found to put in legend.\n"
     ]
    },
    {
     "data": {
      "image/png": "[encoded data removed]",
      "text/plain": [
       "<Figure size 432x288 with 1 Axes>"
      ]
     },
     "metadata": {
      "needs_background": "light"
     },
     "output_type": "display_data"
    }
   ],
   "source": [
    "plt.title(\"koubai\")\n",
    "plt.xlabel(\"number\")\n",
    "plt.ylabel(\"numner_2\")\n",
    "plt.plot(concatemate_number[0], concatemate_number[1], color = \"orange\", marker='o')\n",
    "plt.legend()\n",
    "plt.show()"
   ]
  },
  {
   "cell_type": "markdown",
   "metadata": {},
   "source": [
    "【問題5】Pythonの関数化\n",
    "---\n",
    ">問題1から問題3までの範囲をまとめて行うPythonの関数を雛形を参考に作成してください。\n",
    "そして、以下の3式の勾配を0.1間隔で求めてndarrayで出力してください。\n",
    "\n",
    "<math xmlns=\"http://www.w3.org/1998/Math/MathML\" display=\"block\">\n",
    "  <mi>y</mi>\n",
    "  <mo>=</mo>\n",
    "  <msup>\n",
    "    <mi>x</mi>\n",
    "    <mrow class=\"MJX-TeXAtom-ORD\">\n",
    "      <mn>2</mn>\n",
    "    </mrow>\n",
    "  </msup>\n",
    "  <mspace width=\"1em\" />\n",
    "  <mo stretchy=\"false\">(</mo>\n",
    "  <mo>&#x2212;<!-- − --></mo>\n",
    "  <mn>50</mn>\n",
    "  <mo>&#x2264;<!-- ≤ --></mo>\n",
    "  <mi>x</mi>\n",
    "  <mo>&#x2264;<!-- ≤ --></mo>\n",
    "  <mn>50</mn>\n",
    "  <mo stretchy=\"false\">)</mo>\n",
    "  <mspace linebreak=\"newline\" />\n",
    "  <mi>y</mi>\n",
    "  <mo>=</mo>\n",
    "  <mn>2</mn>\n",
    "  <msup>\n",
    "    <mi>x</mi>\n",
    "    <mrow class=\"MJX-TeXAtom-ORD\">\n",
    "      <mn>2</mn>\n",
    "    </mrow>\n",
    "  </msup>\n",
    "  <mo>+</mo>\n",
    "  <msup>\n",
    "    <mn>2</mn>\n",
    "    <mrow class=\"MJX-TeXAtom-ORD\">\n",
    "      <mi>x</mi>\n",
    "    </mrow>\n",
    "  </msup>\n",
    "  <mspace width=\"1em\" />\n",
    "  <mo stretchy=\"false\">(</mo>\n",
    "  <mo>&#x2212;<!-- − --></mo>\n",
    "  <mn>50</mn>\n",
    "  <mo>&#x2264;<!-- ≤ --></mo>\n",
    "  <mi>x</mi>\n",
    "  <mo>&#x2264;<!-- ≤ --></mo>\n",
    "  <mn>50</mn>\n",
    "  <mo stretchy=\"false\">)</mo>\n",
    "  <mspace linebreak=\"newline\" />\n",
    "  <mi>y</mi>\n",
    "  <mo>=</mo>\n",
    "  <mi>s</mi>\n",
    "  <mi>i</mi>\n",
    "  <mi>n</mi>\n",
    "  <mo stretchy=\"false\">(</mo>\n",
    "  <msup>\n",
    "    <mi>x</mi>\n",
    "    <mrow class=\"MJX-TeXAtom-ORD\">\n",
    "      <mfrac>\n",
    "        <mn>1</mn>\n",
    "        <mn>2</mn>\n",
    "      </mfrac>\n",
    "    </mrow>\n",
    "  </msup>\n",
    "  <mo stretchy=\"false\">)</mo>\n",
    "  <mspace width=\"1em\" />\n",
    "  <mo stretchy=\"false\">(</mo>\n",
    "  <mn>0</mn>\n",
    "  <mo>&#x2264;<!-- ≤ --></mo>\n",
    "  <mi>x</mi>\n",
    "  <mo>&#x2264;<!-- ≤ --></mo>\n",
    "  <mn>50</mn>\n",
    "  <mo stretchy=\"false\">)</mo>\n",
    "</math>"
   ]
  },
  {
   "cell_type": "markdown",
   "metadata": {},
   "source": [
    ">複数の値を変数から使用する時、展開する必要がある。\n",
    "そのときには、\n",
    "タプル、リストのアンパックの基本\n",
    "ネストした（入れ子になった）タプル、リストのアンパック\n",
    "アンダースコア_を使ったアンパック\n",
    "アスタリスク*を使ったアンパック\n",
    "参考：https://note.nkmk.me/python-tuple-list-unpack/\n",
    "\n",
    "```\n",
    "x_range=(-50, 50.1, 0.1)\n",
    "array_x = np.arange(*x_range)\n",
    "```\n",
    "\n",
    ">Pythonでは、タプルやリストの要素を展開して複数の変数に代入することができる。シーケンスのアンパック (sequence unpacking) やアンパック代入などと呼ばれる。"
   ]
  },
  {
   "cell_type": "code",
   "execution_count": 38,
   "metadata": {},
   "outputs": [],
   "source": [
    "def compute_gradient(function, x_range=(-50, 50.1, 0.1)):\n",
    "    array_x = np.arange(*x_range)\n",
    "    array_y = function(array_x)\n",
    "    array_xy = np.concatenate((array_x[:, np.newaxis], array_y[:, np.newaxis]), axis=1)#新しい次元を追加\n",
    "    gradient = (array_xy[1:,1] - array_xy[:1, 1])/(array_xy[1:, 0] - array_xy[:-1, 0])#勾配を求めている\n",
    "    return array_xy, gradient"
   ]
  },
  {
   "cell_type": "code",
   "execution_count": 39,
   "metadata": {},
   "outputs": [
    {
     "data": {
      "image/png": "[encoded data removed]",
      "text/plain": [
       "<Figure size 432x288 with 1 Axes>"
      ]
     },
     "metadata": {
      "needs_background": "light"
     },
     "output_type": "display_data"
    }
   ],
   "source": [
    "def function_a(array_x):\n",
    "    return array_x**2\n",
    "array_xy2, gradient2 = compute_gradient(function_a)\n",
    "\n",
    "plt.title(\"y=x**2\")\n",
    "plt.xlabel(\"x\")\n",
    "plt.ylabel(\"y\")\n",
    "plt.plot(array_xy2[:, 0], array_xy2[:, 1])\n",
    "plt.show()\n"
   ]
  },
  {
   "cell_type": "code",
   "execution_count": 40,
   "metadata": {},
   "outputs": [
    {
     "name": "stdout",
     "output_type": "stream",
     "text": [
      "[-50.  -49.9 -49.8 ...  49.8  49.9  50. ]\n",
      "[5.0e+03 5.0e+03 5.0e+03 ... 9.8e+14 1.1e+15 1.1e+15]\n"
     ]
    },
    {
     "data": {
      "image/png": "[encoded data removed]",
      "text/plain": [
       "<Figure size 432x288 with 1 Axes>"
      ]
     },
     "metadata": {
      "needs_background": "light"
     },
     "output_type": "display_data"
    }
   ],
   "source": [
    "def function_b(array_x):\n",
    "    return 2*array_x**2 + 2**array_x\n",
    "array_xy3, gradient3 = compute_gradient(function_b)\n",
    "\n",
    "\n",
    "print(array_xy3[:, 0])\n",
    "print(array_xy3[:, 1])\n",
    "\n",
    "plt.title(\"y=2*x**2 + 2**x\")\n",
    "plt.xlabel(\"x\")\n",
    "plt.ylabel(\"y\")\n",
    "plt.plot(array_xy3[:, 0], array_xy3[:, 1])\n",
    "plt.show()"
   ]
  },
  {
   "cell_type": "code",
   "execution_count": 41,
   "metadata": {},
   "outputs": [
    {
     "data": {
      "image/png": "[encoded data removed]",
      "text/plain": [
       "<Figure size 432x288 with 1 Axes>"
      ]
     },
     "metadata": {
      "needs_background": "light"
     },
     "output_type": "display_data"
    },
    {
     "data": {
      "image/png": "[encoded data removed]",
      "text/plain": [
       "<Figure size 432x288 with 1 Axes>"
      ]
     },
     "metadata": {
      "needs_background": "light"
     },
     "output_type": "display_data"
    }
   ],
   "source": [
    "def function_c(array_x):\n",
    "    return np.sin(array_x**0.5)\n",
    "\n",
    "array_xy4, gradient4 = compute_gradient(function_c, x_range=(0, 50.1, 0.1))\n",
    "\n",
    "plt.title(\"y=sin(x**0.5)\")\n",
    "plt.xlabel(\"x\")\n",
    "plt.ylabel(\"y\")\n",
    "plt.plot(array_xy4[:, 0], array_xy4[:, 1])\n",
    "plt.show()\n",
    "\n",
    "plt.title(\"gradient of y=sin(x**0.5)\")\n",
    "plt.xlabel(\"x\")\n",
    "plt.ylabel(\"gradient\")\n",
    "plt.plot(array_xy4[:-1, 0], gradient4)\n",
    "plt.show()"
   ]
  },
  {
   "cell_type": "markdown",
   "metadata": {},
   "source": [
    "【問題6】最小値を求める\n",
    "---\n",
    ">問題5で扱った関数のyの最小値を求めます。xの範囲も問題5と同様とします。\n",
    "今回は勾配降下法ではなく、ndarrayのminメソッド、argminメソッドを用いてください。minメソッドは最小値を、argminメソッドは最小値のインデックスを取得することができます。\n",
    "また、最小のyをとる前後の勾配を表示してください。"
   ]
  },
  {
   "cell_type": "code",
   "execution_count": 42,
   "metadata": {},
   "outputs": [
    {
     "name": "stdout",
     "output_type": "stream",
     "text": [
      "5.048709793414476e-25 500\n",
      "0.9505505632959851 498\n",
      "-0.9999997540298113 222\n"
     ]
    }
   ],
   "source": [
    "print(array_xy2.min(axis=0)[1], array_xy2.argmin(axis=0)[1]) #yの最小値と最小値のインデックスをもとめている\n",
    "print(array_xy3.min(axis=0)[1], array_xy3.argmin(axis=0)[1])\n",
    "print(array_xy4.min(axis=0)[1], array_xy4.argmin(axis=0)[1])"
   ]
  },
  {
   "cell_type": "code",
   "execution_count": 43,
   "metadata": {},
   "outputs": [
    {
     "data": {
      "text/plain": [
       "array([-24998.4, -24999.1, -24999.6, -24999.9, -25000. , -24999.9,\n",
       "       -24999.6, -24999.1, -24998.4, -24997.5])"
      ]
     },
     "execution_count": 43,
     "metadata": {},
     "output_type": "execute_result"
    }
   ],
   "source": [
    "gradient2[495:505]#最小値のインデックスの勾配を＋−5を記載\n"
   ]
  },
  {
   "cell_type": "code",
   "execution_count": 44,
   "metadata": {},
   "outputs": [
    {
     "data": {
      "text/plain": [
       "array([-49986.2, -49987.9, -49989.2, -49990.1, -49990.5, -49990.5,\n",
       "       -49990. , -49989.1, -49987.7, -49985.9])"
      ]
     },
     "execution_count": 44,
     "metadata": {},
     "output_type": "execute_result"
    }
   ],
   "source": [
    "gradient3[493:503]"
   ]
  },
  {
   "cell_type": "code",
   "execution_count": 45,
   "metadata": {},
   "outputs": [
    {
     "data": {
      "text/plain": [
       "array([-10., -10., -10., -10., -10., -10., -10., -10., -10., -10.])"
      ]
     },
     "execution_count": 45,
     "metadata": {},
     "output_type": "execute_result"
    }
   ],
   "source": [
    "gradient4[217:227]"
   ]
  },
  {
   "cell_type": "code",
   "execution_count": null,
   "metadata": {},
   "outputs": [],
   "source": []
  }
 ],
 "metadata": {
  "kernelspec": {
   "display_name": "Python 3",
   "language": "python",
   "name": "python3"
  },
  "language_info": {
   "codemirror_mode": {
    "name": "ipython",
    "version": 3
   },
   "file_extension": ".py",
   "mimetype": "text/x-python",
   "name": "python",
   "nbconvert_exporter": "python",
   "pygments_lexer": "ipython3",
   "version": "3.8.3"
  }
 },
 "nbformat": 4,
 "nbformat_minor": 4
}
