{
 "cells": [
  {
   "cell_type": "code",
   "execution_count": 7,
   "metadata": {},
   "outputs": [],
   "source": [
    "import pandas as pd\n",
    "from sklearn.metrics import confusion_matrix, accuracy_score, precision_score, recall_score, f1_score\n",
    "import numpy as np\n",
    "from sklearn.metrics import confusion_matrix\n",
    "from pandas.plotting import scatter_matrix\n",
    "import itertools\n",
    "import matplotlib.pyplot as plt\n",
    "import seaborn as sns\n",
    "from sklearn.metrics import mean_squared_error\n",
    "from sklearn import metrics\n",
    "%matplotlib inline\n",
    "import scipy.stats as stats"
   ]
  },
  {
   "cell_type": "code",
   "execution_count": 8,
   "metadata": {},
   "outputs": [],
   "source": [
    "from sklearn.datasets import make_blobs\n",
    "X, _ = make_blobs(n_samples=100, n_features=2, centers=4, cluster_std=0.5, shuffle=True, random_state=0)"
   ]
  },
  {
   "cell_type": "code",
   "execution_count": 9,
   "metadata": {},
   "outputs": [
    {
     "data": {
      "text/plain": [
       "(100, 2)"
      ]
     },
     "execution_count": 9,
     "metadata": {},
     "output_type": "execute_result"
    }
   ],
   "source": [
    "X\n",
    "X.shape"
   ]
  },
  {
   "cell_type": "code",
   "execution_count": 10,
   "metadata": {},
   "outputs": [
    {
     "data": {
      "image/png": "[encoded data removed]",
      "text/plain": [
       "<Figure size 432x288 with 1 Axes>"
      ]
     },
     "metadata": {
      "needs_background": "light"
     },
     "output_type": "display_data"
    }
   ],
   "source": [
    "#可視化\n",
    "plt.scatter(X[:,0],X[:,1],c=\"black\",s=10,alpha=0.5)\n",
    "plt.show()"
   ]
  },
  {
   "cell_type": "markdown",
   "metadata": {},
   "source": [
    "【問題1】中心点の初期値を決める\n",
    "---\n",
    "入力されたデータから 𝐾 個の中心点 𝜇1 から 𝜇𝐾 の初期値を決めるコードを作成してください。𝐾 は指定したクラスタ数です。\n",
    "参考資料：\n"
   ]
  },
  {
   "cell_type": "code",
   "execution_count": 11,
   "metadata": {},
   "outputs": [
    {
     "name": "stdout",
     "output_type": "stream",
     "text": [
      "[[1.59141542 4.90497725]\n",
      " [1.85367905 1.5088862 ]\n",
      " [2.28809874 0.12954182]\n",
      " [0.802314   4.38196181]]\n"
     ]
    }
   ],
   "source": [
    "import random\n",
    "k = 4\n",
    "idx = np.random.randint(X.shape[0], size=k)\n",
    "centroids = X[idx,:]\n",
    "print(centroids)"
   ]
  },
  {
   "cell_type": "code",
   "execution_count": null,
   "metadata": {},
   "outputs": [],
   "source": []
  },
  {
   "cell_type": "markdown",
   "metadata": {},
   "source": [
    "【問題3】クラスタへの割り当て\n",
    "---\n",
    ">全てのデータ点 𝑋𝑛 を最も近い中心点 𝜇𝑘 に割り当てるコードを作成してください。\n",
    "K-menasにおける 近い とは点と点のユークリッド距離が小さくなることです。ユークリッド距離とはピタゴラスの定理（三平方の定理）で求められるものですが、ベクトル 𝑝,𝑞 に対しては以下の数式で表現できます。\n",
    "$\n",
    "\\|q-p\\| = \\sqrt{(q-p)\\cdot(q-p)}\n",
    "$"
   ]
  },
  {
   "cell_type": "markdown",
   "metadata": {},
   "source": [
    "NumPyにはこの関数が np.linalg.normとして用意されているため使用してください。\n",
    "https://www.medi-08-data-06.work/entry/kmeans"
   ]
  },
  {
   "cell_type": "code",
   "execution_count": 12,
   "metadata": {},
   "outputs": [
    {
     "ename": "NameError",
     "evalue": "name 'i' is not defined",
     "output_type": "error",
     "traceback": [
      "\u001b[0;31m---------------------------------------------------------------------------\u001b[0m",
      "\u001b[0;31mNameError\u001b[0m                                 Traceback (most recent call last)",
      "\u001b[0;32m<ipython-input-12-f469ec357e5b>\u001b[0m in \u001b[0;36m<module>\u001b[0;34m\u001b[0m\n\u001b[1;32m      1\u001b[0m \u001b[0;31m#距離の二乗が一番近い中心点のインデックスを返す。\u001b[0m\u001b[0;34m\u001b[0m\u001b[0;34m\u001b[0m\u001b[0;34m\u001b[0m\u001b[0m\n\u001b[0;32m----> 2\u001b[0;31m \u001b[0midx_min_linalg\u001b[0m \u001b[0;34m=\u001b[0m \u001b[0mnp\u001b[0m\u001b[0;34m.\u001b[0m\u001b[0mlinalg\u001b[0m\u001b[0;34m.\u001b[0m\u001b[0mnorm\u001b[0m\u001b[0;34m(\u001b[0m\u001b[0mX\u001b[0m\u001b[0;34m[\u001b[0m\u001b[0mi\u001b[0m\u001b[0;34m,\u001b[0m\u001b[0;34m:\u001b[0m\u001b[0;34m]\u001b[0m\u001b[0;34m-\u001b[0m\u001b[0mcentroids\u001b[0m\u001b[0;34m)\u001b[0m\u001b[0;34m\u001b[0m\u001b[0;34m\u001b[0m\u001b[0m\n\u001b[0m\u001b[1;32m      3\u001b[0m \u001b[0mprint\u001b[0m\u001b[0;34m(\u001b[0m\u001b[0midx_min_linalg\u001b[0m\u001b[0;34m)\u001b[0m\u001b[0;34m\u001b[0m\u001b[0;34m\u001b[0m\u001b[0m\n",
      "\u001b[0;31mNameError\u001b[0m: name 'i' is not defined"
     ]
    }
   ],
   "source": [
    "#距離の二乗が一番近い中心点のインデックスを返す。\n",
    "idx_min_linalg = np.linalg.norm(X[i,:]-centroids)\n",
    "print(idx_min_linalg)"
   ]
  },
  {
   "cell_type": "markdown",
   "metadata": {},
   "source": [
    "【問題4】中心点の移動\n",
    "---\n",
    ">中心点 𝜇𝑘 を 𝑘 番目のクラスタに割り当てられる全てのデータ点 𝑋𝑛 の平均値（重心）に移動するコードを作成してください。クラスタの割り当て 𝑟𝑛𝑘 を固定した上でSSEを最小化していることになりますが、SSE自体を求める必要はありません。"
   ]
  },
  {
   "cell_type": "code",
   "execution_count": 13,
   "metadata": {},
   "outputs": [
    {
     "ename": "IndexError",
     "evalue": "index 4 is out of bounds for axis 0 with size 4",
     "output_type": "error",
     "traceback": [
      "\u001b[0;31m---------------------------------------------------------------------------\u001b[0m",
      "\u001b[0;31mIndexError\u001b[0m                                Traceback (most recent call last)",
      "\u001b[0;32m<ipython-input-13-410b3a3e91ed>\u001b[0m in \u001b[0;36m<module>\u001b[0;34m\u001b[0m\n\u001b[1;32m      5\u001b[0m     \u001b[0midx_min\u001b[0m\u001b[0;34m[\u001b[0m\u001b[0mi\u001b[0m\u001b[0;34m]\u001b[0m \u001b[0;34m=\u001b[0m \u001b[0mnp\u001b[0m\u001b[0;34m.\u001b[0m\u001b[0margmin\u001b[0m\u001b[0;34m(\u001b[0m\u001b[0mnp\u001b[0m\u001b[0;34m.\u001b[0m\u001b[0msum\u001b[0m\u001b[0;34m(\u001b[0m\u001b[0;34m(\u001b[0m\u001b[0mX\u001b[0m\u001b[0;34m[\u001b[0m\u001b[0mi\u001b[0m\u001b[0;34m,\u001b[0m\u001b[0;34m:\u001b[0m\u001b[0;34m]\u001b[0m \u001b[0;34m-\u001b[0m \u001b[0mcentroids\u001b[0m\u001b[0;34m)\u001b[0m\u001b[0;34m**\u001b[0m\u001b[0;36m2\u001b[0m\u001b[0;34m,\u001b[0m\u001b[0maxis\u001b[0m\u001b[0;34m=\u001b[0m\u001b[0;36m1\u001b[0m\u001b[0;34m)\u001b[0m\u001b[0;34m)\u001b[0m \u001b[0;31m#最小のインデックスを返す\u001b[0m\u001b[0;34m\u001b[0m\u001b[0;34m\u001b[0m\u001b[0m\n\u001b[1;32m      6\u001b[0m     \u001b[0;32mfor\u001b[0m \u001b[0mu\u001b[0m \u001b[0;32min\u001b[0m \u001b[0mrange\u001b[0m\u001b[0;34m(\u001b[0m\u001b[0mk\u001b[0m\u001b[0;34m)\u001b[0m\u001b[0;34m:\u001b[0m\u001b[0;34m\u001b[0m\u001b[0;34m\u001b[0m\u001b[0m\n\u001b[0;32m----> 7\u001b[0;31m         \u001b[0mcentroids\u001b[0m\u001b[0;34m[\u001b[0m\u001b[0mk\u001b[0m\u001b[0;34m,\u001b[0m\u001b[0;34m:\u001b[0m\u001b[0;34m]\u001b[0m \u001b[0;34m=\u001b[0m \u001b[0mX\u001b[0m\u001b[0;34m[\u001b[0m\u001b[0midx_min\u001b[0m\u001b[0;34m==\u001b[0m\u001b[0mu\u001b[0m\u001b[0;34m,\u001b[0m\u001b[0;34m:\u001b[0m\u001b[0;34m]\u001b[0m\u001b[0;34m.\u001b[0m\u001b[0mmean\u001b[0m\u001b[0;34m(\u001b[0m\u001b[0maxis\u001b[0m\u001b[0;34m=\u001b[0m\u001b[0;36m0\u001b[0m\u001b[0;34m)\u001b[0m\u001b[0;34m\u001b[0m\u001b[0;34m\u001b[0m\u001b[0m\n\u001b[0m\u001b[1;32m      8\u001b[0m \u001b[0mprint\u001b[0m\u001b[0;34m(\u001b[0m\u001b[0midx_min\u001b[0m\u001b[0;34m)\u001b[0m\u001b[0;34m\u001b[0m\u001b[0;34m\u001b[0m\u001b[0m\n\u001b[1;32m      9\u001b[0m \u001b[0mprint\u001b[0m\u001b[0;34m(\u001b[0m\u001b[0mcentroids\u001b[0m\u001b[0;34m)\u001b[0m\u001b[0;34m\u001b[0m\u001b[0;34m\u001b[0m\u001b[0m\n",
      "\u001b[0;31mIndexError\u001b[0m: index 4 is out of bounds for axis 0 with size 4"
     ]
    }
   ],
   "source": [
    "#中心の移動\n",
    "idx_min = np.zeros(X.shape[0])\n",
    "\n",
    "for i in range(X.shape[0]):\n",
    "    idx_min[i] = np.argmin(np.sum((X[i,:] - centroids)**2,axis=1)) #最小のインデックスを返す\n",
    "    for u in range(k):\n",
    "        centroids[k,:] = X[idx_min==u,:].mean(axis=0)\n",
    "print(idx_min)\n",
    "print(centroids)"
   ]
  },
  {
   "cell_type": "markdown",
   "metadata": {},
   "source": [
    "【問題2】SSEを求める関数の作成\n",
    "---\n",
    ">クラスタ内誤差平方和（SSE, Sum of Squared Errors）を計算する関数を作成してください。\n",
    "K-meansはこのSSEを最小化する 𝑟𝑛𝑘 と 𝜇𝑘 を求めることが目的となります。複数個の初期値で計算したクラスタリング結果から、どれを最終的に採用するかを決める際にこのSSEを求める関数を使用します。"
   ]
  },
  {
   "cell_type": "code",
   "execution_count": 14,
   "metadata": {},
   "outputs": [
    {
     "ename": "IndexError",
     "evalue": "index 4 is out of bounds for axis 0 with size 4",
     "output_type": "error",
     "traceback": [
      "\u001b[0;31m---------------------------------------------------------------------------\u001b[0m",
      "\u001b[0;31mIndexError\u001b[0m                                Traceback (most recent call last)",
      "\u001b[0;32m<ipython-input-14-fb9e0dd24bb5>\u001b[0m in \u001b[0;36m<module>\u001b[0;34m\u001b[0m\n\u001b[0;32m----> 1\u001b[0;31m \u001b[0msse\u001b[0m\u001b[0;34m[\u001b[0m\u001b[0mk\u001b[0m\u001b[0;34m]\u001b[0m \u001b[0;34m=\u001b[0m \u001b[0mnp\u001b[0m\u001b[0;34m.\u001b[0m\u001b[0msum\u001b[0m\u001b[0;34m(\u001b[0m\u001b[0;34m(\u001b[0m\u001b[0mX\u001b[0m\u001b[0;34m[\u001b[0m\u001b[0midx_min\u001b[0m\u001b[0;34m==\u001b[0m\u001b[0mk\u001b[0m\u001b[0;34m,\u001b[0m\u001b[0;34m:\u001b[0m\u001b[0;34m]\u001b[0m\u001b[0;34m-\u001b[0m\u001b[0mcentroids\u001b[0m\u001b[0;34m[\u001b[0m\u001b[0mk\u001b[0m\u001b[0;34m,\u001b[0m\u001b[0;34m:\u001b[0m\u001b[0;34m]\u001b[0m\u001b[0;34m)\u001b[0m\u001b[0;34m**\u001b[0m\u001b[0;36m2\u001b[0m\u001b[0;34m)\u001b[0m\u001b[0;31m#sseの計算\u001b[0m\u001b[0;34m\u001b[0m\u001b[0;34m\u001b[0m\u001b[0m\n\u001b[0m\u001b[1;32m      2\u001b[0m \u001b[0mprint\u001b[0m\u001b[0;34m(\u001b[0m\u001b[0msse\u001b[0m\u001b[0;34m[\u001b[0m\u001b[0mk\u001b[0m\u001b[0;34m]\u001b[0m\u001b[0;34m)\u001b[0m\u001b[0;34m\u001b[0m\u001b[0;34m\u001b[0m\u001b[0m\n",
      "\u001b[0;31mIndexError\u001b[0m: index 4 is out of bounds for axis 0 with size 4"
     ]
    }
   ],
   "source": [
    "sse[k] = np.sum((X[idx_min==k,:]-centroids[k,:])**2)#sseの計算\n",
    "print(sse[k])"
   ]
  },
  {
   "cell_type": "code",
   "execution_count": 15,
   "metadata": {},
   "outputs": [
    {
     "name": "stdout",
     "output_type": "stream",
     "text": [
      "centroids:[[ 0.802314    4.38196181]\n",
      " [ 0.16932115  4.19741719]\n",
      " [-0.69842598  8.16309188]\n",
      " [ 0.96217896  4.51795326]]\n"
     ]
    },
    {
     "name": "stderr",
     "output_type": "stream",
     "text": [
      "<ipython-input-15-1678edd2ebbe>:17: RuntimeWarning: Mean of empty slice.\n",
      "  centroids[k,:] = X[idx_min==k,:].mean(axis=0)\n",
      "/Users/harakenken22/.pyenv/versions/anaconda3-2020.07/lib/python3.8/site-packages/numpy/core/_methods.py:153: RuntimeWarning: invalid value encountered in true_divide\n",
      "  ret = um.true_divide(\n"
     ]
    },
    {
     "data": {
      "text/plain": [
       "(array([3., 1., 2., 2., 2., 3., 0., 1., 0., 1., 1., 1., 1., 1., 1., 3., 3.,\n",
       "        0., 0., 3., 2., 1., 0., 3., 0., 0., 0., 2., 3., 3., 3., 1., 3., 3.,\n",
       "        0., 2., 1., 3., 1., 0., 2., 0., 1., 0., 0., 1., 3., 0., 2., 0., 2.,\n",
       "        3., 0., 0., 0., 1., 1., 3., 3., 1., 1., 3., 3., 2., 3., 1., 0., 0.,\n",
       "        3., 2., 1., 3., 2., 1., 2., 2., 0., 0., 3., 3., 3., 1., 0., 2., 3.,\n",
       "        0., 3., 3., 2., 2., 2., 0., 2., 0., 0., 1., 1., 0., 1., 2.]),\n",
       " 79.92621426343364)"
      ]
     },
     "execution_count": 15,
     "metadata": {},
     "output_type": "execute_result"
    }
   ],
   "source": [
    "#関数にまとめる\n",
    "import random \n",
    "\n",
    "def Kmeans(X, K, iter):\n",
    "    sse = np.zeros(K)\n",
    "    idx = np.random.randint(X.shape[0], size=K)#適当な初期値を設定\n",
    "    centroids = X[idx,:]\n",
    "    print(\"centroids:{}\".format(centroids))\n",
    "    \n",
    "    for _ in range(iter):#最小のインデックスを返す\n",
    "        idx_min = np.zeros(X.shape[0])\n",
    "\n",
    "        for i in range(X.shape[0]):#中心の移動\n",
    "            idx_min[i] = np.argmin(np.sum((X[i,:] - centroids)**2,axis=1))\n",
    "#             print(\"index_min{}\".format(idx_min))\n",
    "            for k in range(K):\n",
    "                centroids[k,:] = X[idx_min==k,:].mean(axis=0)\n",
    "                sse[k] = np.sum((X[idx_min==k,:]-centroids[k,:])**2)#sseの計算\n",
    "            sse_sum = np.sum(sse)#全てのクラスで合計する\n",
    "            \n",
    "    return idx_min,sse_sum\n",
    "\n",
    "Kmeans(X, K=4, iter=10)"
   ]
  },
  {
   "cell_type": "markdown",
   "metadata": {},
   "source": [
    "プレディクトもインクルードしている\n",
    "---\n",
    "https://blog.amedama.jp/entry/2017/03/19/160121"
   ]
  },
  {
   "cell_type": "markdown",
   "metadata": {},
   "source": [
    "【問題7】推定\n",
    "---\n",
    ">新たなデータに対してどのクラスタに所属するかの推定の際は、学習時の1つ目のフェーズと同じことを行います。\n",
    "データ点 𝑋𝑛 と学習で決まった中心点 𝜇𝑘 に対し、 𝑆𝑆𝐸 を最小化する 𝑟𝑛𝑘 を選ぶ。\n",
    "具体的には次のことです。\n",
    "データ点 𝑋𝑛 を最も近い 𝜇𝑘 に割り当てる。\n",
    "\n",
    "つまり、最初の点から最も近いものにインデックスの点を割り当てる"
   ]
  },
  {
   "cell_type": "code",
   "execution_count": 16,
   "metadata": {},
   "outputs": [],
   "source": [
    "# def fit_predict(self, feature):\n",
    "#     \"\"\"\"\n",
    "#     Args:\n",
    "#         features(numpy.ndarray):　ラベル付けするデータ\n",
    "#     Returnns:\n",
    "#         numpy.ndarray: ラベルデータ\n",
    "#     行う処理は、各要素から最短距離のセントロイドを基準にラベルを更新すること\n",
    "#     \"\"\"\n",
    "    \n",
    "#     #要素の中からセントロイド (重心) の初期値となる候補をクラスタ数だけ選び出す\n",
    "#     feature_indexes = np.arange(len(features)) #連番や等差数列を生成する\n",
    "#     np.randam.shuffle(feature_indexes)\n",
    "#     initial_centroid_indexes = feature_indexes[:self.n_clusters]\n",
    "#     seif.cluster_centers_ = feature[initial_centroid_indexes]\n",
    "    \n",
    "#     # ラベル付けした結果となる配列はゼロで初期化しておく\n",
    "\n",
    "    \n",
    "    "
   ]
  },
  {
   "cell_type": "code",
   "execution_count": 81,
   "metadata": {},
   "outputs": [],
   "source": [
    "class ScratchKMeans():\n",
    "    \"\"\"\n",
    "    K-meansのスクラッチ実装\n",
    "    Parameters\n",
    "    ----------\n",
    "    n_clusters : int\n",
    "      クラスタ数\n",
    "    n_init : int\n",
    "      中心点の初期値を何回変えて計算するか\n",
    "    max_iter : int\n",
    "      1回の計算で最大何イテレーションするか\n",
    "    tol : float\n",
    "      イテレーションを終了する基準となる中心点と重心の許容誤差\n",
    "    verbose : bool\n",
    "      学習過程を出力する場合はTrue\n",
    "    \"\"\"\n",
    "    def __init__(self, n_clusters, n_init, max_iter, tol, verbose=False):\n",
    "        # ハイパーパラメータを属性として記録\n",
    "        self.n_clusters = n_clusters\n",
    "        self.n_init = n_init\n",
    "        self.max_iter = max_iter\n",
    "        self.tol = tol\n",
    "        self.verbose = verbose\n",
    "        self.see_sum = 0\n",
    "        \n",
    "#     def centroids(self, X):\n",
    "#         idx = np.random.randint(X.shape[0], size=self.n_clusters)\n",
    "#         self.centroids = X[idx,:]\n",
    "        \n",
    "    def fit(self, X):\n",
    "        \"\"\"\n",
    "        K-meansによるクラスタリングを計算\n",
    "        Parameters\n",
    "        ----------\n",
    "        X : 次の形のndarray, shape (n_samples, n_features)\n",
    "            訓練データの特徴量\n",
    "        \"\"\"\n",
    "        \n",
    "        import random\n",
    "        sse = np.zeros(self.n_clusters)\n",
    "        self.idx_min = np.random.randint(X.shape[0], size=self.n_clusters)#適当な初期値を設定\n",
    "        self.centroids = X[idx,:]\n",
    "        \n",
    "        print(\"centroids:{}\".format(centroids))\n",
    "        \n",
    "        for _ in range(self.max_iter):#最小のインデックスを返す\n",
    "            for i in range(X.shape[0]):#中心の移動\n",
    "                idx_min[i] = np.argmin(np.sum((X[i,:] - self.centroids)**2,axis=1))#セントロイドから最も小さい値のインデックスをとって来ている。\n",
    "#                 np.append(idx_min, idx_min[i])\n",
    "                print(\"index_min{}\".format(idx_min))\n",
    "                for n_cluster in range(self.n_clusters):\n",
    "                    centroids[n_cluster,:] = X[self.idx_min==n_cluster,:].mean(axis=0)\n",
    "                    sse[n_cluster] = np.sum((X[self.idx_min==n_cluster,:]-self.centroids[n_cluster,:])**2)#sseの計算\n",
    "                self.sse_sum = np.sum(sse)#全てのクラスで合計する\n",
    "                print(\"self.sse_sum:{}\".format(self.sse_sum))\n",
    "#                 print(\"self.idx_min:{}\".format(self.idx_min))\n",
    "        return self.idx_min,self.sse_sum\n",
    "        if self.verbose:\n",
    "            #verboseをTrueにした際は学習過程を出力\n",
    "            print()\n",
    "        pass"
   ]
  },
  {
   "cell_type": "code",
   "execution_count": 82,
   "metadata": {},
   "outputs": [],
   "source": [
    "ScratchKMeans = ScratchKMeans(n_clusters=4, n_init=4, max_iter=10, tol=1, verbose=False)"
   ]
  },
  {
   "cell_type": "code",
   "execution_count": 83,
   "metadata": {},
   "outputs": [
    {
     "name": "stdout",
     "output_type": "stream",
     "text": [
      "centroids:[[ 0.23137626  6.69453546]\n",
      " [ 1.85779492  1.26751628]\n",
      " [ 2.23022301  0.42888969]\n",
      " [-0.76696439  4.75886211]]\n",
      "index_min[3. 3. 3. 3. 0. 3. 3. 0. 3. 3. 3. 3. 3. 3. 3. 2. 1. 3. 3. 2. 0. 3. 3. 2.\n",
      " 3. 3. 3. 3. 1. 2. 1. 3. 2. 1. 3. 3. 0. 1. 0. 3. 0. 3. 3. 3. 3. 3. 2. 3.\n",
      " 3. 3. 3. 1. 3. 3. 3. 3. 0. 1. 1. 0. 3. 1. 1. 0. 1. 0. 3. 3. 1. 3. 3. 1.\n",
      " 3. 3. 3. 3. 3. 3. 2. 1. 2. 3. 3. 3. 1. 3. 1. 2. 0. 3. 3. 3. 3. 3. 3. 3.\n",
      " 3. 3. 0. 3.]\n"
     ]
    },
    {
     "ename": "IndexError",
     "evalue": "boolean index did not match indexed array along dimension 0; dimension is 100 but corresponding boolean dimension is 4",
     "output_type": "error",
     "traceback": [
      "\u001b[0;31m---------------------------------------------------------------------------\u001b[0m",
      "\u001b[0;31mIndexError\u001b[0m                                Traceback (most recent call last)",
      "\u001b[0;32m<ipython-input-83-6573e09bc524>\u001b[0m in \u001b[0;36m<module>\u001b[0;34m\u001b[0m\n\u001b[0;32m----> 1\u001b[0;31m \u001b[0mScratchKMeans\u001b[0m\u001b[0;34m.\u001b[0m\u001b[0mfit\u001b[0m\u001b[0;34m(\u001b[0m\u001b[0mX\u001b[0m\u001b[0;34m)\u001b[0m\u001b[0;34m\u001b[0m\u001b[0;34m\u001b[0m\u001b[0m\n\u001b[0m",
      "\u001b[0;32m<ipython-input-81-6a15d4d92d40>\u001b[0m in \u001b[0;36mfit\u001b[0;34m(self, X)\u001b[0m\n\u001b[1;32m     50\u001b[0m                 \u001b[0mprint\u001b[0m\u001b[0;34m(\u001b[0m\u001b[0;34m\"index_min{}\"\u001b[0m\u001b[0;34m.\u001b[0m\u001b[0mformat\u001b[0m\u001b[0;34m(\u001b[0m\u001b[0midx_min\u001b[0m\u001b[0;34m)\u001b[0m\u001b[0;34m)\u001b[0m\u001b[0;34m\u001b[0m\u001b[0;34m\u001b[0m\u001b[0m\n\u001b[1;32m     51\u001b[0m                 \u001b[0;32mfor\u001b[0m \u001b[0mn_cluster\u001b[0m \u001b[0;32min\u001b[0m \u001b[0mrange\u001b[0m\u001b[0;34m(\u001b[0m\u001b[0mself\u001b[0m\u001b[0;34m.\u001b[0m\u001b[0mn_clusters\u001b[0m\u001b[0;34m)\u001b[0m\u001b[0;34m:\u001b[0m\u001b[0;34m\u001b[0m\u001b[0;34m\u001b[0m\u001b[0m\n\u001b[0;32m---> 52\u001b[0;31m                     \u001b[0mcentroids\u001b[0m\u001b[0;34m[\u001b[0m\u001b[0mn_cluster\u001b[0m\u001b[0;34m,\u001b[0m\u001b[0;34m:\u001b[0m\u001b[0;34m]\u001b[0m \u001b[0;34m=\u001b[0m \u001b[0mX\u001b[0m\u001b[0;34m[\u001b[0m\u001b[0mself\u001b[0m\u001b[0;34m.\u001b[0m\u001b[0midx_min\u001b[0m\u001b[0;34m==\u001b[0m\u001b[0mn_cluster\u001b[0m\u001b[0;34m,\u001b[0m\u001b[0;34m:\u001b[0m\u001b[0;34m]\u001b[0m\u001b[0;34m.\u001b[0m\u001b[0mmean\u001b[0m\u001b[0;34m(\u001b[0m\u001b[0maxis\u001b[0m\u001b[0;34m=\u001b[0m\u001b[0;36m0\u001b[0m\u001b[0;34m)\u001b[0m\u001b[0;34m\u001b[0m\u001b[0;34m\u001b[0m\u001b[0m\n\u001b[0m\u001b[1;32m     53\u001b[0m                     \u001b[0msse\u001b[0m\u001b[0;34m[\u001b[0m\u001b[0mn_cluster\u001b[0m\u001b[0;34m]\u001b[0m \u001b[0;34m=\u001b[0m \u001b[0mnp\u001b[0m\u001b[0;34m.\u001b[0m\u001b[0msum\u001b[0m\u001b[0;34m(\u001b[0m\u001b[0;34m(\u001b[0m\u001b[0mX\u001b[0m\u001b[0;34m[\u001b[0m\u001b[0mself\u001b[0m\u001b[0;34m.\u001b[0m\u001b[0midx_min\u001b[0m\u001b[0;34m==\u001b[0m\u001b[0mn_cluster\u001b[0m\u001b[0;34m,\u001b[0m\u001b[0;34m:\u001b[0m\u001b[0;34m]\u001b[0m\u001b[0;34m-\u001b[0m\u001b[0mself\u001b[0m\u001b[0;34m.\u001b[0m\u001b[0mcentroids\u001b[0m\u001b[0;34m[\u001b[0m\u001b[0mn_cluster\u001b[0m\u001b[0;34m,\u001b[0m\u001b[0;34m:\u001b[0m\u001b[0;34m]\u001b[0m\u001b[0;34m)\u001b[0m\u001b[0;34m**\u001b[0m\u001b[0;36m2\u001b[0m\u001b[0;34m)\u001b[0m\u001b[0;31m#sseの計算\u001b[0m\u001b[0;34m\u001b[0m\u001b[0;34m\u001b[0m\u001b[0m\n\u001b[1;32m     54\u001b[0m                 \u001b[0mself\u001b[0m\u001b[0;34m.\u001b[0m\u001b[0msse_sum\u001b[0m \u001b[0;34m=\u001b[0m \u001b[0mnp\u001b[0m\u001b[0;34m.\u001b[0m\u001b[0msum\u001b[0m\u001b[0;34m(\u001b[0m\u001b[0msse\u001b[0m\u001b[0;34m)\u001b[0m\u001b[0;31m#全てのクラスで合計する\u001b[0m\u001b[0;34m\u001b[0m\u001b[0;34m\u001b[0m\u001b[0m\n",
      "\u001b[0;31mIndexError\u001b[0m: boolean index did not match indexed array along dimension 0; dimension is 100 but corresponding boolean dimension is 4"
     ]
    }
   ],
   "source": [
    "ScratchKMeans.fit(X)"
   ]
  },
  {
   "cell_type": "code",
   "execution_count": null,
   "metadata": {},
   "outputs": [],
   "source": []
  },
  {
   "cell_type": "code",
   "execution_count": null,
   "metadata": {},
   "outputs": [],
   "source": []
  }
 ],
 "metadata": {
  "kernelspec": {
   "display_name": "Python 3",
   "language": "python",
   "name": "python3"
  },
  "language_info": {
   "codemirror_mode": {
    "name": "ipython",
    "version": 3
   },
   "file_extension": ".py",
   "mimetype": "text/x-python",
   "name": "python",
   "nbconvert_exporter": "python",
   "pygments_lexer": "ipython3",
   "version": "3.8.3"
  }
 },
 "nbformat": 4,
 "nbformat_minor": 4
}
