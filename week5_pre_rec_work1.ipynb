{
 "cells": [
  {
   "cell_type": "code",
   "execution_count": 59,
   "metadata": {},
   "outputs": [],
   "source": [
    "import pandas as pd\n",
    "import numpy as np\n",
    "from sklearn.metrics import confusion_matrix\n",
    "from pandas.plotting import scatter_matrix\n",
    "import itertools\n",
    "import matplotlib.pyplot as plt\n",
    "import seaborn as sns\n",
    "from sklearn.metrics import mean_squared_error\n",
    "from sklearn import metrics\n",
    "%matplotlib inline"
   ]
  },
  {
   "cell_type": "markdown",
   "metadata": {},
   "source": [
    "今回の課題の考え方を整理\n",
    "-----\n",
    "\n",
    "- Xのｃindexのc割の割当をランダムに選別 x_trainに格納\n",
    "randaom.choicce()と使ってランダムに要素を抽出\n",
    "- Xと同じインデックスのd列の選別しｙ_trainに格納\n",
    "\n",
    "- 残りの10-cの値をx_testとして格納\n",
    "- y_testと同じindexの値をy_testとして格納\n",
    "\n",
    "スクラッチを参考にした資料；\n",
    "https://qiita.com/kztsh/items/5afae48b2c2fd7dc20a5"
   ]
  },
  {
   "cell_type": "code",
   "execution_count": 76,
   "metadata": {},
   "outputs": [],
   "source": [
    "def scratch_train_test_split(X, y, train_size=0.8, random_state=0):\n",
    "    \"\"\"\n",
    "    検証データを分割する。\n",
    "    Parameters\n",
    "    ----------\n",
    "    X : 次の形のndarray, shape (n_samples, n_features)\n",
    "      訓練データ\n",
    "    y : 次の形のndarray, shape (n_samples, )\n",
    "      正解値\n",
    "    train_size : float (0<train_size<1)\n",
    "      何割をtrainとするか指定\n",
    "    Returns\n",
    "    ----------\n",
    "    X_train : 次の形のndarray, shape (n_samples, n_features)\n",
    "      訓練データ\n",
    "    X_test : 次の形のndarray, shape (n_samples, n_features)\n",
    "      検証データ\n",
    "    y_train : 次の形のndarray, shape (n_samples, )\n",
    "      訓練データの正解値\n",
    "    y_test : 次の形のndarray, shape (n_samples, )\n",
    "      検証データの正解値\n",
    "    \"\"\"\n",
    "    #ここにコードを書く\n",
    "    \n",
    "#     if X.shape[0] != y.shape[0]:\n",
    "#         raise ValueError(\"X samples number({}) is not same as y {}.\".format(\n",
    "#                 X.shape[0], y.shape[0]))\n",
    "    n_samples = X.shape[0] #Xのサンプル数を格納\n",
    "    n_train = np.floor((1-train_size) * n_samples).astype(int)  #１からテストサイズの数を引いてサンプルサイズをかける。その数は切り捨ての数になる。\n",
    "    n_test = n_samples - n_train #テストの数は全体のサンプル引くサンプルの数\n",
    "    classes = np.unique(y)#クラスの数がそれぞれいくつあるか\n",
    "    n_classes = len(classes) #クラスの数の合計\n",
    "#     class_counts = np.bincount(y)\n",
    "#     class_indices = np.split(np.argsort(y, kind='mergesort'),\n",
    "#                              np.cumsum(class_counts)[:-1])\n",
    "    \n",
    "#     if shuffle is False and stratify is None:\n",
    "    #シャッフルと分割\n",
    "    random = np.random.RandomState(seed = random_state)\n",
    "    permutation = random.permutation(n_samples)\n",
    "    ind_test = permutation[:n_test]\n",
    "    ind_train = permutation[n_test:(n_test + n_train)]\n",
    "\n",
    "\n",
    "    X_test = X[ind_test]#テスト以下の列をすべて取得\n",
    "    X_train = X[ind_train]#テストの番号からtrainの数を足した数のデータの取得\n",
    "    y_test = y[ind_test]#テスト以下の列をすべて取得\n",
    "    y_train = y[ind_train]#テストの番号からtrainの数を足した数のデータの取得\n",
    "    \n",
    "    \n",
    "    #自身で作成した値\n",
    "#     randam_origin = []\n",
    "#     x_train = []\n",
    "#     for k in range(train_size*100):#train-sizeの回数だけfor分を回す\n",
    "#         x = random.choice(X)　#Xの値からランダムに行を取り出す\n",
    "#         randam_origin = randam_origin.append(x)　#randam_originに対してその値をappendすることでrandam_originのリストを作成\n",
    "#         x_train.append(x.loc[:, ['','']])　#randam_originから指定のカラムの情報を取り出し、x_trainに格納\n",
    "        \n",
    "#     x_test = 　　　　　#ｘ_trainのデータ以外のインデックスを抽出してリストの作成\n",
    "#     for i in range()\n",
    "    return X_train, X_test, y_train, y_test\n"
   ]
  },
  {
   "cell_type": "markdown",
   "metadata": {},
   "source": [
    "【問題2】 分類問題を解くコードの作成\n",
    "===\n",
    "上記3種類の手法で3種類のデータセットを学習・推定するコードを作成してください。"
   ]
  },
  {
   "cell_type": "markdown",
   "metadata": {},
   "source": [
    "データの分割\n",
    "---"
   ]
  },
  {
   "cell_type": "code",
   "execution_count": 77,
   "metadata": {},
   "outputs": [],
   "source": [
    "#データのインポートIris\n",
    "from sklearn.datasets import load_iris\n",
    "iris = load_iris()\n",
    "iris.target[[10, 25, 50]]\n",
    "list(data.target_names)\n",
    "\n",
    "X = iris.data[50:]\n",
    "Y = iris.target[50:]\n",
    "#DataFrameに変換\n",
    "# X = pd.DataFrame(data.data, columns=data.feature_names)\n",
    "# Y = pd.DataFrame(data.target_names, columns=['species_name'])\n",
    "# Y_target = pd.DataFrame(data.target, columns=['species'])\n",
    "# df = pd.merge(X, Y_target, left_index=True , right_index=True)"
   ]
  },
  {
   "cell_type": "code",
   "execution_count": 78,
   "metadata": {},
   "outputs": [],
   "source": [
    "X_train, X_test, Y_train, Y_test = scratch_train_test_split(X, Y, train_size=0.8)"
   ]
  },
  {
   "cell_type": "code",
   "execution_count": 79,
   "metadata": {},
   "outputs": [
    {
     "name": "stdout",
     "output_type": "stream",
     "text": [
      "[[6.3 2.3 4.4 1.3]\n",
      " [7.9 3.8 6.4 2. ]\n",
      " [5.7 2.9 4.2 1.3]\n",
      " [5.5 2.5 4.  1.3]\n",
      " [6.4 3.2 5.3 2.3]\n",
      " [6.7 2.5 5.8 1.8]\n",
      " [6.  2.2 4.  1. ]\n",
      " [6.  3.  4.8 1.8]\n",
      " [6.9 3.2 5.7 2.3]\n",
      " [6.4 3.1 5.5 1.8]\n",
      " [6.7 3.1 4.7 1.5]\n",
      " [6.1 2.8 4.  1.3]\n",
      " [6.3 2.8 5.1 1.5]\n",
      " [5.2 2.7 3.9 1.4]\n",
      " [6.3 2.5 5.  1.9]\n",
      " [7.7 3.8 6.7 2.2]\n",
      " [5.8 2.8 5.1 2.4]\n",
      " [6.2 2.9 4.3 1.3]\n",
      " [5.6 2.7 4.2 1.3]]\n",
      "[[6.8 2.8 4.8 1.4]\n",
      " [6.3 3.4 5.6 2.4]\n",
      " [6.9 3.1 4.9 1.5]\n",
      " [7.6 3.  6.6 2.1]\n",
      " [7.2 3.2 6.  1.8]\n",
      " [6.8 3.2 5.9 2.3]\n",
      " [5.6 3.  4.5 1.5]\n",
      " [6.3 2.7 4.9 1.8]\n",
      " [6.5 3.  5.8 2.2]\n",
      " [6.7 3.  5.2 2.3]\n",
      " [6.3 2.9 5.6 1.8]\n",
      " [5.8 2.7 5.1 1.9]\n",
      " [6.4 2.8 5.6 2.1]\n",
      " [6.1 2.9 4.7 1.4]\n",
      " [4.9 2.4 3.3 1. ]\n",
      " [5.5 2.4 3.8 1.1]\n",
      " [6.3 2.5 4.9 1.5]\n",
      " [6.4 2.9 4.3 1.3]\n",
      " [6.  2.7 5.1 1.6]\n",
      " [6.6 2.9 4.6 1.3]\n",
      " [5.  2.3 3.3 1. ]\n",
      " [6.8 3.  5.5 2.1]\n",
      " [5.5 2.3 4.  1.3]\n",
      " [5.6 2.8 4.9 2. ]\n",
      " [5.7 3.  4.2 1.2]\n",
      " [5.1 2.5 3.  1.1]\n",
      " [6.3 3.3 4.7 1.6]\n",
      " [5.9 3.  5.1 1.8]\n",
      " [6.4 2.8 5.6 2.2]\n",
      " [6.2 2.8 4.8 1.8]\n",
      " [6.5 3.2 5.1 2. ]\n",
      " [7.4 2.8 6.1 1.9]\n",
      " [6.7 3.1 5.6 2.4]\n",
      " [7.7 2.6 6.9 2.3]\n",
      " [5.8 2.7 5.1 1.9]\n",
      " [6.7 3.  5.  1.7]\n",
      " [6.2 2.2 4.5 1.5]\n",
      " [4.9 2.5 4.5 1.7]\n",
      " [5.7 2.5 5.  2. ]\n",
      " [6.7 3.3 5.7 2.1]\n",
      " [6.4 3.2 4.5 1.5]\n",
      " [6.4 2.7 5.3 1.9]\n",
      " [5.8 2.6 4.  1.2]\n",
      " [6.1 3.  4.6 1.4]\n",
      " [6.5 2.8 4.6 1.5]\n",
      " [6.7 3.1 4.4 1.4]\n",
      " [5.8 2.7 4.1 1. ]\n",
      " [5.5 2.6 4.4 1.2]\n",
      " [5.6 3.  4.1 1.3]\n",
      " [5.7 2.8 4.5 1.3]\n",
      " [6.9 3.1 5.1 2.3]\n",
      " [7.2 3.6 6.1 2.5]\n",
      " [7.  3.2 4.7 1.4]\n",
      " [5.4 3.  4.5 1.5]\n",
      " [6.  2.9 4.5 1.5]\n",
      " [6.3 3.3 6.  2.5]\n",
      " [5.9 3.  4.2 1.5]\n",
      " [6.  3.4 4.5 1.6]\n",
      " [6.1 2.8 4.7 1.2]\n",
      " [7.1 3.  5.9 2.1]\n",
      " [5.  2.  3.5 1. ]\n",
      " [5.5 2.4 3.7 1. ]\n",
      " [6.5 3.  5.5 1.8]\n",
      " [7.3 2.9 6.3 1.8]\n",
      " [7.2 3.  5.8 1.6]\n",
      " [7.7 3.  6.1 2.3]\n",
      " [5.8 2.7 3.9 1.2]\n",
      " [6.1 2.6 5.6 1.4]\n",
      " [5.6 2.9 3.6 1.3]\n",
      " [6.9 3.1 5.4 2.1]\n",
      " [5.6 2.5 3.9 1.1]\n",
      " [5.7 2.6 3.5 1. ]\n",
      " [5.7 2.8 4.1 1.3]\n",
      " [6.5 3.  5.2 2. ]\n",
      " [6.2 3.4 5.4 2.3]\n",
      " [6.  2.2 5.  1.5]\n",
      " [5.9 3.2 4.8 1.8]\n",
      " [6.7 3.3 5.7 2.5]\n",
      " [7.7 2.8 6.7 2. ]\n",
      " [6.1 3.  4.9 1.8]\n",
      " [6.6 3.  4.4 1.4]]\n",
      "[1 2 1 1 2 2 1 2 2 2 1 1 2 1 2 2 2 1 1]\n",
      "[1 2 1 2 2 2 1 2 2 2 2 2 2 1 1 1 1 1 1 1 1 2 1 2 1 1 1 2 2 2 2 2 2 2 2 1 1\n",
      " 2 2 2 1 2 1 1 1 1 1 1 1 1 2 2 1 1 1 2 1 1 1 2 1 1 2 2 2 2 1 2 1 2 1 1 1 2\n",
      " 2 2 1 2 2 2 1]\n"
     ]
    }
   ],
   "source": [
    "print(X_train)\n",
    "print(X_test)\n",
    "print(Y_train)\n",
    "print(Y_test)"
   ]
  },
  {
   "cell_type": "markdown",
   "metadata": {},
   "source": [
    "scikit-learnを使ってロジスティック回帰:\n",
    "----"
   ]
  },
  {
   "cell_type": "code",
   "execution_count": 80,
   "metadata": {},
   "outputs": [
    {
     "name": "stdout",
     "output_type": "stream",
     "text": [
      "MESは0.1111111111111111\n",
      "Accuracy: 0.8888888888888888\n"
     ]
    }
   ],
   "source": [
    "from sklearn.linear_model import LogisticRegression\n",
    "from sklearn.metrics import mean_squared_error\n",
    "from sklearn.metrics import mean_absolute_error\n",
    "\n",
    "\n",
    "lr = LogisticRegression()\n",
    "lr.fit(X_train, Y_train)\n",
    "Y_pred_regression = lr.predict(X_test)\n",
    "# metrics.accuracy_score(Y_test, Y_pred_regression)\n",
    "\n",
    "print('MESは{}'.format(mean_squared_error(Y_test, Y_pred_regression)))\n",
    "print('Accuracy: {}'.format(metrics.accuracy_score(Y_test, Y_pred_regression)))"
   ]
  },
  {
   "cell_type": "markdown",
   "metadata": {},
   "source": [
    "scikit-learnを使ってSVMを実装\n",
    "---"
   ]
  },
  {
   "cell_type": "code",
   "execution_count": 81,
   "metadata": {},
   "outputs": [
    {
     "name": "stdout",
     "output_type": "stream",
     "text": [
      "MESは0.13580246913580246\n",
      "Accuracy: 0.8641975308641975\n"
     ]
    }
   ],
   "source": [
    "#SVMの実装\n",
    "from sklearn.svm import SVC\n",
    "ｓｖm_model = SVC(gamma='scale')\n",
    "ｓｖm_model.fit(X_train, Y_train)\n",
    "Y_pred_svm = ｓｖm_model.predict(X_test.round().astype(int))\n",
    "print('MESは{}'.format(mean_squared_error(Y_test, Y_pred_svm)))\n",
    "print('Accuracy: {}'.format(metrics.accuracy_score(Y_test, Y_pred_svm)))"
   ]
  },
  {
   "cell_type": "markdown",
   "metadata": {},
   "source": [
    "scikit-learnを使って決定木分析\n",
    "---"
   ]
  },
  {
   "cell_type": "code",
   "execution_count": 82,
   "metadata": {},
   "outputs": [
    {
     "name": "stdout",
     "output_type": "stream",
     "text": [
      "MESは0.08641975308641975\n",
      "Accuracy: 0.9135802469135802\n"
     ]
    }
   ],
   "source": [
    "from sklearn import tree #決定木のメソッドを呼び起こす\n",
    "from sklearn.tree import DecisionTreeClassifier, export_graphviz\n",
    "\n",
    "clf = DecisionTreeClassifier()\n",
    "clf_data = clf.fit(X_train, Y_train)\n",
    "y_pred_dt = clf.predict(X_test)\n",
    "\n",
    "print('MESは{}'.format(mean_squared_error(Y_test, y_pred_dt)))\n",
    "print('Accuracy: {}'.format(metrics.accuracy_score(Y_test, y_pred_dt)))"
   ]
  },
  {
   "cell_type": "markdown",
   "metadata": {},
   "source": [
    "シンプルデータセット1作成コードを用いてデータ分析を行う\n",
    "---"
   ]
  },
  {
   "cell_type": "code",
   "execution_count": 83,
   "metadata": {},
   "outputs": [],
   "source": [
    "import numpy as np\n",
    "np.random.seed(seed=0)\n",
    "n_samples = 500\n",
    "f0 = [-1, 2]\n",
    "f1 = [2, -1]\n",
    "cov = [[1.0,0.8], [0.8, 1.0]]\n",
    "f0 = np.random.multivariate_normal(f0, cov, int(n_samples/2))\n",
    "f1 = np.random.multivariate_normal(f1, cov, int(n_samples/2))\n",
    "X = np.concatenate((f0, f1))\n",
    "y = np.concatenate((np.ones((int(n_samples/2))), np.ones((int(n_samples/2))) *(-1))).astype(np.int)\n",
    "random_index = np.random.permutation(np.arange(n_samples))\n",
    "X = X[random_index]\n",
    "y = y[random_index]"
   ]
  },
  {
   "cell_type": "markdown",
   "metadata": {},
   "source": [
    "データの分割：\n",
    "---"
   ]
  },
  {
   "cell_type": "code",
   "execution_count": 85,
   "metadata": {},
   "outputs": [],
   "source": [
    "X_train_1, X_test_1, Y_train_1, Y_test_1 = scratch_train_test_split(X, y, train_size=0.8)"
   ]
  },
  {
   "cell_type": "code",
   "execution_count": 88,
   "metadata": {},
   "outputs": [
    {
     "name": "stdout",
     "output_type": "stream",
     "text": [
      "MESは0.0\n",
      "Accuracy: 1.0\n"
     ]
    }
   ],
   "source": [
    "lr = LogisticRegression()\n",
    "lr.fit(X_train_1, Y_train_1)\n",
    "Y_pred_regression = lr.predict(X_test_1)\n",
    "# metrics.accuracy_score(Y_test, Y_pred_regression)\n",
    "\n",
    "print('MESは{}'.format(mean_squared_error(Y_test_1, Y_pred_regression)))\n",
    "print('Accuracy: {}'.format(metrics.accuracy_score(Y_test_1, Y_pred_regression)))"
   ]
  },
  {
   "cell_type": "code",
   "execution_count": 89,
   "metadata": {},
   "outputs": [
    {
     "name": "stdout",
     "output_type": "stream",
     "text": [
      "MESは0.0\n",
      "Accuracy: 1.0\n"
     ]
    }
   ],
   "source": [
    "#SVMの実装\n",
    "from sklearn.svm import SVC\n",
    "ｓｖm_model = SVC(gamma='scale')\n",
    "ｓｖm_model.fit(X_train_1, Y_train_1)\n",
    "Y_pred_svm = ｓｖm_model.predict(X_test_1.round().astype(int))\n",
    "print('MESは{}'.format(mean_squared_error(Y_test_1, Y_pred_svm)))\n",
    "print('Accuracy: {}'.format(metrics.accuracy_score(Y_test_1, Y_pred_svm)))"
   ]
  },
  {
   "cell_type": "code",
   "execution_count": 90,
   "metadata": {},
   "outputs": [
    {
     "name": "stdout",
     "output_type": "stream",
     "text": [
      "MESは0.00997506234413965\n",
      "Accuracy: 0.9975062344139651\n"
     ]
    }
   ],
   "source": [
    "#決定木による実装\n",
    "clf = DecisionTreeClassifier()\n",
    "clf_data = clf.fit(X_train_1, Y_train_1)\n",
    "y_pred_dt = clf.predict(X_test_1)\n",
    "\n",
    "print('MESは{}'.format(mean_squared_error(Y_test_1, y_pred_dt)))\n",
    "print('Accuracy: {}'.format(metrics.accuracy_score(Y_test_1, y_pred_dt)))"
   ]
  },
  {
   "cell_type": "markdown",
   "metadata": {},
   "source": [
    "シンプルデータセット２を用いて分析：\n",
    "---"
   ]
  },
  {
   "cell_type": "code",
   "execution_count": 91,
   "metadata": {},
   "outputs": [],
   "source": [
    "X_2 = np.array([[-0.44699 , -2.8073  ],[-1.4621  , -2.4586  ],\n",
    "       [ 0.10645 ,  1.9242  ],[-3.5944  , -4.0112  ],\n",
    "       [-0.9888  ,  4.5718  ],[-3.1625  , -3.9606  ],\n",
    "       [ 0.56421 ,  0.72888 ],[-0.60216 ,  8.4636  ],\n",
    "       [-0.61251 , -0.75345 ],[-0.73535 , -2.2718  ],\n",
    "       [-0.80647 , -2.2135  ],[ 0.86291 ,  2.3946  ],\n",
    "       [-3.1108  ,  0.15394 ],[-2.9362  ,  2.5462  ],\n",
    "       [-0.57242 , -2.9915  ],[ 1.4771  ,  3.4896  ],\n",
    "       [ 0.58619 ,  0.37158 ],[ 0.6017  ,  4.3439  ],\n",
    "       [-2.1086  ,  8.3428  ],[-4.1013  , -4.353   ],\n",
    "       [-1.9948  , -1.3927  ],[ 0.35084 , -0.031994],\n",
    "       [ 0.96765 ,  7.8929  ],[-1.281   , 15.6824  ],\n",
    "       [ 0.96765 , 10.083   ],[ 1.3763  ,  1.3347  ],\n",
    "       [-2.234   , -2.5323  ],[-2.9452  , -1.8219  ],\n",
    "       [ 0.14654 , -0.28733 ],[ 0.5461  ,  5.8245  ],\n",
    "       [-0.65259 ,  9.3444  ],[ 0.59912 ,  5.3524  ],\n",
    "       [ 0.50214 , -0.31818 ],[-3.0603  , -3.6461  ],\n",
    "       [-6.6797  ,  0.67661 ],[-2.353   , -0.72261 ],\n",
    "       [ 1.1319  ,  2.4023  ],[-0.12243 ,  9.0162  ],\n",
    "       [-2.5677  , 13.1779  ],[ 0.057313,  5.4681  ]])\n",
    "y_2 = np.array([0, 0, 0, 0, 0, 0, 0, 0, 0, 0, 0, 0, 0, 0, 0, 0, 0, 0, 0, 0, 1, 1,\n",
    "       1, 1, 1, 1, 1, 1, 1, 1, 1, 1, 1, 1, 1, 1, 1, 1, 1, 1])"
   ]
  },
  {
   "cell_type": "markdown",
   "metadata": {},
   "source": [
    "シンプルデータセット２を分割：\n",
    "---"
   ]
  },
  {
   "cell_type": "code",
   "execution_count": 93,
   "metadata": {},
   "outputs": [],
   "source": [
    "X_train_2, X_test_2, Y_train_2, Y_test_2 = scratch_train_test_split(X_2, y_2, train_size=0.8)"
   ]
  },
  {
   "cell_type": "code",
   "execution_count": 94,
   "metadata": {},
   "outputs": [
    {
     "name": "stdout",
     "output_type": "stream",
     "text": [
      "MESは0.48484848484848486\n",
      "Accuracy: 0.5151515151515151\n"
     ]
    }
   ],
   "source": [
    "#ロジスティック回帰分析\n",
    "lr = LogisticRegression()\n",
    "lr.fit(X_train_2, Y_train_2)\n",
    "Y_pred_regression = lr.predict(X_test_2)\n",
    "# metrics.accuracy_score(Y_test, Y_pred_regression)\n",
    "\n",
    "print('MESは{}'.format(mean_squared_error(Y_test_2, Y_pred_regression)))\n",
    "print('Accuracy: {}'.format(metrics.accuracy_score(Y_test_2, Y_pred_regression)))"
   ]
  },
  {
   "cell_type": "code",
   "execution_count": 95,
   "metadata": {},
   "outputs": [
    {
     "name": "stdout",
     "output_type": "stream",
     "text": [
      "MESは0.42424242424242425\n",
      "Accuracy: 0.5757575757575758\n"
     ]
    }
   ],
   "source": [
    "#SVMの実装\n",
    "from sklearn.svm import SVC\n",
    "ｓｖm_model = SVC(gamma='scale')\n",
    "ｓｖm_model.fit(X_train_2, Y_train_2)\n",
    "Y_pred_svm = ｓｖm_model.predict(X_test_2.round().astype(int))\n",
    "print('MESは{}'.format(mean_squared_error(Y_test_2, Y_pred_svm)))\n",
    "print('Accuracy: {}'.format(metrics.accuracy_score(Y_test_2, Y_pred_svm)))"
   ]
  },
  {
   "cell_type": "code",
   "execution_count": 96,
   "metadata": {},
   "outputs": [
    {
     "name": "stdout",
     "output_type": "stream",
     "text": [
      "MESは0.48484848484848486\n",
      "Accuracy: 0.5151515151515151\n"
     ]
    }
   ],
   "source": [
    "clf = DecisionTreeClassifier()\n",
    "clf_data = clf.fit(X_train_2, Y_train_2)\n",
    "y_pred_dt = clf.predict(X_test_2)\n",
    "\n",
    "print('MESは{}'.format(mean_squared_error(Y_test_2, y_pred_dt)))\n",
    "print('Accuracy: {}'.format(metrics.accuracy_score(Y_test_2, y_pred_dt)))"
   ]
  },
  {
   "cell_type": "markdown",
   "metadata": {},
   "source": [
    "【問題2】 分類問題を解くコードの作成\n",
    "----\n",
    "上記3種類の手法で3種類のデータセットを学習・推定するコードを作成してください。"
   ]
  },
  {
   "cell_type": "markdown",
   "metadata": {},
   "source": [
    "回帰問題 : 回帰は1種類をスクラッチします。\n",
    "---\n",
    "線形回帰は勾配降下法を用いて計算するSGDRegressorクラスを利用してください。\n",
    "sklearn.linear_model.SGDRegressor — scikit-learn 0.21.3 documentation\n",
    "データセットは事前学習期間同様にHouse Pricesコンペティションのものを使います。\n",
    "House Prices: Advanced Regression Techniques\n",
    "train.csvをダウンロードし、目的変数としてSalePrice、説明変数として、GrLivAreaとYearBuiltを使います。\n",
    "\n",
    ">参考にしたウェブサイト：\n",
    "https://enjoyworks.jp/tech-blog/1539"
   ]
  },
  {
   "cell_type": "markdown",
   "metadata": {},
   "source": [
    "下記、実装を試みるがわからなかった。。。。"
   ]
  },
  {
   "cell_type": "code",
   "execution_count": 118,
   "metadata": {},
   "outputs": [],
   "source": [
    "# import numpy as np\n",
    "# import matplotlib.pyplot as plt\n",
    "\n",
    "# x  = np.array([2,4,5])\n",
    "# y = np.array([1.2,2.8,5.3])\n",
    "\n",
    "\n",
    "# def scratch_SGDRegressor(X, y):\n",
    "#     b0, b1 = 0.0, 1.0\n",
    "#     lr = 0.001\n",
    "#     epochs = 10000\n",
    "#     error = []\n",
    "\n",
    "# # 10000回繰り返す\n",
    "#     for epoch in range(epochs):\n",
    "#     # 値の初期化\n",
    "#         epoch_cost, cost_b0, cost_b1 = 0, 0, 0\n",
    "    \n",
    "#         for i in range(len(X)):\n",
    "#         # 予測値\n",
    "#             y_pred = (b0 + b1*x[i])\n",
    "#         # 損失関数\n",
    "#             epoch_cost += (y[i] - y_pred)**2 \n",
    "        \n",
    "#             for j in range(len(X)):\n",
    "#             # b0,b1の偏微分\n",
    "#                 partial_wrt_b0 = -2 * (y[j] - (b0 + b1*x[j]))\n",
    "#                 partial_wrt_b1 = (-2 * X[j]) * (y[j] - (b0 + b1*x[j]))\n",
    "            \n",
    "#             # 訓練データ分の合計\n",
    "#                 cost_b0 += partial_wrt_b0\n",
    "#                 cost_b1 += partial_wrt_b1\n",
    "\n",
    "#         # 係数を学習率に掛け更新\n",
    "#             b0 = b0 - lr * cost_b0\n",
    "#             b1 = b1 - lr * cost_b1\n",
    "        \n",
    "#     # エラー率を追跡 - 可視化のため\n",
    "#         error.append(epoch_cost)\n",
    "#     retuen\n",
    "# scratch_SGDRegressor(x, y)"
   ]
  },
  {
   "cell_type": "markdown",
   "metadata": {},
   "source": [
    "Skitlaernを使用して勾配降下法を用いて計算するSGDRegressorを行う。\n",
    "---"
   ]
  },
  {
   "cell_type": "code",
   "execution_count": 99,
   "metadata": {},
   "outputs": [
    {
     "data": {
      "text/html": [
       "<div>\n",
       "<style scoped>\n",
       "    .dataframe tbody tr th:only-of-type {\n",
       "        vertical-align: middle;\n",
       "    }\n",
       "\n",
       "    .dataframe tbody tr th {\n",
       "        vertical-align: top;\n",
       "    }\n",
       "\n",
       "    .dataframe thead th {\n",
       "        text-align: right;\n",
       "    }\n",
       "</style>\n",
       "<table border=\"1\" class=\"dataframe\">\n",
       "  <thead>\n",
       "    <tr style=\"text-align: right;\">\n",
       "      <th></th>\n",
       "      <th>Id</th>\n",
       "      <th>MSSubClass</th>\n",
       "      <th>MSZoning</th>\n",
       "      <th>LotFrontage</th>\n",
       "      <th>LotArea</th>\n",
       "      <th>Street</th>\n",
       "      <th>Alley</th>\n",
       "      <th>LotShape</th>\n",
       "      <th>LandContour</th>\n",
       "      <th>Utilities</th>\n",
       "      <th>...</th>\n",
       "      <th>PoolArea</th>\n",
       "      <th>PoolQC</th>\n",
       "      <th>Fence</th>\n",
       "      <th>MiscFeature</th>\n",
       "      <th>MiscVal</th>\n",
       "      <th>MoSold</th>\n",
       "      <th>YrSold</th>\n",
       "      <th>SaleType</th>\n",
       "      <th>SaleCondition</th>\n",
       "      <th>SalePrice</th>\n",
       "    </tr>\n",
       "  </thead>\n",
       "  <tbody>\n",
       "    <tr>\n",
       "      <th>0</th>\n",
       "      <td>1</td>\n",
       "      <td>60</td>\n",
       "      <td>RL</td>\n",
       "      <td>65.0</td>\n",
       "      <td>8450</td>\n",
       "      <td>Pave</td>\n",
       "      <td>NaN</td>\n",
       "      <td>Reg</td>\n",
       "      <td>Lvl</td>\n",
       "      <td>AllPub</td>\n",
       "      <td>...</td>\n",
       "      <td>0</td>\n",
       "      <td>NaN</td>\n",
       "      <td>NaN</td>\n",
       "      <td>NaN</td>\n",
       "      <td>0</td>\n",
       "      <td>2</td>\n",
       "      <td>2008</td>\n",
       "      <td>WD</td>\n",
       "      <td>Normal</td>\n",
       "      <td>208500</td>\n",
       "    </tr>\n",
       "    <tr>\n",
       "      <th>1</th>\n",
       "      <td>2</td>\n",
       "      <td>20</td>\n",
       "      <td>RL</td>\n",
       "      <td>80.0</td>\n",
       "      <td>9600</td>\n",
       "      <td>Pave</td>\n",
       "      <td>NaN</td>\n",
       "      <td>Reg</td>\n",
       "      <td>Lvl</td>\n",
       "      <td>AllPub</td>\n",
       "      <td>...</td>\n",
       "      <td>0</td>\n",
       "      <td>NaN</td>\n",
       "      <td>NaN</td>\n",
       "      <td>NaN</td>\n",
       "      <td>0</td>\n",
       "      <td>5</td>\n",
       "      <td>2007</td>\n",
       "      <td>WD</td>\n",
       "      <td>Normal</td>\n",
       "      <td>181500</td>\n",
       "    </tr>\n",
       "    <tr>\n",
       "      <th>2</th>\n",
       "      <td>3</td>\n",
       "      <td>60</td>\n",
       "      <td>RL</td>\n",
       "      <td>68.0</td>\n",
       "      <td>11250</td>\n",
       "      <td>Pave</td>\n",
       "      <td>NaN</td>\n",
       "      <td>IR1</td>\n",
       "      <td>Lvl</td>\n",
       "      <td>AllPub</td>\n",
       "      <td>...</td>\n",
       "      <td>0</td>\n",
       "      <td>NaN</td>\n",
       "      <td>NaN</td>\n",
       "      <td>NaN</td>\n",
       "      <td>0</td>\n",
       "      <td>9</td>\n",
       "      <td>2008</td>\n",
       "      <td>WD</td>\n",
       "      <td>Normal</td>\n",
       "      <td>223500</td>\n",
       "    </tr>\n",
       "    <tr>\n",
       "      <th>3</th>\n",
       "      <td>4</td>\n",
       "      <td>70</td>\n",
       "      <td>RL</td>\n",
       "      <td>60.0</td>\n",
       "      <td>9550</td>\n",
       "      <td>Pave</td>\n",
       "      <td>NaN</td>\n",
       "      <td>IR1</td>\n",
       "      <td>Lvl</td>\n",
       "      <td>AllPub</td>\n",
       "      <td>...</td>\n",
       "      <td>0</td>\n",
       "      <td>NaN</td>\n",
       "      <td>NaN</td>\n",
       "      <td>NaN</td>\n",
       "      <td>0</td>\n",
       "      <td>2</td>\n",
       "      <td>2006</td>\n",
       "      <td>WD</td>\n",
       "      <td>Abnorml</td>\n",
       "      <td>140000</td>\n",
       "    </tr>\n",
       "    <tr>\n",
       "      <th>4</th>\n",
       "      <td>5</td>\n",
       "      <td>60</td>\n",
       "      <td>RL</td>\n",
       "      <td>84.0</td>\n",
       "      <td>14260</td>\n",
       "      <td>Pave</td>\n",
       "      <td>NaN</td>\n",
       "      <td>IR1</td>\n",
       "      <td>Lvl</td>\n",
       "      <td>AllPub</td>\n",
       "      <td>...</td>\n",
       "      <td>0</td>\n",
       "      <td>NaN</td>\n",
       "      <td>NaN</td>\n",
       "      <td>NaN</td>\n",
       "      <td>0</td>\n",
       "      <td>12</td>\n",
       "      <td>2008</td>\n",
       "      <td>WD</td>\n",
       "      <td>Normal</td>\n",
       "      <td>250000</td>\n",
       "    </tr>\n",
       "    <tr>\n",
       "      <th>...</th>\n",
       "      <td>...</td>\n",
       "      <td>...</td>\n",
       "      <td>...</td>\n",
       "      <td>...</td>\n",
       "      <td>...</td>\n",
       "      <td>...</td>\n",
       "      <td>...</td>\n",
       "      <td>...</td>\n",
       "      <td>...</td>\n",
       "      <td>...</td>\n",
       "      <td>...</td>\n",
       "      <td>...</td>\n",
       "      <td>...</td>\n",
       "      <td>...</td>\n",
       "      <td>...</td>\n",
       "      <td>...</td>\n",
       "      <td>...</td>\n",
       "      <td>...</td>\n",
       "      <td>...</td>\n",
       "      <td>...</td>\n",
       "      <td>...</td>\n",
       "    </tr>\n",
       "    <tr>\n",
       "      <th>1455</th>\n",
       "      <td>1456</td>\n",
       "      <td>60</td>\n",
       "      <td>RL</td>\n",
       "      <td>62.0</td>\n",
       "      <td>7917</td>\n",
       "      <td>Pave</td>\n",
       "      <td>NaN</td>\n",
       "      <td>Reg</td>\n",
       "      <td>Lvl</td>\n",
       "      <td>AllPub</td>\n",
       "      <td>...</td>\n",
       "      <td>0</td>\n",
       "      <td>NaN</td>\n",
       "      <td>NaN</td>\n",
       "      <td>NaN</td>\n",
       "      <td>0</td>\n",
       "      <td>8</td>\n",
       "      <td>2007</td>\n",
       "      <td>WD</td>\n",
       "      <td>Normal</td>\n",
       "      <td>175000</td>\n",
       "    </tr>\n",
       "    <tr>\n",
       "      <th>1456</th>\n",
       "      <td>1457</td>\n",
       "      <td>20</td>\n",
       "      <td>RL</td>\n",
       "      <td>85.0</td>\n",
       "      <td>13175</td>\n",
       "      <td>Pave</td>\n",
       "      <td>NaN</td>\n",
       "      <td>Reg</td>\n",
       "      <td>Lvl</td>\n",
       "      <td>AllPub</td>\n",
       "      <td>...</td>\n",
       "      <td>0</td>\n",
       "      <td>NaN</td>\n",
       "      <td>MnPrv</td>\n",
       "      <td>NaN</td>\n",
       "      <td>0</td>\n",
       "      <td>2</td>\n",
       "      <td>2010</td>\n",
       "      <td>WD</td>\n",
       "      <td>Normal</td>\n",
       "      <td>210000</td>\n",
       "    </tr>\n",
       "    <tr>\n",
       "      <th>1457</th>\n",
       "      <td>1458</td>\n",
       "      <td>70</td>\n",
       "      <td>RL</td>\n",
       "      <td>66.0</td>\n",
       "      <td>9042</td>\n",
       "      <td>Pave</td>\n",
       "      <td>NaN</td>\n",
       "      <td>Reg</td>\n",
       "      <td>Lvl</td>\n",
       "      <td>AllPub</td>\n",
       "      <td>...</td>\n",
       "      <td>0</td>\n",
       "      <td>NaN</td>\n",
       "      <td>GdPrv</td>\n",
       "      <td>Shed</td>\n",
       "      <td>2500</td>\n",
       "      <td>5</td>\n",
       "      <td>2010</td>\n",
       "      <td>WD</td>\n",
       "      <td>Normal</td>\n",
       "      <td>266500</td>\n",
       "    </tr>\n",
       "    <tr>\n",
       "      <th>1458</th>\n",
       "      <td>1459</td>\n",
       "      <td>20</td>\n",
       "      <td>RL</td>\n",
       "      <td>68.0</td>\n",
       "      <td>9717</td>\n",
       "      <td>Pave</td>\n",
       "      <td>NaN</td>\n",
       "      <td>Reg</td>\n",
       "      <td>Lvl</td>\n",
       "      <td>AllPub</td>\n",
       "      <td>...</td>\n",
       "      <td>0</td>\n",
       "      <td>NaN</td>\n",
       "      <td>NaN</td>\n",
       "      <td>NaN</td>\n",
       "      <td>0</td>\n",
       "      <td>4</td>\n",
       "      <td>2010</td>\n",
       "      <td>WD</td>\n",
       "      <td>Normal</td>\n",
       "      <td>142125</td>\n",
       "    </tr>\n",
       "    <tr>\n",
       "      <th>1459</th>\n",
       "      <td>1460</td>\n",
       "      <td>20</td>\n",
       "      <td>RL</td>\n",
       "      <td>75.0</td>\n",
       "      <td>9937</td>\n",
       "      <td>Pave</td>\n",
       "      <td>NaN</td>\n",
       "      <td>Reg</td>\n",
       "      <td>Lvl</td>\n",
       "      <td>AllPub</td>\n",
       "      <td>...</td>\n",
       "      <td>0</td>\n",
       "      <td>NaN</td>\n",
       "      <td>NaN</td>\n",
       "      <td>NaN</td>\n",
       "      <td>0</td>\n",
       "      <td>6</td>\n",
       "      <td>2008</td>\n",
       "      <td>WD</td>\n",
       "      <td>Normal</td>\n",
       "      <td>147500</td>\n",
       "    </tr>\n",
       "  </tbody>\n",
       "</table>\n",
       "<p>1460 rows × 81 columns</p>\n",
       "</div>"
      ],
      "text/plain": [
       "        Id  MSSubClass MSZoning  LotFrontage  LotArea Street Alley LotShape  \\\n",
       "0        1          60       RL         65.0     8450   Pave   NaN      Reg   \n",
       "1        2          20       RL         80.0     9600   Pave   NaN      Reg   \n",
       "2        3          60       RL         68.0    11250   Pave   NaN      IR1   \n",
       "3        4          70       RL         60.0     9550   Pave   NaN      IR1   \n",
       "4        5          60       RL         84.0    14260   Pave   NaN      IR1   \n",
       "...    ...         ...      ...          ...      ...    ...   ...      ...   \n",
       "1455  1456          60       RL         62.0     7917   Pave   NaN      Reg   \n",
       "1456  1457          20       RL         85.0    13175   Pave   NaN      Reg   \n",
       "1457  1458          70       RL         66.0     9042   Pave   NaN      Reg   \n",
       "1458  1459          20       RL         68.0     9717   Pave   NaN      Reg   \n",
       "1459  1460          20       RL         75.0     9937   Pave   NaN      Reg   \n",
       "\n",
       "     LandContour Utilities  ... PoolArea PoolQC  Fence MiscFeature MiscVal  \\\n",
       "0            Lvl    AllPub  ...        0    NaN    NaN         NaN       0   \n",
       "1            Lvl    AllPub  ...        0    NaN    NaN         NaN       0   \n",
       "2            Lvl    AllPub  ...        0    NaN    NaN         NaN       0   \n",
       "3            Lvl    AllPub  ...        0    NaN    NaN         NaN       0   \n",
       "4            Lvl    AllPub  ...        0    NaN    NaN         NaN       0   \n",
       "...          ...       ...  ...      ...    ...    ...         ...     ...   \n",
       "1455         Lvl    AllPub  ...        0    NaN    NaN         NaN       0   \n",
       "1456         Lvl    AllPub  ...        0    NaN  MnPrv         NaN       0   \n",
       "1457         Lvl    AllPub  ...        0    NaN  GdPrv        Shed    2500   \n",
       "1458         Lvl    AllPub  ...        0    NaN    NaN         NaN       0   \n",
       "1459         Lvl    AllPub  ...        0    NaN    NaN         NaN       0   \n",
       "\n",
       "     MoSold YrSold  SaleType  SaleCondition  SalePrice  \n",
       "0         2   2008        WD         Normal     208500  \n",
       "1         5   2007        WD         Normal     181500  \n",
       "2         9   2008        WD         Normal     223500  \n",
       "3         2   2006        WD        Abnorml     140000  \n",
       "4        12   2008        WD         Normal     250000  \n",
       "...     ...    ...       ...            ...        ...  \n",
       "1455      8   2007        WD         Normal     175000  \n",
       "1456      2   2010        WD         Normal     210000  \n",
       "1457      5   2010        WD         Normal     266500  \n",
       "1458      4   2010        WD         Normal     142125  \n",
       "1459      6   2008        WD         Normal     147500  \n",
       "\n",
       "[1460 rows x 81 columns]"
      ]
     },
     "execution_count": 99,
     "metadata": {},
     "output_type": "execute_result"
    }
   ],
   "source": [
    "train_df = pd.read_csv('./train.csv')\n",
    "train_df"
   ]
  },
  {
   "cell_type": "code",
   "execution_count": 117,
   "metadata": {},
   "outputs": [
    {
     "name": "stdout",
     "output_type": "stream",
     "text": [
      "MESは540818415.4684931\n",
      "Accuracy: 0.7178082191780822\n"
     ]
    }
   ],
   "source": [
    "from sklearn import linear_model\n",
    "from sklearn.model_selection import train_test_split #テストデータと訓練データを分けるためのメソッド\n",
    "from sklearn import metrics\n",
    "\n",
    "#データとレーニング用とテスト用に分ける\n",
    "X_train_sdg, X_test_sdg, Y_train_sdg, Y_test_sdg = train_test_split(train_df.loc[:,['GrLivArea', 'YearBuilt']], train_df['SalePrice']) #トレーニングデータとテストデータに分ける\n",
    "\n",
    "\n",
    "clf_rm = linear_model.SGDRegressor(max_iter=1000)\n",
    " \n",
    "# 予測モデルを作成\n",
    "clf_rm.fit(X_train_sdg, Y_train_sdg)\n",
    "\n",
    "Y_pred_sgd = clf.predict(X_test_sdg)\n",
    " \n",
    "# # 回帰係数\n",
    "# print(clf.coef_)\n",
    " \n",
    "# # 切片 (誤差)\n",
    "# print(clf.intercept_)\n",
    " \n",
    "# # 決定係数\n",
    "# print(clf.score(X, Y))\n",
    "\n",
    "print('MESは{}'.format(mean_squared_error(Y_test_sdg, Y_pred_sgd)))\n",
    "print('Accuracy: {}'.format(metrics.accuracy_score(Y_test_sdg, Y_pred_sgd)))"
   ]
  },
  {
   "cell_type": "code",
   "execution_count": null,
   "metadata": {},
   "outputs": [],
   "source": []
  },
  {
   "cell_type": "code",
   "execution_count": null,
   "metadata": {},
   "outputs": [],
   "source": []
  }
 ],
 "metadata": {
  "kernelspec": {
   "display_name": "Python 3",
   "language": "python",
   "name": "python3"
  },
  "language_info": {
   "codemirror_mode": {
    "name": "ipython",
    "version": 3
   },
   "file_extension": ".py",
   "mimetype": "text/x-python",
   "name": "python",
   "nbconvert_exporter": "python",
   "pygments_lexer": "ipython3",
   "version": "3.8.3"
  }
 },
 "nbformat": 4,
 "nbformat_minor": 4
}
