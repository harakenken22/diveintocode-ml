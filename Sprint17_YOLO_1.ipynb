{
  "nbformat": 4,
  "nbformat_minor": 0,
  "metadata": {
    "colab": {
      "name": "Sprint17_YOLO_1.ipynb",
      "provenance": [],
      "authorship_tag": "ABX9TyOsyTEQrqsn19+velngDSRk",
      "include_colab_link": true
    },
    "kernelspec": {
      "name": "python3",
      "display_name": "Python 3"
    },
    "language_info": {
      "name": "python"
    }
  },
  "cells": [
    {
      "cell_type": "markdown",
      "metadata": {
        "id": "view-in-github",
        "colab_type": "text"
      },
      "source": [
        "<a href=\"https://colab.research.google.com/github/harakenken22/diveintocode-ml/blob/master/Sprint17_YOLO_1.ipynb\" target=\"_parent\"><img src=\"https://colab.research.google.com/assets/colab-badge.svg\" alt=\"Open In Colab\"/></a>"
      ]
    },
    {
      "cell_type": "markdown",
      "metadata": {
        "id": "EdO3FkFE8-RI"
      },
      "source": [
        "【問題4】学習のためのファイルを作成\n",
        "----\n",
        "新しいデータ（シンプソンズデータセット）を学習します。README.mdのTrainingの項を読み、シンプソンズデータセットを学習するために必要なファイルを作成してください。\n",
        "\n",
        "\n",
        "アノテーションファイルの形式が問題1の実装とは異なるため変換する必要があります"
      ]
    },
    {
      "cell_type": "code",
      "metadata": {
        "colab": {
          "base_uri": "https://localhost:8080/",
          "height": 17
        },
        "id": "-xp86nNuLOD1",
        "outputId": "38856652-3d5a-4e42-e43a-92e1c980ec82"
      },
      "source": [
        "%%javascript\n",
        "function ClickConnect(){\n",
        "console.log(\"Working\");\n",
        "document.querySelector(\"colab-toolbar-button#connect\").click()\n",
        "}setInterval(ClickConnect,60000)"
      ],
      "execution_count": null,
      "outputs": [
        {
          "output_type": "display_data",
          "data": {
            "application/javascript": [
              "function ClickConnect(){\n",
              "console.log(\"Working\");\n",
              "document.querySelector(\"colab-toolbar-button#connect\").click()\n",
              "}setInterval(ClickConnect,60000)"
            ],
            "text/plain": [
              "<IPython.core.display.Javascript object>"
            ]
          },
          "metadata": {
            "tags": []
          }
        }
      ]
    },
    {
      "cell_type": "code",
      "metadata": {
        "colab": {
          "base_uri": "https://localhost:8080/"
        },
        "id": "UgnlQtv5k7q_",
        "outputId": "526f7e91-3d01-45e0-d158-87e433943642"
      },
      "source": [
        "!pip install tensorflow==1.15.0 "
      ],
      "execution_count": null,
      "outputs": [
        {
          "output_type": "stream",
          "text": [
            "Collecting tensorflow==1.15.0\n",
            "\u001b[?25l  Downloading https://files.pythonhosted.org/packages/92/2b/e3af15221da9ff323521565fa3324b0d7c7c5b1d7a8ca66984c8d59cb0ce/tensorflow-1.15.0-cp37-cp37m-manylinux2010_x86_64.whl (412.3MB)\n",
            "\u001b[K     |████████████████████████████████| 412.3MB 32kB/s \n",
            "\u001b[?25hRequirement already satisfied: google-pasta>=0.1.6 in /usr/local/lib/python3.7/dist-packages (from tensorflow==1.15.0) (0.2.0)\n",
            "Requirement already satisfied: absl-py>=0.7.0 in /usr/local/lib/python3.7/dist-packages (from tensorflow==1.15.0) (0.10.0)\n",
            "Requirement already satisfied: astor>=0.6.0 in /usr/local/lib/python3.7/dist-packages (from tensorflow==1.15.0) (0.8.1)\n",
            "Requirement already satisfied: wheel>=0.26 in /usr/local/lib/python3.7/dist-packages (from tensorflow==1.15.0) (0.36.2)\n",
            "Requirement already satisfied: protobuf>=3.6.1 in /usr/local/lib/python3.7/dist-packages (from tensorflow==1.15.0) (3.12.4)\n",
            "Collecting tensorflow-estimator==1.15.1\n",
            "\u001b[?25l  Downloading https://files.pythonhosted.org/packages/de/62/2ee9cd74c9fa2fa450877847ba560b260f5d0fb70ee0595203082dafcc9d/tensorflow_estimator-1.15.1-py2.py3-none-any.whl (503kB)\n",
            "\u001b[K     |████████████████████████████████| 512kB 33.3MB/s \n",
            "\u001b[?25hCollecting tensorboard<1.16.0,>=1.15.0\n",
            "\u001b[?25l  Downloading https://files.pythonhosted.org/packages/1e/e9/d3d747a97f7188f48aa5eda486907f3b345cd409f0a0850468ba867db246/tensorboard-1.15.0-py3-none-any.whl (3.8MB)\n",
            "\u001b[K     |████████████████████████████████| 3.8MB 39.9MB/s \n",
            "\u001b[?25hRequirement already satisfied: opt-einsum>=2.3.2 in /usr/local/lib/python3.7/dist-packages (from tensorflow==1.15.0) (3.3.0)\n",
            "Requirement already satisfied: grpcio>=1.8.6 in /usr/local/lib/python3.7/dist-packages (from tensorflow==1.15.0) (1.32.0)\n",
            "Requirement already satisfied: keras-preprocessing>=1.0.5 in /usr/local/lib/python3.7/dist-packages (from tensorflow==1.15.0) (1.1.2)\n",
            "Collecting keras-applications>=1.0.8\n",
            "\u001b[?25l  Downloading https://files.pythonhosted.org/packages/71/e3/19762fdfc62877ae9102edf6342d71b28fbfd9dea3d2f96a882ce099b03f/Keras_Applications-1.0.8-py3-none-any.whl (50kB)\n",
            "\u001b[K     |████████████████████████████████| 51kB 5.1MB/s \n",
            "\u001b[?25hRequirement already satisfied: numpy<2.0,>=1.16.0 in /usr/local/lib/python3.7/dist-packages (from tensorflow==1.15.0) (1.19.5)\n",
            "Requirement already satisfied: wrapt>=1.11.1 in /usr/local/lib/python3.7/dist-packages (from tensorflow==1.15.0) (1.12.1)\n",
            "Requirement already satisfied: six>=1.10.0 in /usr/local/lib/python3.7/dist-packages (from tensorflow==1.15.0) (1.15.0)\n",
            "Collecting gast==0.2.2\n",
            "  Downloading https://files.pythonhosted.org/packages/4e/35/11749bf99b2d4e3cceb4d55ca22590b0d7c2c62b9de38ac4a4a7f4687421/gast-0.2.2.tar.gz\n",
            "Requirement already satisfied: termcolor>=1.1.0 in /usr/local/lib/python3.7/dist-packages (from tensorflow==1.15.0) (1.1.0)\n",
            "Requirement already satisfied: setuptools in /usr/local/lib/python3.7/dist-packages (from protobuf>=3.6.1->tensorflow==1.15.0) (54.1.2)\n",
            "Requirement already satisfied: markdown>=2.6.8 in /usr/local/lib/python3.7/dist-packages (from tensorboard<1.16.0,>=1.15.0->tensorflow==1.15.0) (3.3.4)\n",
            "Requirement already satisfied: werkzeug>=0.11.15 in /usr/local/lib/python3.7/dist-packages (from tensorboard<1.16.0,>=1.15.0->tensorflow==1.15.0) (1.0.1)\n",
            "Requirement already satisfied: h5py in /usr/local/lib/python3.7/dist-packages (from keras-applications>=1.0.8->tensorflow==1.15.0) (2.10.0)\n",
            "Requirement already satisfied: importlib-metadata; python_version < \"3.8\" in /usr/local/lib/python3.7/dist-packages (from markdown>=2.6.8->tensorboard<1.16.0,>=1.15.0->tensorflow==1.15.0) (3.7.2)\n",
            "Requirement already satisfied: zipp>=0.5 in /usr/local/lib/python3.7/dist-packages (from importlib-metadata; python_version < \"3.8\"->markdown>=2.6.8->tensorboard<1.16.0,>=1.15.0->tensorflow==1.15.0) (3.4.1)\n",
            "Requirement already satisfied: typing-extensions>=3.6.4; python_version < \"3.8\" in /usr/local/lib/python3.7/dist-packages (from importlib-metadata; python_version < \"3.8\"->markdown>=2.6.8->tensorboard<1.16.0,>=1.15.0->tensorflow==1.15.0) (3.7.4.3)\n",
            "Building wheels for collected packages: gast\n",
            "  Building wheel for gast (setup.py) ... \u001b[?25l\u001b[?25hdone\n",
            "  Created wheel for gast: filename=gast-0.2.2-cp37-none-any.whl size=7540 sha256=68444d0d95d337dcb1b3b3b27558b2f754c5684c6b069aa0988b159addcee4bd\n",
            "  Stored in directory: /root/.cache/pip/wheels/5c/2e/7e/a1d4d4fcebe6c381f378ce7743a3ced3699feb89bcfbdadadd\n",
            "Successfully built gast\n",
            "\u001b[31mERROR: tensorflow-probability 0.12.1 has requirement gast>=0.3.2, but you'll have gast 0.2.2 which is incompatible.\u001b[0m\n",
            "Installing collected packages: tensorflow-estimator, tensorboard, keras-applications, gast, tensorflow\n",
            "  Found existing installation: tensorflow-estimator 2.4.0\n",
            "    Uninstalling tensorflow-estimator-2.4.0:\n",
            "      Successfully uninstalled tensorflow-estimator-2.4.0\n",
            "  Found existing installation: tensorboard 2.4.1\n",
            "    Uninstalling tensorboard-2.4.1:\n",
            "      Successfully uninstalled tensorboard-2.4.1\n",
            "  Found existing installation: gast 0.3.3\n",
            "    Uninstalling gast-0.3.3:\n",
            "      Successfully uninstalled gast-0.3.3\n",
            "  Found existing installation: tensorflow 2.4.1\n",
            "    Uninstalling tensorflow-2.4.1:\n",
            "      Successfully uninstalled tensorflow-2.4.1\n",
            "Successfully installed gast-0.2.2 keras-applications-1.0.8 tensorboard-1.15.0 tensorflow-1.15.0 tensorflow-estimator-1.15.1\n"
          ],
          "name": "stdout"
        }
      ]
    },
    {
      "cell_type": "code",
      "metadata": {
        "colab": {
          "base_uri": "https://localhost:8080/"
        },
        "id": "V2c-aGn5k-KS",
        "outputId": "62b9776d-b852-4380-8d12-176106209986"
      },
      "source": [
        "from google.colab import drive\n",
        "drive.mount('/content/drive')"
      ],
      "execution_count": null,
      "outputs": [
        {
          "output_type": "stream",
          "text": [
            "Mounted at /content/drive\n"
          ],
          "name": "stdout"
        }
      ]
    },
    {
      "cell_type": "code",
      "metadata": {
        "colab": {
          "base_uri": "https://localhost:8080/"
        },
        "id": "r0rdU_6klC08",
        "outputId": "9753e517-9a27-4ada-8086-ff49c0f16b24"
      },
      "source": [
        "!pip install keras==2.2.4"
      ],
      "execution_count": null,
      "outputs": [
        {
          "output_type": "stream",
          "text": [
            "Collecting keras==2.2.4\n",
            "\u001b[?25l  Downloading https://files.pythonhosted.org/packages/5e/10/aa32dad071ce52b5502266b5c659451cfd6ffcbf14e6c8c4f16c0ff5aaab/Keras-2.2.4-py2.py3-none-any.whl (312kB)\n",
            "\r\u001b[K     |█                               | 10kB 12.9MB/s eta 0:00:01\r\u001b[K     |██                              | 20kB 12.4MB/s eta 0:00:01\r\u001b[K     |███▏                            | 30kB 6.1MB/s eta 0:00:01\r\u001b[K     |████▏                           | 40kB 5.8MB/s eta 0:00:01\r\u001b[K     |█████▎                          | 51kB 4.6MB/s eta 0:00:01\r\u001b[K     |██████▎                         | 61kB 5.1MB/s eta 0:00:01\r\u001b[K     |███████▍                        | 71kB 5.0MB/s eta 0:00:01\r\u001b[K     |████████▍                       | 81kB 5.3MB/s eta 0:00:01\r\u001b[K     |█████████▍                      | 92kB 5.0MB/s eta 0:00:01\r\u001b[K     |██████████▌                     | 102kB 4.4MB/s eta 0:00:01\r\u001b[K     |███████████▌                    | 112kB 4.4MB/s eta 0:00:01\r\u001b[K     |████████████▋                   | 122kB 4.4MB/s eta 0:00:01\r\u001b[K     |█████████████▋                  | 133kB 4.4MB/s eta 0:00:01\r\u001b[K     |██████████████▊                 | 143kB 4.4MB/s eta 0:00:01\r\u001b[K     |███████████████▊                | 153kB 4.4MB/s eta 0:00:01\r\u001b[K     |████████████████▊               | 163kB 4.4MB/s eta 0:00:01\r\u001b[K     |█████████████████▉              | 174kB 4.4MB/s eta 0:00:01\r\u001b[K     |██████████████████▉             | 184kB 4.4MB/s eta 0:00:01\r\u001b[K     |████████████████████            | 194kB 4.4MB/s eta 0:00:01\r\u001b[K     |█████████████████████           | 204kB 4.4MB/s eta 0:00:01\r\u001b[K     |██████████████████████          | 215kB 4.4MB/s eta 0:00:01\r\u001b[K     |███████████████████████         | 225kB 4.4MB/s eta 0:00:01\r\u001b[K     |████████████████████████▏       | 235kB 4.4MB/s eta 0:00:01\r\u001b[K     |█████████████████████████▏      | 245kB 4.4MB/s eta 0:00:01\r\u001b[K     |██████████████████████████▏     | 256kB 4.4MB/s eta 0:00:01\r\u001b[K     |███████████████████████████▎    | 266kB 4.4MB/s eta 0:00:01\r\u001b[K     |████████████████████████████▎   | 276kB 4.4MB/s eta 0:00:01\r\u001b[K     |█████████████████████████████▍  | 286kB 4.4MB/s eta 0:00:01\r\u001b[K     |██████████████████████████████▍ | 296kB 4.4MB/s eta 0:00:01\r\u001b[K     |███████████████████████████████▌| 307kB 4.4MB/s eta 0:00:01\r\u001b[K     |████████████████████████████████| 317kB 4.4MB/s \n",
            "\u001b[?25hRequirement already satisfied: keras-applications>=1.0.6 in /usr/local/lib/python3.7/dist-packages (from keras==2.2.4) (1.0.8)\n",
            "Requirement already satisfied: pyyaml in /usr/local/lib/python3.7/dist-packages (from keras==2.2.4) (3.13)\n",
            "Requirement already satisfied: h5py in /usr/local/lib/python3.7/dist-packages (from keras==2.2.4) (2.10.0)\n",
            "Requirement already satisfied: keras-preprocessing>=1.0.5 in /usr/local/lib/python3.7/dist-packages (from keras==2.2.4) (1.1.2)\n",
            "Requirement already satisfied: six>=1.9.0 in /usr/local/lib/python3.7/dist-packages (from keras==2.2.4) (1.15.0)\n",
            "Requirement already satisfied: scipy>=0.14 in /usr/local/lib/python3.7/dist-packages (from keras==2.2.4) (1.4.1)\n",
            "Requirement already satisfied: numpy>=1.9.1 in /usr/local/lib/python3.7/dist-packages (from keras==2.2.4) (1.19.5)\n",
            "Installing collected packages: keras\n",
            "  Found existing installation: Keras 2.4.3\n",
            "    Uninstalling Keras-2.4.3:\n",
            "      Successfully uninstalled Keras-2.4.3\n",
            "Successfully installed keras-2.2.4\n"
          ],
          "name": "stdout"
        }
      ]
    },
    {
      "cell_type": "code",
      "metadata": {
        "colab": {
          "base_uri": "https://localhost:8080/",
          "height": 35
        },
        "id": "UeK1aUaUlLjc",
        "outputId": "95c528fc-afc0-4445-d210-69d8559c0f71"
      },
      "source": [
        "import tensorflow\n",
        "tensorflow.__version__"
      ],
      "execution_count": null,
      "outputs": [
        {
          "output_type": "execute_result",
          "data": {
            "application/vnd.google.colaboratory.intrinsic+json": {
              "type": "string"
            },
            "text/plain": [
              "'1.15.0'"
            ]
          },
          "metadata": {
            "tags": []
          },
          "execution_count": 5
        }
      ]
    },
    {
      "cell_type": "code",
      "metadata": {
        "colab": {
          "base_uri": "https://localhost:8080/"
        },
        "id": "SQvXIUKnlOSW",
        "outputId": "bb55ea08-7905-441f-9734-064ae927ae82"
      },
      "source": [
        "!pip install kaggle"
      ],
      "execution_count": null,
      "outputs": [
        {
          "output_type": "stream",
          "text": [
            "Requirement already satisfied: kaggle in /usr/local/lib/python3.7/dist-packages (1.5.10)\n",
            "Requirement already satisfied: six>=1.10 in /usr/local/lib/python3.7/dist-packages (from kaggle) (1.15.0)\n",
            "Requirement already satisfied: requests in /usr/local/lib/python3.7/dist-packages (from kaggle) (2.23.0)\n",
            "Requirement already satisfied: urllib3 in /usr/local/lib/python3.7/dist-packages (from kaggle) (1.24.3)\n",
            "Requirement already satisfied: python-slugify in /usr/local/lib/python3.7/dist-packages (from kaggle) (4.0.1)\n",
            "Requirement already satisfied: certifi in /usr/local/lib/python3.7/dist-packages (from kaggle) (2020.12.5)\n",
            "Requirement already satisfied: python-dateutil in /usr/local/lib/python3.7/dist-packages (from kaggle) (2.8.1)\n",
            "Requirement already satisfied: tqdm in /usr/local/lib/python3.7/dist-packages (from kaggle) (4.41.1)\n",
            "Requirement already satisfied: chardet<4,>=3.0.2 in /usr/local/lib/python3.7/dist-packages (from requests->kaggle) (3.0.4)\n",
            "Requirement already satisfied: idna<3,>=2.5 in /usr/local/lib/python3.7/dist-packages (from requests->kaggle) (2.10)\n",
            "Requirement already satisfied: text-unidecode>=1.3 in /usr/local/lib/python3.7/dist-packages (from python-slugify->kaggle) (1.3)\n"
          ],
          "name": "stdout"
        }
      ]
    },
    {
      "cell_type": "code",
      "metadata": {
        "colab": {
          "base_uri": "https://localhost:8080/"
        },
        "id": "mn13ZjtNl9lB",
        "outputId": "bd98b0bf-4872-4b81-ed4f-7fd4b675d413"
      },
      "source": [
        "import os\n",
        "\n",
        "os.chdir('/content/drive/MyDrive/Colab Notebooks')\n",
        "\n",
        "# カレントディレクトリの取得\n",
        "print(os.getcwd())"
      ],
      "execution_count": null,
      "outputs": [
        {
          "output_type": "stream",
          "text": [
            "/content/drive/My Drive\n"
          ],
          "name": "stdout"
        }
      ]
    },
    {
      "cell_type": "code",
      "metadata": {
        "colab": {
          "base_uri": "https://localhost:8080/"
        },
        "id": "FObOEOEZlvTX",
        "outputId": "5f58fa72-b386-4281-d521-cc102db68637"
      },
      "source": [
        "!git clone https://github.com/qqwweee/keras-yolo3"
      ],
      "execution_count": null,
      "outputs": [
        {
          "output_type": "stream",
          "text": [
            "Cloning into 'keras-yolo3'...\n",
            "remote: Enumerating objects: 144, done.\u001b[K\n",
            "remote: Total 144 (delta 0), reused 0 (delta 0), pack-reused 144\u001b[K\n",
            "Receiving objects: 100% (144/144), 151.08 KiB | 4.44 MiB/s, done.\n",
            "Resolving deltas: 100% (65/65), done.\n"
          ],
          "name": "stdout"
        }
      ]
    },
    {
      "cell_type": "code",
      "metadata": {
        "id": "jro1EXkHl-5d"
      },
      "source": [
        "!mv /content/drive/MyDrive/ObjectDetection/simpsons_dataset keras-yolo3"
      ],
      "execution_count": null,
      "outputs": []
    },
    {
      "cell_type": "code",
      "metadata": {
        "colab": {
          "base_uri": "https://localhost:8080/"
        },
        "id": "CldtwUwem87A",
        "outputId": "f54788bd-18db-4ae7-9c3a-ebd8aef0f823"
      },
      "source": [
        "%cd keras-yolo3"
      ],
      "execution_count": null,
      "outputs": [
        {
          "output_type": "stream",
          "text": [
            "/content/drive/My Drive/keras-yolo3\n"
          ],
          "name": "stdout"
        }
      ]
    },
    {
      "cell_type": "code",
      "metadata": {
        "colab": {
          "base_uri": "https://localhost:8080/"
        },
        "id": "LkSrphGXnZpM",
        "outputId": "c7ca0e69-28a0-4019-a8ec-71a43967fe68"
      },
      "source": [
        "!wget https://pjreddie.com/media/files/yolov3.weights"
      ],
      "execution_count": null,
      "outputs": [
        {
          "output_type": "stream",
          "text": [
            "--2021-03-29 06:48:25--  https://pjreddie.com/media/files/yolov3.weights\n",
            "Resolving pjreddie.com (pjreddie.com)... 128.208.4.108\n",
            "Connecting to pjreddie.com (pjreddie.com)|128.208.4.108|:443... connected.\n",
            "HTTP request sent, awaiting response... 200 OK\n",
            "Length: 248007048 (237M) [application/octet-stream]\n",
            "Saving to: ‘yolov3.weights’\n",
            "\n",
            "yolov3.weights      100%[===================>] 236.52M  35.5MB/s    in 7.2s    \n",
            "\n",
            "2021-03-29 06:48:32 (33.0 MB/s) - ‘yolov3.weights’ saved [248007048/248007048]\n",
            "\n"
          ],
          "name": "stdout"
        }
      ]
    },
    {
      "cell_type": "code",
      "metadata": {
        "colab": {
          "base_uri": "https://localhost:8080/",
          "height": 133
        },
        "id": "Tr6cMW05vZ3b",
        "outputId": "c137a7ea-0e28-4eab-ed42-d4639c4d1c0c"
      },
      "source": [
        "python convert.py yolov3.cfg yolov3.weights model_data/yolo.h5"
      ],
      "execution_count": null,
      "outputs": [
        {
          "output_type": "error",
          "ename": "SyntaxError",
          "evalue": "ignored",
          "traceback": [
            "\u001b[0;36m  File \u001b[0;32m\"<ipython-input-17-55e7ab2cdb4c>\"\u001b[0;36m, line \u001b[0;32m1\u001b[0m\n\u001b[0;31m    python convert.py yolov3.cfg yolov3.weights model_data/yolo.h5\u001b[0m\n\u001b[0m                 ^\u001b[0m\n\u001b[0;31mSyntaxError\u001b[0m\u001b[0;31m:\u001b[0m invalid syntax\n"
          ]
        }
      ]
    },
    {
      "cell_type": "code",
      "metadata": {
        "colab": {
          "base_uri": "https://localhost:8080/"
        },
        "id": "EDJducWcvfOQ",
        "outputId": "7e6ed572-e54f-412d-e1e6-875a5b4759b8"
      },
      "source": [
        "!git clone https://github.com/pjreddie/darknet\n",
        "!cd darknet\n",
        "!make"
      ],
      "execution_count": null,
      "outputs": [
        {
          "output_type": "stream",
          "text": [
            "Cloning into 'darknet'...\n",
            "remote: Enumerating objects: 5931, done.\u001b[K\n",
            "remote: Total 5931 (delta 0), reused 0 (delta 0), pack-reused 5931\u001b[K\n",
            "Receiving objects: 100% (5931/5931), 6.34 MiB | 7.02 MiB/s, done.\n",
            "Resolving deltas: 100% (3924/3924), done.\n",
            "Checking out files: 100% (979/979), done.\n",
            "make: *** No targets specified and no makefile found.  Stop.\n"
          ],
          "name": "stdout"
        }
      ]
    },
    {
      "cell_type": "code",
      "metadata": {
        "colab": {
          "base_uri": "https://localhost:8080/"
        },
        "id": "d1isYysOvoJ5",
        "outputId": "adf70568-ad06-4a24-c7b8-4eeaf661bf73"
      },
      "source": [
        "!wget https://pjreddie.com/media/files/yolov3.weights"
      ],
      "execution_count": null,
      "outputs": [
        {
          "output_type": "stream",
          "text": [
            "--2021-03-29 06:49:58--  https://pjreddie.com/media/files/yolov3.weights\n",
            "Resolving pjreddie.com (pjreddie.com)... 128.208.4.108\n",
            "Connecting to pjreddie.com (pjreddie.com)|128.208.4.108|:443... connected.\n",
            "HTTP request sent, awaiting response... 200 OK\n",
            "Length: 248007048 (237M) [application/octet-stream]\n",
            "Saving to: ‘yolov3.weights.1’\n",
            "\n",
            "yolov3.weights.1    100%[===================>] 236.52M  4.52MB/s    in 26s     \n",
            "\n",
            "2021-03-29 06:50:24 (9.00 MB/s) - ‘yolov3.weights.1’ saved [248007048/248007048]\n",
            "\n"
          ],
          "name": "stdout"
        }
      ]
    },
    {
      "cell_type": "code",
      "metadata": {
        "colab": {
          "base_uri": "https://localhost:8080/"
        },
        "id": "VH5CcsF2vwmz",
        "outputId": "3307ab0f-f724-48f9-bee3-4f35800b06f0"
      },
      "source": [
        "!./darknet detect cfg/yolov3.cfg yolov3.weights data/dog.jpg"
      ],
      "execution_count": null,
      "outputs": [
        {
          "output_type": "stream",
          "text": [
            "/bin/bash: ./darknet: Is a directory\n"
          ],
          "name": "stdout"
        }
      ]
    },
    {
      "cell_type": "code",
      "metadata": {
        "colab": {
          "base_uri": "https://localhost:8080/"
        },
        "id": "CthWUmY7v6Uu",
        "outputId": "af7d38f7-8bb5-4752-ca2c-dfa60b1430b6"
      },
      "source": [
        "!cd ls"
      ],
      "execution_count": null,
      "outputs": [
        {
          "output_type": "stream",
          "text": [
            "/bin/bash: line 0: cd: ls: No such file or directory\n"
          ],
          "name": "stdout"
        }
      ]
    },
    {
      "cell_type": "code",
      "metadata": {
        "colab": {
          "base_uri": "https://localhost:8080/"
        },
        "id": "-PqZqoP80Cjy",
        "outputId": "65028ffc-62e7-489d-c146-ca6a60ffa9f6"
      },
      "source": [
        "!ls\n"
      ],
      "execution_count": null,
      "outputs": [
        {
          "output_type": "stream",
          "text": [
            "annotation.txt\t    kmeans.py\t\t train.py\t    yolov3.weights\n",
            "coco_annotation.py  LICENSE\t\t voc_annotation.py  yolov3.weights.1\n",
            "convert.py\t    model_data\t\t yolo3\t\t    yolo_video.py\n",
            "darknet\t\t    README.md\t\t yolo.py\n",
            "darknet53.cfg\t    simpsons_dataset\t yolov3.cfg\n",
            "font\t\t    train_bottleneck.py  yolov3-tiny.cfg\n"
          ],
          "name": "stdout"
        }
      ]
    },
    {
      "cell_type": "code",
      "metadata": {
        "id": "0gHPjjtI0E--"
      },
      "source": [
        "!cd yolo3"
      ],
      "execution_count": null,
      "outputs": []
    },
    {
      "cell_type": "code",
      "metadata": {
        "colab": {
          "base_uri": "https://localhost:8080/"
        },
        "id": "l0ikGn1N0Kqg",
        "outputId": "856666eb-8d46-4fe1-dca4-6c28a0f6e2aa"
      },
      "source": [
        "!python convert.py yolov3.cfg yolov3.weights model_data/yolo.h5"
      ],
      "execution_count": 32,
      "outputs": [
        {
          "output_type": "stream",
          "text": [
            "Using TensorFlow backend.\n",
            "Loading weights.\n",
            "Weights Header:  0 2 0 [32013312]\n",
            "Parsing Darknet config.\n",
            "Creating Keras model.\n",
            "WARNING:tensorflow:From /usr/local/lib/python3.7/dist-packages/keras/backend/tensorflow_backend.py:74: The name tf.get_default_graph is deprecated. Please use tf.compat.v1.get_default_graph instead.\n",
            "\n",
            "WARNING:tensorflow:From /usr/local/lib/python3.7/dist-packages/keras/backend/tensorflow_backend.py:517: The name tf.placeholder is deprecated. Please use tf.compat.v1.placeholder instead.\n",
            "\n",
            "Parsing section net_0\n",
            "Parsing section convolutional_0\n",
            "conv2d bn leaky (3, 3, 3, 32)\n",
            "WARNING:tensorflow:From /usr/local/lib/python3.7/dist-packages/keras/backend/tensorflow_backend.py:4138: The name tf.random_uniform is deprecated. Please use tf.random.uniform instead.\n",
            "\n",
            "WARNING:tensorflow:From /usr/local/lib/python3.7/dist-packages/keras/backend/tensorflow_backend.py:174: The name tf.get_default_session is deprecated. Please use tf.compat.v1.get_default_session instead.\n",
            "\n",
            "WARNING:tensorflow:From /usr/local/lib/python3.7/dist-packages/keras/backend/tensorflow_backend.py:181: The name tf.ConfigProto is deprecated. Please use tf.compat.v1.ConfigProto instead.\n",
            "\n",
            "WARNING:tensorflow:From /usr/local/lib/python3.7/dist-packages/keras/backend/tensorflow_backend.py:186: The name tf.Session is deprecated. Please use tf.compat.v1.Session instead.\n",
            "\n",
            "2021-03-29 07:27:37.955611: I tensorflow/core/platform/cpu_feature_guard.cc:142] Your CPU supports instructions that this TensorFlow binary was not compiled to use: AVX2 FMA\n",
            "2021-03-29 07:27:37.962246: I tensorflow/core/platform/profile_utils/cpu_utils.cc:94] CPU Frequency: 2299995000 Hz\n",
            "2021-03-29 07:27:37.962588: I tensorflow/compiler/xla/service/service.cc:168] XLA service 0x5568281daa00 initialized for platform Host (this does not guarantee that XLA will be used). Devices:\n",
            "2021-03-29 07:27:37.962625: I tensorflow/compiler/xla/service/service.cc:176]   StreamExecutor device (0): Host, Default Version\n",
            "2021-03-29 07:27:37.965266: I tensorflow/stream_executor/platform/default/dso_loader.cc:44] Successfully opened dynamic library libcuda.so.1\n",
            "2021-03-29 07:27:37.976225: E tensorflow/stream_executor/cuda/cuda_driver.cc:318] failed call to cuInit: CUDA_ERROR_NO_DEVICE: no CUDA-capable device is detected\n",
            "2021-03-29 07:27:37.976273: I tensorflow/stream_executor/cuda/cuda_diagnostics.cc:156] kernel driver does not appear to be running on this host (4f57578600a1): /proc/driver/nvidia/version does not exist\n",
            "WARNING:tensorflow:From /usr/local/lib/python3.7/dist-packages/keras/backend/tensorflow_backend.py:190: The name tf.global_variables is deprecated. Please use tf.compat.v1.global_variables instead.\n",
            "\n",
            "WARNING:tensorflow:From /usr/local/lib/python3.7/dist-packages/keras/backend/tensorflow_backend.py:199: The name tf.is_variable_initialized is deprecated. Please use tf.compat.v1.is_variable_initialized instead.\n",
            "\n",
            "WARNING:tensorflow:From /usr/local/lib/python3.7/dist-packages/keras/backend/tensorflow_backend.py:206: The name tf.variables_initializer is deprecated. Please use tf.compat.v1.variables_initializer instead.\n",
            "\n",
            "WARNING:tensorflow:From /usr/local/lib/python3.7/dist-packages/keras/backend/tensorflow_backend.py:1834: The name tf.nn.fused_batch_norm is deprecated. Please use tf.compat.v1.nn.fused_batch_norm instead.\n",
            "\n",
            "WARNING:tensorflow:From /usr/local/lib/python3.7/dist-packages/keras/backend/tensorflow_backend.py:133: The name tf.placeholder_with_default is deprecated. Please use tf.compat.v1.placeholder_with_default instead.\n",
            "\n",
            "Parsing section convolutional_1\n",
            "conv2d bn leaky (3, 3, 32, 64)\n",
            "Parsing section convolutional_2\n",
            "conv2d bn leaky (1, 1, 64, 32)\n",
            "Parsing section convolutional_3\n",
            "conv2d bn leaky (3, 3, 32, 64)\n",
            "Parsing section shortcut_0\n",
            "Parsing section convolutional_4\n",
            "conv2d bn leaky (3, 3, 64, 128)\n",
            "Parsing section convolutional_5\n",
            "conv2d bn leaky (1, 1, 128, 64)\n",
            "Parsing section convolutional_6\n",
            "conv2d bn leaky (3, 3, 64, 128)\n",
            "Parsing section shortcut_1\n",
            "Parsing section convolutional_7\n",
            "conv2d bn leaky (1, 1, 128, 64)\n",
            "Parsing section convolutional_8\n",
            "conv2d bn leaky (3, 3, 64, 128)\n",
            "Parsing section shortcut_2\n",
            "Parsing section convolutional_9\n",
            "conv2d bn leaky (3, 3, 128, 256)\n",
            "Parsing section convolutional_10\n",
            "conv2d bn leaky (1, 1, 256, 128)\n",
            "Parsing section convolutional_11\n",
            "conv2d bn leaky (3, 3, 128, 256)\n",
            "Parsing section shortcut_3\n",
            "Parsing section convolutional_12\n",
            "conv2d bn leaky (1, 1, 256, 128)\n",
            "Parsing section convolutional_13\n",
            "conv2d bn leaky (3, 3, 128, 256)\n",
            "Parsing section shortcut_4\n",
            "Parsing section convolutional_14\n",
            "conv2d bn leaky (1, 1, 256, 128)\n",
            "Parsing section convolutional_15\n",
            "conv2d bn leaky (3, 3, 128, 256)\n",
            "Parsing section shortcut_5\n",
            "Parsing section convolutional_16\n",
            "conv2d bn leaky (1, 1, 256, 128)\n",
            "Parsing section convolutional_17\n",
            "conv2d bn leaky (3, 3, 128, 256)\n",
            "Parsing section shortcut_6\n",
            "Parsing section convolutional_18\n",
            "conv2d bn leaky (1, 1, 256, 128)\n",
            "Parsing section convolutional_19\n",
            "conv2d bn leaky (3, 3, 128, 256)\n",
            "Parsing section shortcut_7\n",
            "Parsing section convolutional_20\n",
            "conv2d bn leaky (1, 1, 256, 128)\n",
            "Parsing section convolutional_21\n",
            "conv2d bn leaky (3, 3, 128, 256)\n",
            "Parsing section shortcut_8\n",
            "Parsing section convolutional_22\n",
            "conv2d bn leaky (1, 1, 256, 128)\n",
            "Parsing section convolutional_23\n",
            "conv2d bn leaky (3, 3, 128, 256)\n",
            "Parsing section shortcut_9\n",
            "Parsing section convolutional_24\n",
            "conv2d bn leaky (1, 1, 256, 128)\n",
            "Parsing section convolutional_25\n",
            "conv2d bn leaky (3, 3, 128, 256)\n",
            "Parsing section shortcut_10\n",
            "Parsing section convolutional_26\n",
            "conv2d bn leaky (3, 3, 256, 512)\n",
            "Parsing section convolutional_27\n",
            "conv2d bn leaky (1, 1, 512, 256)\n",
            "Parsing section convolutional_28\n",
            "conv2d bn leaky (3, 3, 256, 512)\n",
            "Parsing section shortcut_11\n",
            "Parsing section convolutional_29\n",
            "conv2d bn leaky (1, 1, 512, 256)\n",
            "Parsing section convolutional_30\n",
            "conv2d bn leaky (3, 3, 256, 512)\n",
            "Parsing section shortcut_12\n",
            "Parsing section convolutional_31\n",
            "conv2d bn leaky (1, 1, 512, 256)\n",
            "Parsing section convolutional_32\n",
            "conv2d bn leaky (3, 3, 256, 512)\n",
            "Parsing section shortcut_13\n",
            "Parsing section convolutional_33\n",
            "conv2d bn leaky (1, 1, 512, 256)\n",
            "Parsing section convolutional_34\n",
            "conv2d bn leaky (3, 3, 256, 512)\n",
            "Parsing section shortcut_14\n",
            "Parsing section convolutional_35\n",
            "conv2d bn leaky (1, 1, 512, 256)\n",
            "Parsing section convolutional_36\n",
            "conv2d bn leaky (3, 3, 256, 512)\n",
            "Parsing section shortcut_15\n",
            "Parsing section convolutional_37\n",
            "conv2d bn leaky (1, 1, 512, 256)\n",
            "Parsing section convolutional_38\n",
            "conv2d bn leaky (3, 3, 256, 512)\n",
            "Parsing section shortcut_16\n",
            "Parsing section convolutional_39\n",
            "conv2d bn leaky (1, 1, 512, 256)\n",
            "Parsing section convolutional_40\n",
            "conv2d bn leaky (3, 3, 256, 512)\n",
            "Parsing section shortcut_17\n",
            "Parsing section convolutional_41\n",
            "conv2d bn leaky (1, 1, 512, 256)\n",
            "Parsing section convolutional_42\n",
            "conv2d bn leaky (3, 3, 256, 512)\n",
            "Parsing section shortcut_18\n",
            "Parsing section convolutional_43\n",
            "conv2d bn leaky (3, 3, 512, 1024)\n",
            "Parsing section convolutional_44\n",
            "conv2d bn leaky (1, 1, 1024, 512)\n",
            "Parsing section convolutional_45\n",
            "conv2d bn leaky (3, 3, 512, 1024)\n",
            "Parsing section shortcut_19\n",
            "Parsing section convolutional_46\n",
            "conv2d bn leaky (1, 1, 1024, 512)\n",
            "Parsing section convolutional_47\n",
            "conv2d bn leaky (3, 3, 512, 1024)\n",
            "Parsing section shortcut_20\n",
            "Parsing section convolutional_48\n",
            "conv2d bn leaky (1, 1, 1024, 512)\n",
            "Parsing section convolutional_49\n",
            "conv2d bn leaky (3, 3, 512, 1024)\n",
            "Parsing section shortcut_21\n",
            "Parsing section convolutional_50\n",
            "conv2d bn leaky (1, 1, 1024, 512)\n",
            "Parsing section convolutional_51\n",
            "conv2d bn leaky (3, 3, 512, 1024)\n",
            "Parsing section shortcut_22\n",
            "Parsing section convolutional_52\n",
            "conv2d bn leaky (1, 1, 1024, 512)\n",
            "Parsing section convolutional_53\n",
            "conv2d bn leaky (3, 3, 512, 1024)\n",
            "Parsing section convolutional_54\n",
            "conv2d bn leaky (1, 1, 1024, 512)\n",
            "Parsing section convolutional_55\n",
            "conv2d bn leaky (3, 3, 512, 1024)\n",
            "Parsing section convolutional_56\n",
            "conv2d bn leaky (1, 1, 1024, 512)\n",
            "Parsing section convolutional_57\n",
            "conv2d bn leaky (3, 3, 512, 1024)\n",
            "Parsing section convolutional_58\n",
            "conv2d    linear (1, 1, 1024, 255)\n",
            "Parsing section yolo_0\n",
            "Parsing section route_0\n",
            "Parsing section convolutional_59\n",
            "conv2d bn leaky (1, 1, 512, 256)\n",
            "Parsing section upsample_0\n",
            "WARNING:tensorflow:From /usr/local/lib/python3.7/dist-packages/keras/backend/tensorflow_backend.py:2018: The name tf.image.resize_nearest_neighbor is deprecated. Please use tf.compat.v1.image.resize_nearest_neighbor instead.\n",
            "\n",
            "Parsing section route_1\n",
            "Concatenating route layers: [<tf.Tensor 'up_sampling2d_1/ResizeNearestNeighbor:0' shape=(?, ?, ?, 256) dtype=float32>, <tf.Tensor 'add_19/add:0' shape=(?, ?, ?, 512) dtype=float32>]\n",
            "Parsing section convolutional_60\n",
            "conv2d bn leaky (1, 1, 768, 256)\n",
            "Parsing section convolutional_61\n",
            "conv2d bn leaky (3, 3, 256, 512)\n",
            "Parsing section convolutional_62\n",
            "conv2d bn leaky (1, 1, 512, 256)\n",
            "Parsing section convolutional_63\n",
            "conv2d bn leaky (3, 3, 256, 512)\n",
            "Parsing section convolutional_64\n",
            "conv2d bn leaky (1, 1, 512, 256)\n",
            "Parsing section convolutional_65\n",
            "conv2d bn leaky (3, 3, 256, 512)\n",
            "Parsing section convolutional_66\n",
            "conv2d    linear (1, 1, 512, 255)\n",
            "Parsing section yolo_1\n",
            "Parsing section route_2\n",
            "Parsing section convolutional_67\n",
            "conv2d bn leaky (1, 1, 256, 128)\n",
            "Parsing section upsample_1\n",
            "Parsing section route_3\n",
            "Concatenating route layers: [<tf.Tensor 'up_sampling2d_2/ResizeNearestNeighbor:0' shape=(?, ?, ?, 128) dtype=float32>, <tf.Tensor 'add_11/add:0' shape=(?, ?, ?, 256) dtype=float32>]\n",
            "Parsing section convolutional_68\n",
            "conv2d bn leaky (1, 1, 384, 128)\n",
            "Parsing section convolutional_69\n",
            "conv2d bn leaky (3, 3, 128, 256)\n",
            "Parsing section convolutional_70\n",
            "conv2d bn leaky (1, 1, 256, 128)\n",
            "Parsing section convolutional_71\n",
            "conv2d bn leaky (3, 3, 128, 256)\n",
            "Parsing section convolutional_72\n",
            "conv2d bn leaky (1, 1, 256, 128)\n",
            "Parsing section convolutional_73\n",
            "conv2d bn leaky (3, 3, 128, 256)\n",
            "Parsing section convolutional_74\n",
            "conv2d    linear (1, 1, 256, 255)\n",
            "Parsing section yolo_2\n",
            "__________________________________________________________________________________________________\n",
            "Layer (type)                    Output Shape         Param #     Connected to                     \n",
            "==================================================================================================\n",
            "input_1 (InputLayer)            (None, None, None, 3 0                                            \n",
            "__________________________________________________________________________________________________\n",
            "conv2d_1 (Conv2D)               (None, None, None, 3 864         input_1[0][0]                    \n",
            "__________________________________________________________________________________________________\n",
            "batch_normalization_1 (BatchNor (None, None, None, 3 128         conv2d_1[0][0]                   \n",
            "__________________________________________________________________________________________________\n",
            "leaky_re_lu_1 (LeakyReLU)       (None, None, None, 3 0           batch_normalization_1[0][0]      \n",
            "__________________________________________________________________________________________________\n",
            "zero_padding2d_1 (ZeroPadding2D (None, None, None, 3 0           leaky_re_lu_1[0][0]              \n",
            "__________________________________________________________________________________________________\n",
            "conv2d_2 (Conv2D)               (None, None, None, 6 18432       zero_padding2d_1[0][0]           \n",
            "__________________________________________________________________________________________________\n",
            "batch_normalization_2 (BatchNor (None, None, None, 6 256         conv2d_2[0][0]                   \n",
            "__________________________________________________________________________________________________\n",
            "leaky_re_lu_2 (LeakyReLU)       (None, None, None, 6 0           batch_normalization_2[0][0]      \n",
            "__________________________________________________________________________________________________\n",
            "conv2d_3 (Conv2D)               (None, None, None, 3 2048        leaky_re_lu_2[0][0]              \n",
            "__________________________________________________________________________________________________\n",
            "batch_normalization_3 (BatchNor (None, None, None, 3 128         conv2d_3[0][0]                   \n",
            "__________________________________________________________________________________________________\n",
            "leaky_re_lu_3 (LeakyReLU)       (None, None, None, 3 0           batch_normalization_3[0][0]      \n",
            "__________________________________________________________________________________________________\n",
            "conv2d_4 (Conv2D)               (None, None, None, 6 18432       leaky_re_lu_3[0][0]              \n",
            "__________________________________________________________________________________________________\n",
            "batch_normalization_4 (BatchNor (None, None, None, 6 256         conv2d_4[0][0]                   \n",
            "__________________________________________________________________________________________________\n",
            "leaky_re_lu_4 (LeakyReLU)       (None, None, None, 6 0           batch_normalization_4[0][0]      \n",
            "__________________________________________________________________________________________________\n",
            "add_1 (Add)                     (None, None, None, 6 0           leaky_re_lu_2[0][0]              \n",
            "                                                                 leaky_re_lu_4[0][0]              \n",
            "__________________________________________________________________________________________________\n",
            "zero_padding2d_2 (ZeroPadding2D (None, None, None, 6 0           add_1[0][0]                      \n",
            "__________________________________________________________________________________________________\n",
            "conv2d_5 (Conv2D)               (None, None, None, 1 73728       zero_padding2d_2[0][0]           \n",
            "__________________________________________________________________________________________________\n",
            "batch_normalization_5 (BatchNor (None, None, None, 1 512         conv2d_5[0][0]                   \n",
            "__________________________________________________________________________________________________\n",
            "leaky_re_lu_5 (LeakyReLU)       (None, None, None, 1 0           batch_normalization_5[0][0]      \n",
            "__________________________________________________________________________________________________\n",
            "conv2d_6 (Conv2D)               (None, None, None, 6 8192        leaky_re_lu_5[0][0]              \n",
            "__________________________________________________________________________________________________\n",
            "batch_normalization_6 (BatchNor (None, None, None, 6 256         conv2d_6[0][0]                   \n",
            "__________________________________________________________________________________________________\n",
            "leaky_re_lu_6 (LeakyReLU)       (None, None, None, 6 0           batch_normalization_6[0][0]      \n",
            "__________________________________________________________________________________________________\n",
            "conv2d_7 (Conv2D)               (None, None, None, 1 73728       leaky_re_lu_6[0][0]              \n",
            "__________________________________________________________________________________________________\n",
            "batch_normalization_7 (BatchNor (None, None, None, 1 512         conv2d_7[0][0]                   \n",
            "__________________________________________________________________________________________________\n",
            "leaky_re_lu_7 (LeakyReLU)       (None, None, None, 1 0           batch_normalization_7[0][0]      \n",
            "__________________________________________________________________________________________________\n",
            "add_2 (Add)                     (None, None, None, 1 0           leaky_re_lu_5[0][0]              \n",
            "                                                                 leaky_re_lu_7[0][0]              \n",
            "__________________________________________________________________________________________________\n",
            "conv2d_8 (Conv2D)               (None, None, None, 6 8192        add_2[0][0]                      \n",
            "__________________________________________________________________________________________________\n",
            "batch_normalization_8 (BatchNor (None, None, None, 6 256         conv2d_8[0][0]                   \n",
            "__________________________________________________________________________________________________\n",
            "leaky_re_lu_8 (LeakyReLU)       (None, None, None, 6 0           batch_normalization_8[0][0]      \n",
            "__________________________________________________________________________________________________\n",
            "conv2d_9 (Conv2D)               (None, None, None, 1 73728       leaky_re_lu_8[0][0]              \n",
            "__________________________________________________________________________________________________\n",
            "batch_normalization_9 (BatchNor (None, None, None, 1 512         conv2d_9[0][0]                   \n",
            "__________________________________________________________________________________________________\n",
            "leaky_re_lu_9 (LeakyReLU)       (None, None, None, 1 0           batch_normalization_9[0][0]      \n",
            "__________________________________________________________________________________________________\n",
            "add_3 (Add)                     (None, None, None, 1 0           add_2[0][0]                      \n",
            "                                                                 leaky_re_lu_9[0][0]              \n",
            "__________________________________________________________________________________________________\n",
            "zero_padding2d_3 (ZeroPadding2D (None, None, None, 1 0           add_3[0][0]                      \n",
            "__________________________________________________________________________________________________\n",
            "conv2d_10 (Conv2D)              (None, None, None, 2 294912      zero_padding2d_3[0][0]           \n",
            "__________________________________________________________________________________________________\n",
            "batch_normalization_10 (BatchNo (None, None, None, 2 1024        conv2d_10[0][0]                  \n",
            "__________________________________________________________________________________________________\n",
            "leaky_re_lu_10 (LeakyReLU)      (None, None, None, 2 0           batch_normalization_10[0][0]     \n",
            "__________________________________________________________________________________________________\n",
            "conv2d_11 (Conv2D)              (None, None, None, 1 32768       leaky_re_lu_10[0][0]             \n",
            "__________________________________________________________________________________________________\n",
            "batch_normalization_11 (BatchNo (None, None, None, 1 512         conv2d_11[0][0]                  \n",
            "__________________________________________________________________________________________________\n",
            "leaky_re_lu_11 (LeakyReLU)      (None, None, None, 1 0           batch_normalization_11[0][0]     \n",
            "__________________________________________________________________________________________________\n",
            "conv2d_12 (Conv2D)              (None, None, None, 2 294912      leaky_re_lu_11[0][0]             \n",
            "__________________________________________________________________________________________________\n",
            "batch_normalization_12 (BatchNo (None, None, None, 2 1024        conv2d_12[0][0]                  \n",
            "__________________________________________________________________________________________________\n",
            "leaky_re_lu_12 (LeakyReLU)      (None, None, None, 2 0           batch_normalization_12[0][0]     \n",
            "__________________________________________________________________________________________________\n",
            "add_4 (Add)                     (None, None, None, 2 0           leaky_re_lu_10[0][0]             \n",
            "                                                                 leaky_re_lu_12[0][0]             \n",
            "__________________________________________________________________________________________________\n",
            "conv2d_13 (Conv2D)              (None, None, None, 1 32768       add_4[0][0]                      \n",
            "__________________________________________________________________________________________________\n",
            "batch_normalization_13 (BatchNo (None, None, None, 1 512         conv2d_13[0][0]                  \n",
            "__________________________________________________________________________________________________\n",
            "leaky_re_lu_13 (LeakyReLU)      (None, None, None, 1 0           batch_normalization_13[0][0]     \n",
            "__________________________________________________________________________________________________\n",
            "conv2d_14 (Conv2D)              (None, None, None, 2 294912      leaky_re_lu_13[0][0]             \n",
            "__________________________________________________________________________________________________\n",
            "batch_normalization_14 (BatchNo (None, None, None, 2 1024        conv2d_14[0][0]                  \n",
            "__________________________________________________________________________________________________\n",
            "leaky_re_lu_14 (LeakyReLU)      (None, None, None, 2 0           batch_normalization_14[0][0]     \n",
            "__________________________________________________________________________________________________\n",
            "add_5 (Add)                     (None, None, None, 2 0           add_4[0][0]                      \n",
            "                                                                 leaky_re_lu_14[0][0]             \n",
            "__________________________________________________________________________________________________\n",
            "conv2d_15 (Conv2D)              (None, None, None, 1 32768       add_5[0][0]                      \n",
            "__________________________________________________________________________________________________\n",
            "batch_normalization_15 (BatchNo (None, None, None, 1 512         conv2d_15[0][0]                  \n",
            "__________________________________________________________________________________________________\n",
            "leaky_re_lu_15 (LeakyReLU)      (None, None, None, 1 0           batch_normalization_15[0][0]     \n",
            "__________________________________________________________________________________________________\n",
            "conv2d_16 (Conv2D)              (None, None, None, 2 294912      leaky_re_lu_15[0][0]             \n",
            "__________________________________________________________________________________________________\n",
            "batch_normalization_16 (BatchNo (None, None, None, 2 1024        conv2d_16[0][0]                  \n",
            "__________________________________________________________________________________________________\n",
            "leaky_re_lu_16 (LeakyReLU)      (None, None, None, 2 0           batch_normalization_16[0][0]     \n",
            "__________________________________________________________________________________________________\n",
            "add_6 (Add)                     (None, None, None, 2 0           add_5[0][0]                      \n",
            "                                                                 leaky_re_lu_16[0][0]             \n",
            "__________________________________________________________________________________________________\n",
            "conv2d_17 (Conv2D)              (None, None, None, 1 32768       add_6[0][0]                      \n",
            "__________________________________________________________________________________________________\n",
            "batch_normalization_17 (BatchNo (None, None, None, 1 512         conv2d_17[0][0]                  \n",
            "__________________________________________________________________________________________________\n",
            "leaky_re_lu_17 (LeakyReLU)      (None, None, None, 1 0           batch_normalization_17[0][0]     \n",
            "__________________________________________________________________________________________________\n",
            "conv2d_18 (Conv2D)              (None, None, None, 2 294912      leaky_re_lu_17[0][0]             \n",
            "__________________________________________________________________________________________________\n",
            "batch_normalization_18 (BatchNo (None, None, None, 2 1024        conv2d_18[0][0]                  \n",
            "__________________________________________________________________________________________________\n",
            "leaky_re_lu_18 (LeakyReLU)      (None, None, None, 2 0           batch_normalization_18[0][0]     \n",
            "__________________________________________________________________________________________________\n",
            "add_7 (Add)                     (None, None, None, 2 0           add_6[0][0]                      \n",
            "                                                                 leaky_re_lu_18[0][0]             \n",
            "__________________________________________________________________________________________________\n",
            "conv2d_19 (Conv2D)              (None, None, None, 1 32768       add_7[0][0]                      \n",
            "__________________________________________________________________________________________________\n",
            "batch_normalization_19 (BatchNo (None, None, None, 1 512         conv2d_19[0][0]                  \n",
            "__________________________________________________________________________________________________\n",
            "leaky_re_lu_19 (LeakyReLU)      (None, None, None, 1 0           batch_normalization_19[0][0]     \n",
            "__________________________________________________________________________________________________\n",
            "conv2d_20 (Conv2D)              (None, None, None, 2 294912      leaky_re_lu_19[0][0]             \n",
            "__________________________________________________________________________________________________\n",
            "batch_normalization_20 (BatchNo (None, None, None, 2 1024        conv2d_20[0][0]                  \n",
            "__________________________________________________________________________________________________\n",
            "leaky_re_lu_20 (LeakyReLU)      (None, None, None, 2 0           batch_normalization_20[0][0]     \n",
            "__________________________________________________________________________________________________\n",
            "add_8 (Add)                     (None, None, None, 2 0           add_7[0][0]                      \n",
            "                                                                 leaky_re_lu_20[0][0]             \n",
            "__________________________________________________________________________________________________\n",
            "conv2d_21 (Conv2D)              (None, None, None, 1 32768       add_8[0][0]                      \n",
            "__________________________________________________________________________________________________\n",
            "batch_normalization_21 (BatchNo (None, None, None, 1 512         conv2d_21[0][0]                  \n",
            "__________________________________________________________________________________________________\n",
            "leaky_re_lu_21 (LeakyReLU)      (None, None, None, 1 0           batch_normalization_21[0][0]     \n",
            "__________________________________________________________________________________________________\n",
            "conv2d_22 (Conv2D)              (None, None, None, 2 294912      leaky_re_lu_21[0][0]             \n",
            "__________________________________________________________________________________________________\n",
            "batch_normalization_22 (BatchNo (None, None, None, 2 1024        conv2d_22[0][0]                  \n",
            "__________________________________________________________________________________________________\n",
            "leaky_re_lu_22 (LeakyReLU)      (None, None, None, 2 0           batch_normalization_22[0][0]     \n",
            "__________________________________________________________________________________________________\n",
            "add_9 (Add)                     (None, None, None, 2 0           add_8[0][0]                      \n",
            "                                                                 leaky_re_lu_22[0][0]             \n",
            "__________________________________________________________________________________________________\n",
            "conv2d_23 (Conv2D)              (None, None, None, 1 32768       add_9[0][0]                      \n",
            "__________________________________________________________________________________________________\n",
            "batch_normalization_23 (BatchNo (None, None, None, 1 512         conv2d_23[0][0]                  \n",
            "__________________________________________________________________________________________________\n",
            "leaky_re_lu_23 (LeakyReLU)      (None, None, None, 1 0           batch_normalization_23[0][0]     \n",
            "__________________________________________________________________________________________________\n",
            "conv2d_24 (Conv2D)              (None, None, None, 2 294912      leaky_re_lu_23[0][0]             \n",
            "__________________________________________________________________________________________________\n",
            "batch_normalization_24 (BatchNo (None, None, None, 2 1024        conv2d_24[0][0]                  \n",
            "__________________________________________________________________________________________________\n",
            "leaky_re_lu_24 (LeakyReLU)      (None, None, None, 2 0           batch_normalization_24[0][0]     \n",
            "__________________________________________________________________________________________________\n",
            "add_10 (Add)                    (None, None, None, 2 0           add_9[0][0]                      \n",
            "                                                                 leaky_re_lu_24[0][0]             \n",
            "__________________________________________________________________________________________________\n",
            "conv2d_25 (Conv2D)              (None, None, None, 1 32768       add_10[0][0]                     \n",
            "__________________________________________________________________________________________________\n",
            "batch_normalization_25 (BatchNo (None, None, None, 1 512         conv2d_25[0][0]                  \n",
            "__________________________________________________________________________________________________\n",
            "leaky_re_lu_25 (LeakyReLU)      (None, None, None, 1 0           batch_normalization_25[0][0]     \n",
            "__________________________________________________________________________________________________\n",
            "conv2d_26 (Conv2D)              (None, None, None, 2 294912      leaky_re_lu_25[0][0]             \n",
            "__________________________________________________________________________________________________\n",
            "batch_normalization_26 (BatchNo (None, None, None, 2 1024        conv2d_26[0][0]                  \n",
            "__________________________________________________________________________________________________\n",
            "leaky_re_lu_26 (LeakyReLU)      (None, None, None, 2 0           batch_normalization_26[0][0]     \n",
            "__________________________________________________________________________________________________\n",
            "add_11 (Add)                    (None, None, None, 2 0           add_10[0][0]                     \n",
            "                                                                 leaky_re_lu_26[0][0]             \n",
            "__________________________________________________________________________________________________\n",
            "zero_padding2d_4 (ZeroPadding2D (None, None, None, 2 0           add_11[0][0]                     \n",
            "__________________________________________________________________________________________________\n",
            "conv2d_27 (Conv2D)              (None, None, None, 5 1179648     zero_padding2d_4[0][0]           \n",
            "__________________________________________________________________________________________________\n",
            "batch_normalization_27 (BatchNo (None, None, None, 5 2048        conv2d_27[0][0]                  \n",
            "__________________________________________________________________________________________________\n",
            "leaky_re_lu_27 (LeakyReLU)      (None, None, None, 5 0           batch_normalization_27[0][0]     \n",
            "__________________________________________________________________________________________________\n",
            "conv2d_28 (Conv2D)              (None, None, None, 2 131072      leaky_re_lu_27[0][0]             \n",
            "__________________________________________________________________________________________________\n",
            "batch_normalization_28 (BatchNo (None, None, None, 2 1024        conv2d_28[0][0]                  \n",
            "__________________________________________________________________________________________________\n",
            "leaky_re_lu_28 (LeakyReLU)      (None, None, None, 2 0           batch_normalization_28[0][0]     \n",
            "__________________________________________________________________________________________________\n",
            "conv2d_29 (Conv2D)              (None, None, None, 5 1179648     leaky_re_lu_28[0][0]             \n",
            "__________________________________________________________________________________________________\n",
            "batch_normalization_29 (BatchNo (None, None, None, 5 2048        conv2d_29[0][0]                  \n",
            "__________________________________________________________________________________________________\n",
            "leaky_re_lu_29 (LeakyReLU)      (None, None, None, 5 0           batch_normalization_29[0][0]     \n",
            "__________________________________________________________________________________________________\n",
            "add_12 (Add)                    (None, None, None, 5 0           leaky_re_lu_27[0][0]             \n",
            "                                                                 leaky_re_lu_29[0][0]             \n",
            "__________________________________________________________________________________________________\n",
            "conv2d_30 (Conv2D)              (None, None, None, 2 131072      add_12[0][0]                     \n",
            "__________________________________________________________________________________________________\n",
            "batch_normalization_30 (BatchNo (None, None, None, 2 1024        conv2d_30[0][0]                  \n",
            "__________________________________________________________________________________________________\n",
            "leaky_re_lu_30 (LeakyReLU)      (None, None, None, 2 0           batch_normalization_30[0][0]     \n",
            "__________________________________________________________________________________________________\n",
            "conv2d_31 (Conv2D)              (None, None, None, 5 1179648     leaky_re_lu_30[0][0]             \n",
            "__________________________________________________________________________________________________\n",
            "batch_normalization_31 (BatchNo (None, None, None, 5 2048        conv2d_31[0][0]                  \n",
            "__________________________________________________________________________________________________\n",
            "leaky_re_lu_31 (LeakyReLU)      (None, None, None, 5 0           batch_normalization_31[0][0]     \n",
            "__________________________________________________________________________________________________\n",
            "add_13 (Add)                    (None, None, None, 5 0           add_12[0][0]                     \n",
            "                                                                 leaky_re_lu_31[0][0]             \n",
            "__________________________________________________________________________________________________\n",
            "conv2d_32 (Conv2D)              (None, None, None, 2 131072      add_13[0][0]                     \n",
            "__________________________________________________________________________________________________\n",
            "batch_normalization_32 (BatchNo (None, None, None, 2 1024        conv2d_32[0][0]                  \n",
            "__________________________________________________________________________________________________\n",
            "leaky_re_lu_32 (LeakyReLU)      (None, None, None, 2 0           batch_normalization_32[0][0]     \n",
            "__________________________________________________________________________________________________\n",
            "conv2d_33 (Conv2D)              (None, None, None, 5 1179648     leaky_re_lu_32[0][0]             \n",
            "__________________________________________________________________________________________________\n",
            "batch_normalization_33 (BatchNo (None, None, None, 5 2048        conv2d_33[0][0]                  \n",
            "__________________________________________________________________________________________________\n",
            "leaky_re_lu_33 (LeakyReLU)      (None, None, None, 5 0           batch_normalization_33[0][0]     \n",
            "__________________________________________________________________________________________________\n",
            "add_14 (Add)                    (None, None, None, 5 0           add_13[0][0]                     \n",
            "                                                                 leaky_re_lu_33[0][0]             \n",
            "__________________________________________________________________________________________________\n",
            "conv2d_34 (Conv2D)              (None, None, None, 2 131072      add_14[0][0]                     \n",
            "__________________________________________________________________________________________________\n",
            "batch_normalization_34 (BatchNo (None, None, None, 2 1024        conv2d_34[0][0]                  \n",
            "__________________________________________________________________________________________________\n",
            "leaky_re_lu_34 (LeakyReLU)      (None, None, None, 2 0           batch_normalization_34[0][0]     \n",
            "__________________________________________________________________________________________________\n",
            "conv2d_35 (Conv2D)              (None, None, None, 5 1179648     leaky_re_lu_34[0][0]             \n",
            "__________________________________________________________________________________________________\n",
            "batch_normalization_35 (BatchNo (None, None, None, 5 2048        conv2d_35[0][0]                  \n",
            "__________________________________________________________________________________________________\n",
            "leaky_re_lu_35 (LeakyReLU)      (None, None, None, 5 0           batch_normalization_35[0][0]     \n",
            "__________________________________________________________________________________________________\n",
            "add_15 (Add)                    (None, None, None, 5 0           add_14[0][0]                     \n",
            "                                                                 leaky_re_lu_35[0][0]             \n",
            "__________________________________________________________________________________________________\n",
            "conv2d_36 (Conv2D)              (None, None, None, 2 131072      add_15[0][0]                     \n",
            "__________________________________________________________________________________________________\n",
            "batch_normalization_36 (BatchNo (None, None, None, 2 1024        conv2d_36[0][0]                  \n",
            "__________________________________________________________________________________________________\n",
            "leaky_re_lu_36 (LeakyReLU)      (None, None, None, 2 0           batch_normalization_36[0][0]     \n",
            "__________________________________________________________________________________________________\n",
            "conv2d_37 (Conv2D)              (None, None, None, 5 1179648     leaky_re_lu_36[0][0]             \n",
            "__________________________________________________________________________________________________\n",
            "batch_normalization_37 (BatchNo (None, None, None, 5 2048        conv2d_37[0][0]                  \n",
            "__________________________________________________________________________________________________\n",
            "leaky_re_lu_37 (LeakyReLU)      (None, None, None, 5 0           batch_normalization_37[0][0]     \n",
            "__________________________________________________________________________________________________\n",
            "add_16 (Add)                    (None, None, None, 5 0           add_15[0][0]                     \n",
            "                                                                 leaky_re_lu_37[0][0]             \n",
            "__________________________________________________________________________________________________\n",
            "conv2d_38 (Conv2D)              (None, None, None, 2 131072      add_16[0][0]                     \n",
            "__________________________________________________________________________________________________\n",
            "batch_normalization_38 (BatchNo (None, None, None, 2 1024        conv2d_38[0][0]                  \n",
            "__________________________________________________________________________________________________\n",
            "leaky_re_lu_38 (LeakyReLU)      (None, None, None, 2 0           batch_normalization_38[0][0]     \n",
            "__________________________________________________________________________________________________\n",
            "conv2d_39 (Conv2D)              (None, None, None, 5 1179648     leaky_re_lu_38[0][0]             \n",
            "__________________________________________________________________________________________________\n",
            "batch_normalization_39 (BatchNo (None, None, None, 5 2048        conv2d_39[0][0]                  \n",
            "__________________________________________________________________________________________________\n",
            "leaky_re_lu_39 (LeakyReLU)      (None, None, None, 5 0           batch_normalization_39[0][0]     \n",
            "__________________________________________________________________________________________________\n",
            "add_17 (Add)                    (None, None, None, 5 0           add_16[0][0]                     \n",
            "                                                                 leaky_re_lu_39[0][0]             \n",
            "__________________________________________________________________________________________________\n",
            "conv2d_40 (Conv2D)              (None, None, None, 2 131072      add_17[0][0]                     \n",
            "__________________________________________________________________________________________________\n",
            "batch_normalization_40 (BatchNo (None, None, None, 2 1024        conv2d_40[0][0]                  \n",
            "__________________________________________________________________________________________________\n",
            "leaky_re_lu_40 (LeakyReLU)      (None, None, None, 2 0           batch_normalization_40[0][0]     \n",
            "__________________________________________________________________________________________________\n",
            "conv2d_41 (Conv2D)              (None, None, None, 5 1179648     leaky_re_lu_40[0][0]             \n",
            "__________________________________________________________________________________________________\n",
            "batch_normalization_41 (BatchNo (None, None, None, 5 2048        conv2d_41[0][0]                  \n",
            "__________________________________________________________________________________________________\n",
            "leaky_re_lu_41 (LeakyReLU)      (None, None, None, 5 0           batch_normalization_41[0][0]     \n",
            "__________________________________________________________________________________________________\n",
            "add_18 (Add)                    (None, None, None, 5 0           add_17[0][0]                     \n",
            "                                                                 leaky_re_lu_41[0][0]             \n",
            "__________________________________________________________________________________________________\n",
            "conv2d_42 (Conv2D)              (None, None, None, 2 131072      add_18[0][0]                     \n",
            "__________________________________________________________________________________________________\n",
            "batch_normalization_42 (BatchNo (None, None, None, 2 1024        conv2d_42[0][0]                  \n",
            "__________________________________________________________________________________________________\n",
            "leaky_re_lu_42 (LeakyReLU)      (None, None, None, 2 0           batch_normalization_42[0][0]     \n",
            "__________________________________________________________________________________________________\n",
            "conv2d_43 (Conv2D)              (None, None, None, 5 1179648     leaky_re_lu_42[0][0]             \n",
            "__________________________________________________________________________________________________\n",
            "batch_normalization_43 (BatchNo (None, None, None, 5 2048        conv2d_43[0][0]                  \n",
            "__________________________________________________________________________________________________\n",
            "leaky_re_lu_43 (LeakyReLU)      (None, None, None, 5 0           batch_normalization_43[0][0]     \n",
            "__________________________________________________________________________________________________\n",
            "add_19 (Add)                    (None, None, None, 5 0           add_18[0][0]                     \n",
            "                                                                 leaky_re_lu_43[0][0]             \n",
            "__________________________________________________________________________________________________\n",
            "zero_padding2d_5 (ZeroPadding2D (None, None, None, 5 0           add_19[0][0]                     \n",
            "__________________________________________________________________________________________________\n",
            "conv2d_44 (Conv2D)              (None, None, None, 1 4718592     zero_padding2d_5[0][0]           \n",
            "__________________________________________________________________________________________________\n",
            "batch_normalization_44 (BatchNo (None, None, None, 1 4096        conv2d_44[0][0]                  \n",
            "__________________________________________________________________________________________________\n",
            "leaky_re_lu_44 (LeakyReLU)      (None, None, None, 1 0           batch_normalization_44[0][0]     \n",
            "__________________________________________________________________________________________________\n",
            "conv2d_45 (Conv2D)              (None, None, None, 5 524288      leaky_re_lu_44[0][0]             \n",
            "__________________________________________________________________________________________________\n",
            "batch_normalization_45 (BatchNo (None, None, None, 5 2048        conv2d_45[0][0]                  \n",
            "__________________________________________________________________________________________________\n",
            "leaky_re_lu_45 (LeakyReLU)      (None, None, None, 5 0           batch_normalization_45[0][0]     \n",
            "__________________________________________________________________________________________________\n",
            "conv2d_46 (Conv2D)              (None, None, None, 1 4718592     leaky_re_lu_45[0][0]             \n",
            "__________________________________________________________________________________________________\n",
            "batch_normalization_46 (BatchNo (None, None, None, 1 4096        conv2d_46[0][0]                  \n",
            "__________________________________________________________________________________________________\n",
            "leaky_re_lu_46 (LeakyReLU)      (None, None, None, 1 0           batch_normalization_46[0][0]     \n",
            "__________________________________________________________________________________________________\n",
            "add_20 (Add)                    (None, None, None, 1 0           leaky_re_lu_44[0][0]             \n",
            "                                                                 leaky_re_lu_46[0][0]             \n",
            "__________________________________________________________________________________________________\n",
            "conv2d_47 (Conv2D)              (None, None, None, 5 524288      add_20[0][0]                     \n",
            "__________________________________________________________________________________________________\n",
            "batch_normalization_47 (BatchNo (None, None, None, 5 2048        conv2d_47[0][0]                  \n",
            "__________________________________________________________________________________________________\n",
            "leaky_re_lu_47 (LeakyReLU)      (None, None, None, 5 0           batch_normalization_47[0][0]     \n",
            "__________________________________________________________________________________________________\n",
            "conv2d_48 (Conv2D)              (None, None, None, 1 4718592     leaky_re_lu_47[0][0]             \n",
            "__________________________________________________________________________________________________\n",
            "batch_normalization_48 (BatchNo (None, None, None, 1 4096        conv2d_48[0][0]                  \n",
            "__________________________________________________________________________________________________\n",
            "leaky_re_lu_48 (LeakyReLU)      (None, None, None, 1 0           batch_normalization_48[0][0]     \n",
            "__________________________________________________________________________________________________\n",
            "add_21 (Add)                    (None, None, None, 1 0           add_20[0][0]                     \n",
            "                                                                 leaky_re_lu_48[0][0]             \n",
            "__________________________________________________________________________________________________\n",
            "conv2d_49 (Conv2D)              (None, None, None, 5 524288      add_21[0][0]                     \n",
            "__________________________________________________________________________________________________\n",
            "batch_normalization_49 (BatchNo (None, None, None, 5 2048        conv2d_49[0][0]                  \n",
            "__________________________________________________________________________________________________\n",
            "leaky_re_lu_49 (LeakyReLU)      (None, None, None, 5 0           batch_normalization_49[0][0]     \n",
            "__________________________________________________________________________________________________\n",
            "conv2d_50 (Conv2D)              (None, None, None, 1 4718592     leaky_re_lu_49[0][0]             \n",
            "__________________________________________________________________________________________________\n",
            "batch_normalization_50 (BatchNo (None, None, None, 1 4096        conv2d_50[0][0]                  \n",
            "__________________________________________________________________________________________________\n",
            "leaky_re_lu_50 (LeakyReLU)      (None, None, None, 1 0           batch_normalization_50[0][0]     \n",
            "__________________________________________________________________________________________________\n",
            "add_22 (Add)                    (None, None, None, 1 0           add_21[0][0]                     \n",
            "                                                                 leaky_re_lu_50[0][0]             \n",
            "__________________________________________________________________________________________________\n",
            "conv2d_51 (Conv2D)              (None, None, None, 5 524288      add_22[0][0]                     \n",
            "__________________________________________________________________________________________________\n",
            "batch_normalization_51 (BatchNo (None, None, None, 5 2048        conv2d_51[0][0]                  \n",
            "__________________________________________________________________________________________________\n",
            "leaky_re_lu_51 (LeakyReLU)      (None, None, None, 5 0           batch_normalization_51[0][0]     \n",
            "__________________________________________________________________________________________________\n",
            "conv2d_52 (Conv2D)              (None, None, None, 1 4718592     leaky_re_lu_51[0][0]             \n",
            "__________________________________________________________________________________________________\n",
            "batch_normalization_52 (BatchNo (None, None, None, 1 4096        conv2d_52[0][0]                  \n",
            "__________________________________________________________________________________________________\n",
            "leaky_re_lu_52 (LeakyReLU)      (None, None, None, 1 0           batch_normalization_52[0][0]     \n",
            "__________________________________________________________________________________________________\n",
            "add_23 (Add)                    (None, None, None, 1 0           add_22[0][0]                     \n",
            "                                                                 leaky_re_lu_52[0][0]             \n",
            "__________________________________________________________________________________________________\n",
            "conv2d_53 (Conv2D)              (None, None, None, 5 524288      add_23[0][0]                     \n",
            "__________________________________________________________________________________________________\n",
            "batch_normalization_53 (BatchNo (None, None, None, 5 2048        conv2d_53[0][0]                  \n",
            "__________________________________________________________________________________________________\n",
            "leaky_re_lu_53 (LeakyReLU)      (None, None, None, 5 0           batch_normalization_53[0][0]     \n",
            "__________________________________________________________________________________________________\n",
            "conv2d_54 (Conv2D)              (None, None, None, 1 4718592     leaky_re_lu_53[0][0]             \n",
            "__________________________________________________________________________________________________\n",
            "batch_normalization_54 (BatchNo (None, None, None, 1 4096        conv2d_54[0][0]                  \n",
            "__________________________________________________________________________________________________\n",
            "leaky_re_lu_54 (LeakyReLU)      (None, None, None, 1 0           batch_normalization_54[0][0]     \n",
            "__________________________________________________________________________________________________\n",
            "conv2d_55 (Conv2D)              (None, None, None, 5 524288      leaky_re_lu_54[0][0]             \n",
            "__________________________________________________________________________________________________\n",
            "batch_normalization_55 (BatchNo (None, None, None, 5 2048        conv2d_55[0][0]                  \n",
            "__________________________________________________________________________________________________\n",
            "leaky_re_lu_55 (LeakyReLU)      (None, None, None, 5 0           batch_normalization_55[0][0]     \n",
            "__________________________________________________________________________________________________\n",
            "conv2d_56 (Conv2D)              (None, None, None, 1 4718592     leaky_re_lu_55[0][0]             \n",
            "__________________________________________________________________________________________________\n",
            "batch_normalization_56 (BatchNo (None, None, None, 1 4096        conv2d_56[0][0]                  \n",
            "__________________________________________________________________________________________________\n",
            "leaky_re_lu_56 (LeakyReLU)      (None, None, None, 1 0           batch_normalization_56[0][0]     \n",
            "__________________________________________________________________________________________________\n",
            "conv2d_57 (Conv2D)              (None, None, None, 5 524288      leaky_re_lu_56[0][0]             \n",
            "__________________________________________________________________________________________________\n",
            "batch_normalization_57 (BatchNo (None, None, None, 5 2048        conv2d_57[0][0]                  \n",
            "__________________________________________________________________________________________________\n",
            "leaky_re_lu_57 (LeakyReLU)      (None, None, None, 5 0           batch_normalization_57[0][0]     \n",
            "__________________________________________________________________________________________________\n",
            "conv2d_60 (Conv2D)              (None, None, None, 2 131072      leaky_re_lu_57[0][0]             \n",
            "__________________________________________________________________________________________________\n",
            "batch_normalization_59 (BatchNo (None, None, None, 2 1024        conv2d_60[0][0]                  \n",
            "__________________________________________________________________________________________________\n",
            "leaky_re_lu_59 (LeakyReLU)      (None, None, None, 2 0           batch_normalization_59[0][0]     \n",
            "__________________________________________________________________________________________________\n",
            "up_sampling2d_1 (UpSampling2D)  (None, None, None, 2 0           leaky_re_lu_59[0][0]             \n",
            "__________________________________________________________________________________________________\n",
            "concatenate_1 (Concatenate)     (None, None, None, 7 0           up_sampling2d_1[0][0]            \n",
            "                                                                 add_19[0][0]                     \n",
            "__________________________________________________________________________________________________\n",
            "conv2d_61 (Conv2D)              (None, None, None, 2 196608      concatenate_1[0][0]              \n",
            "__________________________________________________________________________________________________\n",
            "batch_normalization_60 (BatchNo (None, None, None, 2 1024        conv2d_61[0][0]                  \n",
            "__________________________________________________________________________________________________\n",
            "leaky_re_lu_60 (LeakyReLU)      (None, None, None, 2 0           batch_normalization_60[0][0]     \n",
            "__________________________________________________________________________________________________\n",
            "conv2d_62 (Conv2D)              (None, None, None, 5 1179648     leaky_re_lu_60[0][0]             \n",
            "__________________________________________________________________________________________________\n",
            "batch_normalization_61 (BatchNo (None, None, None, 5 2048        conv2d_62[0][0]                  \n",
            "__________________________________________________________________________________________________\n",
            "leaky_re_lu_61 (LeakyReLU)      (None, None, None, 5 0           batch_normalization_61[0][0]     \n",
            "__________________________________________________________________________________________________\n",
            "conv2d_63 (Conv2D)              (None, None, None, 2 131072      leaky_re_lu_61[0][0]             \n",
            "__________________________________________________________________________________________________\n",
            "batch_normalization_62 (BatchNo (None, None, None, 2 1024        conv2d_63[0][0]                  \n",
            "__________________________________________________________________________________________________\n",
            "leaky_re_lu_62 (LeakyReLU)      (None, None, None, 2 0           batch_normalization_62[0][0]     \n",
            "__________________________________________________________________________________________________\n",
            "conv2d_64 (Conv2D)              (None, None, None, 5 1179648     leaky_re_lu_62[0][0]             \n",
            "__________________________________________________________________________________________________\n",
            "batch_normalization_63 (BatchNo (None, None, None, 5 2048        conv2d_64[0][0]                  \n",
            "__________________________________________________________________________________________________\n",
            "leaky_re_lu_63 (LeakyReLU)      (None, None, None, 5 0           batch_normalization_63[0][0]     \n",
            "__________________________________________________________________________________________________\n",
            "conv2d_65 (Conv2D)              (None, None, None, 2 131072      leaky_re_lu_63[0][0]             \n",
            "__________________________________________________________________________________________________\n",
            "batch_normalization_64 (BatchNo (None, None, None, 2 1024        conv2d_65[0][0]                  \n",
            "__________________________________________________________________________________________________\n",
            "leaky_re_lu_64 (LeakyReLU)      (None, None, None, 2 0           batch_normalization_64[0][0]     \n",
            "__________________________________________________________________________________________________\n",
            "conv2d_68 (Conv2D)              (None, None, None, 1 32768       leaky_re_lu_64[0][0]             \n",
            "__________________________________________________________________________________________________\n",
            "batch_normalization_66 (BatchNo (None, None, None, 1 512         conv2d_68[0][0]                  \n",
            "__________________________________________________________________________________________________\n",
            "leaky_re_lu_66 (LeakyReLU)      (None, None, None, 1 0           batch_normalization_66[0][0]     \n",
            "__________________________________________________________________________________________________\n",
            "up_sampling2d_2 (UpSampling2D)  (None, None, None, 1 0           leaky_re_lu_66[0][0]             \n",
            "__________________________________________________________________________________________________\n",
            "concatenate_2 (Concatenate)     (None, None, None, 3 0           up_sampling2d_2[0][0]            \n",
            "                                                                 add_11[0][0]                     \n",
            "__________________________________________________________________________________________________\n",
            "conv2d_69 (Conv2D)              (None, None, None, 1 49152       concatenate_2[0][0]              \n",
            "__________________________________________________________________________________________________\n",
            "batch_normalization_67 (BatchNo (None, None, None, 1 512         conv2d_69[0][0]                  \n",
            "__________________________________________________________________________________________________\n",
            "leaky_re_lu_67 (LeakyReLU)      (None, None, None, 1 0           batch_normalization_67[0][0]     \n",
            "__________________________________________________________________________________________________\n",
            "conv2d_70 (Conv2D)              (None, None, None, 2 294912      leaky_re_lu_67[0][0]             \n",
            "__________________________________________________________________________________________________\n",
            "batch_normalization_68 (BatchNo (None, None, None, 2 1024        conv2d_70[0][0]                  \n",
            "__________________________________________________________________________________________________\n",
            "leaky_re_lu_68 (LeakyReLU)      (None, None, None, 2 0           batch_normalization_68[0][0]     \n",
            "__________________________________________________________________________________________________\n",
            "conv2d_71 (Conv2D)              (None, None, None, 1 32768       leaky_re_lu_68[0][0]             \n",
            "__________________________________________________________________________________________________\n",
            "batch_normalization_69 (BatchNo (None, None, None, 1 512         conv2d_71[0][0]                  \n",
            "__________________________________________________________________________________________________\n",
            "leaky_re_lu_69 (LeakyReLU)      (None, None, None, 1 0           batch_normalization_69[0][0]     \n",
            "__________________________________________________________________________________________________\n",
            "conv2d_72 (Conv2D)              (None, None, None, 2 294912      leaky_re_lu_69[0][0]             \n",
            "__________________________________________________________________________________________________\n",
            "batch_normalization_70 (BatchNo (None, None, None, 2 1024        conv2d_72[0][0]                  \n",
            "__________________________________________________________________________________________________\n",
            "leaky_re_lu_70 (LeakyReLU)      (None, None, None, 2 0           batch_normalization_70[0][0]     \n",
            "__________________________________________________________________________________________________\n",
            "conv2d_73 (Conv2D)              (None, None, None, 1 32768       leaky_re_lu_70[0][0]             \n",
            "__________________________________________________________________________________________________\n",
            "batch_normalization_71 (BatchNo (None, None, None, 1 512         conv2d_73[0][0]                  \n",
            "__________________________________________________________________________________________________\n",
            "leaky_re_lu_71 (LeakyReLU)      (None, None, None, 1 0           batch_normalization_71[0][0]     \n",
            "__________________________________________________________________________________________________\n",
            "conv2d_58 (Conv2D)              (None, None, None, 1 4718592     leaky_re_lu_57[0][0]             \n",
            "__________________________________________________________________________________________________\n",
            "conv2d_66 (Conv2D)              (None, None, None, 5 1179648     leaky_re_lu_64[0][0]             \n",
            "__________________________________________________________________________________________________\n",
            "conv2d_74 (Conv2D)              (None, None, None, 2 294912      leaky_re_lu_71[0][0]             \n",
            "__________________________________________________________________________________________________\n",
            "batch_normalization_58 (BatchNo (None, None, None, 1 4096        conv2d_58[0][0]                  \n",
            "__________________________________________________________________________________________________\n",
            "batch_normalization_65 (BatchNo (None, None, None, 5 2048        conv2d_66[0][0]                  \n",
            "__________________________________________________________________________________________________\n",
            "batch_normalization_72 (BatchNo (None, None, None, 2 1024        conv2d_74[0][0]                  \n",
            "__________________________________________________________________________________________________\n",
            "leaky_re_lu_58 (LeakyReLU)      (None, None, None, 1 0           batch_normalization_58[0][0]     \n",
            "__________________________________________________________________________________________________\n",
            "leaky_re_lu_65 (LeakyReLU)      (None, None, None, 5 0           batch_normalization_65[0][0]     \n",
            "__________________________________________________________________________________________________\n",
            "leaky_re_lu_72 (LeakyReLU)      (None, None, None, 2 0           batch_normalization_72[0][0]     \n",
            "__________________________________________________________________________________________________\n",
            "conv2d_59 (Conv2D)              (None, None, None, 2 261375      leaky_re_lu_58[0][0]             \n",
            "__________________________________________________________________________________________________\n",
            "conv2d_67 (Conv2D)              (None, None, None, 2 130815      leaky_re_lu_65[0][0]             \n",
            "__________________________________________________________________________________________________\n",
            "conv2d_75 (Conv2D)              (None, None, None, 2 65535       leaky_re_lu_72[0][0]             \n",
            "==================================================================================================\n",
            "Total params: 62,001,757\n",
            "Trainable params: 61,949,149\n",
            "Non-trainable params: 52,608\n",
            "__________________________________________________________________________________________________\n",
            "None\n",
            "Saved Keras model to model_data/yolo.h5\n",
            "Read 62001757 of 62001757.0 from Darknet weights.\n"
          ],
          "name": "stdout"
        }
      ]
    },
    {
      "cell_type": "code",
      "metadata": {
        "colab": {
          "base_uri": "https://localhost:8080/"
        },
        "id": "cORYDjiA0RI0",
        "outputId": "5effd22e-908a-4769-8478-92e057bedbe8"
      },
      "source": [
        ""
      ],
      "execution_count": null,
      "outputs": [
        {
          "output_type": "stream",
          "text": [
            "Using TensorFlow backend.\n",
            "usage: yolo_video.py [-h] [--model MODEL] [--anchors ANCHORS]\n",
            "                     [--classes CLASSES] [--gpu_num GPU_NUM] [--image]\n",
            "                     [--input [INPUT]] [--output [OUTPUT]]\n",
            "yolo_video.py: error: unrecognized arguments: [OPTIONS...] --image, for image detection mode, OR\n"
          ],
          "name": "stdout"
        }
      ]
    },
    {
      "cell_type": "code",
      "metadata": {
        "id": "fhDAp37G1Rt2",
        "colab": {
          "base_uri": "https://localhost:8080/"
        },
        "outputId": "f8e6463d-1de6-474c-96a9-b5e64ba50cb7"
      },
      "source": [
        "!python train.py -p annotation.txt"
      ],
      "execution_count": 37,
      "outputs": [
        {
          "output_type": "stream",
          "text": [
            "Using TensorFlow backend.\n",
            "WARNING:tensorflow:From /usr/local/lib/python3.7/dist-packages/keras/backend/tensorflow_backend.py:95: The name tf.reset_default_graph is deprecated. Please use tf.compat.v1.reset_default_graph instead.\n",
            "\n",
            "WARNING:tensorflow:From /usr/local/lib/python3.7/dist-packages/keras/backend/tensorflow_backend.py:98: The name tf.placeholder_with_default is deprecated. Please use tf.compat.v1.placeholder_with_default instead.\n",
            "\n",
            "WARNING:tensorflow:From /usr/local/lib/python3.7/dist-packages/keras/backend/tensorflow_backend.py:102: The name tf.get_default_graph is deprecated. Please use tf.compat.v1.get_default_graph instead.\n",
            "\n",
            "WARNING:tensorflow:From /usr/local/lib/python3.7/dist-packages/keras/backend/tensorflow_backend.py:517: The name tf.placeholder is deprecated. Please use tf.compat.v1.placeholder instead.\n",
            "\n",
            "WARNING:tensorflow:From /usr/local/lib/python3.7/dist-packages/keras/backend/tensorflow_backend.py:4138: The name tf.random_uniform is deprecated. Please use tf.random.uniform instead.\n",
            "\n",
            "WARNING:tensorflow:From /usr/local/lib/python3.7/dist-packages/keras/backend/tensorflow_backend.py:174: The name tf.get_default_session is deprecated. Please use tf.compat.v1.get_default_session instead.\n",
            "\n",
            "WARNING:tensorflow:From /usr/local/lib/python3.7/dist-packages/keras/backend/tensorflow_backend.py:181: The name tf.ConfigProto is deprecated. Please use tf.compat.v1.ConfigProto instead.\n",
            "\n",
            "WARNING:tensorflow:From /usr/local/lib/python3.7/dist-packages/keras/backend/tensorflow_backend.py:186: The name tf.Session is deprecated. Please use tf.compat.v1.Session instead.\n",
            "\n",
            "2021-03-29 07:46:05.645373: I tensorflow/core/platform/cpu_feature_guard.cc:142] Your CPU supports instructions that this TensorFlow binary was not compiled to use: AVX2 FMA\n",
            "2021-03-29 07:46:05.651351: I tensorflow/core/platform/profile_utils/cpu_utils.cc:94] CPU Frequency: 2299995000 Hz\n",
            "2021-03-29 07:46:05.651644: I tensorflow/compiler/xla/service/service.cc:168] XLA service 0x556cc8276a00 initialized for platform Host (this does not guarantee that XLA will be used). Devices:\n",
            "2021-03-29 07:46:05.651682: I tensorflow/compiler/xla/service/service.cc:176]   StreamExecutor device (0): Host, Default Version\n",
            "2021-03-29 07:46:05.654360: I tensorflow/stream_executor/platform/default/dso_loader.cc:44] Successfully opened dynamic library libcuda.so.1\n",
            "2021-03-29 07:46:05.665253: E tensorflow/stream_executor/cuda/cuda_driver.cc:318] failed call to cuInit: CUDA_ERROR_NO_DEVICE: no CUDA-capable device is detected\n",
            "2021-03-29 07:46:05.665312: I tensorflow/stream_executor/cuda/cuda_diagnostics.cc:156] kernel driver does not appear to be running on this host (4f57578600a1): /proc/driver/nvidia/version does not exist\n",
            "WARNING:tensorflow:From /usr/local/lib/python3.7/dist-packages/keras/backend/tensorflow_backend.py:190: The name tf.global_variables is deprecated. Please use tf.compat.v1.global_variables instead.\n",
            "\n",
            "WARNING:tensorflow:From /usr/local/lib/python3.7/dist-packages/keras/backend/tensorflow_backend.py:199: The name tf.is_variable_initialized is deprecated. Please use tf.compat.v1.is_variable_initialized instead.\n",
            "\n",
            "WARNING:tensorflow:From /usr/local/lib/python3.7/dist-packages/keras/backend/tensorflow_backend.py:206: The name tf.variables_initializer is deprecated. Please use tf.compat.v1.variables_initializer instead.\n",
            "\n",
            "WARNING:tensorflow:From /usr/local/lib/python3.7/dist-packages/keras/backend/tensorflow_backend.py:1834: The name tf.nn.fused_batch_norm is deprecated. Please use tf.compat.v1.nn.fused_batch_norm instead.\n",
            "\n",
            "WARNING:tensorflow:From /usr/local/lib/python3.7/dist-packages/keras/backend/tensorflow_backend.py:2018: The name tf.image.resize_nearest_neighbor is deprecated. Please use tf.compat.v1.image.resize_nearest_neighbor instead.\n",
            "\n",
            "Create YOLOv3 model with 9 anchors and 48 classes.\n",
            "/usr/local/lib/python3.7/dist-packages/keras/engine/saving.py:1140: UserWarning: Skipping loading of weights for layer conv2d_59 due to mismatch in shape ((1, 1, 1024, 159) vs (255, 1024, 1, 1)).\n",
            "  weight_values[i].shape))\n",
            "/usr/local/lib/python3.7/dist-packages/keras/engine/saving.py:1140: UserWarning: Skipping loading of weights for layer conv2d_59 due to mismatch in shape ((159,) vs (255,)).\n",
            "  weight_values[i].shape))\n",
            "/usr/local/lib/python3.7/dist-packages/keras/engine/saving.py:1140: UserWarning: Skipping loading of weights for layer conv2d_67 due to mismatch in shape ((1, 1, 512, 159) vs (255, 512, 1, 1)).\n",
            "  weight_values[i].shape))\n",
            "/usr/local/lib/python3.7/dist-packages/keras/engine/saving.py:1140: UserWarning: Skipping loading of weights for layer conv2d_67 due to mismatch in shape ((159,) vs (255,)).\n",
            "  weight_values[i].shape))\n",
            "/usr/local/lib/python3.7/dist-packages/keras/engine/saving.py:1140: UserWarning: Skipping loading of weights for layer conv2d_75 due to mismatch in shape ((1, 1, 256, 159) vs (255, 256, 1, 1)).\n",
            "  weight_values[i].shape))\n",
            "/usr/local/lib/python3.7/dist-packages/keras/engine/saving.py:1140: UserWarning: Skipping loading of weights for layer conv2d_75 due to mismatch in shape ((159,) vs (255,)).\n",
            "  weight_values[i].shape))\n",
            "Load weights /content/drive/MyDrive/keras-yolo3/model_data/yolo.h5.\n",
            "Freeze the first 249 layers of total 252 layers.\n",
            "WARNING:tensorflow:From /usr/local/lib/python3.7/dist-packages/keras/backend/tensorflow_backend.py:1521: The name tf.log is deprecated. Please use tf.math.log instead.\n",
            "\n",
            "WARNING:tensorflow:From /usr/local/lib/python3.7/dist-packages/keras/backend/tensorflow_backend.py:3080: where (from tensorflow.python.ops.array_ops) is deprecated and will be removed in a future version.\n",
            "Instructions for updating:\n",
            "Use tf.where in 2.0, which has the same broadcast rule as np.where\n",
            "WARNING:tensorflow:From /usr/local/lib/python3.7/dist-packages/keras/optimizers.py:790: The name tf.train.Optimizer is deprecated. Please use tf.compat.v1.train.Optimizer instead.\n",
            "\n",
            "Train on 7101 samples, val on 788 samples, with batch size 32.\n",
            "WARNING:tensorflow:From /usr/local/lib/python3.7/dist-packages/keras/backend/tensorflow_backend.py:986: The name tf.assign_add is deprecated. Please use tf.compat.v1.assign_add instead.\n",
            "\n",
            "WARNING:tensorflow:From /usr/local/lib/python3.7/dist-packages/keras/backend/tensorflow_backend.py:973: The name tf.assign is deprecated. Please use tf.compat.v1.assign instead.\n",
            "\n",
            "WARNING:tensorflow:From /usr/local/lib/python3.7/dist-packages/keras/callbacks.py:850: The name tf.summary.merge_all is deprecated. Please use tf.compat.v1.summary.merge_all instead.\n",
            "\n",
            "WARNING:tensorflow:From /usr/local/lib/python3.7/dist-packages/keras/callbacks.py:853: The name tf.summary.FileWriter is deprecated. Please use tf.compat.v1.summary.FileWriter instead.\n",
            "\n",
            "Epoch 1/50\n",
            "2021-03-29 07:46:32.991414: E tensorflow/core/grappler/optimizers/meta_optimizer.cc:533] shape_optimizer failed: Invalid argument: Subshape must have computed start >= end since stride is negative, but is 0 and 2 (computed from start 0 and end 9223372036854775807 over shape with rank 2 and stride-1)\n",
            "2021-03-29 07:46:33.105761: E tensorflow/core/grappler/optimizers/meta_optimizer.cc:533] remapper failed: Invalid argument: Subshape must have computed start >= end since stride is negative, but is 0 and 2 (computed from start 0 and end 9223372036854775807 over shape with rank 2 and stride-1)\n",
            "2021-03-29 07:46:33.764569: E tensorflow/core/grappler/optimizers/meta_optimizer.cc:533] shape_optimizer failed: Invalid argument: Subshape must have computed start >= end since stride is negative, but is 0 and 2 (computed from start 0 and end 9223372036854775807 over shape with rank 2 and stride-1)\n",
            "2021-03-29 07:46:33.853999: E tensorflow/core/grappler/optimizers/meta_optimizer.cc:533] remapper failed: Invalid argument: Subshape must have computed start >= end since stride is negative, but is 0 and 2 (computed from start 0 and end 9223372036854775807 over shape with rank 2 and stride-1)\n",
            "tcmalloc: large alloc 1595015168 bytes == 0x556d8a47e000 @  0x7fc53bf611e7 0x7fc4eb77f0b2 0x7fc4ef36683a 0x7fc4ef3ee2b1 0x7fc4ef3f045d 0x7fc4ef3f0c11 0x7fc4ef3f321b 0x7fc4ef3f38bc 0x7fc4ef3f4c7c 0x7fc4e6c3ee0c 0x7fc4e6c31575 0x7fc4e6cef021 0x7fc4e6cec718 0x7fc53a8436df 0x7fc53bd166db 0x7fc53ae4b71f\n",
            "tcmalloc: large alloc 1595015168 bytes == 0x556d8a47e000 @  0x7fc53bf611e7 0x7fc4eb77f0b2 0x7fc4ef36683a 0x7fc4ef3ee2b1 0x7fc4ef3f045d 0x7fc4ef3f0c11 0x7fc4ef3f321b 0x7fc4ef3f38bc 0x7fc4ef3f4c7c 0x7fc4e6c3ee0c 0x7fc4e6c31575 0x7fc4e6cef021 0x7fc4e6cec718 0x7fc53a8436df 0x7fc53bd166db 0x7fc53ae4b71f\n",
            "  1/221 [..............................] - ETA: 5:27:59 - loss: 9994.3877tcmalloc: large alloc 1595015168 bytes == 0x556e33ed8000 @  0x7fc53bf611e7 0x7fc4eb77f0b2 0x7fc4ef36683a 0x7fc4ef3ee2b1 0x7fc4ef3f045d 0x7fc4ef3f0c11 0x7fc4ef3f321b 0x7fc4ef3f38bc 0x7fc4ef3f4c7c 0x7fc4e6c3ee0c 0x7fc4e6c31575 0x7fc4e6cef021 0x7fc4e6cec718 0x7fc53a8436df 0x7fc53bd166db 0x7fc53ae4b71f\n",
            "tcmalloc: large alloc 1595015168 bytes == 0x556e09796000 @  0x7fc53bf611e7 0x7fc4eb77f0b2 0x7fc4ef36683a 0x7fc4ef3ee2b1 0x7fc4ef3f045d 0x7fc4ef3f0c11 0x7fc4ef3f321b 0x7fc4ef3f38bc 0x7fc4ef3f4c7c 0x7fc4e6c3ee0c 0x7fc4e6c31575 0x7fc4e6cef021 0x7fc4e6cec718 0x7fc53a8436df 0x7fc53bd166db 0x7fc53ae4b71f\n",
            "102/221 [============>.................] - ETA: 1:52:35 - loss: 1050.9032^C\n"
          ],
          "name": "stdout"
        }
      ]
    },
    {
      "cell_type": "markdown",
      "metadata": {
        "id": "tFdckxdYTAA1"
      },
      "source": [
        "うまく動いたことのログ：\n",
        "---"
      ]
    },
    {
      "cell_type": "markdown",
      "metadata": {
        "id": "i9dcEC0bS1d1"
      },
      "source": [
        "Using TensorFlow backend.\n",
        "WARNING:tensorflow:From /usr/local/lib/python3.7/dist-packages/keras/backend/tensorflow_backend.py:95: The name tf.reset_default_graph is deprecated. Please use tf.compat.v1.reset_default_graph instead.\n",
        "\n",
        "WARNING:tensorflow:From /usr/local/lib/python3.7/dist-packages/keras/backend/tensorflow_backend.py:98: The name tf.placeholder_with_default is deprecated. Please use tf.compat.v1.placeholder_with_default instead.\n",
        "\n",
        "WARNING:tensorflow:From /usr/local/lib/python3.7/dist-packages/keras/backend/tensorflow_backend.py:102: The name tf.get_default_graph is deprecated. Please use tf.compat.v1.get_default_graph instead.\n",
        "\n",
        "WARNING:tensorflow:From /usr/local/lib/python3.7/dist-packages/keras/backend/tensorflow_backend.py:517: The name tf.placeholder is deprecated. Please use tf.compat.v1.placeholder instead.\n",
        "\n",
        "WARNING:tensorflow:From /usr/local/lib/python3.7/dist-packages/keras/backend/tensorflow_backend.py:4138: The name tf.random_uniform is deprecated. Please use tf.random.uniform instead.\n",
        "\n",
        "WARNING:tensorflow:From /usr/local/lib/python3.7/dist-packages/keras/backend/tensorflow_backend.py:174: The name tf.get_default_session is deprecated. Please use tf.compat.v1.get_default_session instead.\n",
        "\n",
        "WARNING:tensorflow:From /usr/local/lib/python3.7/dist-packages/keras/backend/tensorflow_backend.py:181: The name tf.ConfigProto is deprecated. Please use tf.compat.v1.ConfigProto instead.\n",
        "\n",
        "WARNING:tensorflow:From /usr/local/lib/python3.7/dist-packages/keras/backend/tensorflow_backend.py:186: The name tf.Session is deprecated. Please use tf.compat.v1.Session instead.\n",
        "\n",
        "2021-03-29 07:46:05.645373: I tensorflow/core/platform/cpu_feature_guard.cc:142] Your CPU supports instructions that this TensorFlow binary was not compiled to use: AVX2 FMA\n",
        "2021-03-29 07:46:05.651351: I tensorflow/core/platform/profile_utils/cpu_utils.cc:94] CPU Frequency: 2299995000 Hz\n",
        "2021-03-29 07:46:05.651644: I tensorflow/compiler/xla/service/service.cc:168] XLA service 0x556cc8276a00 initialized for platform Host (this does not guarantee that XLA will be used). Devices:\n",
        "2021-03-29 07:46:05.651682: I tensorflow/compiler/xla/service/service.cc:176]   StreamExecutor device (0): Host, Default Version\n",
        "2021-03-29 07:46:05.654360: I tensorflow/stream_executor/platform/default/dso_loader.cc:44] Successfully opened dynamic library libcuda.so.1\n",
        "2021-03-29 07:46:05.665253: E tensorflow/stream_executor/cuda/cuda_driver.cc:318] failed call to cuInit: CUDA_ERROR_NO_DEVICE: no CUDA-capable device is detected\n",
        "2021-03-29 07:46:05.665312: I tensorflow/stream_executor/cuda/cuda_diagnostics.cc:156] kernel driver does not appear to be running on this host (4f57578600a1): /proc/driver/nvidia/version does not exist\n",
        "WARNING:tensorflow:From /usr/local/lib/python3.7/dist-packages/keras/backend/tensorflow_backend.py:190: The name tf.global_variables is deprecated. Please use tf.compat.v1.global_variables instead.\n",
        "\n",
        "WARNING:tensorflow:From /usr/local/lib/python3.7/dist-packages/keras/backend/tensorflow_backend.py:199: The name tf.is_variable_initialized is deprecated. Please use tf.compat.v1.is_variable_initialized instead.\n",
        "\n",
        "WARNING:tensorflow:From /usr/local/lib/python3.7/dist-packages/keras/backend/tensorflow_backend.py:206: The name tf.variables_initializer is deprecated. Please use tf.compat.v1.variables_initializer instead.\n",
        "\n",
        "WARNING:tensorflow:From /usr/local/lib/python3.7/dist-packages/keras/backend/tensorflow_backend.py:1834: The name tf.nn.fused_batch_norm is deprecated. Please use tf.compat.v1.nn.fused_batch_norm instead.\n",
        "\n",
        "WARNING:tensorflow:From /usr/local/lib/python3.7/dist-packages/keras/backend/tensorflow_backend.py:2018: The name tf.image.resize_nearest_neighbor is deprecated. Please use tf.compat.v1.image.resize_nearest_neighbor instead.\n",
        "\n",
        "Create YOLOv3 model with 9 anchors and 48 classes.\n",
        "/usr/local/lib/python3.7/dist-packages/keras/engine/saving.py:1140: UserWarning: Skipping loading of weights for layer conv2d_59 due to mismatch in shape ((1, 1, 1024, 159) vs (255, 1024, 1, 1)).\n",
        "  weight_values[i].shape))\n",
        "/usr/local/lib/python3.7/dist-packages/keras/engine/saving.py:1140: UserWarning: Skipping loading of weights for layer conv2d_59 due to mismatch in shape ((159,) vs (255,)).\n",
        "  weight_values[i].shape))\n",
        "/usr/local/lib/python3.7/dist-packages/keras/engine/saving.py:1140: UserWarning: Skipping loading of weights for layer conv2d_67 due to mismatch in shape ((1, 1, 512, 159) vs (255, 512, 1, 1)).\n",
        "  weight_values[i].shape))\n",
        "/usr/local/lib/python3.7/dist-packages/keras/engine/saving.py:1140: UserWarning: Skipping loading of weights for layer conv2d_67 due to mismatch in shape ((159,) vs (255,)).\n",
        "  weight_values[i].shape))\n",
        "/usr/local/lib/python3.7/dist-packages/keras/engine/saving.py:1140: UserWarning: Skipping loading of weights for layer conv2d_75 due to mismatch in shape ((1, 1, 256, 159) vs (255, 256, 1, 1)).\n",
        "  weight_values[i].shape))\n",
        "/usr/local/lib/python3.7/dist-packages/keras/engine/saving.py:1140: UserWarning: Skipping loading of weights for layer conv2d_75 due to mismatch in shape ((159,) vs (255,)).\n",
        "  weight_values[i].shape))\n",
        "Load weights /content/drive/MyDrive/keras-yolo3/model_data/yolo.h5.\n",
        "Freeze the first 249 layers of total 252 layers.\n",
        "WARNING:tensorflow:From /usr/local/lib/python3.7/dist-packages/keras/backend/tensorflow_backend.py:1521: The name tf.log is deprecated. Please use tf.math.log instead.\n",
        "\n",
        "WARNING:tensorflow:From /usr/local/lib/python3.7/dist-packages/keras/backend/tensorflow_backend.py:3080: where (from tensorflow.python.ops.array_ops) is deprecated and will be removed in a future version.\n",
        "Instructions for updating:\n",
        "Use tf.where in 2.0, which has the same broadcast rule as np.where\n",
        "WARNING:tensorflow:From /usr/local/lib/python3.7/dist-packages/keras/optimizers.py:790: The name tf.train.Optimizer is deprecated. Please use tf.compat.v1.train.Optimizer instead.\n",
        "\n",
        "Train on 7101 samples, val on 788 samples, with batch size 32.\n",
        "WARNING:tensorflow:From /usr/local/lib/python3.7/dist-packages/keras/backend/tensorflow_backend.py:986: The name tf.assign_add is deprecated. Please use tf.compat.v1.assign_add instead.\n",
        "\n",
        "WARNING:tensorflow:From /usr/local/lib/python3.7/dist-packages/keras/backend/tensorflow_backend.py:973: The name tf.assign is deprecated. Please use tf.compat.v1.assign instead.\n",
        "\n",
        "WARNING:tensorflow:From /usr/local/lib/python3.7/dist-packages/keras/callbacks.py:850: The name tf.summary.merge_all is deprecated. Please use tf.compat.v1.summary.merge_all instead.\n",
        "\n",
        "WARNING:tensorflow:From /usr/local/lib/python3.7/dist-packages/keras/callbacks.py:853: The name tf.summary.FileWriter is deprecated. Please use tf.compat.v1.summary.FileWriter instead.\n",
        "\n",
        "Epoch 1/50\n",
        "2021-03-29 07:46:32.991414: E tensorflow/core/grappler/optimizers/meta_optimizer.cc:533] shape_optimizer failed: Invalid argument: Subshape must have computed start >= end since stride is negative, but is 0 and 2 (computed from start 0 and end 9223372036854775807 over shape with rank 2 and stride-1)\n",
        "2021-03-29 07:46:33.105761: E tensorflow/core/grappler/optimizers/meta_optimizer.cc:533] remapper failed: Invalid argument: Subshape must have computed start >= end since stride is negative, but is 0 and 2 (computed from start 0 and end 9223372036854775807 over shape with rank 2 and stride-1)\n",
        "2021-03-29 07:46:33.764569: E tensorflow/core/grappler/optimizers/meta_optimizer.cc:533] shape_optimizer failed: Invalid argument: Subshape must have computed start >= end since stride is negative, but is 0 and 2 (computed from start 0 and end 9223372036854775807 over shape with rank 2 and stride-1)\n",
        "2021-03-29 07:46:33.853999: E tensorflow/core/grappler/optimizers/meta_optimizer.cc:533] remapper failed: Invalid argument: Subshape must have computed start >= end since stride is negative, but is 0 and 2 (computed from start 0 and end 9223372036854775807 over shape with rank 2 and stride-1)\n",
        "tcmalloc: large alloc 1595015168 bytes == 0x556d8a47e000 @  0x7fc53bf611e7 0x7fc4eb77f0b2 0x7fc4ef36683a 0x7fc4ef3ee2b1 0x7fc4ef3f045d 0x7fc4ef3f0c11 0x7fc4ef3f321b 0x7fc4ef3f38bc 0x7fc4ef3f4c7c 0x7fc4e6c3ee0c 0x7fc4e6c31575 0x7fc4e6cef021 0x7fc4e6cec718 0x7fc53a8436df 0x7fc53bd166db 0x7fc53ae4b71f\n",
        "tcmalloc: large alloc 1595015168 bytes == 0x556d8a47e000 @  0x7fc53bf611e7 0x7fc4eb77f0b2 0x7fc4ef36683a 0x7fc4ef3ee2b1 0x7fc4ef3f045d 0x7fc4ef3f0c11 0x7fc4ef3f321b 0x7fc4ef3f38bc 0x7fc4ef3f4c7c 0x7fc4e6c3ee0c 0x7fc4e6c31575 0x7fc4e6cef021 0x7fc4e6cec718 0x7fc53a8436df 0x7fc53bd166db 0x7fc53ae4b71f\n",
        "  1/221 [..............................] - ETA: 5:27:59 - loss: 9994.3877tcmalloc: large alloc 1595015168 bytes == 0x556e33ed8000 @  0x7fc53bf611e7 0x7fc4eb77f0b2 0x7fc4ef36683a 0x7fc4ef3ee2b1 0x7fc4ef3f045d 0x7fc4ef3f0c11 0x7fc4ef3f321b 0x7fc4ef3f38bc 0x7fc4ef3f4c7c 0x7fc4e6c3ee0c 0x7fc4e6c31575 0x7fc4e6cef021 0x7fc4e6cec718 0x7fc53a8436df 0x7fc53bd166db 0x7fc53ae4b71f\n",
        "tcmalloc: large alloc 1595015168 bytes == 0x556e09796000 @  0x7fc53bf611e7 0x7fc4eb77f0b2 0x7fc4ef36683a 0x7fc4ef3ee2b1 0x7fc4ef3f045d 0x7fc4ef3f0c11 0x7fc4ef3f321b 0x7fc4ef3f38bc 0x7fc4ef3f4c7c 0x7fc4e6c3ee0c 0x7fc4e6c31575 0x7fc4e6cef021 0x7fc4e6cec718 0x7fc53a8436df 0x7fc53bd166db 0x7fc53ae4b71f\n",
        "102/221 [============>.................] - ETA: 1:52:35 - loss: 1050.9032"
      ]
    },
    {
      "cell_type": "markdown",
      "metadata": {
        "id": "xQylbdTfakH5"
      },
      "source": [
        "【問題3】学習済みの重みによる推定\n",
        "---\n",
        "学習済みの重みを使い推定を行う方法がREADME.mdのQuick Startの項に記載されています。\n",
        "\n",
        "\n",
        "まずはこの通りにして各自何かしらの画像や動画に対して検出を行ってください。\n",
        "\n",
        "\n",
        "出力結果を課題の一部として提出してください。"
      ]
    },
    {
      "cell_type": "code",
      "metadata": {
        "colab": {
          "base_uri": "https://localhost:8080/"
        },
        "id": "WTW_Jeck2oB8",
        "outputId": "e1a0f5b8-99ce-402c-dfc7-eb652f3e574a"
      },
      "source": [
        "import os\n",
        "\n",
        "os.chdir('/content/drive/MyDrive/Colab Notebooks')\n",
        "\n",
        "# カレントディレクトリの取得\n",
        "print(os.getcwd())"
      ],
      "execution_count": 38,
      "outputs": [
        {
          "output_type": "stream",
          "text": [
            "/content/drive/MyDrive/Colab Notebooks\n"
          ],
          "name": "stdout"
        }
      ]
    },
    {
      "cell_type": "code",
      "metadata": {
        "colab": {
          "base_uri": "https://localhost:8080/"
        },
        "id": "kVCa4rvxDt_s",
        "outputId": "f33b3f07-6cb7-4c3a-d156-4c2b8bf48873"
      },
      "source": [
        "!git clone https://github.com/qqwweee/keras-yolo3"
      ],
      "execution_count": 39,
      "outputs": [
        {
          "output_type": "stream",
          "text": [
            "Cloning into 'keras-yolo3'...\n",
            "remote: Enumerating objects: 144, done.\u001b[K\n",
            "remote: Total 144 (delta 0), reused 0 (delta 0), pack-reused 144\u001b[K\n",
            "Receiving objects: 100% (144/144), 151.08 KiB | 3.98 MiB/s, done.\n",
            "Resolving deltas: 100% (65/65), done.\n"
          ],
          "name": "stdout"
        }
      ]
    },
    {
      "cell_type": "code",
      "metadata": {
        "id": "0N5In6fADzwS"
      },
      "source": [
        "!cd keras-yolo3"
      ],
      "execution_count": 42,
      "outputs": []
    },
    {
      "cell_type": "code",
      "metadata": {
        "id": "ptaUrblIXoeX"
      },
      "source": [
        "!cd keras-yolo3"
      ],
      "execution_count": 45,
      "outputs": []
    },
    {
      "cell_type": "code",
      "metadata": {
        "colab": {
          "base_uri": "https://localhost:8080/"
        },
        "id": "SICOigzvXyiZ",
        "outputId": "8380e2ad-dacd-4e25-a00f-21179a26af0c"
      },
      "source": [
        "%cd keras-yolo3"
      ],
      "execution_count": 47,
      "outputs": [
        {
          "output_type": "stream",
          "text": [
            "/content/drive/MyDrive/Colab Notebooks/keras-yolo3\n"
          ],
          "name": "stdout"
        }
      ]
    },
    {
      "cell_type": "code",
      "metadata": {
        "colab": {
          "base_uri": "https://localhost:8080/"
        },
        "id": "nhNI-H5mX6Kl",
        "outputId": "be8c785d-5518-458d-a9ac-2cff0f9c8b08"
      },
      "source": [
        "%cd .."
      ],
      "execution_count": 48,
      "outputs": [
        {
          "output_type": "stream",
          "text": [
            "/content/drive/My Drive/Colab Notebooks\n"
          ],
          "name": "stdout"
        }
      ]
    },
    {
      "cell_type": "code",
      "metadata": {
        "colab": {
          "base_uri": "https://localhost:8080/"
        },
        "id": "6Vgg-WkGYex6",
        "outputId": "adea7c3a-22f0-4f54-ddd9-bc63c0e038ec"
      },
      "source": [
        "!git clone https://github.com/pjreddie/darknet"
      ],
      "execution_count": 50,
      "outputs": [
        {
          "output_type": "stream",
          "text": [
            "Cloning into 'darknet'...\n",
            "remote: Enumerating objects: 5931, done.\u001b[K\n",
            "remote: Total 5931 (delta 0), reused 0 (delta 0), pack-reused 5931\u001b[K\n",
            "Receiving objects: 100% (5931/5931), 6.34 MiB | 6.57 MiB/s, done.\n",
            "Resolving deltas: 100% (3924/3924), done.\n",
            "Checking out files: 100% (979/979), done.\n"
          ],
          "name": "stdout"
        }
      ]
    },
    {
      "cell_type": "code",
      "metadata": {
        "colab": {
          "base_uri": "https://localhost:8080/"
        },
        "id": "-bh2mu6QYgiI",
        "outputId": "c42d57fd-4c5e-451a-831b-4c4cbc5548bd"
      },
      "source": [
        "%cd darknet\n",
        "!make"
      ],
      "execution_count": 53,
      "outputs": [
        {
          "output_type": "stream",
          "text": [
            "/content/drive/My Drive/Colab Notebooks/darknet\n",
            "mkdir -p obj\n",
            "mkdir -p backup\n",
            "mkdir -p results\n",
            "gcc -Iinclude/ -Isrc/ -Wall -Wno-unused-result -Wno-unknown-pragmas -Wfatal-errors -fPIC -Ofast -c ./src/gemm.c -o obj/gemm.o\n",
            "gcc -Iinclude/ -Isrc/ -Wall -Wno-unused-result -Wno-unknown-pragmas -Wfatal-errors -fPIC -Ofast -c ./src/utils.c -o obj/utils.o\n",
            "gcc -Iinclude/ -Isrc/ -Wall -Wno-unused-result -Wno-unknown-pragmas -Wfatal-errors -fPIC -Ofast -c ./src/cuda.c -o obj/cuda.o\n",
            "gcc -Iinclude/ -Isrc/ -Wall -Wno-unused-result -Wno-unknown-pragmas -Wfatal-errors -fPIC -Ofast -c ./src/deconvolutional_layer.c -o obj/deconvolutional_layer.o\n",
            "gcc -Iinclude/ -Isrc/ -Wall -Wno-unused-result -Wno-unknown-pragmas -Wfatal-errors -fPIC -Ofast -c ./src/convolutional_layer.c -o obj/convolutional_layer.o\n",
            "gcc -Iinclude/ -Isrc/ -Wall -Wno-unused-result -Wno-unknown-pragmas -Wfatal-errors -fPIC -Ofast -c ./src/list.c -o obj/list.o\n",
            "gcc -Iinclude/ -Isrc/ -Wall -Wno-unused-result -Wno-unknown-pragmas -Wfatal-errors -fPIC -Ofast -c ./src/image.c -o obj/image.o\n",
            "gcc -Iinclude/ -Isrc/ -Wall -Wno-unused-result -Wno-unknown-pragmas -Wfatal-errors -fPIC -Ofast -c ./src/activations.c -o obj/activations.o\n",
            "gcc -Iinclude/ -Isrc/ -Wall -Wno-unused-result -Wno-unknown-pragmas -Wfatal-errors -fPIC -Ofast -c ./src/im2col.c -o obj/im2col.o\n",
            "gcc -Iinclude/ -Isrc/ -Wall -Wno-unused-result -Wno-unknown-pragmas -Wfatal-errors -fPIC -Ofast -c ./src/col2im.c -o obj/col2im.o\n",
            "gcc -Iinclude/ -Isrc/ -Wall -Wno-unused-result -Wno-unknown-pragmas -Wfatal-errors -fPIC -Ofast -c ./src/blas.c -o obj/blas.o\n",
            "gcc -Iinclude/ -Isrc/ -Wall -Wno-unused-result -Wno-unknown-pragmas -Wfatal-errors -fPIC -Ofast -c ./src/crop_layer.c -o obj/crop_layer.o\n",
            "gcc -Iinclude/ -Isrc/ -Wall -Wno-unused-result -Wno-unknown-pragmas -Wfatal-errors -fPIC -Ofast -c ./src/dropout_layer.c -o obj/dropout_layer.o\n",
            "gcc -Iinclude/ -Isrc/ -Wall -Wno-unused-result -Wno-unknown-pragmas -Wfatal-errors -fPIC -Ofast -c ./src/maxpool_layer.c -o obj/maxpool_layer.o\n",
            "gcc -Iinclude/ -Isrc/ -Wall -Wno-unused-result -Wno-unknown-pragmas -Wfatal-errors -fPIC -Ofast -c ./src/softmax_layer.c -o obj/softmax_layer.o\n",
            "gcc -Iinclude/ -Isrc/ -Wall -Wno-unused-result -Wno-unknown-pragmas -Wfatal-errors -fPIC -Ofast -c ./src/data.c -o obj/data.o\n",
            "gcc -Iinclude/ -Isrc/ -Wall -Wno-unused-result -Wno-unknown-pragmas -Wfatal-errors -fPIC -Ofast -c ./src/matrix.c -o obj/matrix.o\n",
            "gcc -Iinclude/ -Isrc/ -Wall -Wno-unused-result -Wno-unknown-pragmas -Wfatal-errors -fPIC -Ofast -c ./src/network.c -o obj/network.o\n",
            "gcc -Iinclude/ -Isrc/ -Wall -Wno-unused-result -Wno-unknown-pragmas -Wfatal-errors -fPIC -Ofast -c ./src/connected_layer.c -o obj/connected_layer.o\n",
            "gcc -Iinclude/ -Isrc/ -Wall -Wno-unused-result -Wno-unknown-pragmas -Wfatal-errors -fPIC -Ofast -c ./src/cost_layer.c -o obj/cost_layer.o\n",
            "gcc -Iinclude/ -Isrc/ -Wall -Wno-unused-result -Wno-unknown-pragmas -Wfatal-errors -fPIC -Ofast -c ./src/parser.c -o obj/parser.o\n",
            "gcc -Iinclude/ -Isrc/ -Wall -Wno-unused-result -Wno-unknown-pragmas -Wfatal-errors -fPIC -Ofast -c ./src/option_list.c -o obj/option_list.o\n",
            "gcc -Iinclude/ -Isrc/ -Wall -Wno-unused-result -Wno-unknown-pragmas -Wfatal-errors -fPIC -Ofast -c ./src/detection_layer.c -o obj/detection_layer.o\n",
            "gcc -Iinclude/ -Isrc/ -Wall -Wno-unused-result -Wno-unknown-pragmas -Wfatal-errors -fPIC -Ofast -c ./src/route_layer.c -o obj/route_layer.o\n",
            "gcc -Iinclude/ -Isrc/ -Wall -Wno-unused-result -Wno-unknown-pragmas -Wfatal-errors -fPIC -Ofast -c ./src/upsample_layer.c -o obj/upsample_layer.o\n",
            "gcc -Iinclude/ -Isrc/ -Wall -Wno-unused-result -Wno-unknown-pragmas -Wfatal-errors -fPIC -Ofast -c ./src/box.c -o obj/box.o\n",
            "gcc -Iinclude/ -Isrc/ -Wall -Wno-unused-result -Wno-unknown-pragmas -Wfatal-errors -fPIC -Ofast -c ./src/normalization_layer.c -o obj/normalization_layer.o\n",
            "gcc -Iinclude/ -Isrc/ -Wall -Wno-unused-result -Wno-unknown-pragmas -Wfatal-errors -fPIC -Ofast -c ./src/avgpool_layer.c -o obj/avgpool_layer.o\n",
            "gcc -Iinclude/ -Isrc/ -Wall -Wno-unused-result -Wno-unknown-pragmas -Wfatal-errors -fPIC -Ofast -c ./src/layer.c -o obj/layer.o\n",
            "gcc -Iinclude/ -Isrc/ -Wall -Wno-unused-result -Wno-unknown-pragmas -Wfatal-errors -fPIC -Ofast -c ./src/local_layer.c -o obj/local_layer.o\n",
            "gcc -Iinclude/ -Isrc/ -Wall -Wno-unused-result -Wno-unknown-pragmas -Wfatal-errors -fPIC -Ofast -c ./src/shortcut_layer.c -o obj/shortcut_layer.o\n",
            "gcc -Iinclude/ -Isrc/ -Wall -Wno-unused-result -Wno-unknown-pragmas -Wfatal-errors -fPIC -Ofast -c ./src/logistic_layer.c -o obj/logistic_layer.o\n",
            "gcc -Iinclude/ -Isrc/ -Wall -Wno-unused-result -Wno-unknown-pragmas -Wfatal-errors -fPIC -Ofast -c ./src/activation_layer.c -o obj/activation_layer.o\n",
            "gcc -Iinclude/ -Isrc/ -Wall -Wno-unused-result -Wno-unknown-pragmas -Wfatal-errors -fPIC -Ofast -c ./src/rnn_layer.c -o obj/rnn_layer.o\n",
            "gcc -Iinclude/ -Isrc/ -Wall -Wno-unused-result -Wno-unknown-pragmas -Wfatal-errors -fPIC -Ofast -c ./src/gru_layer.c -o obj/gru_layer.o\n",
            "gcc -Iinclude/ -Isrc/ -Wall -Wno-unused-result -Wno-unknown-pragmas -Wfatal-errors -fPIC -Ofast -c ./src/crnn_layer.c -o obj/crnn_layer.o\n",
            "gcc -Iinclude/ -Isrc/ -Wall -Wno-unused-result -Wno-unknown-pragmas -Wfatal-errors -fPIC -Ofast -c ./src/demo.c -o obj/demo.o\n",
            "gcc -Iinclude/ -Isrc/ -Wall -Wno-unused-result -Wno-unknown-pragmas -Wfatal-errors -fPIC -Ofast -c ./src/batchnorm_layer.c -o obj/batchnorm_layer.o\n",
            "gcc -Iinclude/ -Isrc/ -Wall -Wno-unused-result -Wno-unknown-pragmas -Wfatal-errors -fPIC -Ofast -c ./src/region_layer.c -o obj/region_layer.o\n",
            "gcc -Iinclude/ -Isrc/ -Wall -Wno-unused-result -Wno-unknown-pragmas -Wfatal-errors -fPIC -Ofast -c ./src/reorg_layer.c -o obj/reorg_layer.o\n",
            "gcc -Iinclude/ -Isrc/ -Wall -Wno-unused-result -Wno-unknown-pragmas -Wfatal-errors -fPIC -Ofast -c ./src/tree.c -o obj/tree.o\n",
            "gcc -Iinclude/ -Isrc/ -Wall -Wno-unused-result -Wno-unknown-pragmas -Wfatal-errors -fPIC -Ofast -c ./src/lstm_layer.c -o obj/lstm_layer.o\n",
            "gcc -Iinclude/ -Isrc/ -Wall -Wno-unused-result -Wno-unknown-pragmas -Wfatal-errors -fPIC -Ofast -c ./src/l2norm_layer.c -o obj/l2norm_layer.o\n",
            "gcc -Iinclude/ -Isrc/ -Wall -Wno-unused-result -Wno-unknown-pragmas -Wfatal-errors -fPIC -Ofast -c ./src/yolo_layer.c -o obj/yolo_layer.o\n",
            "gcc -Iinclude/ -Isrc/ -Wall -Wno-unused-result -Wno-unknown-pragmas -Wfatal-errors -fPIC -Ofast -c ./src/iseg_layer.c -o obj/iseg_layer.o\n",
            "g++ -Iinclude/ -Isrc/ -Wall -Wno-unused-result -Wno-unknown-pragmas -Wfatal-errors -fPIC -Ofast -c ./src/image_opencv.cpp -o obj/image_opencv.o\n",
            "gcc -Wall -Wno-unused-result -Wno-unknown-pragmas -Wfatal-errors -fPIC -Ofast -shared obj/gemm.o obj/utils.o obj/cuda.o obj/deconvolutional_layer.o obj/convolutional_layer.o obj/list.o obj/image.o obj/activations.o obj/im2col.o obj/col2im.o obj/blas.o obj/crop_layer.o obj/dropout_layer.o obj/maxpool_layer.o obj/softmax_layer.o obj/data.o obj/matrix.o obj/network.o obj/connected_layer.o obj/cost_layer.o obj/parser.o obj/option_list.o obj/detection_layer.o obj/route_layer.o obj/upsample_layer.o obj/box.o obj/normalization_layer.o obj/avgpool_layer.o obj/layer.o obj/local_layer.o obj/shortcut_layer.o obj/logistic_layer.o obj/activation_layer.o obj/rnn_layer.o obj/gru_layer.o obj/crnn_layer.o obj/demo.o obj/batchnorm_layer.o obj/region_layer.o obj/reorg_layer.o obj/tree.o obj/lstm_layer.o obj/l2norm_layer.o obj/yolo_layer.o obj/iseg_layer.o obj/image_opencv.o -o libdarknet.so -lm -pthread \n",
            "ar rcs libdarknet.a obj/gemm.o obj/utils.o obj/cuda.o obj/deconvolutional_layer.o obj/convolutional_layer.o obj/list.o obj/image.o obj/activations.o obj/im2col.o obj/col2im.o obj/blas.o obj/crop_layer.o obj/dropout_layer.o obj/maxpool_layer.o obj/softmax_layer.o obj/data.o obj/matrix.o obj/network.o obj/connected_layer.o obj/cost_layer.o obj/parser.o obj/option_list.o obj/detection_layer.o obj/route_layer.o obj/upsample_layer.o obj/box.o obj/normalization_layer.o obj/avgpool_layer.o obj/layer.o obj/local_layer.o obj/shortcut_layer.o obj/logistic_layer.o obj/activation_layer.o obj/rnn_layer.o obj/gru_layer.o obj/crnn_layer.o obj/demo.o obj/batchnorm_layer.o obj/region_layer.o obj/reorg_layer.o obj/tree.o obj/lstm_layer.o obj/l2norm_layer.o obj/yolo_layer.o obj/iseg_layer.o obj/image_opencv.o\n",
            "gcc -Iinclude/ -Isrc/ -Wall -Wno-unused-result -Wno-unknown-pragmas -Wfatal-errors -fPIC -Ofast -c ./examples/captcha.c -o obj/captcha.o\n",
            "gcc -Iinclude/ -Isrc/ -Wall -Wno-unused-result -Wno-unknown-pragmas -Wfatal-errors -fPIC -Ofast -c ./examples/lsd.c -o obj/lsd.o\n",
            "gcc -Iinclude/ -Isrc/ -Wall -Wno-unused-result -Wno-unknown-pragmas -Wfatal-errors -fPIC -Ofast -c ./examples/super.c -o obj/super.o\n",
            "gcc -Iinclude/ -Isrc/ -Wall -Wno-unused-result -Wno-unknown-pragmas -Wfatal-errors -fPIC -Ofast -c ./examples/art.c -o obj/art.o\n",
            "gcc -Iinclude/ -Isrc/ -Wall -Wno-unused-result -Wno-unknown-pragmas -Wfatal-errors -fPIC -Ofast -c ./examples/tag.c -o obj/tag.o\n",
            "gcc -Iinclude/ -Isrc/ -Wall -Wno-unused-result -Wno-unknown-pragmas -Wfatal-errors -fPIC -Ofast -c ./examples/cifar.c -o obj/cifar.o\n",
            "gcc -Iinclude/ -Isrc/ -Wall -Wno-unused-result -Wno-unknown-pragmas -Wfatal-errors -fPIC -Ofast -c ./examples/go.c -o obj/go.o\n",
            "gcc -Iinclude/ -Isrc/ -Wall -Wno-unused-result -Wno-unknown-pragmas -Wfatal-errors -fPIC -Ofast -c ./examples/rnn.c -o obj/rnn.o\n",
            "gcc -Iinclude/ -Isrc/ -Wall -Wno-unused-result -Wno-unknown-pragmas -Wfatal-errors -fPIC -Ofast -c ./examples/segmenter.c -o obj/segmenter.o\n",
            "gcc -Iinclude/ -Isrc/ -Wall -Wno-unused-result -Wno-unknown-pragmas -Wfatal-errors -fPIC -Ofast -c ./examples/regressor.c -o obj/regressor.o\n",
            "gcc -Iinclude/ -Isrc/ -Wall -Wno-unused-result -Wno-unknown-pragmas -Wfatal-errors -fPIC -Ofast -c ./examples/classifier.c -o obj/classifier.o\n",
            "gcc -Iinclude/ -Isrc/ -Wall -Wno-unused-result -Wno-unknown-pragmas -Wfatal-errors -fPIC -Ofast -c ./examples/coco.c -o obj/coco.o\n",
            "gcc -Iinclude/ -Isrc/ -Wall -Wno-unused-result -Wno-unknown-pragmas -Wfatal-errors -fPIC -Ofast -c ./examples/yolo.c -o obj/yolo.o\n",
            "gcc -Iinclude/ -Isrc/ -Wall -Wno-unused-result -Wno-unknown-pragmas -Wfatal-errors -fPIC -Ofast -c ./examples/detector.c -o obj/detector.o\n",
            "gcc -Iinclude/ -Isrc/ -Wall -Wno-unused-result -Wno-unknown-pragmas -Wfatal-errors -fPIC -Ofast -c ./examples/nightmare.c -o obj/nightmare.o\n",
            "gcc -Iinclude/ -Isrc/ -Wall -Wno-unused-result -Wno-unknown-pragmas -Wfatal-errors -fPIC -Ofast -c ./examples/instance-segmenter.c -o obj/instance-segmenter.o\n",
            "gcc -Iinclude/ -Isrc/ -Wall -Wno-unused-result -Wno-unknown-pragmas -Wfatal-errors -fPIC -Ofast -c ./examples/darknet.c -o obj/darknet.o\n",
            "gcc -Iinclude/ -Isrc/ -Wall -Wno-unused-result -Wno-unknown-pragmas -Wfatal-errors -fPIC -Ofast obj/captcha.o obj/lsd.o obj/super.o obj/art.o obj/tag.o obj/cifar.o obj/go.o obj/rnn.o obj/segmenter.o obj/regressor.o obj/classifier.o obj/coco.o obj/yolo.o obj/detector.o obj/nightmare.o obj/instance-segmenter.o obj/darknet.o libdarknet.a -o darknet -lm -pthread  libdarknet.a\n"
          ],
          "name": "stdout"
        }
      ]
    },
    {
      "cell_type": "code",
      "metadata": {
        "colab": {
          "base_uri": "https://localhost:8080/"
        },
        "id": "wGZZS6QjYocu",
        "outputId": "ec18db9b-9d09-4b20-acda-e91cac2b0ef1"
      },
      "source": [
        "!wget https://pjreddie.com/media/files/yolov3.weights"
      ],
      "execution_count": 54,
      "outputs": [
        {
          "output_type": "stream",
          "text": [
            "--2021-03-29 14:29:24--  https://pjreddie.com/media/files/yolov3.weights\n",
            "Resolving pjreddie.com (pjreddie.com)... 128.208.4.108\n",
            "Connecting to pjreddie.com (pjreddie.com)|128.208.4.108|:443... connected.\n",
            "HTTP request sent, awaiting response... 200 OK\n",
            "Length: 248007048 (237M) [application/octet-stream]\n",
            "Saving to: ‘yolov3.weights’\n",
            "\n",
            "yolov3.weights      100%[===================>] 236.52M  31.9MB/s    in 7.2s    \n",
            "\n",
            "2021-03-29 14:29:32 (33.1 MB/s) - ‘yolov3.weights’ saved [248007048/248007048]\n",
            "\n"
          ],
          "name": "stdout"
        }
      ]
    },
    {
      "cell_type": "code",
      "metadata": {
        "colab": {
          "base_uri": "https://localhost:8080/"
        },
        "id": "kLfzFUC0Y6ox",
        "outputId": "ef8fac82-6460-4c37-c72a-e07e6d4d8186"
      },
      "source": [
        "!./darknet detect cfg/yolov3.cfg yolov3.weights data/dog.jpg"
      ],
      "execution_count": 55,
      "outputs": [
        {
          "output_type": "stream",
          "text": [
            "layer     filters    size              input                output\n",
            "    0 conv     32  3 x 3 / 1   608 x 608 x   3   ->   608 x 608 x  32  0.639 BFLOPs\n",
            "    1 conv     64  3 x 3 / 2   608 x 608 x  32   ->   304 x 304 x  64  3.407 BFLOPs\n",
            "    2 conv     32  1 x 1 / 1   304 x 304 x  64   ->   304 x 304 x  32  0.379 BFLOPs\n",
            "    3 conv     64  3 x 3 / 1   304 x 304 x  32   ->   304 x 304 x  64  3.407 BFLOPs\n",
            "    4 res    1                 304 x 304 x  64   ->   304 x 304 x  64\n",
            "    5 conv    128  3 x 3 / 2   304 x 304 x  64   ->   152 x 152 x 128  3.407 BFLOPs\n",
            "    6 conv     64  1 x 1 / 1   152 x 152 x 128   ->   152 x 152 x  64  0.379 BFLOPs\n",
            "    7 conv    128  3 x 3 / 1   152 x 152 x  64   ->   152 x 152 x 128  3.407 BFLOPs\n",
            "    8 res    5                 152 x 152 x 128   ->   152 x 152 x 128\n",
            "    9 conv     64  1 x 1 / 1   152 x 152 x 128   ->   152 x 152 x  64  0.379 BFLOPs\n",
            "   10 conv    128  3 x 3 / 1   152 x 152 x  64   ->   152 x 152 x 128  3.407 BFLOPs\n",
            "   11 res    8                 152 x 152 x 128   ->   152 x 152 x 128\n",
            "   12 conv    256  3 x 3 / 2   152 x 152 x 128   ->    76 x  76 x 256  3.407 BFLOPs\n",
            "   13 conv    128  1 x 1 / 1    76 x  76 x 256   ->    76 x  76 x 128  0.379 BFLOPs\n",
            "   14 conv    256  3 x 3 / 1    76 x  76 x 128   ->    76 x  76 x 256  3.407 BFLOPs\n",
            "   15 res   12                  76 x  76 x 256   ->    76 x  76 x 256\n",
            "   16 conv    128  1 x 1 / 1    76 x  76 x 256   ->    76 x  76 x 128  0.379 BFLOPs\n",
            "   17 conv    256  3 x 3 / 1    76 x  76 x 128   ->    76 x  76 x 256  3.407 BFLOPs\n",
            "   18 res   15                  76 x  76 x 256   ->    76 x  76 x 256\n",
            "   19 conv    128  1 x 1 / 1    76 x  76 x 256   ->    76 x  76 x 128  0.379 BFLOPs\n",
            "   20 conv    256  3 x 3 / 1    76 x  76 x 128   ->    76 x  76 x 256  3.407 BFLOPs\n",
            "   21 res   18                  76 x  76 x 256   ->    76 x  76 x 256\n",
            "   22 conv    128  1 x 1 / 1    76 x  76 x 256   ->    76 x  76 x 128  0.379 BFLOPs\n",
            "   23 conv    256  3 x 3 / 1    76 x  76 x 128   ->    76 x  76 x 256  3.407 BFLOPs\n",
            "   24 res   21                  76 x  76 x 256   ->    76 x  76 x 256\n",
            "   25 conv    128  1 x 1 / 1    76 x  76 x 256   ->    76 x  76 x 128  0.379 BFLOPs\n",
            "   26 conv    256  3 x 3 / 1    76 x  76 x 128   ->    76 x  76 x 256  3.407 BFLOPs\n",
            "   27 res   24                  76 x  76 x 256   ->    76 x  76 x 256\n",
            "   28 conv    128  1 x 1 / 1    76 x  76 x 256   ->    76 x  76 x 128  0.379 BFLOPs\n",
            "   29 conv    256  3 x 3 / 1    76 x  76 x 128   ->    76 x  76 x 256  3.407 BFLOPs\n",
            "   30 res   27                  76 x  76 x 256   ->    76 x  76 x 256\n",
            "   31 conv    128  1 x 1 / 1    76 x  76 x 256   ->    76 x  76 x 128  0.379 BFLOPs\n",
            "   32 conv    256  3 x 3 / 1    76 x  76 x 128   ->    76 x  76 x 256  3.407 BFLOPs\n",
            "   33 res   30                  76 x  76 x 256   ->    76 x  76 x 256\n",
            "   34 conv    128  1 x 1 / 1    76 x  76 x 256   ->    76 x  76 x 128  0.379 BFLOPs\n",
            "   35 conv    256  3 x 3 / 1    76 x  76 x 128   ->    76 x  76 x 256  3.407 BFLOPs\n",
            "   36 res   33                  76 x  76 x 256   ->    76 x  76 x 256\n",
            "   37 conv    512  3 x 3 / 2    76 x  76 x 256   ->    38 x  38 x 512  3.407 BFLOPs\n",
            "   38 conv    256  1 x 1 / 1    38 x  38 x 512   ->    38 x  38 x 256  0.379 BFLOPs\n",
            "   39 conv    512  3 x 3 / 1    38 x  38 x 256   ->    38 x  38 x 512  3.407 BFLOPs\n",
            "   40 res   37                  38 x  38 x 512   ->    38 x  38 x 512\n",
            "   41 conv    256  1 x 1 / 1    38 x  38 x 512   ->    38 x  38 x 256  0.379 BFLOPs\n",
            "   42 conv    512  3 x 3 / 1    38 x  38 x 256   ->    38 x  38 x 512  3.407 BFLOPs\n",
            "   43 res   40                  38 x  38 x 512   ->    38 x  38 x 512\n",
            "   44 conv    256  1 x 1 / 1    38 x  38 x 512   ->    38 x  38 x 256  0.379 BFLOPs\n",
            "   45 conv    512  3 x 3 / 1    38 x  38 x 256   ->    38 x  38 x 512  3.407 BFLOPs\n",
            "   46 res   43                  38 x  38 x 512   ->    38 x  38 x 512\n",
            "   47 conv    256  1 x 1 / 1    38 x  38 x 512   ->    38 x  38 x 256  0.379 BFLOPs\n",
            "   48 conv    512  3 x 3 / 1    38 x  38 x 256   ->    38 x  38 x 512  3.407 BFLOPs\n",
            "   49 res   46                  38 x  38 x 512   ->    38 x  38 x 512\n",
            "   50 conv    256  1 x 1 / 1    38 x  38 x 512   ->    38 x  38 x 256  0.379 BFLOPs\n",
            "   51 conv    512  3 x 3 / 1    38 x  38 x 256   ->    38 x  38 x 512  3.407 BFLOPs\n",
            "   52 res   49                  38 x  38 x 512   ->    38 x  38 x 512\n",
            "   53 conv    256  1 x 1 / 1    38 x  38 x 512   ->    38 x  38 x 256  0.379 BFLOPs\n",
            "   54 conv    512  3 x 3 / 1    38 x  38 x 256   ->    38 x  38 x 512  3.407 BFLOPs\n",
            "   55 res   52                  38 x  38 x 512   ->    38 x  38 x 512\n",
            "   56 conv    256  1 x 1 / 1    38 x  38 x 512   ->    38 x  38 x 256  0.379 BFLOPs\n",
            "   57 conv    512  3 x 3 / 1    38 x  38 x 256   ->    38 x  38 x 512  3.407 BFLOPs\n",
            "   58 res   55                  38 x  38 x 512   ->    38 x  38 x 512\n",
            "   59 conv    256  1 x 1 / 1    38 x  38 x 512   ->    38 x  38 x 256  0.379 BFLOPs\n",
            "   60 conv    512  3 x 3 / 1    38 x  38 x 256   ->    38 x  38 x 512  3.407 BFLOPs\n",
            "   61 res   58                  38 x  38 x 512   ->    38 x  38 x 512\n",
            "   62 conv   1024  3 x 3 / 2    38 x  38 x 512   ->    19 x  19 x1024  3.407 BFLOPs\n",
            "   63 conv    512  1 x 1 / 1    19 x  19 x1024   ->    19 x  19 x 512  0.379 BFLOPs\n",
            "   64 conv   1024  3 x 3 / 1    19 x  19 x 512   ->    19 x  19 x1024  3.407 BFLOPs\n",
            "   65 res   62                  19 x  19 x1024   ->    19 x  19 x1024\n",
            "   66 conv    512  1 x 1 / 1    19 x  19 x1024   ->    19 x  19 x 512  0.379 BFLOPs\n",
            "   67 conv   1024  3 x 3 / 1    19 x  19 x 512   ->    19 x  19 x1024  3.407 BFLOPs\n",
            "   68 res   65                  19 x  19 x1024   ->    19 x  19 x1024\n",
            "   69 conv    512  1 x 1 / 1    19 x  19 x1024   ->    19 x  19 x 512  0.379 BFLOPs\n",
            "   70 conv   1024  3 x 3 / 1    19 x  19 x 512   ->    19 x  19 x1024  3.407 BFLOPs\n",
            "   71 res   68                  19 x  19 x1024   ->    19 x  19 x1024\n",
            "   72 conv    512  1 x 1 / 1    19 x  19 x1024   ->    19 x  19 x 512  0.379 BFLOPs\n",
            "   73 conv   1024  3 x 3 / 1    19 x  19 x 512   ->    19 x  19 x1024  3.407 BFLOPs\n",
            "   74 res   71                  19 x  19 x1024   ->    19 x  19 x1024\n",
            "   75 conv    512  1 x 1 / 1    19 x  19 x1024   ->    19 x  19 x 512  0.379 BFLOPs\n",
            "   76 conv   1024  3 x 3 / 1    19 x  19 x 512   ->    19 x  19 x1024  3.407 BFLOPs\n",
            "   77 conv    512  1 x 1 / 1    19 x  19 x1024   ->    19 x  19 x 512  0.379 BFLOPs\n",
            "   78 conv   1024  3 x 3 / 1    19 x  19 x 512   ->    19 x  19 x1024  3.407 BFLOPs\n",
            "   79 conv    512  1 x 1 / 1    19 x  19 x1024   ->    19 x  19 x 512  0.379 BFLOPs\n",
            "   80 conv   1024  3 x 3 / 1    19 x  19 x 512   ->    19 x  19 x1024  3.407 BFLOPs\n",
            "   81 conv    255  1 x 1 / 1    19 x  19 x1024   ->    19 x  19 x 255  0.189 BFLOPs\n",
            "   82 yolo\n",
            "   83 route  79\n",
            "   84 conv    256  1 x 1 / 1    19 x  19 x 512   ->    19 x  19 x 256  0.095 BFLOPs\n",
            "   85 upsample            2x    19 x  19 x 256   ->    38 x  38 x 256\n",
            "   86 route  85 61\n",
            "   87 conv    256  1 x 1 / 1    38 x  38 x 768   ->    38 x  38 x 256  0.568 BFLOPs\n",
            "   88 conv    512  3 x 3 / 1    38 x  38 x 256   ->    38 x  38 x 512  3.407 BFLOPs\n",
            "   89 conv    256  1 x 1 / 1    38 x  38 x 512   ->    38 x  38 x 256  0.379 BFLOPs\n",
            "   90 conv    512  3 x 3 / 1    38 x  38 x 256   ->    38 x  38 x 512  3.407 BFLOPs\n",
            "   91 conv    256  1 x 1 / 1    38 x  38 x 512   ->    38 x  38 x 256  0.379 BFLOPs\n",
            "   92 conv    512  3 x 3 / 1    38 x  38 x 256   ->    38 x  38 x 512  3.407 BFLOPs\n",
            "   93 conv    255  1 x 1 / 1    38 x  38 x 512   ->    38 x  38 x 255  0.377 BFLOPs\n",
            "   94 yolo\n",
            "   95 route  91\n",
            "   96 conv    128  1 x 1 / 1    38 x  38 x 256   ->    38 x  38 x 128  0.095 BFLOPs\n",
            "   97 upsample            2x    38 x  38 x 128   ->    76 x  76 x 128\n",
            "   98 route  97 36\n",
            "   99 conv    128  1 x 1 / 1    76 x  76 x 384   ->    76 x  76 x 128  0.568 BFLOPs\n",
            "  100 conv    256  3 x 3 / 1    76 x  76 x 128   ->    76 x  76 x 256  3.407 BFLOPs\n",
            "  101 conv    128  1 x 1 / 1    76 x  76 x 256   ->    76 x  76 x 128  0.379 BFLOPs\n",
            "  102 conv    256  3 x 3 / 1    76 x  76 x 128   ->    76 x  76 x 256  3.407 BFLOPs\n",
            "  103 conv    128  1 x 1 / 1    76 x  76 x 256   ->    76 x  76 x 128  0.379 BFLOPs\n",
            "  104 conv    256  3 x 3 / 1    76 x  76 x 128   ->    76 x  76 x 256  3.407 BFLOPs\n",
            "  105 conv    255  1 x 1 / 1    76 x  76 x 256   ->    76 x  76 x 255  0.754 BFLOPs\n",
            "  106 yolo\n",
            "Loading weights from yolov3.weights...Done!\n",
            "data/dog.jpg: Predicted in 28.969123 seconds.\n",
            "dog: 100%\n",
            "truck: 92%\n",
            "bicycle: 99%\n"
          ],
          "name": "stdout"
        }
      ]
    },
    {
      "cell_type": "code",
      "metadata": {
        "colab": {
          "base_uri": "https://localhost:8080/"
        },
        "id": "fwEI0vLlZABq",
        "outputId": "1677afba-300f-4469-ae60-ea2e76d7f2cf"
      },
      "source": [
        "!./darknet detect cfg/yolov3.cfg yolov3.weights data/horses.jpg"
      ],
      "execution_count": 56,
      "outputs": [
        {
          "output_type": "stream",
          "text": [
            "layer     filters    size              input                output\n",
            "    0 conv     32  3 x 3 / 1   608 x 608 x   3   ->   608 x 608 x  32  0.639 BFLOPs\n",
            "    1 conv     64  3 x 3 / 2   608 x 608 x  32   ->   304 x 304 x  64  3.407 BFLOPs\n",
            "    2 conv     32  1 x 1 / 1   304 x 304 x  64   ->   304 x 304 x  32  0.379 BFLOPs\n",
            "    3 conv     64  3 x 3 / 1   304 x 304 x  32   ->   304 x 304 x  64  3.407 BFLOPs\n",
            "    4 res    1                 304 x 304 x  64   ->   304 x 304 x  64\n",
            "    5 conv    128  3 x 3 / 2   304 x 304 x  64   ->   152 x 152 x 128  3.407 BFLOPs\n",
            "    6 conv     64  1 x 1 / 1   152 x 152 x 128   ->   152 x 152 x  64  0.379 BFLOPs\n",
            "    7 conv    128  3 x 3 / 1   152 x 152 x  64   ->   152 x 152 x 128  3.407 BFLOPs\n",
            "    8 res    5                 152 x 152 x 128   ->   152 x 152 x 128\n",
            "    9 conv     64  1 x 1 / 1   152 x 152 x 128   ->   152 x 152 x  64  0.379 BFLOPs\n",
            "   10 conv    128  3 x 3 / 1   152 x 152 x  64   ->   152 x 152 x 128  3.407 BFLOPs\n",
            "   11 res    8                 152 x 152 x 128   ->   152 x 152 x 128\n",
            "   12 conv    256  3 x 3 / 2   152 x 152 x 128   ->    76 x  76 x 256  3.407 BFLOPs\n",
            "   13 conv    128  1 x 1 / 1    76 x  76 x 256   ->    76 x  76 x 128  0.379 BFLOPs\n",
            "   14 conv    256  3 x 3 / 1    76 x  76 x 128   ->    76 x  76 x 256  3.407 BFLOPs\n",
            "   15 res   12                  76 x  76 x 256   ->    76 x  76 x 256\n",
            "   16 conv    128  1 x 1 / 1    76 x  76 x 256   ->    76 x  76 x 128  0.379 BFLOPs\n",
            "   17 conv    256  3 x 3 / 1    76 x  76 x 128   ->    76 x  76 x 256  3.407 BFLOPs\n",
            "   18 res   15                  76 x  76 x 256   ->    76 x  76 x 256\n",
            "   19 conv    128  1 x 1 / 1    76 x  76 x 256   ->    76 x  76 x 128  0.379 BFLOPs\n",
            "   20 conv    256  3 x 3 / 1    76 x  76 x 128   ->    76 x  76 x 256  3.407 BFLOPs\n",
            "   21 res   18                  76 x  76 x 256   ->    76 x  76 x 256\n",
            "   22 conv    128  1 x 1 / 1    76 x  76 x 256   ->    76 x  76 x 128  0.379 BFLOPs\n",
            "   23 conv    256  3 x 3 / 1    76 x  76 x 128   ->    76 x  76 x 256  3.407 BFLOPs\n",
            "   24 res   21                  76 x  76 x 256   ->    76 x  76 x 256\n",
            "   25 conv    128  1 x 1 / 1    76 x  76 x 256   ->    76 x  76 x 128  0.379 BFLOPs\n",
            "   26 conv    256  3 x 3 / 1    76 x  76 x 128   ->    76 x  76 x 256  3.407 BFLOPs\n",
            "   27 res   24                  76 x  76 x 256   ->    76 x  76 x 256\n",
            "   28 conv    128  1 x 1 / 1    76 x  76 x 256   ->    76 x  76 x 128  0.379 BFLOPs\n",
            "   29 conv    256  3 x 3 / 1    76 x  76 x 128   ->    76 x  76 x 256  3.407 BFLOPs\n",
            "   30 res   27                  76 x  76 x 256   ->    76 x  76 x 256\n",
            "   31 conv    128  1 x 1 / 1    76 x  76 x 256   ->    76 x  76 x 128  0.379 BFLOPs\n",
            "   32 conv    256  3 x 3 / 1    76 x  76 x 128   ->    76 x  76 x 256  3.407 BFLOPs\n",
            "   33 res   30                  76 x  76 x 256   ->    76 x  76 x 256\n",
            "   34 conv    128  1 x 1 / 1    76 x  76 x 256   ->    76 x  76 x 128  0.379 BFLOPs\n",
            "   35 conv    256  3 x 3 / 1    76 x  76 x 128   ->    76 x  76 x 256  3.407 BFLOPs\n",
            "   36 res   33                  76 x  76 x 256   ->    76 x  76 x 256\n",
            "   37 conv    512  3 x 3 / 2    76 x  76 x 256   ->    38 x  38 x 512  3.407 BFLOPs\n",
            "   38 conv    256  1 x 1 / 1    38 x  38 x 512   ->    38 x  38 x 256  0.379 BFLOPs\n",
            "   39 conv    512  3 x 3 / 1    38 x  38 x 256   ->    38 x  38 x 512  3.407 BFLOPs\n",
            "   40 res   37                  38 x  38 x 512   ->    38 x  38 x 512\n",
            "   41 conv    256  1 x 1 / 1    38 x  38 x 512   ->    38 x  38 x 256  0.379 BFLOPs\n",
            "   42 conv    512  3 x 3 / 1    38 x  38 x 256   ->    38 x  38 x 512  3.407 BFLOPs\n",
            "   43 res   40                  38 x  38 x 512   ->    38 x  38 x 512\n",
            "   44 conv    256  1 x 1 / 1    38 x  38 x 512   ->    38 x  38 x 256  0.379 BFLOPs\n",
            "   45 conv    512  3 x 3 / 1    38 x  38 x 256   ->    38 x  38 x 512  3.407 BFLOPs\n",
            "   46 res   43                  38 x  38 x 512   ->    38 x  38 x 512\n",
            "   47 conv    256  1 x 1 / 1    38 x  38 x 512   ->    38 x  38 x 256  0.379 BFLOPs\n",
            "   48 conv    512  3 x 3 / 1    38 x  38 x 256   ->    38 x  38 x 512  3.407 BFLOPs\n",
            "   49 res   46                  38 x  38 x 512   ->    38 x  38 x 512\n",
            "   50 conv    256  1 x 1 / 1    38 x  38 x 512   ->    38 x  38 x 256  0.379 BFLOPs\n",
            "   51 conv    512  3 x 3 / 1    38 x  38 x 256   ->    38 x  38 x 512  3.407 BFLOPs\n",
            "   52 res   49                  38 x  38 x 512   ->    38 x  38 x 512\n",
            "   53 conv    256  1 x 1 / 1    38 x  38 x 512   ->    38 x  38 x 256  0.379 BFLOPs\n",
            "   54 conv    512  3 x 3 / 1    38 x  38 x 256   ->    38 x  38 x 512  3.407 BFLOPs\n",
            "   55 res   52                  38 x  38 x 512   ->    38 x  38 x 512\n",
            "   56 conv    256  1 x 1 / 1    38 x  38 x 512   ->    38 x  38 x 256  0.379 BFLOPs\n",
            "   57 conv    512  3 x 3 / 1    38 x  38 x 256   ->    38 x  38 x 512  3.407 BFLOPs\n",
            "   58 res   55                  38 x  38 x 512   ->    38 x  38 x 512\n",
            "   59 conv    256  1 x 1 / 1    38 x  38 x 512   ->    38 x  38 x 256  0.379 BFLOPs\n",
            "   60 conv    512  3 x 3 / 1    38 x  38 x 256   ->    38 x  38 x 512  3.407 BFLOPs\n",
            "   61 res   58                  38 x  38 x 512   ->    38 x  38 x 512\n",
            "   62 conv   1024  3 x 3 / 2    38 x  38 x 512   ->    19 x  19 x1024  3.407 BFLOPs\n",
            "   63 conv    512  1 x 1 / 1    19 x  19 x1024   ->    19 x  19 x 512  0.379 BFLOPs\n",
            "   64 conv   1024  3 x 3 / 1    19 x  19 x 512   ->    19 x  19 x1024  3.407 BFLOPs\n",
            "   65 res   62                  19 x  19 x1024   ->    19 x  19 x1024\n",
            "   66 conv    512  1 x 1 / 1    19 x  19 x1024   ->    19 x  19 x 512  0.379 BFLOPs\n",
            "   67 conv   1024  3 x 3 / 1    19 x  19 x 512   ->    19 x  19 x1024  3.407 BFLOPs\n",
            "   68 res   65                  19 x  19 x1024   ->    19 x  19 x1024\n",
            "   69 conv    512  1 x 1 / 1    19 x  19 x1024   ->    19 x  19 x 512  0.379 BFLOPs\n",
            "   70 conv   1024  3 x 3 / 1    19 x  19 x 512   ->    19 x  19 x1024  3.407 BFLOPs\n",
            "   71 res   68                  19 x  19 x1024   ->    19 x  19 x1024\n",
            "   72 conv    512  1 x 1 / 1    19 x  19 x1024   ->    19 x  19 x 512  0.379 BFLOPs\n",
            "   73 conv   1024  3 x 3 / 1    19 x  19 x 512   ->    19 x  19 x1024  3.407 BFLOPs\n",
            "   74 res   71                  19 x  19 x1024   ->    19 x  19 x1024\n",
            "   75 conv    512  1 x 1 / 1    19 x  19 x1024   ->    19 x  19 x 512  0.379 BFLOPs\n",
            "   76 conv   1024  3 x 3 / 1    19 x  19 x 512   ->    19 x  19 x1024  3.407 BFLOPs\n",
            "   77 conv    512  1 x 1 / 1    19 x  19 x1024   ->    19 x  19 x 512  0.379 BFLOPs\n",
            "   78 conv   1024  3 x 3 / 1    19 x  19 x 512   ->    19 x  19 x1024  3.407 BFLOPs\n",
            "   79 conv    512  1 x 1 / 1    19 x  19 x1024   ->    19 x  19 x 512  0.379 BFLOPs\n",
            "   80 conv   1024  3 x 3 / 1    19 x  19 x 512   ->    19 x  19 x1024  3.407 BFLOPs\n",
            "   81 conv    255  1 x 1 / 1    19 x  19 x1024   ->    19 x  19 x 255  0.189 BFLOPs\n",
            "   82 yolo\n",
            "   83 route  79\n",
            "   84 conv    256  1 x 1 / 1    19 x  19 x 512   ->    19 x  19 x 256  0.095 BFLOPs\n",
            "   85 upsample            2x    19 x  19 x 256   ->    38 x  38 x 256\n",
            "   86 route  85 61\n",
            "   87 conv    256  1 x 1 / 1    38 x  38 x 768   ->    38 x  38 x 256  0.568 BFLOPs\n",
            "   88 conv    512  3 x 3 / 1    38 x  38 x 256   ->    38 x  38 x 512  3.407 BFLOPs\n",
            "   89 conv    256  1 x 1 / 1    38 x  38 x 512   ->    38 x  38 x 256  0.379 BFLOPs\n",
            "   90 conv    512  3 x 3 / 1    38 x  38 x 256   ->    38 x  38 x 512  3.407 BFLOPs\n",
            "   91 conv    256  1 x 1 / 1    38 x  38 x 512   ->    38 x  38 x 256  0.379 BFLOPs\n",
            "   92 conv    512  3 x 3 / 1    38 x  38 x 256   ->    38 x  38 x 512  3.407 BFLOPs\n",
            "   93 conv    255  1 x 1 / 1    38 x  38 x 512   ->    38 x  38 x 255  0.377 BFLOPs\n",
            "   94 yolo\n",
            "   95 route  91\n",
            "   96 conv    128  1 x 1 / 1    38 x  38 x 256   ->    38 x  38 x 128  0.095 BFLOPs\n",
            "   97 upsample            2x    38 x  38 x 128   ->    76 x  76 x 128\n",
            "   98 route  97 36\n",
            "   99 conv    128  1 x 1 / 1    76 x  76 x 384   ->    76 x  76 x 128  0.568 BFLOPs\n",
            "  100 conv    256  3 x 3 / 1    76 x  76 x 128   ->    76 x  76 x 256  3.407 BFLOPs\n",
            "  101 conv    128  1 x 1 / 1    76 x  76 x 256   ->    76 x  76 x 128  0.379 BFLOPs\n",
            "  102 conv    256  3 x 3 / 1    76 x  76 x 128   ->    76 x  76 x 256  3.407 BFLOPs\n",
            "  103 conv    128  1 x 1 / 1    76 x  76 x 256   ->    76 x  76 x 128  0.379 BFLOPs\n",
            "  104 conv    256  3 x 3 / 1    76 x  76 x 128   ->    76 x  76 x 256  3.407 BFLOPs\n",
            "  105 conv    255  1 x 1 / 1    76 x  76 x 256   ->    76 x  76 x 255  0.754 BFLOPs\n",
            "  106 yolo\n",
            "Loading weights from yolov3.weights...Done!\n",
            "data/horses.jpg: Predicted in 27.739433 seconds.\n",
            "horse: 100%\n",
            "horse: 100%\n",
            "horse: 96%\n",
            "horse: 95%\n"
          ],
          "name": "stdout"
        }
      ]
    },
    {
      "cell_type": "markdown",
      "metadata": {
        "id": "7TZKW-5qaZ6I"
      },
      "source": [
        "プレディクションの結果を表示"
      ]
    },
    {
      "cell_type": "markdown",
      "metadata": {
        "id": "uVPjvQDsaOEK"
      },
      "source": [
        "![predictions.jpg](data:image/jpeg;base64,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)"
      ]
    },
    {
      "cell_type": "code",
      "metadata": {
        "id": "uo1fDZcvaX22"
      },
      "source": [
        ""
      ],
      "execution_count": null,
      "outputs": []
    }
  ]
}