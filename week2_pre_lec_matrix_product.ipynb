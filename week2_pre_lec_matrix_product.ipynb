{
 "cells": [
  {
   "cell_type": "markdown",
   "metadata": {},
   "source": [
    "Week2授業前課題3 行列積のスクラッチ\n",
    "---"
   ]
  },
  {
   "cell_type": "markdown",
   "metadata": {},
   "source": [
    "問題1】行列積を手計算する\n",
    "---\n",
    ">AとBの行列積を手計算で解いてください。\n",
    "計算過程もマークダウンテキストを用いて説明してください。\n",
    "```\n",
    "import numpy as np\n",
    "a_ndarray = np.array([[-1, 2, 3], [4, -5, 6], [7, 8, -9]])\n",
    "b_ndarray = np.array([[0, 2, 1], [0, 2, -8], [2, 9, -1]])\n",
    "```"
   ]
  },
  {
   "cell_type": "markdown",
   "metadata": {},
   "source": [
    "-1*0 + 2*0 + 3*2 = 6\n",
    "-1*2 + 2*2 + 3*9 = 2\n",
    "-1*1 + 2*-8 + 3*-1 = -20\n",
    "\n",
    "4*0 + -5*0 + 6*2 = 12\n",
    "4*2 + -5*2 + 6*9 = 52\n",
    "4*1 + -5*-8 + 6*-1 = 38\n",
    "\n",
    "7*0 + 8*0 + -9*2 = -18\n",
    "7*2 + 8*2 + -9*9 = -51\n",
    "7*1 + 8*-8 + -9*-1 = 48\n",
    "```\n",
    "[6 2 -20]\n",
    "[12 52 38]\n",
    "[-18 -51 80]\n",
    "```\n"
   ]
  },
  {
   "cell_type": "markdown",
   "metadata": {},
   "source": [
    "【問題2】NumPyの関数による計算\n",
    "---\n",
    ">この行列積はNumPyのnp.matmul()やnp.dot()、または@演算子を使うことで簡単に計算できます。\n",
    "これらを使い行列積を計算してください。\n",
    "参考URL:\n",
    "https://note.nkmk.me/python-numpy-matrix/"
   ]
  },
  {
   "cell_type": "code",
   "execution_count": 1,
   "metadata": {},
   "outputs": [],
   "source": [
    "import numpy as np\n",
    "a_ndarray = np.array([[-1, 2, 3], [4, -5, 6], [7, 8, -9]])\n",
    "b_ndarray = np.array([[0, 2, 1], [0, 2, -8], [2, 9, -1]])"
   ]
  },
  {
   "cell_type": "code",
   "execution_count": 3,
   "metadata": {},
   "outputs": [
    {
     "data": {
      "text/plain": [
       "array([[  6,  29, -20],\n",
       "       [ 12,  52,  38],\n",
       "       [-18, -51, -48]])"
      ]
     },
     "execution_count": 3,
     "metadata": {},
     "output_type": "execute_result"
    }
   ],
   "source": [
    "a_b_ndarray = np.matmul(a_ndarray, b_ndarray)\n",
    "a_b_ndarray"
   ]
  },
  {
   "cell_type": "markdown",
   "metadata": {},
   "source": [
    "【問題3】ある要素の計算を実装\n",
    "---\n",
    ">手計算をする際はまず行列Aの0行目と行列Bの0列目に注目し、以下の計算を行ったかと思います。\n",
    "参考URL: https://teratail.com/questions/196093\n",
    "完全にチート"
   ]
  },
  {
   "cell_type": "markdown",
   "metadata": {},
   "source": [
    "Σの計算をpythonで：\n",
    "https://www.wantanblog.com/entry/2019/12/14/162806\n",
    "```\n",
    "import numpy as npy\n",
    "\n",
    "# 関数k\n",
    "def funck(k):\n",
    "    return k\n",
    "\n",
    "# 関数k^2\n",
    "def funckk(k):\n",
    "    return k**2\n",
    "\n",
    "# 1から5の配列\n",
    "numlist = [1,2,3,4,5]\n",
    "\n",
    "resultk = 0\n",
    "resultkk = 0\n",
    "\n",
    "for i in numlist:\n",
    "    resultk = resultk + funck(i)\n",
    "    \n",
    "for i in numlist:\n",
    "    resultkk = resultkk + funckk(i)\n",
    "\n",
    "print('kの和')\n",
    "print(resultk)\n",
    "print('k^2の和')\n",
    "print(resultkk)\n",
    "```\n",
    "\n",
    "その他参考URL:ベクトル内積の計算for文\n",
    "https://python-textbook.readthedocs.io/en/latest/src/tutorial2.html\n"
   ]
  },
  {
   "cell_type": "code",
   "execution_count": 7,
   "metadata": {},
   "outputs": [
    {
     "name": "stdout",
     "output_type": "stream",
     "text": [
      "[[6, 29, -20], [12, 52, 38], [-18, -51, -48]]\n"
     ]
    }
   ],
   "source": [
    "def matrix_multiplication(U,V):\n",
    "    answer=[]\n",
    "    u_colmun_length=len(U[0])\n",
    "    v_row_lengthh=len(V)\n",
    "    v_column_length=len(V[0])\n",
    "    #Uの列数とVの行数が同じじゃないなら計算できない\n",
    "    if u_colmun_length != v_row_lengthh:\n",
    "        print(\"Could not compute\")\n",
    "        return\n",
    "    else:\n",
    "        #Uの行列から１行を取り出す\n",
    "        for u in U:\n",
    "            temp=[]        \n",
    "            colmun_index=0\n",
    "            #Vの行列から一列を取り出す\n",
    "            for _ in range(v_column_length):\n",
    "                a = [x[colmun_index] for x in V]\n",
    "                el_index=0         \n",
    "                temp_multiple=0\n",
    "                #Uの行とVの列を掛け算し足し合わせる\n",
    "                for _ in range(u_colmun_length):   \n",
    "                    temp_multiple+=u[el_index]*a[el_index] \n",
    "                    el_index+=1         \n",
    "                #行列の行を作成\n",
    "                temp.append(temp_multiple)                \n",
    "                colmun_index+=1   \n",
    "            #行を追加\n",
    "            answer.append(temp)\n",
    "    print(answer)\n",
    "\n",
    "matrix_multiplication([[-1, 2, 3], [4, -5, 6], [7, 8, -9]],[[0, 2, 1], [0, 2, -8], [2, 9, -1]])    "
   ]
  },
  {
   "cell_type": "markdown",
   "metadata": {},
   "source": []
  }
 ],
 "metadata": {
  "kernelspec": {
   "display_name": "Python 3",
   "language": "python",
   "name": "python3"
  },
  "language_info": {
   "codemirror_mode": {
    "name": "ipython",
    "version": 3
   },
   "file_extension": ".py",
   "mimetype": "text/x-python",
   "name": "python",
   "nbconvert_exporter": "python",
   "pygments_lexer": "ipython3",
   "version": "3.8.3"
  }
 },
 "nbformat": 4,
 "nbformat_minor": 4
}
