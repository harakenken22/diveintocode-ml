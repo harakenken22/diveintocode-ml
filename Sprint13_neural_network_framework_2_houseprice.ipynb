{
  "nbformat": 4,
  "nbformat_minor": 0,
  "metadata": {
    "kernelspec": {
      "display_name": "Python 3",
      "language": "python",
      "name": "python3"
    },
    "language_info": {
      "codemirror_mode": {
        "name": "ipython",
        "version": 3
      },
      "file_extension": ".py",
      "mimetype": "text/x-python",
      "name": "python",
      "nbconvert_exporter": "python",
      "pygments_lexer": "ipython3",
      "version": "3.8.3"
    },
    "colab": {
      "name": "Sprint13_neural_network_framework_2_houseprice.ipynb",
      "provenance": [],
      "include_colab_link": true
    }
  },
  "cells": [
    {
      "cell_type": "markdown",
      "metadata": {
        "id": "view-in-github",
        "colab_type": "text"
      },
      "source": [
        "<a href=\"https://colab.research.google.com/github/harakenken22/diveintocode-ml/blob/master/Sprint13_neural_network_framework_2_houseprice.ipynb\" target=\"_parent\"><img src=\"https://colab.research.google.com/assets/colab-badge.svg\" alt=\"Open In Colab\"/></a>"
      ]
    },
    {
      "cell_type": "code",
      "metadata": {
        "id": "LoZTQwA14QLv"
      },
      "source": [
        "import numpy as np\n",
        "import pandas as pd\n",
        "from sklearn.model_selection import train_test_split\n",
        "import tensorflow as tf\n",
        "from keras.datasets import mnist"
      ],
      "execution_count": null,
      "outputs": []
    },
    {
      "cell_type": "code",
      "metadata": {
        "id": "mQa1m__N4QL3",
        "outputId": "eb582a09-b602-4d39-e5e4-b01f5342ff86"
      },
      "source": [
        "data= pd.read_csv('train.csv')\n",
        "y = data['SalePrice']\n",
        "X = data[['GrLivArea', 'YearBuilt']]\n",
        "\n",
        "\n",
        "#特徴量を正規化\n",
        "mean_X = X.mean(axis=0)\n",
        "mean_y = y.mean(axis=0)\n",
        "std_X = X.std(axis=0)\n",
        "std_y = y.std(axis=0)\n",
        "X = (X - mean_X) / std_X\n",
        "y = (y - mean_y) / std_y\n",
        "print(X)\n",
        "print(y)\n",
        "\n",
        "\n",
        "# ラベルを数値に変換\n",
        "# y[y == \"Iris-versicolor\"] = 0\n",
        "# y[y == \"Iris-virginica\"] = 1\n",
        "\n",
        "# trainとtestに分割\n",
        "X_train, X_test, y_train, y_test = train_test_split(X, y, test_size=0.2, random_state=0)\n",
        "\n",
        "#Fanction API\n",
        "input_data = tf.keras.layers.Input(shape=(X_train.shape[1],)) # 入力層\n",
        "x_1 = tf.keras.layers.Dense(10, activation=tf.nn.relu)(input_data)#1層目\n",
        "x_2 = tf.keras.layers.Dense(10, activation=tf.nn.relu)(x_1)#2層目\n",
        "output = tf.keras.layers.Dense(1, activation=tf.nn.sigmoid)(x_2) # 出力層\n",
        "\n",
        "model = tf.keras.Model(inputs=input_data, outputs=output)\n",
        "\n",
        "model.summary()\n",
        "model.compile(loss='binary_crossentropy',\n",
        "              optimizer=tf.optimizers.Adam(learning_rate=0.01),\n",
        "              metrics=['binary_accuracy'])\n",
        "\n",
        "history = model.fit(X_train, y_train,                  # トレーニングデータ\n",
        "                    epochs=10,                        # トレーニングの回数\n",
        "                    batch_size=30,                     # 勾配更新ごとのサンプル数\n",
        "                    verbose=1,                         # 進行状況の表示（0：非表示、1,2：表示）\n",
        "                    validation_data=(X_test, y_test))"
      ],
      "execution_count": null,
      "outputs": [
        {
          "output_type": "stream",
          "text": [
            "      GrLivArea  YearBuilt\n",
            "0      0.370207   1.050634\n",
            "1     -0.482347   0.156680\n",
            "2      0.514836   0.984415\n",
            "3      0.383528  -1.862993\n",
            "4      1.298881   0.951306\n",
            "...         ...        ...\n",
            "1455   0.250316   0.918196\n",
            "1456   1.061003   0.222899\n",
            "1457   1.569110  -1.002149\n",
            "1458  -0.832502  -0.704164\n",
            "1459  -0.493765  -0.207523\n",
            "\n",
            "[1460 rows x 2 columns]\n",
            "0       0.347154\n",
            "1       0.007286\n",
            "2       0.535970\n",
            "3      -0.515105\n",
            "4       0.869545\n",
            "          ...   \n",
            "1455   -0.074534\n",
            "1456    0.366036\n",
            "1457    1.077242\n",
            "1458   -0.488356\n",
            "1459   -0.420697\n",
            "Name: SalePrice, Length: 1460, dtype: float64\n",
            "Model: \"model_2\"\n",
            "_________________________________________________________________\n",
            "Layer (type)                 Output Shape              Param #   \n",
            "=================================================================\n",
            "input_4 (InputLayer)         [(None, 2)]               0         \n",
            "_________________________________________________________________\n",
            "dense_8 (Dense)              (None, 10)                30        \n",
            "_________________________________________________________________\n",
            "dense_9 (Dense)              (None, 10)                110       \n",
            "_________________________________________________________________\n",
            "dense_10 (Dense)             (None, 1)                 11        \n",
            "=================================================================\n",
            "Total params: 151\n",
            "Trainable params: 151\n",
            "Non-trainable params: 0\n",
            "_________________________________________________________________\n",
            "Epoch 1/10\n",
            "39/39 [==============================] - 1s 6ms/step - loss: -0.4027 - binary_accuracy: 0.0000e+00 - val_loss: -6.3122 - val_binary_accuracy: 0.0000e+00\n",
            "Epoch 2/10\n",
            "39/39 [==============================] - 0s 2ms/step - loss: -12.3924 - binary_accuracy: 0.0000e+00 - val_loss: -46.1152 - val_binary_accuracy: 0.0000e+00\n",
            "Epoch 3/10\n",
            "39/39 [==============================] - 0s 2ms/step - loss: -71.3831 - binary_accuracy: 0.0000e+00 - val_loss: -174.7179 - val_binary_accuracy: 0.0000e+00\n",
            "Epoch 4/10\n",
            "39/39 [==============================] - 0s 2ms/step - loss: -234.8507 - binary_accuracy: 0.0000e+00 - val_loss: -460.6084 - val_binary_accuracy: 0.0000e+00\n",
            "Epoch 5/10\n",
            "39/39 [==============================] - 0s 2ms/step - loss: -574.9372 - binary_accuracy: 0.0000e+00 - val_loss: -1007.1655 - val_binary_accuracy: 0.0000e+00\n",
            "Epoch 6/10\n",
            "39/39 [==============================] - 0s 2ms/step - loss: -1229.6127 - binary_accuracy: 0.0000e+00 - val_loss: -1875.6909 - val_binary_accuracy: 0.0000e+00\n",
            "Epoch 7/10\n",
            "39/39 [==============================] - 0s 2ms/step - loss: -2151.9967 - binary_accuracy: 0.0000e+00 - val_loss: -3173.1196 - val_binary_accuracy: 0.0000e+00\n",
            "Epoch 8/10\n",
            "39/39 [==============================] - 0s 2ms/step - loss: -3650.9682 - binary_accuracy: 0.0000e+00 - val_loss: -5015.9268 - val_binary_accuracy: 0.0000e+00\n",
            "Epoch 9/10\n",
            "39/39 [==============================] - 0s 2ms/step - loss: -5727.1504 - binary_accuracy: 0.0000e+00 - val_loss: -7402.1963 - val_binary_accuracy: 0.0000e+00\n",
            "Epoch 10/10\n",
            "39/39 [==============================] - 0s 2ms/step - loss: -8200.8127 - binary_accuracy: 0.0000e+00 - val_loss: -10393.4775 - val_binary_accuracy: 0.0000e+00\n"
          ],
          "name": "stdout"
        }
      ]
    },
    {
      "cell_type": "code",
      "metadata": {
        "id": "O4DZsUsr4QL5"
      },
      "source": [
        ""
      ],
      "execution_count": null,
      "outputs": []
    }
  ]
}