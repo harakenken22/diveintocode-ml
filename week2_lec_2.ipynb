{
 "cells": [
  {
   "cell_type": "code",
   "execution_count": 83,
   "metadata": {},
   "outputs": [],
   "source": [
    "import numpy as np\n",
    "from scipy.stats import multivariate_normal\n",
    "import matplotlib.pyplot as plt\n",
    "np.set_printoptions(suppress=True) # 指数表示の禁止を設定する\n",
    "fuji = np.loadtxt(\"mtfuji_data.csv\",delimiter=\",\", skiprows=1)"
   ]
  },
  {
   "cell_type": "code",
   "execution_count": 84,
   "metadata": {},
   "outputs": [
    {
     "name": "stdout",
     "output_type": "stream",
     "text": [
      "[[    0.          35.134141   139.132082     0.           0.      ]\n",
      " [    1.          35.135826   139.129202     0.         322.      ]\n",
      " [    2.          35.13751    139.126322     0.         644.      ]\n",
      " [    3.          35.139194   139.123441     0.         966.      ]\n",
      " [    4.          35.140878   139.12056      0.        1288.      ]\n",
      " [    5.          35.142562   139.117679     0.        1611.      ]\n",
      " [    6.          35.144246   139.114799     6.62      1933.      ]\n",
      " [    7.          35.145929   139.111917     7.21      2255.      ]\n",
      " [    8.          35.147613   139.109036    12.2       2577.      ]\n",
      " [    9.          35.149297   139.106155    54.41      2899.      ]\n",
      " [   10.          35.15098    139.103273   171.56      3222.      ]\n",
      " [   11.          35.152664   139.100392   177.84      3544.      ]\n",
      " [   12.          35.154347   139.09751    228.21      3866.      ]\n",
      " [   13.          35.15603    139.094628   275.38      4188.      ]\n",
      " [   14.          35.157714   139.091747   433.76      4511.      ]\n",
      " [   15.          35.159397   139.088865   371.74      4833.      ]\n",
      " [   16.          35.16108    139.085982   380.06      5155.      ]\n",
      " [   17.          35.162763   139.0831     503.4       5477.      ]\n",
      " [   18.          35.164446   139.080218   485.39      5799.      ]\n",
      " [   19.          35.166129   139.077335   477.82      6122.      ]\n",
      " [   20.          35.167812   139.074453   580.5       6444.      ]\n",
      " [   21.          35.169495   139.07157    610.92      6766.      ]\n",
      " [   22.          35.171178   139.068687   654.96      7088.      ]\n",
      " [   23.          35.17286    139.065804   628.22      7411.      ]\n",
      " [   24.          35.174543   139.062921   626.64      7733.      ]\n",
      " [   25.          35.176225   139.060038   572.55      8055.      ]\n",
      " [   26.          35.177908   139.057154   723.95      8377.      ]\n",
      " [   27.          35.17959    139.054271   701.94      8699.      ]\n",
      " [   28.          35.181273   139.051387   879.47      9022.      ]\n",
      " [   29.          35.182955   139.048504   976.17      9344.      ]\n",
      " [   30.          35.184637   139.04562    919.16      9666.      ]\n",
      " [   31.          35.186319   139.042736   817.        9988.      ]\n",
      " [   32.          35.188001   139.039852   743.06     10310.      ]\n",
      " [   33.          35.189683   139.036968   770.92     10633.      ]\n",
      " [   34.          35.191365   139.034084   864.06     10955.      ]\n",
      " [   35.          35.193047   139.031199   826.52     11277.      ]\n",
      " [   36.          35.194729   139.028315   748.39     11599.      ]\n",
      " [   37.          35.19641    139.02543    756.11     11922.      ]\n",
      " [   38.          35.198092   139.022545   724.5      12244.      ]\n",
      " [   39.          35.199773   139.01966    724.5      12566.      ]]\n"
     ]
    }
   ],
   "source": [
    "print(fuji[0:40])#読み込みの成功"
   ]
  },
  {
   "cell_type": "code",
   "execution_count": 85,
   "metadata": {},
   "outputs": [],
   "source": [
    "fuji = np.array(fuji) #numpyによってndarrayを作成"
   ]
  },
  {
   "cell_type": "code",
   "execution_count": 86,
   "metadata": {},
   "outputs": [
    {
     "data": {
      "text/plain": [
       "array([  0.      ,  35.134141, 139.132082,   0.      ,   0.      ])"
      ]
     },
     "execution_count": 86,
     "metadata": {},
     "output_type": "execute_result"
    }
   ],
   "source": [
    "fuji[0]"
   ]
  },
  {
   "cell_type": "markdown",
   "metadata": {},
   "source": [
    "【問題1】データの可視化\n",
    "---\n",
    ">Matplotlibを使い標高データを可視化してください。横軸に「その地点の番号」、縦軸に「標高」を設定すれば、富士山の断面図が描けます。"
   ]
  },
  {
   "cell_type": "code",
   "execution_count": 87,
   "metadata": {},
   "outputs": [
    {
     "name": "stderr",
     "output_type": "stream",
     "text": [
      "No handles with labels found to put in legend.\n"
     ]
    },
    {
     "data": {
      "image/png": "[encoded data removed]",
      "text/plain": [
       "<Figure size 432x288 with 1 Axes>"
      ]
     },
     "metadata": {
      "needs_background": "light"
     },
     "output_type": "display_data"
    }
   ],
   "source": [
    "plt.title(\"koubai\")\n",
    "plt.xlabel(\"number\")\n",
    "plt.ylabel(\"numner_2\")\n",
    "plt.plot(fuji[:, 0], fuji[:, 3], color = \"orange\", marker='o')\n",
    "plt.legend()\n",
    "plt.show()"
   ]
  },
  {
   "cell_type": "markdown",
   "metadata": {},
   "source": [
    "【問題2】ある地点の勾配を計算する関数を作成\n",
    "---\n",
    ">「二次元配列と勾配問題」では各地点での勾配を最初に求めました。しかし、暗闇の富士山を想像すると、知ることができるのは今いる地点の勾配だけです。\n",
    "「今いる地点の番号」と「今いる隣の地点の番号（今いる地点の番号-1）」の関係による勾配を求める関数を作成してください。\n",
    "勾配は以下の式で求まりましたが、このデータでは「標高」がy、「その地点の番号」がxに相当します。\n",
    "\n",
    ">勾配　＝　yの変化量/x変化量\n"
   ]
  },
  {
   "cell_type": "code",
   "execution_count": 102,
   "metadata": {},
   "outputs": [],
   "source": [
    "# def slope(fuji):\n",
    "#     # xの変化量 ずらしてかける その他の番号\n",
    "#     fuji_1 = fuji[1:, 0]\n",
    "#     fuji_2 = fuji[:-1, 0]\n",
    "#     # yの変化量　ずらしてかける　標高\n",
    "#     fuji_1_y = fuji[1:, 3]\n",
    "#     fuji_2_y = fuji[:-1, 3]\n",
    "#     # 変化量の計算\n",
    "#     fuji_xchanges = fuji_2 - fuji_1\n",
    "#     fuji_ychanges = fuji_2_y - fuji_1_y\n",
    "#     # 勾配\n",
    "#     gradient = fuji_ychanges/fuji_xchanges\n",
    "#     return gradient, fuji_xchanges\n",
    "\n",
    "# slope(fuji)"
   ]
  },
  {
   "cell_type": "markdown",
   "metadata": {},
   "source": [
    ">文章に対して考え方が間違っていいたようなので、こちらに新たに記載する。\n",
    "\n"
   ]
  },
  {
   "cell_type": "code",
   "execution_count": 103,
   "metadata": {},
   "outputs": [
    {
     "name": "stdout",
     "output_type": "stream",
     "text": [
      "136地点の勾配計算:168.35000000000036\n"
     ]
    },
    {
     "data": {
      "text/plain": [
       "array([   0.  ,    0.  ,    0.  ,    0.  ,    0.  ,    0.  ,    6.62,\n",
       "          7.21,   12.2 ,   54.41,  171.56,  177.84,  228.21,  275.38,\n",
       "        433.76,  371.74,  380.06,  503.4 ,  485.39,  477.82,  580.5 ,\n",
       "        610.92,  654.96,  628.22,  626.64,  572.55,  723.95,  701.94,\n",
       "        879.47,  976.17,  919.16,  817.  ,  743.06,  770.92,  864.06,\n",
       "        826.52,  748.39,  756.11,  724.5 ,  724.5 ,  724.5 ,  724.5 ,\n",
       "        724.5 ,  724.5 ,  724.5 ,  724.5 ,  724.5 ,  724.5 ,  852.18,\n",
       "        851.36,  831.  ,  880.44,  955.14,  849.52,  831.6 ,  790.01,\n",
       "        738.97,  848.83,  738.3 ,  736.48,  672.24,  564.02,  552.23,\n",
       "        497.41,  558.28,  503.02,  462.33,  469.66,  429.49,  454.21,\n",
       "        412.27,  362.29,  355.68,  368.91,  371.04,  371.19,  377.62,\n",
       "        386.64,  390.14,  418.41,  420.6 ,  443.  ,  458.66,  471.82,\n",
       "        488.4 ,  505.1 ,  519.54,  536.54,  553.64,  575.07,  588.99,\n",
       "        602.36,  613.04,  631.71,  660.43,  672.36,  700.15,  725.72,\n",
       "        741.17,  753.68,  772.58,  795.25,  817.62,  858.62,  883.89,\n",
       "        910.5 ,  932.74,  973.32, 1000.24, 1034.34, 1059.69, 1105.8 ,\n",
       "       1166.58, 1219.86, 1239.97, 1292.52, 1360.1 , 1429.75, 1506.66,\n",
       "       1561.94, 1598.36, 1659.43, 1726.5 , 1781.98, 1850.02, 1953.48,\n",
       "       2076.15, 2196.53, 2306.85, 2426.1 , 2563.4 , 2703.1 , 2825.55,\n",
       "       2967.9 , 3087.81, 3266.24, 3434.59, 3600.08, 3679.96, 3664.9 ,\n",
       "       3567.76, 3348.43, 3171.53, 3019.8 , 2864.56, 2713.03, 2566.6 ,\n",
       "       2450.23, 2334.42, 2240.98, 2146.01, 2061.63, 1963.73, 1904.2 ,\n",
       "       1798.99, 1748.11, 1679.25, 1623.73, 1590.97, 1525.57, 1484.72,\n",
       "       1429.03, 1384.07, 1333.51, 1306.46, 1272.98, 1259.24, 1222.48,\n",
       "       1201.31, 1182.32, 1160.85, 1124.83, 1095.73, 1081.07, 1068.05,\n",
       "       1053.28, 1049.33, 1043.91, 1033.52, 1022.1 ,  993.63,  985.66,\n",
       "        970.58,  960.52,  958.44, 1094.28, 1203.92, 1321.2 , 1351.64,\n",
       "       1215.13, 1056.99,  973.61,  900.  ,  900.  ,  900.  , 1020.79,\n",
       "       1126.56, 1155.7 ,  990.05,  895.16,  723.66,  616.85,  556.79,\n",
       "        502.25,  587.23,  620.23,  622.89,  631.41,  479.68,  427.07,\n",
       "        413.4 ,  361.49,  505.42,  592.32,  526.51,  405.96,  391.72,\n",
       "        354.39,  487.5 ,  582.16,  595.53,  563.7 ,  425.04,  339.21,\n",
       "        312.76,  332.88,  270.33,  332.39,  440.61,  514.97,  422.18,\n",
       "        344.44,  423.72,  363.25,  278.95,  262.  ,  301.  ,  409.72,\n",
       "        437.7 ,  491.04,  501.97,  430.96,  462.99,  456.1 ,  502.93,\n",
       "        542.  ,  749.23,  855.15,  821.32,  915.92,  901.57, 1079.27,\n",
       "       1161.14, 1191.05, 1144.26,  986.58,  929.33,  909.89,  972.71,\n",
       "       1141.8 , 1243.66, 1355.83, 1530.88, 1599.43, 1733.89, 1755.81,\n",
       "       1878.56, 1717.62, 1745.04, 1776.91, 1616.81, 1680.01, 1644.14,\n",
       "       1635.28, 1566.79, 1438.39, 1390.92, 1282.63, 1348.7 , 1376.17,\n",
       "       1309.46, 1337.45, 1199.98,  916.3 , 1037.93, 1154.9 , 1372.58,\n",
       "       1510.22, 1681.01, 1732.79, 1918.68, 2102.67, 2213.03, 2158.71,\n",
       "       2084.51, 1918.24, 1944.63, 1973.99, 1841.36, 1725.8 ])"
      ]
     },
     "execution_count": 103,
     "metadata": {},
     "output_type": "execute_result"
    }
   ],
   "source": [
    "def cal_gradient(now_point, elevations):\n",
    "    a = elevations[now_point] -  elevations[now_point-1]\n",
    "    return a\n",
    "\n",
    "now_position = 136\n",
    "elevations = fuji[:, 3]\n",
    "cal_gradient(now_position, elevations)\n",
    "print('{}地点の勾配計算:{}'.format(now_position, cal_gradient(now_position, elevations)))"
   ]
  },
  {
   "cell_type": "markdown",
   "metadata": {},
   "source": [
    "【問題3】移動先の地点を計算する関数を作成\n",
    "---\n",
    ">今いる地点の勾配の情報を元に、次に移動先の地点を計算する関数を作成してください。\n",
    "数式で表すと 「移動先の地点 = 今いる地点 - $\\alpha$ ×今いる地点の勾配」 となります。\n",
    "「今いる地点の勾配」は問題2で作成した関数の返り値を使用してください。$\\alpha$ は0より大きい任意の値をとるハイパーパラメータです。機械学習の分野では学習率という名前で呼ばれます。この値によって下り方が変わります。ここでは例えば0.2に設定してください。"
   ]
  },
  {
   "cell_type": "code",
   "execution_count": 119,
   "metadata": {},
   "outputs": [
    {
     "name": "stdout",
     "output_type": "stream",
     "text": [
      "次の勾配は119\n"
     ]
    }
   ],
   "source": [
    "def moved_point(now_position, elevations, alpha=0.1):\n",
    "    \n",
    "    y = now_position - alpha * cal_gradient(now_position, elevations)\n",
    "    y = np.maximum(1, y) # 範囲より小さい値を範囲内に収める（1未満を1にする）\n",
    "    y = np.minimum(len(elevations)-1, y) # 範囲より大きい値を範囲内に収める\n",
    "    next_position_int = np.round(y).astype(np.int)\n",
    "    return next_position_int\n",
    "\n",
    "now_position = 136\n",
    "elevations = fuji[:, 3]\n",
    "moved_point(now_position, elevations)\n",
    "print('次の勾配は{}'.format(moved_point(now_position, elevations)))"
   ]
  },
  {
   "cell_type": "markdown",
   "metadata": {},
   "source": [
    "問題４山を下る関数を作成\n",
    "---\n",
    ">山を下る関数を作成してください。最初の地点を受け取り、問題3の関数によって地点を更新していきます。移動毎の地点はリストなどに記録して、これを関数の返り値としてください。\n",
    "最初の「今いる地点」は富士山の頂上付近、136番の地点（標高3434.59[m]）とします。ここから山を下っていきましょう。"
   ]
  },
  {
   "cell_type": "code",
   "execution_count": 126,
   "metadata": {},
   "outputs": [
    {
     "data": {
      "text/plain": [
       "[136, 119, 113, 108, 105, 102, 100, 98, 96, 93, 91, 90, 89, 87, 85, 83, 82, 80]"
      ]
     },
     "execution_count": 126,
     "metadata": {},
     "output_type": "execute_result"
    }
   ],
   "source": [
    "def decrease_montain(now_position, elevations, alpha=0.1):\n",
    "    position_list = [now_position]\n",
    "    while position_list[-1] not in position_list[:-1]:\n",
    "        current_positon = moved_point(position_list[-1], elevations, alpha=alpha)\n",
    "        position_list.append(current_positon)\n",
    "    return position_list[:-1]\n",
    "\n",
    "now_position = 136\n",
    "elevations = fuji[:, 3]\n",
    "descended_list = decrease_montain(now_position, elevations, alpha=0.1)\n",
    "\n",
    "# print('次の勾配は{}'.format(moved_point(now_position, elevations)))"
   ]
  },
  {
   "cell_type": "markdown",
   "metadata": {},
   "source": [
    "【問題5】下山過程の可視化\n",
    "---\n",
    ">問題4における下山過程をMatplotlibを使いグラフで可視化してください。\n",
    "\n"
   ]
  },
  {
   "cell_type": "code",
   "execution_count": 127,
   "metadata": {},
   "outputs": [
    {
     "data": {
      "image/png": "[encoded data removed]",
      "text/plain": [
       "<Figure size 432x288 with 1 Axes>"
      ]
     },
     "metadata": {
      "needs_background": "light"
     },
     "output_type": "display_data"
    }
   ],
   "source": [
    "descended_elevations = elevations[descended_list]\n",
    "\n",
    "plt.title('Downhill process of Mt. Fuji')\n",
    "plt.ylabel('elevation[m]')\n",
    "plt.xlabel('position')\n",
    "plt.plot(elevations)\n",
    "plt.scatter(descended_list, descended_elevations, 20, color='red')\n",
    "plt.show()"
   ]
  },
  {
   "cell_type": "code",
   "execution_count": 128,
   "metadata": {},
   "outputs": [
    {
     "data": {
      "image/png": "[encoded data removed]",
      "text/plain": [
       "<Figure size 432x288 with 1 Axes>"
      ]
     },
     "metadata": {
      "needs_background": "light"
     },
     "output_type": "display_data"
    }
   ],
   "source": [
    "now_position = 140 #初期値を140に変更\n",
    "elevations = fuji[:, 3]\n",
    "descended_list = decrease_montain(now_position, elevations, alpha=0.1)\n",
    "\n",
    "descended_elevations = elevations[descended_list]\n",
    "\n",
    "plt.title('Downhill process of Mt. Fuji')\n",
    "plt.ylabel('elevation[m]')\n",
    "plt.xlabel('position')\n",
    "plt.plot(elevations)\n",
    "plt.scatter(descended_list, descended_elevations, 20, color='red')\n",
    "plt.show()"
   ]
  },
  {
   "cell_type": "code",
   "execution_count": null,
   "metadata": {},
   "outputs": [],
   "source": []
  },
  {
   "cell_type": "code",
   "execution_count": null,
   "metadata": {},
   "outputs": [],
   "source": []
  }
 ],
 "metadata": {
  "kernelspec": {
   "display_name": "Python 3",
   "language": "python",
   "name": "python3"
  },
  "language_info": {
   "codemirror_mode": {
    "name": "ipython",
    "version": 3
   },
   "file_extension": ".py",
   "mimetype": "text/x-python",
   "name": "python",
   "nbconvert_exporter": "python",
   "pygments_lexer": "ipython3",
   "version": "3.8.3"
  }
 },
 "nbformat": 4,
 "nbformat_minor": 4
}
