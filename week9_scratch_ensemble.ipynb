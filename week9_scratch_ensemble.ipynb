{
  "nbformat": 4,
  "nbformat_minor": 0,
  "metadata": {
    "kernelspec": {
      "display_name": "Python 3",
      "language": "python",
      "name": "python3"
    },
    "language_info": {
      "codemirror_mode": {
        "name": "ipython",
        "version": 3
      },
      "file_extension": ".py",
      "mimetype": "text/x-python",
      "name": "python",
      "nbconvert_exporter": "python",
      "pygments_lexer": "ipython3",
      "version": "3.8.3"
    },
    "colab": {
      "name": "week9_scratch_ensemble.ipynb",
      "provenance": [],
      "include_colab_link": true
    }
  },
  "cells": [
    {
      "cell_type": "markdown",
      "metadata": {
        "id": "view-in-github",
        "colab_type": "text"
      },
      "source": [
        "<a href=\"https://colab.research.google.com/github/harakenken22/diveintocode-ml/blob/master/week9_scratch_ensemble.ipynb\" target=\"_parent\"><img src=\"https://colab.research.google.com/assets/colab-badge.svg\" alt=\"Open In Colab\"/></a>"
      ]
    },
    {
      "cell_type": "markdown",
      "metadata": {
        "id": "tCQ-9sKpcs2N"
      },
      "source": [
        "Sprint8: アンサンブル学習\n",
        "----"
      ]
    },
    {
      "cell_type": "code",
      "metadata": {
        "colab": {
          "base_uri": "https://localhost:8080/"
        },
        "id": "3-y-wSu4c8ki",
        "outputId": "86dc3514-742c-4860-d435-108d37eea0e8"
      },
      "source": [
        "from google.colab import drive\n",
        "drive.mount('/content/drive')"
      ],
      "execution_count": 15,
      "outputs": [
        {
          "output_type": "stream",
          "text": [
            "Drive already mounted at /content/drive; to attempt to forcibly remount, call drive.mount(\"/content/drive\", force_remount=True).\n"
          ],
          "name": "stdout"
        }
      ]
    },
    {
      "cell_type": "markdown",
      "metadata": {
        "id": "rMulpAjbcqlo"
      },
      "source": [
        "アンサンブル\n",
        "https://www.loom.com/share/13abc0b6b3ae4258a15527dbb2bd5924\n",
        "https://www.loom.com/share/3a8639fadbaf4e59a191c8d28f8d2867\n",
        "https://www.loom.com/share/6215e2af936d4d09be2fd741a1a6fc54\n",
        "https://www.loom.com/share/7ff037e5eb344b70bbc250578334cd67"
      ]
    },
    {
      "cell_type": "code",
      "metadata": {
        "id": "qYFKFQl4cqlv"
      },
      "source": [
        "import pandas as pd\n",
        "from sklearn.metrics import confusion_matrix, accuracy_score, precision_score, recall_score, f1_score\n",
        "import numpy as np\n",
        "from sklearn.metrics import confusion_matrix\n",
        "from pandas.plotting import scatter_matrix\n",
        "import itertools\n",
        "import matplotlib.pyplot as plt\n",
        "import seaborn as sns\n",
        "from sklearn.metrics import mean_squared_error\n",
        "from sklearn import metrics\n",
        "import scipy.stats as stats\n",
        "from sklearn.tree import DecisionTreeRegressor\n",
        "from sklearn.linear_model import ElasticNet\n",
        "from sklearn.preprocessing import StandardScaler\n",
        "from sklearn.model_selection import train_test_split\n",
        "import lightgbm as lgb\n",
        "from sklearn.linear_model import LinearRegression\n",
        "from sklearn import svm\n",
        "from sklearn.neighbors import KNeighborsRegressor\n",
        "%matplotlib inline"
      ],
      "execution_count": 34,
      "outputs": []
    },
    {
      "cell_type": "markdown",
      "metadata": {
        "id": "eu7tI2e-cqlx"
      },
      "source": [
        "住宅価格の予想からデータを引っ張って来る\n",
        "---\n",
        "参考URL:https://qiita.com/Moby-Dick/items/e2f1efd923fddd72b17d\n"
      ]
    },
    {
      "cell_type": "code",
      "metadata": {
        "id": "I55qPCHPcqlx"
      },
      "source": [
        "df = pd.read_csv('/content/drive/MyDrive/Colab Notebooks/diveintocode-ml/train_houseprice.csv')"
      ],
      "execution_count": 35,
      "outputs": []
    },
    {
      "cell_type": "markdown",
      "metadata": {
        "id": "bGPXb9f8cqlx"
      },
      "source": [
        ">目的変数をSalePrice, 説明変数をGrLivAreaとYearBuilt"
      ]
    },
    {
      "cell_type": "code",
      "metadata": {
        "colab": {
          "base_uri": "https://localhost:8080/"
        },
        "id": "eJPo85IMcqly",
        "outputId": "e265aa47-4bcd-4486-e688-cf2eb799f55f"
      },
      "source": [
        "X = df.loc[:, ['GrLivArea', 'YearBuilt']]\n",
        "y = df.loc[:,['SalePrice']]\n",
        "print(X.shape)\n",
        "print(y.shape)"
      ],
      "execution_count": 36,
      "outputs": [
        {
          "output_type": "stream",
          "text": [
            "(1460, 2)\n",
            "(1460, 1)\n"
          ],
          "name": "stdout"
        }
      ]
    },
    {
      "cell_type": "code",
      "metadata": {
        "colab": {
          "base_uri": "https://localhost:8080/",
          "height": 297
        },
        "id": "ONtihIsjcqlz",
        "outputId": "e88dccfc-b859-4c0d-a874-8651a72d6e36"
      },
      "source": [
        "X.describe()"
      ],
      "execution_count": 37,
      "outputs": [
        {
          "output_type": "execute_result",
          "data": {
            "text/html": [
              "<div>\n",
              "<style scoped>\n",
              "    .dataframe tbody tr th:only-of-type {\n",
              "        vertical-align: middle;\n",
              "    }\n",
              "\n",
              "    .dataframe tbody tr th {\n",
              "        vertical-align: top;\n",
              "    }\n",
              "\n",
              "    .dataframe thead th {\n",
              "        text-align: right;\n",
              "    }\n",
              "</style>\n",
              "<table border=\"1\" class=\"dataframe\">\n",
              "  <thead>\n",
              "    <tr style=\"text-align: right;\">\n",
              "      <th></th>\n",
              "      <th>GrLivArea</th>\n",
              "      <th>YearBuilt</th>\n",
              "    </tr>\n",
              "  </thead>\n",
              "  <tbody>\n",
              "    <tr>\n",
              "      <th>count</th>\n",
              "      <td>1460.000000</td>\n",
              "      <td>1460.000000</td>\n",
              "    </tr>\n",
              "    <tr>\n",
              "      <th>mean</th>\n",
              "      <td>1515.463699</td>\n",
              "      <td>1971.267808</td>\n",
              "    </tr>\n",
              "    <tr>\n",
              "      <th>std</th>\n",
              "      <td>525.480383</td>\n",
              "      <td>30.202904</td>\n",
              "    </tr>\n",
              "    <tr>\n",
              "      <th>min</th>\n",
              "      <td>334.000000</td>\n",
              "      <td>1872.000000</td>\n",
              "    </tr>\n",
              "    <tr>\n",
              "      <th>25%</th>\n",
              "      <td>1129.500000</td>\n",
              "      <td>1954.000000</td>\n",
              "    </tr>\n",
              "    <tr>\n",
              "      <th>50%</th>\n",
              "      <td>1464.000000</td>\n",
              "      <td>1973.000000</td>\n",
              "    </tr>\n",
              "    <tr>\n",
              "      <th>75%</th>\n",
              "      <td>1776.750000</td>\n",
              "      <td>2000.000000</td>\n",
              "    </tr>\n",
              "    <tr>\n",
              "      <th>max</th>\n",
              "      <td>5642.000000</td>\n",
              "      <td>2010.000000</td>\n",
              "    </tr>\n",
              "  </tbody>\n",
              "</table>\n",
              "</div>"
            ],
            "text/plain": [
              "         GrLivArea    YearBuilt\n",
              "count  1460.000000  1460.000000\n",
              "mean   1515.463699  1971.267808\n",
              "std     525.480383    30.202904\n",
              "min     334.000000  1872.000000\n",
              "25%    1129.500000  1954.000000\n",
              "50%    1464.000000  1973.000000\n",
              "75%    1776.750000  2000.000000\n",
              "max    5642.000000  2010.000000"
            ]
          },
          "metadata": {
            "tags": []
          },
          "execution_count": 37
        }
      ]
    },
    {
      "cell_type": "code",
      "metadata": {
        "colab": {
          "base_uri": "https://localhost:8080/",
          "height": 297
        },
        "id": "puPFC94hcqlz",
        "outputId": "7edd8f55-99db-4d47-d9fd-d4956f5fbbaa"
      },
      "source": [
        "y.describe()"
      ],
      "execution_count": 38,
      "outputs": [
        {
          "output_type": "execute_result",
          "data": {
            "text/html": [
              "<div>\n",
              "<style scoped>\n",
              "    .dataframe tbody tr th:only-of-type {\n",
              "        vertical-align: middle;\n",
              "    }\n",
              "\n",
              "    .dataframe tbody tr th {\n",
              "        vertical-align: top;\n",
              "    }\n",
              "\n",
              "    .dataframe thead th {\n",
              "        text-align: right;\n",
              "    }\n",
              "</style>\n",
              "<table border=\"1\" class=\"dataframe\">\n",
              "  <thead>\n",
              "    <tr style=\"text-align: right;\">\n",
              "      <th></th>\n",
              "      <th>SalePrice</th>\n",
              "    </tr>\n",
              "  </thead>\n",
              "  <tbody>\n",
              "    <tr>\n",
              "      <th>count</th>\n",
              "      <td>1460.000000</td>\n",
              "    </tr>\n",
              "    <tr>\n",
              "      <th>mean</th>\n",
              "      <td>180921.195890</td>\n",
              "    </tr>\n",
              "    <tr>\n",
              "      <th>std</th>\n",
              "      <td>79442.502883</td>\n",
              "    </tr>\n",
              "    <tr>\n",
              "      <th>min</th>\n",
              "      <td>34900.000000</td>\n",
              "    </tr>\n",
              "    <tr>\n",
              "      <th>25%</th>\n",
              "      <td>129975.000000</td>\n",
              "    </tr>\n",
              "    <tr>\n",
              "      <th>50%</th>\n",
              "      <td>163000.000000</td>\n",
              "    </tr>\n",
              "    <tr>\n",
              "      <th>75%</th>\n",
              "      <td>214000.000000</td>\n",
              "    </tr>\n",
              "    <tr>\n",
              "      <th>max</th>\n",
              "      <td>755000.000000</td>\n",
              "    </tr>\n",
              "  </tbody>\n",
              "</table>\n",
              "</div>"
            ],
            "text/plain": [
              "           SalePrice\n",
              "count    1460.000000\n",
              "mean   180921.195890\n",
              "std     79442.502883\n",
              "min     34900.000000\n",
              "25%    129975.000000\n",
              "50%    163000.000000\n",
              "75%    214000.000000\n",
              "max    755000.000000"
            ]
          },
          "metadata": {
            "tags": []
          },
          "execution_count": 38
        }
      ]
    },
    {
      "cell_type": "markdown",
      "metadata": {
        "id": "A0jEgu41cql0"
      },
      "source": [
        "【問題1】ブレンディングのスクラッチ実装\n",
        "----\n",
        ">ブレンディング をスクラッチ実装し、単一モデルより精度があがる例を 最低3つ 示してください。精度があがるとは、検証用データに対する平均二乗誤差（MSE）が小さくなることを指します。"
      ]
    },
    {
      "cell_type": "code",
      "metadata": {
        "id": "EM_Xs4nGcql0"
      },
      "source": [
        "clf1 = lgb.LGBMRegressor()\n",
        "clf2 = DecisionTreeRegressor(max_depth=2)\n",
        "clf3 = ElasticNet()\n",
        "clf4 = svm.SVC()\n",
        "clf5 = LinearRegression()"
      ],
      "execution_count": 43,
      "outputs": []
    },
    {
      "cell_type": "code",
      "metadata": {
        "id": "LlOZIE4mcql0"
      },
      "source": [
        "num_test = 0.20\n",
        "sc = StandardScaler()\n",
        "X = np.array(X)\n",
        "y = np.array(y)\n",
        "X_train, X_test, y_train, y_test = train_test_split(X, y, test_size=num_test, random_state=23)\n",
        "sc.fit(X_train)\n",
        "X_train=sc.transform(X_train)"
      ],
      "execution_count": 22,
      "outputs": []
    },
    {
      "cell_type": "code",
      "metadata": {
        "colab": {
          "base_uri": "https://localhost:8080/"
        },
        "id": "XV6Oohsycql1",
        "outputId": "1b204a35-43de-4de9-c0c8-7ec17465515b"
      },
      "source": [
        "clf1.fit(X_train,y_train) #LGBM\n",
        "y_pred1 = clf1.predict(X_test)\n",
        "print(np.log(mean_squared_error(y_test, y_pred1)))\n",
        "print(y_pred1.shape)\n",
        "y_pred1 = y_pred1.reshape(365,1)"
      ],
      "execution_count": 63,
      "outputs": [
        {
          "output_type": "stream",
          "text": [
            "21.405747333685948\n",
            "(365,)\n"
          ],
          "name": "stdout"
        },
        {
          "output_type": "stream",
          "text": [
            "/usr/local/lib/python3.7/dist-packages/sklearn/utils/validation.py:760: DataConversionWarning: A column-vector y was passed when a 1d array was expected. Please change the shape of y to (n_samples, ), for example using ravel().\n",
            "  y = column_or_1d(y, warn=True)\n"
          ],
          "name": "stderr"
        }
      ]
    },
    {
      "cell_type": "code",
      "metadata": {
        "colab": {
          "base_uri": "https://localhost:8080/"
        },
        "id": "ZHmgmPP9cql1",
        "outputId": "662d653a-c9de-4d9a-dd71-0e5c0ece8829"
      },
      "source": [
        "clf2.fit(X_train,y_train) #決定木\n",
        "y_pred2 = clf2.predict(X_test)\n",
        "print(np.log(mean_squared_error(y_test, y_pred2)))\n",
        "print(y_pred2.shape)\n",
        "y_pred2 = y_pred2.reshape(365,1)"
      ],
      "execution_count": 64,
      "outputs": [
        {
          "output_type": "stream",
          "text": [
            "21.945480066854184\n",
            "(365,)\n"
          ],
          "name": "stdout"
        }
      ]
    },
    {
      "cell_type": "code",
      "metadata": {
        "colab": {
          "base_uri": "https://localhost:8080/"
        },
        "id": "WQg35h9Gcql1",
        "outputId": "da12578b-ad5b-42a0-a50d-6f6a543b9b23"
      },
      "source": [
        "clf3.fit(X_train,y_train) #ElasticNet\n",
        "y_pred3 = clf3.predict(X_test)\n",
        "print(np.log(mean_squared_error(y_test, y_pred3)))\n",
        "print(y_pred3.shape)\n",
        "y_pred3 = y_pred3.reshape(365,1)"
      ],
      "execution_count": 65,
      "outputs": [
        {
          "output_type": "stream",
          "text": [
            "21.726074338451916\n",
            "(365,)\n"
          ],
          "name": "stdout"
        }
      ]
    },
    {
      "cell_type": "code",
      "metadata": {
        "colab": {
          "base_uri": "https://localhost:8080/"
        },
        "id": "7Bl1-zdDis1c",
        "outputId": "dfbb930f-94a8-4515-c767-2a1082da8955"
      },
      "source": [
        "clf4.fit(X_train,y_train) #SVM\n",
        "y_pred4 = clf4.predict(X_test)\n",
        "print(np.log(mean_squared_error(y_test, y_pred4)))\n",
        "# print(y_pred4.shape)\n",
        "y_pred4 = y_pred4.reshape(365,1)"
      ],
      "execution_count": 66,
      "outputs": [
        {
          "output_type": "stream",
          "text": [
            "/usr/local/lib/python3.7/dist-packages/sklearn/utils/validation.py:760: DataConversionWarning: A column-vector y was passed when a 1d array was expected. Please change the shape of y to (n_samples, ), for example using ravel().\n",
            "  y = column_or_1d(y, warn=True)\n"
          ],
          "name": "stderr"
        },
        {
          "output_type": "stream",
          "text": [
            "22.33451564027054\n"
          ],
          "name": "stdout"
        }
      ]
    },
    {
      "cell_type": "code",
      "metadata": {
        "colab": {
          "base_uri": "https://localhost:8080/"
        },
        "id": "NeP22viSityv",
        "outputId": "8f254972-7a44-405d-ab07-622e6dd8438d"
      },
      "source": [
        "clf5.fit(X_train,y_train) #Liner regression\n",
        "y_pred5 = clf5.predict(X_test)\n",
        "print(np.log(mean_squared_error(y_test, y_pred5)))\n",
        "print(y_pred5.shape)"
      ],
      "execution_count": 67,
      "outputs": [
        {
          "output_type": "stream",
          "text": [
            "21.726067456909853\n",
            "(365, 1)\n"
          ],
          "name": "stdout"
        }
      ]
    },
    {
      "cell_type": "code",
      "metadata": {
        "colab": {
          "base_uri": "https://localhost:8080/"
        },
        "id": "YjOdcyOmkNC3",
        "outputId": "15bc94ab-94ac-465b-9384-9ba7e3009b84"
      },
      "source": [
        "#シェイプの方が違うというエラーが出たのでy_testの型を確認\n",
        "\n",
        "y_test.shape"
      ],
      "execution_count": 68,
      "outputs": [
        {
          "output_type": "execute_result",
          "data": {
            "text/plain": [
              "(365, 1)"
            ]
          },
          "metadata": {
            "tags": []
          },
          "execution_count": 68
        }
      ]
    },
    {
      "cell_type": "code",
      "metadata": {
        "colab": {
          "base_uri": "https://localhost:8080/"
        },
        "id": "qi8mWKFlcql2",
        "outputId": "96eadd0c-1c6b-4530-abf0-5ce8023de3de"
      },
      "source": [
        "#LGBMと決定木と回帰分析のブレンディングを実施\n",
        "y_pred_all = (y_pred1 + y_pred2 + y_pred5)/3 \n",
        "print(y_pred_all.shape)\n",
        "np.log(mean_squared_error(y_test, y_pred_all))"
      ],
      "execution_count": 69,
      "outputs": [
        {
          "output_type": "stream",
          "text": [
            "(365, 1)\n"
          ],
          "name": "stdout"
        },
        {
          "output_type": "execute_result",
          "data": {
            "text/plain": [
              "21.510360090572714"
            ]
          },
          "metadata": {
            "tags": []
          },
          "execution_count": 69
        }
      ]
    },
    {
      "cell_type": "code",
      "metadata": {
        "colab": {
          "base_uri": "https://localhost:8080/"
        },
        "id": "cptN-Jlmlh2H",
        "outputId": "8c461013-94d1-453b-9279-a8a953946839"
      },
      "source": [
        "#LGBMと決定木とSVMのブレンディングを実施\n",
        "y_pred_all = (y_pred1 + y_pred2 + y_pred4)/3 \n",
        "print(y_pred_all.shape)\n",
        "np.log(mean_squared_error(y_test, y_pred_all))"
      ],
      "execution_count": 70,
      "outputs": [
        {
          "output_type": "stream",
          "text": [
            "(365, 1)\n"
          ],
          "name": "stdout"
        },
        {
          "output_type": "execute_result",
          "data": {
            "text/plain": [
              "21.58595128702464"
            ]
          },
          "metadata": {
            "tags": []
          },
          "execution_count": 70
        }
      ]
    },
    {
      "cell_type": "markdown",
      "metadata": {
        "id": "5hHkMbJrcql2"
      },
      "source": [
        "【問題2】バギングのスクラッチ実装\n",
        "----\n",
        "バギング をスクラッチ実装し、単一モデルより精度があがる例を 最低1つ 示してください。"
      ]
    },
    {
      "cell_type": "markdown",
      "metadata": {
        "id": "V2cf6fbDm2ds"
      },
      "source": [
        "回帰問題なのに分類問題を行っていた例\n",
        "----"
      ]
    },
    {
      "cell_type": "code",
      "metadata": {
        "colab": {
          "base_uri": "https://localhost:8080/",
          "height": 167
        },
        "id": "2oliw4FEcql2",
        "outputId": "c0db557b-005b-4c34-c798-c496cbe79c42"
      },
      "source": [
        "from sklearn.ensemble import AdaBoostRegressor\n",
        "from sklearn.tree import DecisionTreeClassifier\n",
        "from sklearn.ensemble import BaggingClassifier\n",
        "from sklearn.ensemble import BaggingRegressor\n",
        "X_train, X_test, y_train, y_test = train_test_split(\n",
        "    X, y, random_state=0)\n",
        "\n",
        "models = {\n",
        "    'not bagging': DecisionTreeClassifier(random_state=0),\n",
        "    'bagging': BaggingClassifier(DecisionTreeClassifier(random_state=0), n_estimators=100, random_state=0) \n",
        "}\n",
        "\n",
        "scores = {}\n",
        "for model_name, model in models.items():\n",
        "    model.fit(X_train, y_train)\n",
        "    scores[(model_name, 'train_score')] = model.score(X_train, y_train)\n",
        "    scores[(model_name, 'test_score')] = model.score(X_test, y_test)\n",
        "\n",
        "pd.Series(scores).unstack()"
      ],
      "execution_count": 27,
      "outputs": [
        {
          "output_type": "stream",
          "text": [
            "/usr/local/lib/python3.7/dist-packages/sklearn/ensemble/_bagging.py:645: DataConversionWarning: A column-vector y was passed when a 1d array was expected. Please change the shape of y to (n_samples, ), for example using ravel().\n",
            "  y = column_or_1d(y, warn=True)\n"
          ],
          "name": "stderr"
        },
        {
          "output_type": "execute_result",
          "data": {
            "text/html": [
              "<div>\n",
              "<style scoped>\n",
              "    .dataframe tbody tr th:only-of-type {\n",
              "        vertical-align: middle;\n",
              "    }\n",
              "\n",
              "    .dataframe tbody tr th {\n",
              "        vertical-align: top;\n",
              "    }\n",
              "\n",
              "    .dataframe thead th {\n",
              "        text-align: right;\n",
              "    }\n",
              "</style>\n",
              "<table border=\"1\" class=\"dataframe\">\n",
              "  <thead>\n",
              "    <tr style=\"text-align: right;\">\n",
              "      <th></th>\n",
              "      <th>test_score</th>\n",
              "      <th>train_score</th>\n",
              "    </tr>\n",
              "  </thead>\n",
              "  <tbody>\n",
              "    <tr>\n",
              "      <th>bagging</th>\n",
              "      <td>0.008219</td>\n",
              "      <td>0.957078</td>\n",
              "    </tr>\n",
              "    <tr>\n",
              "      <th>not bagging</th>\n",
              "      <td>0.005479</td>\n",
              "      <td>0.957078</td>\n",
              "    </tr>\n",
              "  </tbody>\n",
              "</table>\n",
              "</div>"
            ],
            "text/plain": [
              "             test_score  train_score\n",
              "bagging        0.008219     0.957078\n",
              "not bagging    0.005479     0.957078"
            ]
          },
          "metadata": {
            "tags": []
          },
          "execution_count": 27
        }
      ]
    },
    {
      "cell_type": "markdown",
      "metadata": {
        "id": "sx2JjIO2m91B"
      },
      "source": [
        "回帰を持ちてバギングを行う\n",
        "---"
      ]
    },
    {
      "cell_type": "code",
      "metadata": {
        "colab": {
          "base_uri": "https://localhost:8080/",
          "height": 167
        },
        "id": "iFbWD6XSmz2v",
        "outputId": "c8e3307b-75fb-417d-c1b4-0f45aabb90ab"
      },
      "source": [
        "from sklearn.ensemble import AdaBoostRegressor\n",
        "from sklearn.ensemble import BaggingRegressor\n",
        "from sklearn.ensemble import BaggingRegressor\n",
        "from sklearn.ensemble import RandomForestRegressor, GradientBoostingRegressor\n",
        "X_train, X_test, y_train, y_test = train_test_split(\n",
        "    X, y, random_state=0)\n",
        "\n",
        "models = {\n",
        "    'not bagging': DecisionTreeRegressor(random_state=0),\n",
        "    'bagging': BaggingRegressor(DecisionTreeRegressor(random_state=0), n_estimators=100, random_state=0) \n",
        "}\n",
        "\n",
        "scores = {}\n",
        "for model_name, model in models.items():\n",
        "    model.fit(X_train, y_train)\n",
        "    scores[(model_name, 'train_score')] = model.score(X_train, y_train)\n",
        "    scores[(model_name, 'test_score')] = model.score(X_test, y_test)\n",
        "\n",
        "pd.Series(scores).unstack()"
      ],
      "execution_count": 71,
      "outputs": [
        {
          "output_type": "stream",
          "text": [
            "/usr/local/lib/python3.7/dist-packages/sklearn/ensemble/_bagging.py:399: DataConversionWarning: A column-vector y was passed when a 1d array was expected. Please change the shape of y to (n_samples, ), for example using ravel().\n",
            "  return column_or_1d(y, warn=True)\n"
          ],
          "name": "stderr"
        },
        {
          "output_type": "execute_result",
          "data": {
            "text/html": [
              "<div>\n",
              "<style scoped>\n",
              "    .dataframe tbody tr th:only-of-type {\n",
              "        vertical-align: middle;\n",
              "    }\n",
              "\n",
              "    .dataframe tbody tr th {\n",
              "        vertical-align: top;\n",
              "    }\n",
              "\n",
              "    .dataframe thead th {\n",
              "        text-align: right;\n",
              "    }\n",
              "</style>\n",
              "<table border=\"1\" class=\"dataframe\">\n",
              "  <thead>\n",
              "    <tr style=\"text-align: right;\">\n",
              "      <th></th>\n",
              "      <th>test_score</th>\n",
              "      <th>train_score</th>\n",
              "    </tr>\n",
              "  </thead>\n",
              "  <tbody>\n",
              "    <tr>\n",
              "      <th>bagging</th>\n",
              "      <td>0.712119</td>\n",
              "      <td>0.950321</td>\n",
              "    </tr>\n",
              "    <tr>\n",
              "      <th>not bagging</th>\n",
              "      <td>0.561431</td>\n",
              "      <td>0.996900</td>\n",
              "    </tr>\n",
              "  </tbody>\n",
              "</table>\n",
              "</div>"
            ],
            "text/plain": [
              "             test_score  train_score\n",
              "bagging        0.712119     0.950321\n",
              "not bagging    0.561431     0.996900"
            ]
          },
          "metadata": {
            "tags": []
          },
          "execution_count": 71
        }
      ]
    },
    {
      "cell_type": "code",
      "metadata": {
        "colab": {
          "base_uri": "https://localhost:8080/",
          "height": 167
        },
        "id": "ypouDw7MoYtX",
        "outputId": "e1c57d79-2d86-4fcb-ab4f-7062d9a3546c"
      },
      "source": [
        "from sklearn.ensemble import AdaBoostRegressor\n",
        "from sklearn.ensemble import BaggingRegressor\n",
        "from sklearn.ensemble import BaggingRegressor\n",
        "from sklearn.ensemble import RandomForestRegressor, GradientBoostingRegressor\n",
        "X_train, X_test, y_train, y_test = train_test_split(\n",
        "    X, y, random_state=0)\n",
        "\n",
        "models = {\n",
        "    'not bagging': LinearRegression(),\n",
        "    'bagging': BaggingRegressor(LinearRegression(), n_estimators=100, random_state=0) \n",
        "}\n",
        "\n",
        "scores = {}\n",
        "for model_name, model in models.items():\n",
        "    model.fit(X_train, y_train)\n",
        "    scores[(model_name, 'train_score')] = model.score(X_train, y_train)\n",
        "    scores[(model_name, 'test_score')] = model.score(X_test, y_test)\n",
        "\n",
        "pd.Series(scores).unstack()"
      ],
      "execution_count": 77,
      "outputs": [
        {
          "output_type": "stream",
          "text": [
            "/usr/local/lib/python3.7/dist-packages/sklearn/ensemble/_bagging.py:399: DataConversionWarning: A column-vector y was passed when a 1d array was expected. Please change the shape of y to (n_samples, ), for example using ravel().\n",
            "  return column_or_1d(y, warn=True)\n"
          ],
          "name": "stderr"
        },
        {
          "output_type": "execute_result",
          "data": {
            "text/html": [
              "<div>\n",
              "<style scoped>\n",
              "    .dataframe tbody tr th:only-of-type {\n",
              "        vertical-align: middle;\n",
              "    }\n",
              "\n",
              "    .dataframe tbody tr th {\n",
              "        vertical-align: top;\n",
              "    }\n",
              "\n",
              "    .dataframe thead th {\n",
              "        text-align: right;\n",
              "    }\n",
              "</style>\n",
              "<table border=\"1\" class=\"dataframe\">\n",
              "  <thead>\n",
              "    <tr style=\"text-align: right;\">\n",
              "      <th></th>\n",
              "      <th>test_score</th>\n",
              "      <th>train_score</th>\n",
              "    </tr>\n",
              "  </thead>\n",
              "  <tbody>\n",
              "    <tr>\n",
              "      <th>bagging</th>\n",
              "      <td>0.586008</td>\n",
              "      <td>0.676913</td>\n",
              "    </tr>\n",
              "    <tr>\n",
              "      <th>not bagging</th>\n",
              "      <td>0.587104</td>\n",
              "      <td>0.676966</td>\n",
              "    </tr>\n",
              "  </tbody>\n",
              "</table>\n",
              "</div>"
            ],
            "text/plain": [
              "             test_score  train_score\n",
              "bagging        0.586008     0.676913\n",
              "not bagging    0.587104     0.676966"
            ]
          },
          "metadata": {
            "tags": []
          },
          "execution_count": 77
        }
      ]
    },
    {
      "cell_type": "markdown",
      "metadata": {
        "id": "ZN7NRlRhnw-s"
      },
      "source": [
        "回帰を用いてバギングをを行いテスト精度を向上させた。\n",
        "ランダムフォレストを用いた回帰分析の精度が向上したが、回帰分析は精度が向上しなかった。"
      ]
    },
    {
      "cell_type": "markdown",
      "metadata": {
        "id": "0FwzhIY6cql3"
      },
      "source": [
        "【問題3】スタッキングのスクラッチ実装\n",
        "---\n",
        "スタッキング をスクラッチ実装し、単一モデルより精度があがる例を 最低1つ 示してください。"
      ]
    },
    {
      "cell_type": "code",
      "metadata": {
        "colab": {
          "base_uri": "https://localhost:8080/"
        },
        "id": "oPusCmyicql3",
        "outputId": "0f0daa00-fd76-4980-dca1-f3fe88b5a845"
      },
      "source": [
        "from sklearn.linear_model import LinearRegression\n",
        "from sklearn.neighbors import KNeighborsRegressor\n",
        "X_train_stack, X_test_stack, y_train_stack, y_test_stack = train_test_split(\n",
        "    X, y)\n",
        "\n",
        "# train base model\n",
        "base_model_1 = LinearRegression()\n",
        "base_model_2 = lgb.LGBMRegressor()\n",
        "base_model_3 = KNeighborsRegressor()\n",
        "\n",
        "base_model_1.fit(X_train_stack, y_train_stack)\n",
        "base_model_2.fit(X_train_stack, y_train_stack)\n",
        "base_model_3.fit(X_train_stack, y_train_stack)\n",
        "\n",
        "# base predicts\n",
        "base_pred_1 = base_model_1.predict(X_test_stack)\n",
        "base_pred_2 = base_model_2.predict(X_test_stack)\n",
        "base_pred_3 = base_model_3.predict(X_test_stack)"
      ],
      "execution_count": 28,
      "outputs": [
        {
          "output_type": "stream",
          "text": [
            "/usr/local/lib/python3.7/dist-packages/sklearn/utils/validation.py:760: DataConversionWarning: A column-vector y was passed when a 1d array was expected. Please change the shape of y to (n_samples, ), for example using ravel().\n",
            "  y = column_or_1d(y, warn=True)\n"
          ],
          "name": "stderr"
        }
      ]
    },
    {
      "cell_type": "markdown",
      "metadata": {
        "id": "U0OPFmEhcql3"
      },
      "source": [
        "メタモデルの学習\n",
        "----\n",
        "ベースモデルの出力を使ってメタモデルの学習を行います。 そんなに難しいことはしておらず、「ベースモデルの出力を連結する」「それを入力として学習させる」だけです。\n",
        "\n",
        "np.column_stack\n",
        "---\n",
        "np.column_stack((行列1, 行列2)) : １次行列の組み合わせなら２次元行列を作り、多次元の組みならhstackと同じ振る舞いをする\n",
        ">https://qiita.com/gragragrao/items/1881accf27bbedc5fa84"
      ]
    },
    {
      "cell_type": "code",
      "metadata": {
        "id": "eEJMsCvJcql4"
      },
      "source": [
        "# stack base predicts for training meta model\n",
        "stacked_predictions = np.column_stack((base_pred_1, base_pred_2, base_pred_3))"
      ],
      "execution_count": 29,
      "outputs": []
    },
    {
      "cell_type": "code",
      "metadata": {
        "colab": {
          "base_uri": "https://localhost:8080/"
        },
        "id": "caUVI49pcql4",
        "outputId": "023691de-feee-4497-e30b-73f3d924ea95"
      },
      "source": [
        "# train meta model \n",
        "meta_model = LinearRegression()\n",
        "meta_model.fit(stacked_predictions, y_test_stack)"
      ],
      "execution_count": 30,
      "outputs": [
        {
          "output_type": "execute_result",
          "data": {
            "text/plain": [
              "LinearRegression(copy_X=True, fit_intercept=True, n_jobs=None, normalize=False)"
            ]
          },
          "metadata": {
            "tags": []
          },
          "execution_count": 30
        }
      ]
    },
    {
      "cell_type": "code",
      "metadata": {
        "colab": {
          "base_uri": "https://localhost:8080/"
        },
        "id": "6Hyaf13Icql4",
        "outputId": "ec21ff10-2481-47e9-8a00-339878bf56f8"
      },
      "source": [
        "# test predicts for final result \n",
        "valid_pred_1 = base_model_1.predict(X_test_stack)\n",
        "valid_pred_2 = base_model_2.predict(X_test_stack)\n",
        "valid_pred_3 = base_model_3.predict(X_test_stack)\n",
        "stacked_valid_predictions = np.column_stack((valid_pred_1, valid_pred_2, valid_pred_3))\n",
        "meta_valid_pred = meta_model.predict(stacked_valid_predictions)\n",
        "\n",
        "print (\"mean squared error of model 1: {:.4f}\".format(mean_squared_error(y_test_stack, valid_pred_1)))\n",
        "print (\"mean squared error of model 2: {:.4f}\".format(mean_squared_error(y_test_stack, valid_pred_2)))\n",
        "print (\"mean squared error of model 3: {:.4f}\".format(mean_squared_error(y_test_stack, valid_pred_3)))\n",
        "print (\"mean squared error of meta model: {:.4f}\".format(mean_squared_error(y_test_stack, meta_valid_pred)))"
      ],
      "execution_count": 31,
      "outputs": [
        {
          "output_type": "stream",
          "text": [
            "mean squared error of model 1: 3027670828.9539\n",
            "mean squared error of model 2: 2336898256.9506\n",
            "mean squared error of model 3: 3346587019.7211\n",
            "mean squared error of meta model: 2024197114.8408\n"
          ],
          "name": "stdout"
        }
      ]
    },
    {
      "cell_type": "code",
      "metadata": {
        "id": "NYWYwooTcql5"
      },
      "source": [
        ""
      ],
      "execution_count": 31,
      "outputs": []
    }
  ]
}