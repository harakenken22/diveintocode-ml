{
 "cells": [
  {
   "cell_type": "code",
   "execution_count": 1,
   "metadata": {},
   "outputs": [],
   "source": [
    "import pandas as pd\n",
    "import numpy as np\n",
    "from sklearn.metrics import confusion_matrix\n",
    "from pandas.plotting import scatter_matrix\n",
    "import itertools\n",
    "import matplotlib.pyplot as plt\n",
    "import seaborn as sns\n",
    "from sklearn.metrics import mean_squared_error\n",
    "from sklearn import metrics\n",
    "%matplotlib inline"
   ]
  },
  {
   "cell_type": "code",
   "execution_count": 2,
   "metadata": {},
   "outputs": [
    {
     "data": {
      "image/png": "[encoded data removed]",
      "text/plain": [
       "<Figure size 720x432 with 1 Axes>"
      ]
     },
     "metadata": {
      "needs_background": "light"
     },
     "output_type": "display_data"
    }
   ],
   "source": [
    "from sklearn import datasets\n",
    "iris = datasets.load_iris()\n",
    "X = iris.data[:, :2]\n",
    "y = (iris.target != 0) * 1\n",
    "plt.figure(figsize=(10, 6))\n",
    "plt.scatter(X[y == 0][:, 0], X[y == 0][:, 1], color='b', label='0')\n",
    "plt.scatter(X[y == 1][:, 0], X[y == 1][:, 1], color='r', label='1')\n",
    "plt.legend();"
   ]
  },
  {
   "cell_type": "code",
   "execution_count": 3,
   "metadata": {},
   "outputs": [
    {
     "name": "stdout",
     "output_type": "stream",
     "text": [
      "[[5.1 3.5]\n",
      " [4.9 3. ]\n",
      " [4.7 3.2]\n",
      " [4.6 3.1]\n",
      " [5.  3.6]\n",
      " [5.4 3.9]\n",
      " [4.6 3.4]\n",
      " [5.  3.4]\n",
      " [4.4 2.9]\n",
      " [4.9 3.1]\n",
      " [5.4 3.7]\n",
      " [4.8 3.4]\n",
      " [4.8 3. ]\n",
      " [4.3 3. ]\n",
      " [5.8 4. ]\n",
      " [5.7 4.4]\n",
      " [5.4 3.9]\n",
      " [5.1 3.5]\n",
      " [5.7 3.8]\n",
      " [5.1 3.8]\n",
      " [5.4 3.4]\n",
      " [5.1 3.7]\n",
      " [4.6 3.6]\n",
      " [5.1 3.3]\n",
      " [4.8 3.4]\n",
      " [5.  3. ]\n",
      " [5.  3.4]\n",
      " [5.2 3.5]\n",
      " [5.2 3.4]\n",
      " [4.7 3.2]\n",
      " [4.8 3.1]\n",
      " [5.4 3.4]\n",
      " [5.2 4.1]\n",
      " [5.5 4.2]\n",
      " [4.9 3.1]\n",
      " [5.  3.2]\n",
      " [5.5 3.5]\n",
      " [4.9 3.6]\n",
      " [4.4 3. ]\n",
      " [5.1 3.4]\n",
      " [5.  3.5]\n",
      " [4.5 2.3]\n",
      " [4.4 3.2]\n",
      " [5.  3.5]\n",
      " [5.1 3.8]\n",
      " [4.8 3. ]\n",
      " [5.1 3.8]\n",
      " [4.6 3.2]\n",
      " [5.3 3.7]\n",
      " [5.  3.3]\n",
      " [7.  3.2]\n",
      " [6.4 3.2]\n",
      " [6.9 3.1]\n",
      " [5.5 2.3]\n",
      " [6.5 2.8]\n",
      " [5.7 2.8]\n",
      " [6.3 3.3]\n",
      " [4.9 2.4]\n",
      " [6.6 2.9]\n",
      " [5.2 2.7]\n",
      " [5.  2. ]\n",
      " [5.9 3. ]\n",
      " [6.  2.2]\n",
      " [6.1 2.9]\n",
      " [5.6 2.9]\n",
      " [6.7 3.1]\n",
      " [5.6 3. ]\n",
      " [5.8 2.7]\n",
      " [6.2 2.2]\n",
      " [5.6 2.5]\n",
      " [5.9 3.2]\n",
      " [6.1 2.8]\n",
      " [6.3 2.5]\n",
      " [6.1 2.8]\n",
      " [6.4 2.9]\n",
      " [6.6 3. ]\n",
      " [6.8 2.8]\n",
      " [6.7 3. ]\n",
      " [6.  2.9]\n",
      " [5.7 2.6]\n",
      " [5.5 2.4]\n",
      " [5.5 2.4]\n",
      " [5.8 2.7]\n",
      " [6.  2.7]\n",
      " [5.4 3. ]\n",
      " [6.  3.4]\n",
      " [6.7 3.1]\n",
      " [6.3 2.3]\n",
      " [5.6 3. ]\n",
      " [5.5 2.5]\n",
      " [5.5 2.6]\n",
      " [6.1 3. ]\n",
      " [5.8 2.6]\n",
      " [5.  2.3]\n",
      " [5.6 2.7]\n",
      " [5.7 3. ]\n",
      " [5.7 2.9]\n",
      " [6.2 2.9]\n",
      " [5.1 2.5]\n",
      " [5.7 2.8]\n",
      " [6.3 3.3]\n",
      " [5.8 2.7]\n",
      " [7.1 3. ]\n",
      " [6.3 2.9]\n",
      " [6.5 3. ]\n",
      " [7.6 3. ]\n",
      " [4.9 2.5]\n",
      " [7.3 2.9]\n",
      " [6.7 2.5]\n",
      " [7.2 3.6]\n",
      " [6.5 3.2]\n",
      " [6.4 2.7]\n",
      " [6.8 3. ]\n",
      " [5.7 2.5]\n",
      " [5.8 2.8]\n",
      " [6.4 3.2]\n",
      " [6.5 3. ]\n",
      " [7.7 3.8]\n",
      " [7.7 2.6]\n",
      " [6.  2.2]\n",
      " [6.9 3.2]\n",
      " [5.6 2.8]\n",
      " [7.7 2.8]\n",
      " [6.3 2.7]\n",
      " [6.7 3.3]\n",
      " [7.2 3.2]\n",
      " [6.2 2.8]\n",
      " [6.1 3. ]\n",
      " [6.4 2.8]\n",
      " [7.2 3. ]\n",
      " [7.4 2.8]\n",
      " [7.9 3.8]\n",
      " [6.4 2.8]\n",
      " [6.3 2.8]\n",
      " [6.1 2.6]\n",
      " [7.7 3. ]\n",
      " [6.3 3.4]\n",
      " [6.4 3.1]\n",
      " [6.  3. ]\n",
      " [6.9 3.1]\n",
      " [6.7 3.1]\n",
      " [6.9 3.1]\n",
      " [5.8 2.7]\n",
      " [6.8 3.2]\n",
      " [6.7 3.3]\n",
      " [6.7 3. ]\n",
      " [6.3 2.5]\n",
      " [6.5 3. ]\n",
      " [6.2 3.4]\n",
      " [5.9 3. ]]\n",
      "[0 0 0 0 0 0 0 0 0 0 0 0 0 0 0 0 0 0 0 0 0 0 0 0 0 0 0 0 0 0 0 0 0 0 0 0 0\n",
      " 0 0 0 0 0 0 0 0 0 0 0 0 0 1 1 1 1 1 1 1 1 1 1 1 1 1 1 1 1 1 1 1 1 1 1 1 1\n",
      " 1 1 1 1 1 1 1 1 1 1 1 1 1 1 1 1 1 1 1 1 1 1 1 1 1 1 1 1 1 1 1 1 1 1 1 1 1\n",
      " 1 1 1 1 1 1 1 1 1 1 1 1 1 1 1 1 1 1 1 1 1 1 1 1 1 1 1 1 1 1 1 1 1 1 1 1 1\n",
      " 1 1]\n"
     ]
    }
   ],
   "source": [
    "print(X)\n",
    "print(y)"
   ]
  },
  {
   "cell_type": "markdown",
   "metadata": {},
   "source": [
    "【問題1】不純度を求める関数\n",
    "---\n",
    ">ノード の ジニ不純度 を計算する関数を作成してください。ノード 𝑡 に対するジニ不純度 𝐼(𝑡) は以下の数式で求まります。クラスが混じり合っているほどジニ不純度は高くなります。\n",
    "\n",
    "$\n",
    "I(t) = 1-\\sum_{i=1}^{K}P^2(C_i|t) = 1-\\sum_{i=1}^{K}(\\frac{N_{t,i}}{N_{t,all}})^{2}\n",
    "$\n",
    ">𝑡 : ノードのインデックス\n",
    "𝑖 : クラスのインデックス\n",
    "𝐾 : クラスの数\n",
    "𝐶𝑖 : i番目のクラス\n",
    "𝑃(𝐶𝑖|𝑡) :　t番目のノードにおける𝐶𝑖の割合\n",
    "𝑁𝑡,𝑖 : t番目のノードのi番目のクラスに属するサンプル数\n",
    "𝑁𝑡,𝑎𝑙𝑙 : t番目のノードのサンプルの総数\n",
    "まずは簡単な例を作り、手計算と関数の結果を比較してください。"
   ]
  },
  {
   "cell_type": "code",
   "execution_count": 4,
   "metadata": {},
   "outputs": [],
   "source": [
    "#自分で作成した式\n",
    "# def gini_score():\n",
    "#     gini = 0\n",
    "#     sample_num = len(target)\n",
    "#     threshold = threshold\n",
    "    \n",
    "#     parent_gini = (len(target)/sample_num)**2 + (len(target)/sample_num)**2\n",
    "#     san_gini = (len(target)/sample_num)**2 + (len(target)/sample_num)**2\n",
    "#     if san_gini < gini:\n",
    "#         np.append(gini, san_gini)\n",
    "#     else:\n",
    "#         pass\n",
    "\n"
   ]
  },
  {
   "cell_type": "code",
   "execution_count": 5,
   "metadata": {},
   "outputs": [],
   "source": [
    "# def gini_score(target):\n",
    "#     classes = np.unique(target)\n",
    "#     total_num = target.shape[0]\n",
    "    \n",
    "#     gini = 1.0\n",
    "#     for c in classes:\n",
    "#         print(c)\n",
    "#         gini -= (len(target[target==c])/total_num) ** 2.0\n",
    "#         print(gini)\n",
    "        \n",
    "#     return gini\n",
    "\n",
    "# gini_score(y)"
   ]
  },
  {
   "cell_type": "code",
   "execution_count": 6,
   "metadata": {},
   "outputs": [],
   "source": [
    "# from functools import lru_cache\n",
    "\n",
    "# def build(data, target):\n",
    "#     #対象とするサンプルの個数\n",
    "#     total_num = data.shape[0]\n",
    "#     feature_num = data.shape[1]\n",
    "    \n",
    "#     #ベストな分割を記憶しておくための変数の用意(これを更新していく)\n",
    "#     best_ig = 0 #情報利用初期値\n",
    "#     best_feature = None #最高の特徴量の初期値\n",
    "#     best_threshold = None #最高の特徴量の初期値\n",
    "    \n",
    "#     gini = gini_func(target)\n",
    "    \n",
    "#     for f in range(feature_num):\n",
    "        \n",
    "#         #分割候補の計算\n",
    "#         data_f = np.unique(data[:, f]) #番目の特徴量(重複削除)\n",
    "        \n",
    "#         for threshold in data_f:\n",
    "            \n",
    "#             #閾値で２グループに分割\n",
    "#             target_left = target[data[:,f] < threshold] #dataのインデックスからターゲットのインデックスを参照して取得する。\n",
    "#             target_right = target[data[:,f] >= threshold] #dataのインデックスからターゲットのインデックスを参照して取得する。\n",
    "            \n",
    "#             #分割後の不純度から情報利得(information gain)を計算\n",
    "#             gini_left = gini_score(target_left)\n",
    "#             gini_right = gini_score(target_right)\n",
    "#             p_left = float(target_left.shape[0]) / total_num\n",
    "#             p_right = float(target_right.shape[0]) / total_num\n",
    "#             ig = gini - (p_left * gini_left + p_right * gini_right)\n",
    "            \n",
    "#             #最も良い分割であれば更新して保持\n",
    "#             if ig > best_ig:\n",
    "#                 best_ig = ig\n",
    "#                 best_feature = f\n",
    "#                 best_threshold = threshold\n",
    "                \n",
    "#         #情報利得が増えなければ終了(現在のノードを葉ノードにする)\n",
    "#         if best_ig == 0:\n",
    "#             return\n",
    "            "
   ]
  },
  {
   "cell_type": "code",
   "execution_count": 28,
   "metadata": {},
   "outputs": [],
   "source": [
    "import scipy.stats as stats\n",
    "\n",
    "\n",
    "class ScratchDecesionTreeClassifierDepth1():\n",
    "    \"\"\"\n",
    "    深さ1の決定木分類器のスクラッチ実装\n",
    "    Parameters\n",
    "    ----------\n",
    "    verbose : bool\n",
    "      学習過程を出力する場合はTrue\n",
    "    \"\"\"\n",
    "    def __init__(self, verbose=False):\n",
    "        # ハイパーパラメータを属性として記録\n",
    "        self.gini = None\n",
    "        self.verbose = verbose\n",
    "        self.best_ig = None\n",
    "        self.best_feature = None\n",
    "        self.best_threshold = None\n",
    "        self.label_left = None\n",
    "        self.label_right = None\n",
    "        \n",
    "    def gini_score(self, target):\n",
    "        classes = np.unique(target)\n",
    "        total_num = target.shape[0]\n",
    "    \n",
    "        gini = 1.0\n",
    "        for c in classes:\n",
    "#             print(c)\n",
    "            gini -= (len(target[target==c])/total_num) ** 2.0 #ジニ不純度の計算\n",
    "#             print(gini)\n",
    "        \n",
    "        return gini\n",
    "    \n",
    "    \n",
    "#     def build(data, target):\n",
    "#         #対象とするサンプルの個数\n",
    "#         total_num = data.shape[0] #シェイプの行の個数を取得\n",
    "#         feature_num = data.shape[1] #シェイプで特徴量の個数を取得\n",
    "    \n",
    "#         #ベストな分割を記憶しておくための変数の用意(これを更新していく)\n",
    "#         best_ig = 0 #情報利用初期値\n",
    "#         best_feature = None #最高の特徴量の初期値\n",
    "#         best_threshold = None #最高の特徴量の初期値\n",
    "    \n",
    "# #         self.gini = gini_score(target) #ジニ不純を求める\n",
    "    \n",
    "#         for f in range(feature_num): #特徴量の数だけfor文を回す\n",
    "        \n",
    "#             #分割候補の計算\n",
    "#             data_f = np.unique(data[:, f]) #f番目の特徴量(重複削除)\n",
    "        \n",
    "#             for threshold in data_f:\n",
    "            \n",
    "#                 #閾値で２グループに分割\n",
    "#                 target_left = target[data[:,f] < threshold] #dataのインデックスからターゲットのインデックスを参照して取得する。\n",
    "#                 target_right = target[data[:,f] >= threshold] #dataのインデックスからターゲットのインデックスを参照して取得する。\n",
    "            \n",
    "#                 #分割後の不純度から情報利得(information gain)を計算\n",
    "#                 gini_left = gini_score(target_left) #左側のGINIスコアを計算\n",
    "#                 gini_right = gini_score(target_right) #右側のGINIスコアを計算\n",
    "#                 p_left = float(target_left.shape[0]) / total_num #左側に分類されたサンプル数と全体のサンプル数\n",
    "#                 p_right = float(target_right.shape[0]) / total_num #右側に分類されたサンプル数と全体のサンプル数\n",
    "#                 ig = gini - (p_left * gini_left + p_right * gini_right) #情報利得IGを求める(両側のサンプル数とジニ不純度の掛け合わせ)\n",
    "            \n",
    "#                 #最も良い分割であれば更新して保持\n",
    "#                 if ig > best_ig: #出てきたGINI不純度を更新\n",
    "#                     self.best_ig = ig\n",
    "#                     self.best_feature = f #一番よかったときの特徴量を記録 \n",
    "#                     self.best_threshold = threshold #一番よかったときの閾値を保存\n",
    "                \n",
    "#             #情報利得が増えなければ終了(現在のノードを葉ノードにする)\n",
    "#             if best_ig == 0:\n",
    "#                 return\n",
    "        \n",
    "        \n",
    "    def fit(self, data, target):\n",
    "        #対象とするサンプルの個数\n",
    "        total_num = data.shape[0] #シェイプの行の個数を取得\n",
    "        feature_num = data.shape[1] #シェイプで特徴量の個数を取得\n",
    "    \n",
    "        #ベストな分割を記憶しておくための変数の用意(これを更新していく)\n",
    "        self.best_ig = 0 #情報利用初期値\n",
    "        self.best_feature = None #最高の特徴量の初期値\n",
    "        self.best_threshold = None #最高の特徴量の初期値\n",
    "    \n",
    "        self.gini = self.gini_score(target) #ジニ不純を求める\n",
    "    \n",
    "        for f in range(feature_num): #特徴量の数だけfor文を回す\n",
    "        \n",
    "            #分割候補の計算\n",
    "            data_f = np.unique(data[:, f]) #f番目の特徴量(重複削除)\n",
    "        \n",
    "            for threshold in data_f:\n",
    "            \n",
    "                #閾値で２グループに分割\n",
    "                target_left = target[data[:,f] < threshold] #dataのインデックスからターゲットのインデックスを参照して取得する。\n",
    "                target_right = target[data[:,f] >= threshold] #dataのインデックスからターゲットのインデックスを参照して取得する。\n",
    "            \n",
    "                #分割後の不純度から情報利得(information gain)を計算\n",
    "                gini_left = self.gini_score(target_left) #左側のGINIスコアを計算\n",
    "                gini_right = self.gini_score(target_right) #右側のGINIスコアを計算\n",
    "                p_left = float(target_left.shape[0]) / total_num #左側に分類されたサンプル数と全体のサンプル数\n",
    "                p_right = float(target_right.shape[0]) / total_num #右側に分類されたサンプル数と全体のサンプル数\n",
    "                ig = self.gini - (p_left * gini_left + p_right * gini_right) #情報利得IGを求める(両側のサンプル数とジニ不純度の掛け合わせ)\n",
    "            \n",
    "                #最も良い分割であれば更新して保持\n",
    "                if ig > self.best_ig: #出てきたGINI不純度を更新\n",
    "                    self.best_ig = ig\n",
    "                    self.best_feature = f #一番よかったときの特徴量を記録 \n",
    "                    self.best_threshold = threshold #一番よかったときの閾値を保存\n",
    "                \n",
    "            #情報利得が増えなければ終了(現在のノードを葉ノードにする)\n",
    "#             if best_ig == 0:\n",
    "#                 return\n",
    "        print('Best_threshold:{}'.format(self.best_threshold))\n",
    "        print('Best_feature:{}'.format(self.best_feature))\n",
    "        terget_left = target[data[:, self.best_feature] < self.best_threshold]\n",
    "        print ('terget_left{}'.format(terget_left))\n",
    "        \n",
    "        terget_right = target[data[:, self.best_feature] >= self.best_threshold]\n",
    "        print ('terget_right{}'.format(terget_right))\n",
    "        print('-----------------------------------')\n",
    "        self.label_left = stats.mode(terget_left)[0][0]\n",
    "        self.label_right = stats.mode(terget_right)[0][0]\n",
    "        \"\"\"\n",
    "        決定木分類器を学習する\n",
    "        Parameters\n",
    "        ----------\n",
    "        X : 次の形のndarray, shape (n_samples, n_features)\n",
    "            訓練データの特徴量\n",
    "        y : 次の形のndarray, shape (n_samples, )\n",
    "            訓練データの正解値\n",
    "        \"\"\"\n",
    "#         if self.verbose:\n",
    "#             #verboseをTrueにした際は学習過程を出力\n",
    "# #             print()\n",
    "#         pass\n",
    "    \n",
    "    \n",
    "    def predict_tree(self, d):\n",
    "        if d[self.best_feature] < self.best_threshold:\n",
    "            return self.label_left\n",
    "        else:\n",
    "            return self.label_right\n",
    "    \n",
    "    \n",
    "    def predict(self, data):\n",
    "        \"\"\"\n",
    "        決定木分類器を使いラベルを推定する\n",
    "        \"\"\"\n",
    "        \n",
    "        ans = []\n",
    "        \n",
    "        for d in data:\n",
    "            label = self.predict_tree(d)# ルートノードでクラス予測したラベルが返ってくる\n",
    "#             print(label)\n",
    "            ans.append(label)\n",
    "        return np.array(ans)\n",
    "    \n",
    "    def print_tree(self, depth, TF):\n",
    "        \"\"\"分類条件を出力する\"\"\"\n",
    "\n",
    "        head = \"    \" * depth + TF + \" -> \"\n",
    "\n",
    "        # 節の場合\n",
    "        if self.feature != None:\n",
    "            print(head + str(self.best_feature) + \" < \" + str(self.best_threshold) + \"?\")\n",
    "            self.left.print_tree(depth + 1, \"T\")\n",
    "            self.right.print_tree(depth + 1, \"F\")\n",
    "\n",
    "        # 葉の場合\n",
    "        else:\n",
    "            print(head + \"{\" + str(self.label) + \": \" + str(self.total_num) + \"}\")"
   ]
  },
  {
   "cell_type": "code",
   "execution_count": 29,
   "metadata": {},
   "outputs": [],
   "source": [
    "from sklearn.model_selection import train_test_split\n",
    "X_train, X_test, y_train, y_test = train_test_split(X, y)"
   ]
  },
  {
   "cell_type": "code",
   "execution_count": 30,
   "metadata": {},
   "outputs": [
    {
     "data": {
      "text/plain": [
       "array([[5.8, 2.7],\n",
       "       [5.1, 3.8],\n",
       "       [4.6, 3.4],\n",
       "       [5. , 3.5],\n",
       "       [6. , 3.4],\n",
       "       [6.5, 3. ],\n",
       "       [6.7, 3. ],\n",
       "       [4.9, 3. ],\n",
       "       [5.4, 3.4],\n",
       "       [7.2, 3.6],\n",
       "       [6.4, 3.1],\n",
       "       [6.7, 3. ],\n",
       "       [6.9, 3.2],\n",
       "       [4.5, 2.3],\n",
       "       [5. , 3.6],\n",
       "       [6.8, 3. ],\n",
       "       [6.3, 2.5],\n",
       "       [5.5, 2.4],\n",
       "       [4.8, 3.1],\n",
       "       [5.9, 3. ],\n",
       "       [4.9, 3.6],\n",
       "       [6.4, 3.2],\n",
       "       [6.9, 3.1],\n",
       "       [6.2, 2.2],\n",
       "       [6.1, 2.6],\n",
       "       [5. , 3.5],\n",
       "       [5.7, 2.6],\n",
       "       [5.5, 3.5],\n",
       "       [5.3, 3.7],\n",
       "       [6.1, 3. ],\n",
       "       [4.7, 3.2],\n",
       "       [6.3, 3.3],\n",
       "       [4.4, 3. ],\n",
       "       [5. , 2. ],\n",
       "       [6.6, 3. ],\n",
       "       [6.4, 3.2],\n",
       "       [6.5, 3.2],\n",
       "       [6.3, 2.5],\n",
       "       [5.1, 3.5],\n",
       "       [5.1, 3.8],\n",
       "       [7.1, 3. ],\n",
       "       [6.9, 3.1],\n",
       "       [4.8, 3. ],\n",
       "       [6.1, 2.8],\n",
       "       [7.7, 2.8],\n",
       "       [5.1, 2.5],\n",
       "       [6.3, 2.9],\n",
       "       [4.4, 3.2],\n",
       "       [5.7, 2.8],\n",
       "       [6.5, 2.8],\n",
       "       [5.4, 3.4],\n",
       "       [7.7, 3.8],\n",
       "       [7.9, 3.8],\n",
       "       [5.9, 3. ],\n",
       "       [6.2, 2.9],\n",
       "       [5.5, 2.3],\n",
       "       [5.6, 2.7],\n",
       "       [5. , 3.4],\n",
       "       [5.7, 3.8],\n",
       "       [6.1, 3. ],\n",
       "       [5. , 2.3],\n",
       "       [5.5, 2.6],\n",
       "       [5.1, 3.3],\n",
       "       [6.4, 2.9],\n",
       "       [5.2, 2.7],\n",
       "       [6.1, 2.8],\n",
       "       [5.7, 2.8],\n",
       "       [6.7, 3.1],\n",
       "       [7. , 3.2],\n",
       "       [5.7, 4.4],\n",
       "       [5.6, 2.8],\n",
       "       [6.3, 3.3],\n",
       "       [5.9, 3.2],\n",
       "       [7.7, 2.6],\n",
       "       [6.7, 3.1],\n",
       "       [4.8, 3. ],\n",
       "       [4.4, 2.9],\n",
       "       [7.7, 3. ],\n",
       "       [4.8, 3.4],\n",
       "       [5.2, 3.5],\n",
       "       [5.5, 4.2],\n",
       "       [5.7, 2.9],\n",
       "       [5.1, 3.8],\n",
       "       [7.2, 3. ],\n",
       "       [6. , 3. ],\n",
       "       [4.9, 3.1],\n",
       "       [6.4, 2.7],\n",
       "       [5.5, 2.5],\n",
       "       [4.6, 3.2],\n",
       "       [5.8, 4. ],\n",
       "       [5.6, 2.5],\n",
       "       [6.8, 2.8],\n",
       "       [5.4, 3. ],\n",
       "       [6.7, 3.3],\n",
       "       [5.7, 3. ],\n",
       "       [7.2, 3.2],\n",
       "       [4.6, 3.6],\n",
       "       [5.8, 2.7],\n",
       "       [5.8, 2.7],\n",
       "       [5.4, 3.9],\n",
       "       [6.3, 2.3],\n",
       "       [6.1, 2.9],\n",
       "       [5.6, 3. ],\n",
       "       [6. , 2.7],\n",
       "       [6. , 2.9],\n",
       "       [6.3, 2.8],\n",
       "       [5.1, 3.5],\n",
       "       [6.9, 3.1],\n",
       "       [4.3, 3. ],\n",
       "       [4.9, 2.5],\n",
       "       [6.7, 3.3],\n",
       "       [5.8, 2.7]])"
      ]
     },
     "execution_count": 30,
     "metadata": {},
     "output_type": "execute_result"
    }
   ],
   "source": [
    "X_train"
   ]
  },
  {
   "cell_type": "code",
   "execution_count": null,
   "metadata": {},
   "outputs": [],
   "source": []
  },
  {
   "cell_type": "code",
   "execution_count": 31,
   "metadata": {},
   "outputs": [
    {
     "name": "stdout",
     "output_type": "stream",
     "text": [
      "Best_threshold:5.5\n",
      "Best_feature:0\n",
      "terget_left[0 0 0 0 0 0 0 0 0 0 0 0 0 1 0 0 0 1 0 0 0 1 0 1 0 0 0 0 0 0 0 1 0 0 0 0 1]\n",
      "terget_right[1 1 1 1 1 1 1 1 1 1 1 1 1 1 1 1 1 0 1 1 1 1 1 1 1 1 1 1 1 1 1 1 1 1 1 1 1\n",
      " 0 1 1 1 1 1 1 1 0 1 1 1 1 1 1 0 1 1 1 1 1 0 1 1 1 1 1 1 1 1 1 1 1 1 1 1 1\n",
      " 1]\n",
      "-----------------------------------\n"
     ]
    }
   ],
   "source": [
    "tree_scrach = ScratchDecesionTreeClassifierDepth1()\n",
    "tree_fit = tree_scrach.fit(X_train, y_train)"
   ]
  },
  {
   "cell_type": "code",
   "execution_count": 32,
   "metadata": {},
   "outputs": [
    {
     "data": {
      "text/plain": [
       "2"
      ]
     },
     "execution_count": 32,
     "metadata": {},
     "output_type": "execute_result"
    }
   ],
   "source": [
    "X.shape[1]"
   ]
  },
  {
   "cell_type": "code",
   "execution_count": 33,
   "metadata": {},
   "outputs": [],
   "source": [
    "y_pred = tree_scrach.predict(X_test)"
   ]
  },
  {
   "cell_type": "markdown",
   "metadata": {},
   "source": [
    "スクラッチ実装での閾値\n",
    "---"
   ]
  },
  {
   "cell_type": "code",
   "execution_count": 34,
   "metadata": {},
   "outputs": [
    {
     "name": "stdout",
     "output_type": "stream",
     "text": [
      "5.5\n",
      "0\n"
     ]
    }
   ],
   "source": [
    "print(tree_scrach.best_threshold)\n",
    "print(tree_scrach.best_feature)"
   ]
  },
  {
   "cell_type": "code",
   "execution_count": 35,
   "metadata": {},
   "outputs": [
    {
     "name": "stdout",
     "output_type": "stream",
     "text": [
      "[1 1 1 0 1 0 1 1 1 1 1 0 0 0 1 1 0 1 1 1 1 1 1 0 0 0 0 0 1 1 1 1 1 0 0 1 0\n",
      " 0]\n"
     ]
    }
   ],
   "source": [
    "print(y_pred)"
   ]
  },
  {
   "cell_type": "code",
   "execution_count": 36,
   "metadata": {},
   "outputs": [
    {
     "name": "stdout",
     "output_type": "stream",
     "text": [
      "confusion matrix = \n",
      " [[14  0]\n",
      " [ 1 23]]\n",
      "accuracy =  0.9736842105263158\n",
      "precision =  1.0\n",
      "recall =  0.9583333333333334\n",
      "f1 score =  0.9787234042553191\n"
     ]
    }
   ],
   "source": [
    "from sklearn.metrics import confusion_matrix, accuracy_score, precision_score, recall_score, f1_score\n",
    "print('confusion matrix = \\n', confusion_matrix(y_true=y_test, y_pred=y_pred))\n",
    "print('accuracy = ', accuracy_score(y_true=y_test, y_pred=y_pred))\n",
    "print('precision = ', precision_score(y_true=y_test, y_pred=y_pred))\n",
    "print('recall = ', recall_score(y_true=y_test, y_pred=y_pred))\n",
    "print('f1 score = ', f1_score(y_true=y_test, y_pred=y_pred))"
   ]
  },
  {
   "cell_type": "markdown",
   "metadata": {},
   "source": [
    "Sklearnを用いた学習\n",
    "----"
   ]
  },
  {
   "cell_type": "code",
   "execution_count": 37,
   "metadata": {},
   "outputs": [],
   "source": [
    "from sklearn import tree #決定木のメソッドを呼び起こす\n",
    "from sklearn.tree import DecisionTreeClassifier, export_graphviz\n",
    "#下記は決定木可視化のためのツール\n",
    "import graphviz\n",
    "import pydotplus\n",
    "from IPython.display import Image\n",
    "\n",
    "#データの整形\n",
    "clf = DecisionTreeClassifier()\n",
    "clf_data = clf.fit(X_train, y_train)\n",
    "y_pred_skl = clf.predict(X_test)"
   ]
  },
  {
   "cell_type": "code",
   "execution_count": 38,
   "metadata": {},
   "outputs": [
    {
     "name": "stdout",
     "output_type": "stream",
     "text": [
      "[1 1 1 0 1 0 1 1 1 1 1 0 0 0 1 1 1 1 1 1 1 1 1 0 0 0 0 0 1 1 1 1 1 0 0 1 0\n",
      " 0]\n"
     ]
    }
   ],
   "source": [
    "print(y_pred_skl)"
   ]
  },
  {
   "cell_type": "code",
   "execution_count": 39,
   "metadata": {},
   "outputs": [
    {
     "name": "stdout",
     "output_type": "stream",
     "text": [
      "confusion matrix = \n",
      " [[14  0]\n",
      " [ 0 24]]\n",
      "accuracy =  1.0\n",
      "precision =  1.0\n",
      "recall =  1.0\n",
      "f1 score =  1.0\n"
     ]
    }
   ],
   "source": [
    "print('confusion matrix = \\n', confusion_matrix(y_true=y_test, y_pred=y_pred_skl))\n",
    "print('accuracy = ', accuracy_score(y_true=y_test, y_pred=y_pred_skl))\n",
    "print('precision = ', precision_score(y_true=y_test, y_pred=y_pred_skl))\n",
    "print('recall = ', recall_score(y_true=y_test, y_pred=y_pred_skl))\n",
    "print('f1 score = ', f1_score(y_true=y_test, y_pred=y_pred_skl))"
   ]
  },
  {
   "cell_type": "markdown",
   "metadata": {},
   "source": [
    "描画：\n",
    "----"
   ]
  },
  {
   "cell_type": "code",
   "execution_count": 40,
   "metadata": {},
   "outputs": [
    {
     "name": "stderr",
     "output_type": "stream",
     "text": [
      "*c* argument looks like a single numeric RGB or RGBA sequence, which should be avoided as value-mapping will have precedence in case its length matches with *x* & *y*.  Please use the *color* keyword-argument or provide a 2-D array with a single row if you intend to specify the same RGB or RGBA value for all points.\n",
      "*c* argument looks like a single numeric RGB or RGBA sequence, which should be avoided as value-mapping will have precedence in case its length matches with *x* & *y*.  Please use the *color* keyword-argument or provide a 2-D array with a single row if you intend to specify the same RGB or RGBA value for all points.\n",
      "<ipython-input-40-e6a6aa044752>:31: MatplotlibDeprecationWarning: Using a string of single character colors as a color sequence is deprecated. Use an explicit list instead.\n",
      "  plt.scatter(X_test[:, 0], X_test[:, 1], c='',\n"
     ]
    },
    {
     "data": {
      "image/png": "[encoded data removed]",
      "text/plain": [
       "<Figure size 432x288 with 1 Axes>"
      ]
     },
     "metadata": {
      "needs_background": "light"
     },
     "output_type": "display_data"
    }
   ],
   "source": [
    "import matplotlib.pyplot as plt\n",
    "from matplotlib.colors import ListedColormap\n",
    "%matplotlib inline\n",
    "\n",
    "def plot_decision_regions(X, y, classifer, test_idx=None, resolution=0.02):\n",
    "   # setup marker generator and color map\n",
    "   markers = ('s', 'x', 'o', '^', 'v')\n",
    "   colors = ('red', 'blue', 'lightgreen', 'gray', 'cyan')\n",
    "   cmap = ListedColormap(colors[:len(np.unique(y))])\n",
    "\n",
    "   # plot the decision surface\n",
    "   x1_min, x1_max = X[:, 0].min() - 1, X[:, 0].max() + 1\n",
    "   x2_min, x2_max = X[:, 1].min() - 1, X[:, 1].max() + 1\n",
    "   xx1, xx2 = np.meshgrid(np.arange(x1_min, x1_max, resolution),\n",
    "   np.arange(x2_min, x2_max, resolution))\n",
    "   Z = classifer.predict(np.array([xx1.ravel(), xx2.ravel()]).T)\n",
    "   Z = Z.reshape(xx1.shape)\n",
    "   plt.contourf(xx1, xx2, Z, alpha=0.4, cmap=cmap)\n",
    "   plt.xlim(xx1.min(), xx1.max())\n",
    "   plt.ylim(xx2.min(), xx2.max())\n",
    "\n",
    "   # plot all samples\n",
    "   X_test, y_test = X[test_idx, :], y[test_idx]\n",
    "   for idx, cl in enumerate(np.unique(y)):\n",
    "      plt.scatter(x=X[y == cl, 0], y=X[y == cl, 1],\n",
    "               alpha=0.8, c=cmap(idx),\n",
    "               marker=markers[idx], label=cl)\n",
    "   # highlight test samples\n",
    "   if test_idx:\n",
    "      X_test, y_test = X[test_idx, :], y[test_idx]\n",
    "      plt.scatter(X_test[:, 0], X_test[:, 1], c='',\n",
    "               alpha=1.0, linewidth=1, marker='o',\n",
    "               s=55, label='test set')\n",
    "\n",
    "        \n",
    "X_combined = X\n",
    "y_combined = y\n",
    "        \n",
    "plot_decision_regions(X_test, y_pred_skl, classifer=clf_data, test_idx=range(0,38))\n",
    "\n",
    "plt.xlabel('petal length [cm]')\n",
    "plt.ylabel('petal width [cm]')\n",
    "plt.legend(loc='upper left')\n",
    "plt.show()\n",
    "\n",
    "from sklearn.tree import export_graphviz\n",
    "export_graphviz(clf_data,\n",
    "      out_file='tree.dot',\n",
    "      feature_names=['petal length', 'petal width'])"
   ]
  },
  {
   "cell_type": "code",
   "execution_count": 41,
   "metadata": {},
   "outputs": [
    {
     "name": "stdout",
     "output_type": "stream",
     "text": [
      "[[6.8 3.2]\n",
      " [6.5 3. ]\n",
      " [6.5 3. ]\n",
      " [4.6 3.1]\n",
      " [7.3 2.9]\n",
      " [4.7 3.2]\n",
      " [6.7 3.1]\n",
      " [7.6 3. ]\n",
      " [5.6 2.9]\n",
      " [6.2 2.8]\n",
      " [6.7 2.5]\n",
      " [5.4 3.7]\n",
      " [5.2 4.1]\n",
      " [5.  3.4]\n",
      " [6.2 3.4]\n",
      " [7.4 2.8]\n",
      " [4.9 2.4]\n",
      " [5.7 2.5]\n",
      " [6.  2.2]\n",
      " [5.6 3. ]\n",
      " [6.6 2.9]\n",
      " [6.4 2.8]\n",
      " [5.5 2.4]\n",
      " [4.9 3.1]\n",
      " [5.  3. ]\n",
      " [5.2 3.4]\n",
      " [5.  3.3]\n",
      " [5.  3.2]\n",
      " [6.4 2.8]\n",
      " [6.3 3.4]\n",
      " [6.3 2.7]\n",
      " [5.8 2.8]\n",
      " [6.  2.2]\n",
      " [5.1 3.7]\n",
      " [5.1 3.4]\n",
      " [5.8 2.6]\n",
      " [4.8 3.4]\n",
      " [5.4 3.9]]\n",
      "[1 1 1 0 1 0 1 1 1 1 1 0 0 0 1 1 1 1 1 1 1 1 1 0 0 0 0 0 1 1 1 1 1 0 0 1 0\n",
      " 0]\n"
     ]
    }
   ],
   "source": [
    "print(X_test)\n",
    "print(y_pred_skl)"
   ]
  },
  {
   "cell_type": "markdown",
   "metadata": {},
   "source": [
    "シンプルデータセットを用いた分析：\n",
    "---"
   ]
  },
  {
   "cell_type": "code",
   "execution_count": 42,
   "metadata": {},
   "outputs": [],
   "source": [
    "X_simple = np.array([[-0.44699 , -2.8073  ],[-1.4621  , -2.4586  ],\n",
    "       [ 0.10645 ,  1.9242  ],[-3.5944  , -4.0112  ],\n",
    "       [-0.9888  ,  4.5718  ],[-3.1625  , -3.9606  ],\n",
    "       [ 0.56421 ,  0.72888 ],[-0.60216 ,  8.4636  ],\n",
    "       [-0.61251 , -0.75345 ],[-0.73535 , -2.2718  ],\n",
    "       [-0.80647 , -2.2135  ],[ 0.86291 ,  2.3946  ],\n",
    "       [-3.1108  ,  0.15394 ],[-2.9362  ,  2.5462  ],\n",
    "       [-0.57242 , -2.9915  ],[ 1.4771  ,  3.4896  ],\n",
    "       [ 0.58619 ,  0.37158 ],[ 0.6017  ,  4.3439  ],\n",
    "       [-2.1086  ,  8.3428  ],[-4.1013  , -4.353   ],\n",
    "       [-1.9948  , -1.3927  ],[ 0.35084 , -0.031994],\n",
    "       [ 0.96765 ,  7.8929  ],[-1.281   , 15.6824  ],\n",
    "       [ 0.96765 , 10.083   ],[ 1.3763  ,  1.3347  ],\n",
    "       [-2.234   , -2.5323  ],[-2.9452  , -1.8219  ],\n",
    "       [ 0.14654 , -0.28733 ],[ 0.5461  ,  5.8245  ],\n",
    "       [-0.65259 ,  9.3444  ],[ 0.59912 ,  5.3524  ],\n",
    "       [ 0.50214 , -0.31818 ],[-3.0603  , -3.6461  ],\n",
    "       [-6.6797  ,  0.67661 ],[-2.353   , -0.72261 ],\n",
    "       [ 1.1319  ,  2.4023  ],[-0.12243 ,  9.0162  ],\n",
    "       [-2.5677  , 13.1779  ],[ 0.057313,  5.4681  ]])\n",
    "y_simple = np.array([0, 0, 0, 0, 0, 0, 0, 0, 0, 0, 0, 0, 0, 0, 0, 0, 0, 0, 0, 0, 1, 1,\n",
    "       1, 1, 1, 1, 1, 1, 1, 1, 1, 1, 1, 1, 1, 1, 1, 1, 1, 1])"
   ]
  },
  {
   "cell_type": "markdown",
   "metadata": {},
   "source": [
    "スクラッチを用いて実装:\n",
    "----"
   ]
  },
  {
   "cell_type": "code",
   "execution_count": 50,
   "metadata": {},
   "outputs": [
    {
     "name": "stdout",
     "output_type": "stream",
     "text": [
      "Best_threshold:5.3524\n",
      "Best_feature:1\n",
      "terget_left[0 0 0 0 0 0 0 0 0 0 0 0 0 0 0 0 0 0 1 1 1 1 1 1 1 1 1 1 1]\n",
      "terget_right[0 0 1 1 1 1 1 1 1 1 1]\n",
      "-----------------------------------\n"
     ]
    }
   ],
   "source": [
    "tree_scrach_simple = ScratchDecesionTreeClassifierDepth1()\n",
    "tree_scrach_simple.fit(X_simple, y_simple)"
   ]
  },
  {
   "cell_type": "code",
   "execution_count": 51,
   "metadata": {},
   "outputs": [],
   "source": [
    "y_simple_predict = tree_scrach_simple.predict(X_simple)"
   ]
  },
  {
   "cell_type": "code",
   "execution_count": 52,
   "metadata": {},
   "outputs": [
    {
     "name": "stdout",
     "output_type": "stream",
     "text": [
      "confusion matrix = \n",
      " [[18  2]\n",
      " [11  9]]\n",
      "accuracy =  0.675\n",
      "precision =  0.8181818181818182\n",
      "recall =  0.45\n",
      "f1 score =  0.5806451612903226\n"
     ]
    }
   ],
   "source": [
    "print('confusion matrix = \\n', confusion_matrix(y_true=y_simple, y_pred=y_simple_predict))\n",
    "print('accuracy = ', accuracy_score(y_true=y_simple, y_pred=y_simple_predict))\n",
    "print('precision = ', precision_score(y_true=y_simple, y_pred=y_simple_predict))\n",
    "print('recall = ', recall_score(y_true=y_simple, y_pred=y_simple_predict))\n",
    "print('f1 score = ', f1_score(y_true=y_simple, y_pred=y_simple_predict))"
   ]
  },
  {
   "cell_type": "markdown",
   "metadata": {},
   "source": [
    "シンプルデータを使い、Sklearnで実装した値：\n",
    "---"
   ]
  },
  {
   "cell_type": "code",
   "execution_count": 48,
   "metadata": {},
   "outputs": [],
   "source": [
    "clf = DecisionTreeClassifier()\n",
    "clf_simple = clf.fit(X_simple, y_simple)\n",
    "y_pred_simple_skl = clf_simple.predict(X_simple)"
   ]
  },
  {
   "cell_type": "code",
   "execution_count": 49,
   "metadata": {},
   "outputs": [
    {
     "name": "stdout",
     "output_type": "stream",
     "text": [
      "confusion matrix = \n",
      " [[20  0]\n",
      " [ 0 20]]\n",
      "accuracy =  1.0\n",
      "precision =  1.0\n",
      "recall =  1.0\n",
      "f1 score =  1.0\n"
     ]
    }
   ],
   "source": [
    "print('confusion matrix = \\n', confusion_matrix(y_true=y_simple, y_pred=y_pred_simple_skl))\n",
    "print('accuracy = ', accuracy_score(y_true=y_simple, y_pred=y_pred_simple_skl))\n",
    "print('precision = ', precision_score(y_true=y_simple, y_pred=y_pred_simple_skl))\n",
    "print('recall = ', recall_score(y_true=y_simple, y_pred=y_pred_simple_skl))\n",
    "print('f1 score = ', f1_score(y_true=y_simple, y_pred=y_pred_simple_skl))"
   ]
  },
  {
   "cell_type": "code",
   "execution_count": 53,
   "metadata": {},
   "outputs": [
    {
     "data": {
      "image/png": "[encoded data removed]",
      "text/plain": [
       "<Figure size 576x576 with 1 Axes>"
      ]
     },
     "metadata": {
      "needs_background": "light"
     },
     "output_type": "display_data"
    }
   ],
   "source": [
    "# 決定領域の可視化\n",
    "from matplotlib.colors import ListedColormap\n",
    "import matplotlib.patches as mpatches\n",
    "def decision_region(X,y,model,step=0.01,\n",
    "                    title='decision region', xlabel='xlabel', ylabel='ylabel',\n",
    "                    target_names=['versicolor', 'virginica']\n",
    "                   ):\n",
    "    # setting\n",
    "    scatter_color = ['red', 'blue']\n",
    "    contourf_color = ['pink', 'skyblue']\n",
    "    n_class = 2\n",
    "    # pred\n",
    "    mesh_f0, mesh_f1  = np.meshgrid(np.arange(np.min(X[:,0])-0.5, np.max(X[:,0])+0.5, step), np.arange(np.min(X[:,1])-0.5, np.max(X[:,1])+0.5, step))\n",
    "    mesh = np.c_[np.ravel(mesh_f0),np.ravel(mesh_f1)]\n",
    "    y_pred = model.predict(mesh).reshape(mesh_f0.shape)\n",
    "    # plot\n",
    "    plt.title(title)\n",
    "    plt.xlabel(xlabel)\n",
    "    plt.ylabel(ylabel)\n",
    "    plt.contourf(mesh_f0, mesh_f1, y_pred, n_class-1, cmap=ListedColormap(contourf_color))\n",
    "    plt.contour(mesh_f0, mesh_f1, y_pred, n_class-1, colors='y', linewidths=3, alpha=0.5)\n",
    "    for i, target in enumerate(set(y)):\n",
    "        plt.scatter(X[y==target][:, 0], X[y==target][:, 1], s=80, color=scatter_color[i], label=target_names[i], marker='o')\n",
    "    patches = [mpatches.Patch(color=scatter_color[i], label=target_names[i]) for i in range(n_class)]\n",
    "    plt.legend(handles=patches)\n",
    "    plt.legend()\n",
    "    plt.show()\n",
    "    \n",
    "# スクラッチの決定木の分類結果\n",
    "fit,ax = plt.subplots(figsize=(8,8))\n",
    "plt.rcParams[\"font.size\"] = 20\n",
    "decision_region(X_simple,y_simple,tree_scrach_simple,target_names=['0', '1'],title='TRAIN')"
   ]
  },
  {
   "cell_type": "code",
   "execution_count": null,
   "metadata": {},
   "outputs": [],
   "source": []
  }
 ],
 "metadata": {
  "kernelspec": {
   "display_name": "Python 3",
   "language": "python",
   "name": "python3"
  },
  "language_info": {
   "codemirror_mode": {
    "name": "ipython",
    "version": 3
   },
   "file_extension": ".py",
   "mimetype": "text/x-python",
   "name": "python",
   "nbconvert_exporter": "python",
   "pygments_lexer": "ipython3",
   "version": "3.8.3"
  }
 },
 "nbformat": 4,
 "nbformat_minor": 4
}
